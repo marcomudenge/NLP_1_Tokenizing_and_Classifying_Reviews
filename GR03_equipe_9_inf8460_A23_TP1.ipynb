{
 "cells": [
  {
   "cell_type": "markdown",
   "id": "417a4c65",
   "metadata": {},
   "source": [
    "# INF8460: Traitement automatique de la langue naturelle\n",
    "\n",
    "# TP1: Comparaison d'algorithmes pour classification de texte"
   ]
  },
  {
   "cell_type": "markdown",
   "id": "dc062396",
   "metadata": {},
   "source": [
    "## Identification de l'équipe:\n",
    "\n",
    "### Groupe de laboratoire: \n",
    "\n",
    "### Equipe numéro : \n",
    "\n",
    "### Membres: \n",
    "\n",
    "- Grover-Brando Tovar Oblitas (%33)\n",
    "- Andy Chen (%33)\n",
    "- Marco Mudenge (33%)\n",
    "\n",
    "* nature de la contribution: On a tous fait le laboratoire chacun de son côté."
   ]
  },
  {
   "cell_type": "markdown",
   "id": "b3dacaae",
   "metadata": {},
   "source": [
    "\n",
    "## Description:\n",
    "\n",
    "Dans ce premier TP, vous explorerez les bases du traitement automatique du langage naturel. Au cours de ce travail, vous appliquerez concrètement les concepts enseignés en classe pour résoudre une tâche de classification simple. De plus, le processus ressemblera à la manière dont vous aborderiez ce type de problème dans le monde réel. Tout au long de ce laboratoire, vous vous familiariserez avec des bibliothèques couramment utilisées en NLP ainsi qu'en science des données.\n",
    "\n",
    "Dans ce laboratoire, vous travaillerez avec un jeu de données comprenant des évaluations de produits provenant d'Amazon. Pour chaque évaluation, le jeu de données contient trois informations : le titre fourni par l'utilisateur, le commentaire détaillé et le nombre d'étoiles attribué par l'utilisateur au produit.\n",
    "\n",
    "L'objectif de cette tâche consistera à prédire le nombre d'étoiles attribué à une évaluation à partir du commentaire et du titre qui lui sont associés.\n",
    "\n",
    "Le travail sera divisé en 3 parties:\n",
    "\n",
    " - Chargement, prétraitement et visualisation des données: Dans cette première partie, vous allez charger et prétraiter les données afin qu'elles soient prêtes à être utilisées par les algorithmes lors de la deuxième partie.\n",
    " - Classification: Cette partie consistera à explorer les différents algorithmes pouvant être appliqués à cette tâche. Vous ferez aussi une analyse des sorties du classificateur bayésien naïf.\n",
    " - Amélioration de modèle: Cette dernière partie consistera à améliorer votre modèle de 2 façons différentes. D'abord, vous ferez une recherche d'hyper-paramètres avec de la validation croisée en utilisant un GridSearch. Ensuite, vous ferez de l'extraction d'attributs avec l'aide de ChatGPT afin de d'entrainer un nouveau modèle et de comparer ainsi une représentation de type \"Bag of words\" et une représentation avec attributs spécifiques. \n",
    "\n",
    "\n",
    "## Plan du TP\n",
    "\n",
    "1.    [Chargement, prétraitement et visualisation des données](#1)\n",
    "- 1.1   [Charger les données](#1.1)\n",
    " - 1.1.1 [Charger le jeu de données](#1.1.1)\n",
    " - 1.1.2 [Fusionner les colonnes title et text en une seule colonne](#1.1.2)\n",
    "- 1.2   [Prétraitement des données](#1.2)\n",
    "- 1.3   [Visualisation des données](#1.3)\n",
    " - 1.3.1 [Afficher dans un graphique le nombre d'exemples présents dans le jeu de données pour chaque catégorie](#1.3.1)\n",
    " - 1.3.2 [Afficher dans un graphique la quantité moyenne de jetons par exemple selon la catégorie](#1.3.2)\n",
    " - 1.3.3 [Afficher en texte les top 10 jetons les plus fréquents par catégorie](#1.3.3)\n",
    " - 1.3.4 [Afficher en texte les top 10 adjectifs les plus fréquents selon la catégorie](#1.3.4)\n",
    "- 1.4   [Diviser les données en ensembles d'entraînement et de test](#1.4)\n",
    "- 1.5   [Construction du vocabulaire](#1.5)\n",
    "- 1.6   [Vectorisation des données](#1.6)\n",
    "2.    [Classification](#2)\n",
    "- 2.1   [Modèle aléatoire (Random baseline)](#2.1)\n",
    "- 2.2   [Analyse et compréhension d'un classificateur bayésien naïf (NB)](#2.2)\n",
    " - 2.2.1 [Construction du modèle](#2.2.1)\n",
    " - 2.2.2 [Matrice de confusion](#2.2.2)\n",
    " - 2.2.3 [Visualisation des probabilités de NB](#2.2.3)\n",
    " - 2.2.4 [Visualisation des erreurs commises](#2.2.4)\n",
    " - 2.2.5 [Analyse d'erreurs commises](#2.2.5)\n",
    "- 2.3   [Régression logistique](#2.3)\n",
    "- 2.4   [MLP](#2.4)\n",
    "3.    [Amélioration de modèle](#3)\n",
    "- 3.1   [Recherche d'hyper-paramètres et validation croisée](#3.1)\n",
    "- 3.2   [Extraction d'attributs (Feature extraction) avec ChatGPT](#3.2)\n",
    "- 3.3   [Amélioration du modèle en 3.2](#3.3)\n",
    "\n",
    "\n",
    "\n"
   ]
  },
  {
   "cell_type": "markdown",
   "id": "1e96c2d5",
   "metadata": {},
   "source": [
    "<a name='1'></a>\n",
    "## 1. Chargement, prétraitement et visualisation des données (30 points)\n",
    "\n",
    "Dans cette première partie, vous allez charger et prétraiter les données afin qu'elles soient prêtes à être utilisées par les algorithmes lors de la deuxième partie.\n",
    "\n",
    "<a name='1.1'></a>\n",
    "### 1.1 Charger les données  (2 points)\n",
    "\n",
    "Ce numéro doit être résolu en utilisant la bibliothèque **pandas**.\n",
    "\n",
    "<a name='1.1.1'></a>\n",
    "#### 1.1.1 Charger le jeu de données (1 point)\n",
    "\n",
    "Chargez le jeu de données amazon_rating.csv. Affichez ensuite son contenu.\n"
   ]
  },
  {
   "cell_type": "code",
   "execution_count": 1,
   "id": "3ccc645c",
   "metadata": {},
   "outputs": [
    {
     "data": {
      "text/html": [
       "<div>\n",
       "<style scoped>\n",
       "    .dataframe tbody tr th:only-of-type {\n",
       "        vertical-align: middle;\n",
       "    }\n",
       "\n",
       "    .dataframe tbody tr th {\n",
       "        vertical-align: top;\n",
       "    }\n",
       "\n",
       "    .dataframe thead th {\n",
       "        text-align: right;\n",
       "    }\n",
       "</style>\n",
       "<table border=\"1\" class=\"dataframe\">\n",
       "  <thead>\n",
       "    <tr style=\"text-align: right;\">\n",
       "      <th></th>\n",
       "      <th>title</th>\n",
       "      <th>text</th>\n",
       "      <th>rating</th>\n",
       "    </tr>\n",
       "  </thead>\n",
       "  <tbody>\n",
       "    <tr>\n",
       "      <th>0</th>\n",
       "      <td>Five Stars</td>\n",
       "      <td>good as any name brand</td>\n",
       "      <td>5</td>\n",
       "    </tr>\n",
       "    <tr>\n",
       "      <th>1</th>\n",
       "      <td>Did The Job</td>\n",
       "      <td>Ordered on accident when I had searched for RE...</td>\n",
       "      <td>3</td>\n",
       "    </tr>\n",
       "    <tr>\n",
       "      <th>2</th>\n",
       "      <td>Great product</td>\n",
       "      <td>I was looking for something to read on and thi...</td>\n",
       "      <td>5</td>\n",
       "    </tr>\n",
       "    <tr>\n",
       "      <th>3</th>\n",
       "      <td>Leaking Acid EVERYEWHERE!!</td>\n",
       "      <td>After 2nd recharge and use all but 3 are leaki...</td>\n",
       "      <td>1</td>\n",
       "    </tr>\n",
       "    <tr>\n",
       "      <th>4</th>\n",
       "      <td>One Star</td>\n",
       "      <td>They fail earlier than brand names. I assumed ...</td>\n",
       "      <td>1</td>\n",
       "    </tr>\n",
       "    <tr>\n",
       "      <th>...</th>\n",
       "      <td>...</td>\n",
       "      <td>...</td>\n",
       "      <td>...</td>\n",
       "    </tr>\n",
       "    <tr>\n",
       "      <th>2788</th>\n",
       "      <td>Three Stars</td>\n",
       "      <td>Weird but some didn't last long as they should</td>\n",
       "      <td>3</td>\n",
       "    </tr>\n",
       "    <tr>\n",
       "      <th>2789</th>\n",
       "      <td>Good for kids but SLOW</td>\n",
       "      <td>A good starter tablet, but very very slow. Don...</td>\n",
       "      <td>3</td>\n",
       "    </tr>\n",
       "    <tr>\n",
       "      <th>2790</th>\n",
       "      <td>good tablet to star</td>\n",
       "      <td>is a God tablet but the camera could be a litt...</td>\n",
       "      <td>3</td>\n",
       "    </tr>\n",
       "    <tr>\n",
       "      <th>2791</th>\n",
       "      <td>Just decent tablet</td>\n",
       "      <td>Not many apps. The first one was already retur...</td>\n",
       "      <td>3</td>\n",
       "    </tr>\n",
       "    <tr>\n",
       "      <th>2792</th>\n",
       "      <td>One Star</td>\n",
       "      <td>don't last long. Replace batteries in my clock...</td>\n",
       "      <td>1</td>\n",
       "    </tr>\n",
       "  </tbody>\n",
       "</table>\n",
       "<p>2793 rows × 3 columns</p>\n",
       "</div>"
      ],
      "text/plain": [
       "                           title  \\\n",
       "0                     Five Stars   \n",
       "1                    Did The Job   \n",
       "2                  Great product   \n",
       "3     Leaking Acid EVERYEWHERE!!   \n",
       "4                       One Star   \n",
       "...                          ...   \n",
       "2788                 Three Stars   \n",
       "2789      Good for kids but SLOW   \n",
       "2790         good tablet to star   \n",
       "2791          Just decent tablet   \n",
       "2792                    One Star   \n",
       "\n",
       "                                                   text  rating  \n",
       "0                                good as any name brand       5  \n",
       "1     Ordered on accident when I had searched for RE...       3  \n",
       "2     I was looking for something to read on and thi...       5  \n",
       "3     After 2nd recharge and use all but 3 are leaki...       1  \n",
       "4     They fail earlier than brand names. I assumed ...       1  \n",
       "...                                                 ...     ...  \n",
       "2788     Weird but some didn't last long as they should       3  \n",
       "2789  A good starter tablet, but very very slow. Don...       3  \n",
       "2790  is a God tablet but the camera could be a litt...       3  \n",
       "2791  Not many apps. The first one was already retur...       3  \n",
       "2792  don't last long. Replace batteries in my clock...       1  \n",
       "\n",
       "[2793 rows x 3 columns]"
      ]
     },
     "execution_count": 1,
     "metadata": {},
     "output_type": "execute_result"
    }
   ],
   "source": [
    "import pandas as pd\n",
    "\n",
    "data = pd.read_csv('amazon_rating.csv')\n",
    "data"
   ]
  },
  {
   "cell_type": "markdown",
   "id": "aadd4f88",
   "metadata": {},
   "source": [
    "<a name='1.1.2'></a>\n",
    "#### 1.1.2 Fusionner les colonnes title et text en une seule colonne (1 point)\n",
    "\n",
    "Afin de faciliter la tâche pour le reste du TP, nous allons fusionner ces deux colonnes afin que nous n'ayons qu'un seul texte à considérer lors de la vectorisation.\n",
    "\n",
    "Afin de s'assurer de l'intégrité des textes, fusionnez-les à l'aide d'un espace. Par exemple, une évaluation ayant le titre \"Five Stars\" et le commentaire \"good as any name brand\" aura comme texte final \"Five Stars good as any name brand\".\n",
    "\n",
    "Stockez le résultat dans la colonne \"text\" et supprimez la colonne \"title\"."
   ]
  },
  {
   "cell_type": "code",
   "execution_count": 2,
   "id": "b5b627c4",
   "metadata": {},
   "outputs": [
    {
     "data": {
      "text/html": [
       "<div>\n",
       "<style scoped>\n",
       "    .dataframe tbody tr th:only-of-type {\n",
       "        vertical-align: middle;\n",
       "    }\n",
       "\n",
       "    .dataframe tbody tr th {\n",
       "        vertical-align: top;\n",
       "    }\n",
       "\n",
       "    .dataframe thead th {\n",
       "        text-align: right;\n",
       "    }\n",
       "</style>\n",
       "<table border=\"1\" class=\"dataframe\">\n",
       "  <thead>\n",
       "    <tr style=\"text-align: right;\">\n",
       "      <th></th>\n",
       "      <th>text</th>\n",
       "      <th>rating</th>\n",
       "    </tr>\n",
       "  </thead>\n",
       "  <tbody>\n",
       "    <tr>\n",
       "      <th>0</th>\n",
       "      <td>Five Stars good as any name brand</td>\n",
       "      <td>5</td>\n",
       "    </tr>\n",
       "    <tr>\n",
       "      <th>1</th>\n",
       "      <td>Did The Job Ordered on accident when I had sea...</td>\n",
       "      <td>3</td>\n",
       "    </tr>\n",
       "    <tr>\n",
       "      <th>2</th>\n",
       "      <td>Great product I was looking for something to r...</td>\n",
       "      <td>5</td>\n",
       "    </tr>\n",
       "    <tr>\n",
       "      <th>3</th>\n",
       "      <td>Leaking Acid EVERYEWHERE!! After 2nd recharge ...</td>\n",
       "      <td>1</td>\n",
       "    </tr>\n",
       "    <tr>\n",
       "      <th>4</th>\n",
       "      <td>One Star They fail earlier than brand names. I...</td>\n",
       "      <td>1</td>\n",
       "    </tr>\n",
       "  </tbody>\n",
       "</table>\n",
       "</div>"
      ],
      "text/plain": [
       "                                                text  rating\n",
       "0                  Five Stars good as any name brand       5\n",
       "1  Did The Job Ordered on accident when I had sea...       3\n",
       "2  Great product I was looking for something to r...       5\n",
       "3  Leaking Acid EVERYEWHERE!! After 2nd recharge ...       1\n",
       "4  One Star They fail earlier than brand names. I...       1"
      ]
     },
     "execution_count": 2,
     "metadata": {},
     "output_type": "execute_result"
    }
   ],
   "source": [
    "data['text'] = data['title'] + ' ' + data['text']\n",
    "data.drop(columns=[\"title\"], inplace=True)\n",
    "data.head()"
   ]
  },
  {
   "cell_type": "markdown",
   "id": "6fbcbf38",
   "metadata": {},
   "source": [
    "<a name='1.2'></a>\n",
    "### 1.2 Prétraitement des données (4 points)\n",
    "\n",
    "En utilisant la librairie nltk, implémentez la fonction suivante qui :\n",
    "\n",
    "- Enlève les majuscules.\n",
    "- Enlève les caractères de ponctuation.\n",
    "- Segmente la séquence en entrée en une liste de jetons (tokenization).\n",
    "- Enlève les \"stopwords\"\n",
    "- Effectue la racinisation.\n",
    "- Retourne l'ensemble des jetons de la séquence\n",
    "    "
   ]
  },
  {
   "cell_type": "code",
   "execution_count": 3,
   "id": "d51e35a2",
   "metadata": {},
   "outputs": [
    {
     "name": "stderr",
     "output_type": "stream",
     "text": [
      "[nltk_data] Downloading package stopwords to\n",
      "[nltk_data]     C:\\Users\\mudma\\AppData\\Roaming\\nltk_data...\n",
      "[nltk_data]   Package stopwords is already up-to-date!\n",
      "[nltk_data] Downloading package punkt to\n",
      "[nltk_data]     C:\\Users\\mudma\\AppData\\Roaming\\nltk_data...\n",
      "[nltk_data]   Package punkt is already up-to-date!\n",
      "[nltk_data] Downloading package averaged_perceptron_tagger to\n",
      "[nltk_data]     C:\\Users\\mudma\\AppData\\Roaming\\nltk_data...\n",
      "[nltk_data]   Package averaged_perceptron_tagger is already up-to-\n",
      "[nltk_data]       date!\n"
     ]
    }
   ],
   "source": [
    "import nltk\n",
    "from nltk.corpus import stopwords\n",
    "from nltk.tokenize import word_tokenize\n",
    "import string\n",
    "import re\n",
    "\n",
    "nltk.download('stopwords')\n",
    "nltk.download('punkt')\n",
    "nltk.download('averaged_perceptron_tagger')\n",
    "stopwords = stopwords.words('english')\n",
    "stemmer = nltk.stem.porter.PorterStemmer()\n",
    "lemmer = nltk.stem.wordnet.WordNetLemmatizer()\n",
    "\n",
    "\n",
    "def preprocess(sentence):\n",
    "    \"\"\"\n",
    "    Fonction qui transforme une chaine de caractère en liste de jetons.\n",
    "    Les pre-traitements à implémenter sont: \n",
    "    1. Enlever les majuscules\n",
    "    2. Enlever les caractères de ponctuations\n",
    "    3. Séparer la chaine de caractères en une liste de jetons (tokenization) \n",
    "    4. Enlever les stopwords\n",
    "    5. Stemming (racinisation)\n",
    "    \n",
    "    :param sentence: une chaine de caractère\n",
    "    :return: la liste de jetons\n",
    "    \"\"\" \n",
    "    # TODO: ENLEVER LES COMMENTAIRES APRES LE REVIEW\n",
    "    # Enlever les majuscules\n",
    "    sentence = sentence.lower()\n",
    "\n",
    "    # Enlever les caractères de ponctuations\n",
    "    sentence = re.sub(r'[^\\w\\s]', '', sentence)\n",
    "    #sentence = re.sub('[^A-Za-z]', ' ', sentence) \n",
    "                                                    # Diff Brando\n",
    "                                                    # Garde seulement les suites de lettres. Pas de chiffres. Don't = [don, t]\n",
    "                                                    # = 2000 mots en moins 52519 vs 50066\n",
    "                                                    # Pas de chiffre comme token\n",
    "\n",
    "    # tokenization\n",
    "    tokenized_words = word_tokenize(sentence)\n",
    "\n",
    "    # Enlever les stopwords et stemming\n",
    "    tokens = [stemmer.stem(token) for token in tokenized_words if token not in stopwords]\n",
    "    \n",
    "    return tokens"
   ]
  },
  {
   "cell_type": "code",
   "execution_count": 4,
   "id": "ea36a64b",
   "metadata": {},
   "outputs": [],
   "source": [
    "\"\"\"\n",
    "NE PAS MODIFIER\n",
    "\n",
    "Le code suivant appliquera votre fonction sur tous les exemples. Il gardera aussi une version originale pour une analyse future.\n",
    "\"\"\"\n",
    "\n",
    "data[\"text_original\"] = data[\"text\"]\n",
    "data[\"text\"] = data[\"text\"].apply(preprocess)\n"
   ]
  },
  {
   "cell_type": "code",
   "execution_count": 5,
   "id": "1fd62136",
   "metadata": {},
   "outputs": [
    {
     "name": "stdout",
     "output_type": "stream",
     "text": [
      "Total number of tokens:  52519\n",
      "Total number of tokens as set:  43948\n",
      "Total number of unique tokens:  43948\n",
      "Total number of digital tokens:  1312\n"
     ]
    }
   ],
   "source": [
    "# TODO : ENLEVER CE CODE APRÈS REVIEW\n",
    "# Pour comparer les fonctions preprocess\n",
    "import numpy as np\n",
    "\n",
    "# Count the total number of tokens\n",
    "tokens_counts = data[\"text\"].apply(lambda x: len(x)).sum()\n",
    "tokens_as_set_count = data[\"text\"].apply(lambda x: len(set(x))).sum()\n",
    "unique_tokens_counts = data[\"text\"].apply(lambda x: len(np.unique(x))).sum()\n",
    "digital_tokens_counts = data[\"text\"].apply(lambda x: len([token for token in x if token.isdigit()])).sum()\n",
    "print(\"Total number of tokens: \", tokens_counts)\n",
    "print(\"Total number of tokens as set: \", tokens_as_set_count)\n",
    "print(\"Total number of unique tokens: \", unique_tokens_counts)\n",
    "print(\"Total number of digital tokens: \", digital_tokens_counts)"
   ]
  },
  {
   "cell_type": "markdown",
   "id": "a1c0e19b",
   "metadata": {},
   "source": [
    "<a name='1.3'></a>\n",
    "### 1.3 Visualisation des données (15 points)\n",
    "\n",
    "**Utilisez la bibliothèque matplotlib pour les graphiques.** Vous pouvez utiliser n'importe quelle classe de base de Python, par exemple collections.Counter, qui sera utile pour l'affichage des jetons."
   ]
  },
  {
   "cell_type": "markdown",
   "id": "731d61c8",
   "metadata": {},
   "source": [
    "La colonne \"rating\" contient le nombre d'étoiles associé à l'évaluation d'un utilisateur. Le nombre d'étoiles varie entre 1 et 5.\n",
    "\n",
    "Afin de simplifier la tâche de classification, nous avons enlevé les commentaires ayant 2 et 4 étoiles du jeu de données. Cela signifie qu'il y a trois catégories de commentaires, c'est-à-dire ceux ayant 1, 3 ou 5 étoiles.\n",
    "\n",
    "Affichez dans un graphique :\n",
    "\n",
    "- Le nombre d'exemples présents dans le jeu de données par catégorie.\n",
    "- La quantité moyenne de jetons par exemple selon la catégorie.\n"
   ]
  },
  {
   "cell_type": "markdown",
   "id": "6e870b33",
   "metadata": {},
   "source": [
    "<a name='1.3.1'></a>\n",
    "#### 1.3.1  Afficher dans un graphique le nombre d'exemples présents dans le jeu de données pour chaque catégorie  (3 points)"
   ]
  },
  {
   "cell_type": "code",
   "execution_count": 6,
   "id": "239b4dfa",
   "metadata": {
    "scrolled": true
   },
   "outputs": [
    {
     "data": {
      "image/png": "[encoded data removed]",
      "text/plain": [
       "<Figure size 640x480 with 1 Axes>"
      ]
     },
     "metadata": {},
     "output_type": "display_data"
    }
   ],
   "source": [
    "import matplotlib.pyplot as plt\n",
    "\n",
    "data.groupby(\"rating\").count().plot(kind=\"bar\", y=\"text\", legend=False, rot=0)\n",
    "\n",
    "plt.title('Nombre de commentaires par note')\n",
    "plt.xlabel('Note')\n",
    "plt.ylabel('Nombre de commentaires')\n",
    "plt.show()"
   ]
  },
  {
   "cell_type": "code",
   "execution_count": 7,
   "id": "663f798a",
   "metadata": {
    "scrolled": true
   },
   "outputs": [
    {
     "data": {
      "image/png": "[encoded data removed]",
      "text/plain": [
       "<Figure size 640x480 with 1 Axes>"
      ]
     },
     "metadata": {},
     "output_type": "display_data"
    }
   ],
   "source": [
    "\n",
    "data[\"number_of_tokens\"] = data[\"text\"].apply(len)\n",
    "data.groupby(\"rating\").mean(\"number_of_tokens\").plot(kind=\"bar\", y=\"number_of_tokens\", legend=False, rot=0)\n",
    "\n",
    "plt.title('Nombre de jetons moyen par note')\n",
    "plt.xlabel('Note')\n",
    "plt.ylabel('Nombre de jetons')\n",
    "plt.show()"
   ]
  },
  {
   "cell_type": "markdown",
   "id": "e6650c0f",
   "metadata": {},
   "source": [
    "<a name='1.3.3'></a>\n",
    "#### 1.3.3 Afficher en texte les top 10 des jetons les plus fréquents par catégorie (4 points)"
   ]
  },
  {
   "cell_type": "markdown",
   "id": "86ff8a3f",
   "metadata": {},
   "source": [
    "\n",
    "Affichez en texte les 10 jetons les plus fréquents selon la catégorie.\n"
   ]
  },
  {
   "cell_type": "code",
   "execution_count": 8,
   "id": "0befd5a8",
   "metadata": {},
   "outputs": [
    {
     "data": {
      "text/html": [
       "<div>\n",
       "<style scoped>\n",
       "    .dataframe tbody tr th:only-of-type {\n",
       "        vertical-align: middle;\n",
       "    }\n",
       "\n",
       "    .dataframe tbody tr th {\n",
       "        vertical-align: top;\n",
       "    }\n",
       "\n",
       "    .dataframe thead th {\n",
       "        text-align: right;\n",
       "    }\n",
       "</style>\n",
       "<table border=\"1\" class=\"dataframe\">\n",
       "  <thead>\n",
       "    <tr style=\"text-align: right;\">\n",
       "      <th></th>\n",
       "      <th>rating</th>\n",
       "      <th>text</th>\n",
       "      <th>top</th>\n",
       "    </tr>\n",
       "  </thead>\n",
       "  <tbody>\n",
       "    <tr>\n",
       "      <th>0</th>\n",
       "      <td>1</td>\n",
       "      <td>[leak, acid, everyewher, 2nd, recharg, use, 3,...</td>\n",
       "      <td>[(batteri, 1211), (last, 403), (one, 345), (us...</td>\n",
       "    </tr>\n",
       "    <tr>\n",
       "      <th>1</th>\n",
       "      <td>3</td>\n",
       "      <td>[job, order, accid, search, recharg, batteri, ...</td>\n",
       "      <td>[(batteri, 454), (tablet, 380), (good, 360), (...</td>\n",
       "    </tr>\n",
       "    <tr>\n",
       "      <th>2</th>\n",
       "      <td>5</td>\n",
       "      <td>[five, star, good, name, brand, great, product...</td>\n",
       "      <td>[(great, 615), (tablet, 386), (batteri, 374), ...</td>\n",
       "    </tr>\n",
       "  </tbody>\n",
       "</table>\n",
       "</div>"
      ],
      "text/plain": [
       "   rating                                               text  \\\n",
       "0       1  [leak, acid, everyewher, 2nd, recharg, use, 3,...   \n",
       "1       3  [job, order, accid, search, recharg, batteri, ...   \n",
       "2       5  [five, star, good, name, brand, great, product...   \n",
       "\n",
       "                                                 top  \n",
       "0  [(batteri, 1211), (last, 403), (one, 345), (us...  \n",
       "1  [(batteri, 454), (tablet, 380), (good, 360), (...  \n",
       "2  [(great, 615), (tablet, 386), (batteri, 374), ...  "
      ]
     },
     "execution_count": 8,
     "metadata": {},
     "output_type": "execute_result"
    }
   ],
   "source": [
    "from collections import Counter\n",
    "\n",
    "top_words_df = data[['text', 'rating']].groupby('rating').sum().reset_index()\n",
    "top_words_df['top'] = top_words_df['text'].apply(lambda x: Counter(x).most_common(10))\n",
    "top_words_df"
   ]
  },
  {
   "cell_type": "code",
   "execution_count": 9,
   "id": "d7018c9a",
   "metadata": {},
   "outputs": [],
   "source": [
    "\n",
    "def plot_top_10_words(row, type):\n",
    "    \"\"\"\n",
    "    Fonction qui imprime un top 10 des mots les plus fréquents pour une note donnée.\n",
    "    \"\"\" \n",
    "    words, frequencies = zip(*row['top'])  # Unpack tuple into separate lists\n",
    "    plt.barh(words, frequencies)\n",
    "    plt.xlabel('Fréquence')\n",
    "    plt.ylabel('Words')\n",
    "    plt.title(f\"Top 10 des {type} pour la note {row['rating']}\")\n",
    "    plt.show()"
   ]
  },
  {
   "cell_type": "code",
   "execution_count": 10,
   "id": "607a16a6",
   "metadata": {},
   "outputs": [
    {
     "data": {
      "image/png": "[encoded data removed]",
      "text/plain": [
       "<Figure size 640x480 with 1 Axes>"
      ]
     },
     "metadata": {},
     "output_type": "display_data"
    },
    {
     "data": {
      "image/png": "[encoded data removed]",
      "text/plain": [
       "<Figure size 640x480 with 1 Axes>"
      ]
     },
     "metadata": {},
     "output_type": "display_data"
    },
    {
     "data": {
      "image/png": "[encoded data removed]",
      "text/plain": [
       "<Figure size 640x480 with 1 Axes>"
      ]
     },
     "metadata": {},
     "output_type": "display_data"
    },
    {
     "data": {
      "text/plain": [
       "0    None\n",
       "1    None\n",
       "2    None\n",
       "dtype: object"
      ]
     },
     "execution_count": 10,
     "metadata": {},
     "output_type": "execute_result"
    }
   ],
   "source": [
    "top_words_df.apply(lambda row: plot_top_10_words(row, \"mots\"), axis=1)"
   ]
  },
  {
   "cell_type": "markdown",
   "id": "bafb388a",
   "metadata": {},
   "source": [
    "<a name='1.3.4'></a>\n",
    "#### 1.3.4 Afficher en texte les top 10 des adjectifs les plus fréquents selon la catégorie (4 points)\n",
    "\n",
    "Pour cet exercice, vous devrez utiliser la fonction [nltk.pos_tag](https://www.nltk.org/book/ch05.html) et retenir les jetons identifiés comme JJ.\n",
    " \n",
    "Pour obtenir de bons résultats, le tagger [nltk.pos_tag](https://www.nltk.org/book/ch05.html) doit être exécuté sur le texte original, incluant les stopwords. \n",
    "Vous devrez donc partir des évaluations originales. Pour vous simplifier la tâche, utilisez \n",
    "le tokenizer *word_tokenize* provenant de nltk.\n",
    "\n",
    "**Les adjectifs sont les jetons identifiés comme JJ.**"
   ]
  },
  {
   "cell_type": "code",
   "execution_count": 11,
   "id": "bc15ac5f",
   "metadata": {},
   "outputs": [
    {
     "data": {
      "text/html": [
       "<div>\n",
       "<style scoped>\n",
       "    .dataframe tbody tr th:only-of-type {\n",
       "        vertical-align: middle;\n",
       "    }\n",
       "\n",
       "    .dataframe tbody tr th {\n",
       "        vertical-align: top;\n",
       "    }\n",
       "\n",
       "    .dataframe thead th {\n",
       "        text-align: right;\n",
       "    }\n",
       "</style>\n",
       "<table border=\"1\" class=\"dataframe\">\n",
       "  <thead>\n",
       "    <tr style=\"text-align: right;\">\n",
       "      <th></th>\n",
       "      <th>text</th>\n",
       "      <th>rating</th>\n",
       "      <th>text_original</th>\n",
       "      <th>number_of_tokens</th>\n",
       "      <th>tag</th>\n",
       "      <th>adjectives</th>\n",
       "    </tr>\n",
       "  </thead>\n",
       "  <tbody>\n",
       "    <tr>\n",
       "      <th>0</th>\n",
       "      <td>[five, star, good, name, brand]</td>\n",
       "      <td>5</td>\n",
       "      <td>Five Stars good as any name brand</td>\n",
       "      <td>5</td>\n",
       "      <td>[(Five, CD), (Stars, NNS), (good, JJ), (as, IN...</td>\n",
       "      <td>[good]</td>\n",
       "    </tr>\n",
       "    <tr>\n",
       "      <th>1</th>\n",
       "      <td>[job, order, accid, search, recharg, batteri, ...</td>\n",
       "      <td>3</td>\n",
       "      <td>Did The Job Ordered on accident when I had sea...</td>\n",
       "      <td>15</td>\n",
       "      <td>[(Did, NNP), (The, DT), (Job, NNP), (Ordered, ...</td>\n",
       "      <td>[happy, free]</td>\n",
       "    </tr>\n",
       "    <tr>\n",
       "      <th>2</th>\n",
       "      <td>[great, product, look, someth, read, fit, bill...</td>\n",
       "      <td>5</td>\n",
       "      <td>Great product I was looking for something to r...</td>\n",
       "      <td>25</td>\n",
       "      <td>[(Great, NNP), (product, NN), (I, PRP), (was, ...</td>\n",
       "      <td>[right, screen, good, great, nice, Big]</td>\n",
       "    </tr>\n",
       "    <tr>\n",
       "      <th>3</th>\n",
       "      <td>[leak, acid, everyewher, 2nd, recharg, use, 3,...</td>\n",
       "      <td>1</td>\n",
       "      <td>Leaking Acid EVERYEWHERE!! After 2nd recharge ...</td>\n",
       "      <td>12</td>\n",
       "      <td>[(Leaking, VBG), (Acid, NNP), (EVERYEWHERE, NN...</td>\n",
       "      <td>[corrosive]</td>\n",
       "    </tr>\n",
       "    <tr>\n",
       "      <th>4</th>\n",
       "      <td>[one, star, fail, earlier, brand, name, assum,...</td>\n",
       "      <td>1</td>\n",
       "      <td>One Star They fail earlier than brand names. I...</td>\n",
       "      <td>14</td>\n",
       "      <td>[(One, CD), (Star, NNP), (They, PRP), (fail, V...</td>\n",
       "      <td>[earlier]</td>\n",
       "    </tr>\n",
       "  </tbody>\n",
       "</table>\n",
       "</div>"
      ],
      "text/plain": [
       "                                                text  rating  \\\n",
       "0                    [five, star, good, name, brand]       5   \n",
       "1  [job, order, accid, search, recharg, batteri, ...       3   \n",
       "2  [great, product, look, someth, read, fit, bill...       5   \n",
       "3  [leak, acid, everyewher, 2nd, recharg, use, 3,...       1   \n",
       "4  [one, star, fail, earlier, brand, name, assum,...       1   \n",
       "\n",
       "                                       text_original  number_of_tokens  \\\n",
       "0                  Five Stars good as any name brand                 5   \n",
       "1  Did The Job Ordered on accident when I had sea...                15   \n",
       "2  Great product I was looking for something to r...                25   \n",
       "3  Leaking Acid EVERYEWHERE!! After 2nd recharge ...                12   \n",
       "4  One Star They fail earlier than brand names. I...                14   \n",
       "\n",
       "                                                 tag  \\\n",
       "0  [(Five, CD), (Stars, NNS), (good, JJ), (as, IN...   \n",
       "1  [(Did, NNP), (The, DT), (Job, NNP), (Ordered, ...   \n",
       "2  [(Great, NNP), (product, NN), (I, PRP), (was, ...   \n",
       "3  [(Leaking, VBG), (Acid, NNP), (EVERYEWHERE, NN...   \n",
       "4  [(One, CD), (Star, NNP), (They, PRP), (fail, V...   \n",
       "\n",
       "                                adjectives  \n",
       "0                                   [good]  \n",
       "1                            [happy, free]  \n",
       "2  [right, screen, good, great, nice, Big]  \n",
       "3                              [corrosive]  \n",
       "4                                [earlier]  "
      ]
     },
     "execution_count": 11,
     "metadata": {},
     "output_type": "execute_result"
    }
   ],
   "source": [
    "from nltk.tokenize import word_tokenize\n",
    "from nltk import pos_tag\n",
    "\n",
    "data['tag'] = data['text_original'].apply(word_tokenize).apply(pos_tag)\n",
    "\n",
    "# Les tag des adjectifs sont JJ, JJR, JJS\n",
    "data['adjectives'] = data['tag'].apply(lambda x: [item[0] for item in x if item[1].startswith('JJ')])\n",
    "\n",
    "data.head()"
   ]
  },
  {
   "cell_type": "code",
   "execution_count": 12,
   "id": "9677ce58",
   "metadata": {},
   "outputs": [
    {
     "data": {
      "text/html": [
       "<div>\n",
       "<style scoped>\n",
       "    .dataframe tbody tr th:only-of-type {\n",
       "        vertical-align: middle;\n",
       "    }\n",
       "\n",
       "    .dataframe tbody tr th {\n",
       "        vertical-align: top;\n",
       "    }\n",
       "\n",
       "    .dataframe thead th {\n",
       "        text-align: right;\n",
       "    }\n",
       "</style>\n",
       "<table border=\"1\" class=\"dataframe\">\n",
       "  <thead>\n",
       "    <tr style=\"text-align: right;\">\n",
       "      <th></th>\n",
       "      <th>rating</th>\n",
       "      <th>adjectives</th>\n",
       "      <th>top</th>\n",
       "    </tr>\n",
       "  </thead>\n",
       "  <tbody>\n",
       "    <tr>\n",
       "      <th>0</th>\n",
       "      <td>1</td>\n",
       "      <td>[corrosive, earlier, regular, bad, less, last,...</td>\n",
       "      <td>[(last, 259), (good, 102), (dead, 95), (other,...</td>\n",
       "    </tr>\n",
       "    <tr>\n",
       "      <th>1</th>\n",
       "      <td>3</td>\n",
       "      <td>[happy, free, okay, smaller, lighter, original...</td>\n",
       "      <td>[(good, 238), (last, 201), (great, 132), (Good...</td>\n",
       "    </tr>\n",
       "    <tr>\n",
       "      <th>2</th>\n",
       "      <td>5</td>\n",
       "      <td>[good, right, screen, good, great, nice, Big, ...</td>\n",
       "      <td>[(great, 260), (good, 175), (old, 90), (easy, ...</td>\n",
       "    </tr>\n",
       "  </tbody>\n",
       "</table>\n",
       "</div>"
      ],
      "text/plain": [
       "   rating                                         adjectives  \\\n",
       "0       1  [corrosive, earlier, regular, bad, less, last,...   \n",
       "1       3  [happy, free, okay, smaller, lighter, original...   \n",
       "2       5  [good, right, screen, good, great, nice, Big, ...   \n",
       "\n",
       "                                                 top  \n",
       "0  [(last, 259), (good, 102), (dead, 95), (other,...  \n",
       "1  [(good, 238), (last, 201), (great, 132), (Good...  \n",
       "2  [(great, 260), (good, 175), (old, 90), (easy, ...  "
      ]
     },
     "execution_count": 12,
     "metadata": {},
     "output_type": "execute_result"
    }
   ],
   "source": [
    "top_adjectives_df = data[[\"adjectives\", \"rating\"]].groupby(\"rating\").sum().reset_index()\n",
    "top_adjectives_df[\"top\"] = top_adjectives_df [\"adjectives\"].apply(lambda x: Counter(x).most_common(10))\n",
    "top_adjectives_df"
   ]
  },
  {
   "cell_type": "code",
   "execution_count": 13,
   "id": "dfc6b29b",
   "metadata": {},
   "outputs": [
    {
     "data": {
      "image/png": "[encoded data removed]",
      "text/plain": [
       "<Figure size 640x480 with 1 Axes>"
      ]
     },
     "metadata": {},
     "output_type": "display_data"
    },
    {
     "data": {
      "image/png": "[encoded data removed]",
      "text/plain": [
       "<Figure size 640x480 with 1 Axes>"
      ]
     },
     "metadata": {},
     "output_type": "display_data"
    },
    {
     "data": {
      "image/png": "[encoded data removed]",
      "text/plain": [
       "<Figure size 640x480 with 1 Axes>"
      ]
     },
     "metadata": {},
     "output_type": "display_data"
    },
    {
     "data": {
      "text/plain": [
       "0    None\n",
       "1    None\n",
       "2    None\n",
       "dtype: object"
      ]
     },
     "execution_count": 13,
     "metadata": {},
     "output_type": "execute_result"
    }
   ],
   "source": [
    "top_adjectives_df.apply(lambda row: plot_top_10_words(row, \"adjectifs\"), axis=1)"
   ]
  },
  {
   "cell_type": "markdown",
   "id": "86de4b1e",
   "metadata": {},
   "source": [
    "<a name='1.4'></a>\n",
    "### 1.4 Diviser les données en ensembles d'entraînement et de test (1 point)\n",
    "\n",
    "À l'aide de la fonction [train_test_split](https://scikit-learn.org/stable/modules/generated/sklearn.model_selection.train_test_split.html) de SKlearn, séparez les données en ensembles d'entraînement (67% des données) et de test (33% des données). Gardez les deux ensembles dans 2 variables."
   ]
  },
  {
   "cell_type": "code",
   "execution_count": 14,
   "id": "0e5a58bc",
   "metadata": {},
   "outputs": [],
   "source": [
    "from sklearn.model_selection import train_test_split\n",
    "\n",
    "X_train, X_test, y_train, y_test = train_test_split(data['text'], data['rating'], test_size=0.33, random_state=0)"
   ]
  },
  {
   "cell_type": "markdown",
   "id": "5146eabe",
   "metadata": {},
   "source": [
    "<a name='1.5'></a>\n",
    "### 1.5 Construction du vocabulaire (4 points)\n",
    "\n",
    "Dans un modèle Bag-of-Words (BoW), un vocabulaire est prédéterminé à partir de l'ensemble d'entraînement. Seuls les mots faisant partie de ce vocabulaire seront considérés pour la suite.\n",
    "\n",
    "Complétez la fonction **build_voc** qui retourne une liste de jetons qui sont présents au moins n fois (threshold passé en paramètre) dans la liste d'exemples (également passée en paramètre). Vous pouvez utiliser la classe Counter.\n",
    "\n",
    "Ensuite, appelez cette fonction pour construire votre vocabulaire."
   ]
  },
  {
   "cell_type": "code",
   "execution_count": 15,
   "id": "d0e901d6",
   "metadata": {},
   "outputs": [
    {
     "name": "stdout",
     "output_type": "stream",
     "text": [
      "Taille du document (nombre de mots initial): 34633\n",
      "Taille du vocabulaire avant le filtrage (nombre de mots uniques): 3139\n",
      "Taille du vocabulaire après le filtrage: 595\n"
     ]
    }
   ],
   "source": [
    "\n",
    "def build_voc(documents, threshold):\n",
    "    \n",
    "    documents = documents.sum()\n",
    "    print('Taille du document (nombre de mots initial): {}'.format(len(documents)))\n",
    "\n",
    "    # Count the number of occurences of each word\n",
    "    word_counts = Counter(documents)\n",
    "    print('Taille du vocabulaire avant le filtrage (nombre de mots uniques): {}'.format(len(word_counts)))\n",
    "\n",
    "    # Keep only the words that appear at least threshold times\n",
    "    vocabulary = [word for word, count in word_counts.items() if count >= threshold]\n",
    "    print('Taille du vocabulaire après le filtrage: {}'.format(len(vocabulary)))\n",
    "    \n",
    "    return vocabulary\n",
    "\n",
    "voc = build_voc(X_train, 10)"
   ]
  },
  {
   "cell_type": "markdown",
   "id": "e006f572",
   "metadata": {},
   "source": [
    "<a name='1.6'></a>\n",
    "### 1.6 Vectorisation des données (4 points)\n",
    "\n",
    "À l'aide de la classe [TfidfVectorizer](https://scikit-learn.org/stable/modules/generated/sklearn.feature_extraction.text.TfidfVectorizer.html) de Sklearn, transformez l'ensemble de jetons en matrice de co-occurence utilisant TF-IDF.\n",
    "\n",
    "Utilisez le vocabulaire construit au numéro précédent dans votre matrice de co-occurrence (voir le paramètre vocabulary de TfidfVectorizer). \n",
    "\n",
    "**Faites attention:** Il ne faut pas entrainer (fit) la vectorisation sur l'ensemble de test"
   ]
  },
  {
   "cell_type": "code",
   "execution_count": 16,
   "id": "54bdc303",
   "metadata": {},
   "outputs": [],
   "source": [
    "from sklearn.feature_extraction.text import TfidfVectorizer\n",
    "\n",
    "vectorizer = TfidfVectorizer(vocabulary=voc)\n",
    "\n",
    "X_train_matrix = vectorizer.fit_transform(X_train.apply(lambda x: ' '.join(x))) # X_train contains tokens. We need to join them to get a string for each row\n",
    "X_test_matrix = vectorizer.transform(X_test.apply(lambda x: ' '.join(x)))"
   ]
  },
  {
   "cell_type": "code",
   "execution_count": 17,
   "id": "646f78f5",
   "metadata": {},
   "outputs": [
    {
     "name": "stdout",
     "output_type": "stream",
     "text": [
      "Reviews in X_train: 1871\n",
      "Count of features: 595\n",
      "Shape of co-occurence matrix: (1871, 595) \n",
      "\n",
      "Original comment: Three Stars They ran out of energy very quick but it's a deal\n",
      "First row X_train: ['three', 'star', 'ran', 'energi', 'quick', 'deal']\n",
      "Non-zeros features in the first row of matrix: ['deal' 'quick' 'ran' 'star' 'three']\n"
     ]
    }
   ],
   "source": [
    "print('Reviews in X_train: {}'.format(len(X_train)))\n",
    "print('Count of features: {}'.format(len(vectorizer.get_feature_names_out())))\n",
    "print('Shape of co-occurence matrix: {} \\n'.format(X_train_matrix.shape))\n",
    "print('Original comment: {}'.format(data['text_original'].iloc[X_train.index[0]]))\n",
    "print('First row X_train: {}'.format(X_train.iloc[0]))\n",
    "print('Non-zeros features in the first row of matrix: {}'.format(vectorizer.get_feature_names_out()[X_train_matrix[0].nonzero()[1]]))"
   ]
  },
  {
   "cell_type": "markdown",
   "id": "f00781ca",
   "metadata": {},
   "source": [
    "<a name='2'></a>\n",
    "## 2. Classification (35 points)\n",
    "\n",
    "Maintenant que les données sont prêtes à être utilisées par nos modèles, nous allons entrainer et tester différent types de modèles sur le jeu de données afin d'en faire la comparaison. \n",
    "\n",
    "Cette section sera divisé en cinq modèle:\n",
    "   - Modèle aléatoire (Random baseline)\n",
    "   - Classificateur bayésien naïf\n",
    "   - Régression Logistique\n",
    "   - Multi-Layer Perceptron (MLP)\n",
    "\n",
    "<a name='2.1'></a>\n",
    "### 2.1 Modèle aléatoire (Random baseline) (5 points)\n",
    "\n",
    "Un seuil (baseline) est un modèle servant de référence et dont les performances représentent un seuil à dépasser.\n",
    "\n",
    "#### a) Générez ce seuil en effectuant des prédictions aléatoires parmi les valeurs 1, 3 et 5. Ensuite, affichez les mesures de performance : précision, rappel (recall) et F1. Utilisez la classe classification_report de SKlearn et affichez 4 chiffres après la virgule. (3.5 points)"
   ]
  },
  {
   "cell_type": "code",
   "execution_count": 18,
   "id": "bc582223",
   "metadata": {},
   "outputs": [],
   "source": [
    "import numpy as np\n",
    "\n",
    "classes = np.unique(y_train)\n",
    "y_random = np.random.choice(classes, size=len(y_test))"
   ]
  },
  {
   "cell_type": "code",
   "execution_count": 19,
   "id": "f79530a0",
   "metadata": {
    "scrolled": false
   },
   "outputs": [
    {
     "name": "stdout",
     "output_type": "stream",
     "text": [
      "              precision    recall  f1-score   support\n",
      "\n",
      "           1     0.3426    0.3183    0.3300       311\n",
      "           3     0.3107    0.3387    0.3241       310\n",
      "           5     0.3119    0.3056    0.3087       301\n",
      "\n",
      "    accuracy                         0.3210       922\n",
      "   macro avg     0.3217    0.3209    0.3209       922\n",
      "weighted avg     0.3218    0.3210    0.3211       922\n",
      "\n"
     ]
    }
   ],
   "source": [
    "from sklearn.metrics import classification_report\n",
    "\n",
    "print(classification_report(y_test, y_random, digits=4))"
   ]
  },
  {
   "cell_type": "markdown",
   "id": "b7070590",
   "metadata": {},
   "source": [
    "#### b) Comment pouvez-vous expliquer le F1-score obtenu? (1.5 points)"
   ]
  },
  {
   "cell_type": "markdown",
   "id": "4b86cab6",
   "metadata": {},
   "source": [
    "> Le F1-score est faible (proche de 0.34 en moyenne), ce qui signifie que le taux de précision et de rappel ne sont pas élevés.\n",
    "<br>\n",
    "Les résultats sont générés aléatoirement sans tenir compte des variables explicatives.\n",
    "<br>\n",
    "<br>\n",
    "En choisissant une classe au hasard parmi N classes, on a théoriquement 1/N chances de prédire une bonne classe.\n",
    "<br>\n",
    "Le graphique #1.3.1 montre que les classes sont équitablement représentés dans le jeu de données. Ainsi, on s'attend à avoir une précision sur l'ensemble de validation d'environ 33,3%.\n",
    "<br>\n",
    "<br>\n",
    "La précision pour chaque classe sera données par TP /(TP + FP). Pour chaque classe TP sera environ égal à 0.33²/(0.33² + 0.33 - 0.33²) = 0.33. \n",
    "<br>\n",
    "Ceci s'explique par le fait que la classe en question est présente dans un ratio de 0.33 et lorsqu'on fait la prédiction de celle-ci, il y a 0.33 de probabilité d'avoir choisit la bonne classe donc TP est 0.33².\n",
    "<br>\n",
    "FP peut se calculé avec 0.33 - 0.33² puisque on va choisir la classe en question avec 0.33 de probabilité et que 0.33² de ces fois seront des TP.\n",
    "<br>\n",
    "Ensuite le Recall peut être calculer d'une facon similaire et nous obtenons 0.33 aussi. Le f1 score théorique sera donc 2*0.33*0.33/(0.66) = 0.33."
   ]
  },
  {
   "cell_type": "markdown",
   "id": "8eadb0d3",
   "metadata": {},
   "source": [
    "<a name='2.2'></a>\n",
    "### 2.2 Analyse et compréhension d'un classificateur bayésien naïf (NB) (22 points)\n",
    "\n",
    "Naive Bayes (NB) est un algorithme très simple pouvant servir de bon point de départ (baseline) pour les tâches de classification. Ce numéro portera sur l'analyse de ce modèle afin de bien comprendre son comportement."
   ]
  },
  {
   "cell_type": "markdown",
   "id": "0c04861f",
   "metadata": {},
   "source": [
    "<a name='2.2.1'></a>\n",
    "#### 2.2.1 Construction du modèle (4 points)\n",
    "\n",
    "Commencez d'abord par construire le modèle à l'aide de la classe MultinomialNB de SKlearn. Utilisez les données vectorisées produites en 1.6.\n",
    "\n",
    "Affichez les performances de votre classificateur (précision, recall, F1-score)."
   ]
  },
  {
   "cell_type": "code",
   "execution_count": 20,
   "id": "c90814a4",
   "metadata": {},
   "outputs": [],
   "source": [
    "from sklearn.naive_bayes import MultinomialNB\n",
    "\n",
    "clf_nb = MultinomialNB()\n",
    "clf_nb.fit(X_train_matrix, y_train)\n",
    "\n",
    "y_pred = pd.Series(clf_nb.predict(X_test_matrix))"
   ]
  },
  {
   "cell_type": "code",
   "execution_count": 21,
   "id": "6e4fecb0",
   "metadata": {
    "scrolled": true
   },
   "outputs": [
    {
     "name": "stdout",
     "output_type": "stream",
     "text": [
      "              precision    recall  f1-score   support\n",
      "\n",
      "           1     0.7842    0.8296    0.8063       311\n",
      "           3     0.7216    0.6774    0.6988       310\n",
      "           5     0.8245    0.8272    0.8259       301\n",
      "\n",
      "    accuracy                         0.7777       922\n",
      "   macro avg     0.7768    0.7781    0.7770       922\n",
      "weighted avg     0.7763    0.7777    0.7765       922\n",
      "\n"
     ]
    }
   ],
   "source": [
    "print(classification_report(y_test, y_pred, digits=4))"
   ]
  },
  {
   "cell_type": "markdown",
   "id": "34a784a1",
   "metadata": {},
   "source": [
    "<a name='2.2.2'></a>\n",
    "####  2.2.2 Matrice de confusion (3 points)\n",
    "\n",
    "Visualisez la matrice de confusion de votre modèle en utilisant la fonction [heatmap](https://seaborn.pydata.org/generated/seaborn.heatmap.html) de seaborn. Celle-ci peut prendre en entrée une matrice de confusion comme celle fournie par la fonction [confusion_matrix](https://scikit-learn.org/stable/modules/generated/sklearn.metrics.confusion_matrix.html) dans SKLearn."
   ]
  },
  {
   "cell_type": "code",
   "execution_count": 22,
   "id": "a115ac85",
   "metadata": {
    "scrolled": true
   },
   "outputs": [
    {
     "data": {
      "image/png": "[encoded data removed]",
      "text/plain": [
       "<Figure size 640x480 with 2 Axes>"
      ]
     },
     "metadata": {},
     "output_type": "display_data"
    }
   ],
   "source": [
    "from sklearn.metrics import confusion_matrix\n",
    "from seaborn import heatmap\n",
    "\n",
    "conf_matrix = confusion_matrix(y_test, y_pred)\n",
    "ax = heatmap(conf_matrix, annot=True, fmt='d')\n",
    "ax.set_xlabel('Predicted labels')\n",
    "ax.set_ylabel('True labels')\n",
    "ax.xaxis.set_ticklabels(['1 star', '3 stars', '5 stars'])\n",
    "ax.yaxis.set_ticklabels(['1 star', '3 stars', '5 stars'])\n",
    "plt.show()"
   ]
  },
  {
   "cell_type": "markdown",
   "id": "223d6c84",
   "metadata": {},
   "source": [
    "<a name='2.2.3'></a>\n",
    "####  2.2.3 Visualisation des probabilités de NB (5 points)\n",
    "\n",
    "Naive Bayes est un classificateur suivant une approche générative. Durant son entraînement, il apprend les probabilités P(x_i|y). En utilisant le théorème de Bayes, on peut exprimer la probabilité d'une classe donnée y étant donné un ensemble de caractéristiques x_1, x_2, ..., x_n comme suit : \n",
    "\n",
    "$$ P(y|x_1, x_2, ..., x_n) = P(y) * P(x_1|y) * P(x_2|y) * ... * P(x_n|y) $$\n",
    "\n",
    "Ainsi, étant donné un exemple ayant le jeton x_i, plus la probabilité P(x_i|y) est élevée pour une classe, plus la probabilité que l'exemple provienne de cette classe augmente.\n",
    "\n",
    "Écrivez du code permettant de visualiser les jetons ayant les plus grandes probabilités selon la classe dans un graphique de type [barh](https://matplotlib.org/3.1.1/api/_as_gen/matplotlib.pyplot.barh.html). Consultez la documentation de [MultiNomialNB](https://scikit-learn.org/stable/modules/generated/sklearn.naive_bayes.MultinomialNB.html) afin de trouver les probabilités P(x_i|y). Le graphique produit devrait montrer, sur l'axe des Y, les 10 jetons associés au P(x_i|y) le plus grand selon y. L'axe des X devrait représenter la valeur des probabilités.\n",
    "\n",
    "Ce code devra être sous forme d'une fonction où on passe la classe y en paramètre.\n"
   ]
  },
  {
   "cell_type": "code",
   "execution_count": 23,
   "id": "eb219a46",
   "metadata": {
    "scrolled": false
   },
   "outputs": [
    {
     "data": {
      "text/plain": [
       "Text(0.5, 1.0, 'Top 10 des probabilités pour la classe 5')"
      ]
     },
     "execution_count": 23,
     "metadata": {},
     "output_type": "execute_result"
    },
    {
     "data": {
      "image/png": "[encoded data removed]",
      "text/plain": [
       "<Figure size 640x480 with 1 Axes>"
      ]
     },
     "metadata": {},
     "output_type": "display_data"
    },
    {
     "data": {
      "image/png": "[encoded data removed]",
      "text/plain": [
       "<Figure size 640x480 with 1 Axes>"
      ]
     },
     "metadata": {},
     "output_type": "display_data"
    },
    {
     "data": {
      "image/png": "[encoded data removed]",
      "text/plain": [
       "<Figure size 640x480 with 1 Axes>"
      ]
     },
     "metadata": {},
     "output_type": "display_data"
    }
   ],
   "source": [
    "import matplotlib.pyplot as plt\n",
    "\n",
    "classes = clf_nb.classes_\n",
    "features_prob = pd.DataFrame(np.exp(clf_nb.feature_log_prob_), index= clf_nb.classes_, columns=vectorizer.get_feature_names_out())\n",
    "\n",
    "features_prob.iloc[0].sort_values(ascending=False).head(10).reset_index().plot(kind='barh', x='index', legend=False)\n",
    "plt.xlabel('Probabilité')\n",
    "plt.ylabel('Mot')\n",
    "plt.title('Top 10 des probabilités pour la classe {}'.format(classes[0]))\n",
    "\n",
    "features_prob.iloc[1].sort_values(ascending=False).head(10).reset_index().plot(kind='barh', x='index', legend=False)\n",
    "plt.xlabel('Probabilité')\n",
    "plt.ylabel('Mot')\n",
    "plt.title('Top 10 des probabilités pour la classe {}'.format(classes[1]))\n",
    "\n",
    "features_prob.iloc[2].sort_values(ascending=False).head(10).reset_index().plot(kind='barh', x='index', legend=False)\n",
    "plt.xlabel('Probabilité')\n",
    "plt.ylabel('Mot')\n",
    "plt.title('Top 10 des probabilités pour la classe {}'.format(classes[2]))"
   ]
  },
  {
   "cell_type": "markdown",
   "id": "4600bf66",
   "metadata": {},
   "source": [
    "Que pouvez-vous remanquer à propos des jetons affichés dans le graphique?"
   ]
  },
  {
   "cell_type": "markdown",
   "id": "fa61bab3",
   "metadata": {},
   "source": [
    "> Plusieurs des jetons apparaissent aussi dans le top 10 des mots les plus fréquents.\n",
    "<br>\n",
    "On remarque aussi que beaucoup de commentaire contiennent le nombre d'étoiles données au produit.\n",
    "<br>\n",
    "Les mots 'one', 'three' et 'five' sont de bons indicateurs pour catégoriser le commentaires dans la bonne classes."
   ]
  },
  {
   "cell_type": "markdown",
   "id": "00579fba",
   "metadata": {},
   "source": [
    "<a name='2.2.4'></a>\n",
    "#### 2.2.4 Visualisation des erreurs commises  (3 points)\n",
    "\n",
    "Trouvez toutes les phrases dont la vraie valeur est 5 mais la valeur prédite est de 1.\n",
    "\n",
    "Affichez ces exemples d'une manière lisible.\n"
   ]
  },
  {
   "cell_type": "code",
   "execution_count": 24,
   "id": "c4fef76a",
   "metadata": {},
   "outputs": [
    {
     "data": {
      "text/html": [
       "<h3>13 commentaires 5-étoiles sont prédits en 1-étoile (y_test: 5, y_pred: 1)</h3><ul><li>Just as good as any other batteries, better for the price Absolute best value for standard batteries (especially when using subscribe and save). If you aren't seeking rechargeable, I haven't ever been able to distinguish any real difference in quality or longevity between these and other top brands of batteries (Duracell, Energizer, etc.).Between my kids toys and my Xbox controllers, we go through about all of these batteries in about 6 months, so subscribe and save is the way to go.</li><li>My remote now works! Only needed batteries. Best way to have electronics work is having them be charged or have batteries! Buying this pack will fix the needing batteries part!</li><li>Saved Me From Bear Attack So... One day I was camping in the Wild West on the Rocky Mountains in Colorado... I was carrying my trusty Power Rangers limited edition collectors sword. Out of nowhere... A bear attacked me. I grabbed my trusty sword, but it was out of batteries so it did not make the swoosh sounds that adds to the effect of my swing. So I hurriedly went to my trusty AmazonBasics AA batteries, and switched out the ones in my Power Rangers sword. My swooshing sounds were amazing, and I escaped with my life (not my leg but that's okay). Thank you AmazonBasics AA Batteries for saving a life.</li><li>AmazonBasics AAA Performance Alkaline Batteries are AAA Performance Alkaline Batteries. WOW! These AmazonBasics AAA Performance Alkaline Batteries are actually AmazonBasics AAA Performance Alkaline Batteries and work as such. Unbelievable.</li><li>great product this is my second one and must have one of these at all times</li><li>Amazon Basic products rule!! Not the first time I have bought Amazon Basic products and won't be the last. From my experience these products do just as well as any name brand product but with less experience. Love the packaging these batteries came in and so far from what I can tell work like a charm. Put them in a couple of my gadgets and worked perfectly. The way we go through batteries the cost savings is well worth it.</li><li>Worth the money Function as promised!</li><li>For what they are, great buy! It's not a high discharge battery, but for typical uses such wireless mouse and flashlights, these are great.</li><li>I have had these only for a week I cannot ... I have had these only for a week I cannot tell you anymore</li><li>These batteries are great, I used Duracell before for my remotes etc These batteries are great, I used Duracell before for my remotes etc, but i am impressed with these, I am getting much longer life from them. I am updating this review, this will be the only battery I use, they last a long time, and are a good price!</li><li>Battery Performance You know, I really like the Amazon line of batteries. At first I has hesitant on using anything other than Duracell, I tried these and especially for the price you simply cannot go wrong....</li><li>Poor power Terrible life. These are poorest quality batteries I have ever purchased both AA and AAA</li><li>Amazon Batteries I always try to buy Amazon rechargeable batteries. Good price and lasts a long time between charges. Saves a bit of the environment compared to disposable ones.</li></ul>"
      ],
      "text/plain": [
       "<IPython.core.display.HTML object>"
      ]
     },
     "metadata": {},
     "output_type": "display_data"
    }
   ],
   "source": [
    "#%pip install ipython\n",
    "from IPython.display import display, HTML\n",
    "\n",
    "# Indexes of 5-values in the test set\n",
    "y_test_5_indexes = y_test[y_test == 5].index\n",
    "\n",
    "# We must make them match\n",
    "y_pred.index = y_test.index\n",
    "predicted_1_indexes = y_pred[y_pred == 1].index\n",
    "\n",
    "comments_5_1_index = [index for index in predicted_1_indexes if index in y_test_5_indexes]\n",
    "\n",
    "# Showing the comments\n",
    "html_str = f'<h3>{len(comments_5_1_index)} commentaires 5-étoiles sont prédits en 1-étoile (y_test: 5, y_pred: 1)</h3><ul>'\n",
    "\n",
    "for comment in data.loc[comments_5_1_index]['text_original']:\n",
    "    html_str += f'<li>{comment}</li>'\n",
    "html_str += '</ul>'\n",
    "\n",
    "display(HTML(html_str))"
   ]
  },
  {
   "cell_type": "markdown",
   "id": "cffb9d00",
   "metadata": {},
   "source": [
    "<a name='2.2.5'></a>\n",
    "#### 2.2.5 Analyse d'erreurs commises (7 points)"
   ]
  },
  {
   "cell_type": "markdown",
   "id": "204c7fff",
   "metadata": {},
   "source": [
    "Complétez la fonction plot_example qui:\n",
    "   - Prend en entrée une liste de jetons provenant d'un exemple. \n",
    "   - Produit un graphique qui pour chaque jeton, affiche la valeur P(x_i|y=5) et P(x_i|y=1)\n",
    "    \n",
    "**Pour vous faciliter le travail, utiliser barh de pandas et non de matplotlib**: https://pandas.pydata.org/docs/reference/api/pandas.DataFrame.plot.barh.html\n",
    "\n",
    "\n",
    "#### a) Exécutez votre fonction avec une phrase au choix dont la vraie valeur est 5 mais la valeur prédite est de 1. (4 points)"
   ]
  },
  {
   "cell_type": "code",
   "execution_count": 25,
   "id": "0795de9d",
   "metadata": {},
   "outputs": [
    {
     "name": "stdout",
     "output_type": "stream",
     "text": [
      "Commentaire original: \n",
      "Saved Me From Bear Attack So... One day I was camping in the Wild West on the Rocky Mountains in Colorado... I was carrying my trusty Power Rangers limited edition collectors sword. Out of nowhere... A bear attacked me. I grabbed my trusty sword, but it was out of batteries so it did not make the swoosh sounds that adds to the effect of my swing. So I hurriedly went to my trusty AmazonBasics AA batteries, and switched out the ones in my Power Rangers sword. My swooshing sounds were amazing, and I escaped with my life (not my leg but that's okay). Thank you AmazonBasics AA Batteries for saving a life.\n",
      "\n",
      "Tokens: ['save', 'bear', 'attack', 'one', 'day', 'camp', 'wild', 'west', 'rocki', 'mountain', 'colorado', 'carri', 'trusti', 'power', 'ranger', 'limit', 'edit', 'collector', 'sword', 'nowher', 'bear', 'attack', 'grab', 'trusti', 'sword', 'batteri', 'make', 'swoosh', 'sound', 'add', 'effect', 'swing', 'hurriedli', 'went', 'trusti', 'amazonbas', 'aa', 'batteri', 'switch', 'one', 'power', 'ranger', 'sword', 'swoosh', 'sound', 'amaz', 'escap', 'life', 'leg', 'that', 'okay', 'thank', 'amazonbas', 'aa', 'batteri', 'save', 'life']\n"
     ]
    },
    {
     "data": {
      "image/png": "[encoded data removed]",
      "text/plain": [
       "<Figure size 640x480 with 1 Axes>"
      ]
     },
     "metadata": {},
     "output_type": "display_data"
    }
   ],
   "source": [
    "import numpy as np\n",
    "\n",
    "def plot_example(tokens):\n",
    "    words, prob_5, prob_1 = [], [], []\n",
    "    for token in tokens:\n",
    "        # Probabilities are for words in the vocabulary.\n",
    "        # Not all words in X_train or y_train are in the vocabulary because of the threshold\n",
    "        # TODO: Confirm that it's ok to omit words that are not in the vocabulary\n",
    "        if token in features_prob.columns:\n",
    "            words.append(token)\n",
    "            prob_5.append(features_prob.loc[5][token])\n",
    "            prob_1.append(features_prob.loc[1][token])\n",
    "\n",
    "    fig, ax = plt.subplots()\n",
    "    ax.barh(y=np.arange(len(words)) - 0.2, width=prob_5, height=0.4, color='green', label='Note 5')\n",
    "    ax.barh(y=np.arange(len(words)) + 0.2, width=prob_1, height=0.4, color='red', label='Note 1')\n",
    "    ax.set_yticks(np.arange(len(words)), words)\n",
    "    ax.legend()\n",
    "    plt.xlabel('Probabilité')\n",
    "    plt.ylabel('Mots')\n",
    "    plt.show()\n",
    "\n",
    "# print original comment\n",
    "print('Commentaire original: \\n{}\\n'.format(data.iloc[comments_5_1_index[2]]['text_original']))\n",
    "print('Tokens: {}'.format(X_test[X_test.index == comments_5_1_index[2]].values[0]))\n",
    "plot_example(X_test[X_test.index == comments_5_1_index[2]].values[0])\n"
   ]
  },
  {
   "cell_type": "markdown",
   "id": "b2984273",
   "metadata": {},
   "source": [
    "#### b) Suite à cette analyse, pouvez-vous voir une tendance dans les exemples qui sont prédits comme faisant partie de la classe 1 mais faisant réellement partie de la classe 5 ?  (3 points)"
   ]
  },
  {
   "attachments": {},
   "cell_type": "markdown",
   "id": "856cc027",
   "metadata": {},
   "source": [
    "> Dans l'exemple ci-haut, on note que plusieurs mots se rapportent à la note 1.\n",
    "<br>\n",
    "<br>\n",
    "Le classifieur MultinomialNB n'effectue pas de vote majoritaire.\n",
    "Il effectue plutôt un calcule interne qui prend en considération les probabilité de chaque mot de la phrase.\n",
    "<br>\n",
    "Ce calcule peut être influencé lorsqu'on se retrouve avec plusieurs mots attribués à une classe fausse.\n",
    "<br>\n",
    "<br>\n",
    "Certains jetons ont tendance à avoir beaucoup plus de poids dans la prédiction que d'autres. Le jeton batteri soit principalement responsable de la confusion du model puisque ce jeton a la plus grande probabilité P(x_i|y=1).\n",
    "Cela signifie que notre modèle n'est pas bien entraîné pour détecter le contexte des mots autour d'une phrase (ce qui est normal puisque nous avons utilisé un bag of words)\n",
    "<br>"
   ]
  },
  {
   "cell_type": "markdown",
   "id": "40f0f9a6",
   "metadata": {},
   "source": [
    "<a name='2.3'></a>\n",
    "### 2.3 Régression logistique (4 points)\n",
    "\n",
    "Entrainez un modèle de [régression logistique](https://scikit-learn.org/stable/modules/generated/sklearn.linear_model.LogisticRegression.html) à l'aide de SKLearn en utilisant les données produites en 1.6 et affichez sa performance avec les mêmes métriques que précédemment. "
   ]
  },
  {
   "cell_type": "code",
   "execution_count": 26,
   "id": "c7c91797",
   "metadata": {},
   "outputs": [
    {
     "data": {
      "text/html": [
       "<style>#sk-container-id-1 {color: black;}#sk-container-id-1 pre{padding: 0;}#sk-container-id-1 div.sk-toggleable {background-color: white;}#sk-container-id-1 label.sk-toggleable__label {cursor: pointer;display: block;width: 100%;margin-bottom: 0;padding: 0.3em;box-sizing: border-box;text-align: center;}#sk-container-id-1 label.sk-toggleable__label-arrow:before {content: \"▸\";float: left;margin-right: 0.25em;color: #696969;}#sk-container-id-1 label.sk-toggleable__label-arrow:hover:before {color: black;}#sk-container-id-1 div.sk-estimator:hover label.sk-toggleable__label-arrow:before {color: black;}#sk-container-id-1 div.sk-toggleable__content {max-height: 0;max-width: 0;overflow: hidden;text-align: left;background-color: #f0f8ff;}#sk-container-id-1 div.sk-toggleable__content pre {margin: 0.2em;color: black;border-radius: 0.25em;background-color: #f0f8ff;}#sk-container-id-1 input.sk-toggleable__control:checked~div.sk-toggleable__content {max-height: 200px;max-width: 100%;overflow: auto;}#sk-container-id-1 input.sk-toggleable__control:checked~label.sk-toggleable__label-arrow:before {content: \"▾\";}#sk-container-id-1 div.sk-estimator input.sk-toggleable__control:checked~label.sk-toggleable__label {background-color: #d4ebff;}#sk-container-id-1 div.sk-label input.sk-toggleable__control:checked~label.sk-toggleable__label {background-color: #d4ebff;}#sk-container-id-1 input.sk-hidden--visually {border: 0;clip: rect(1px 1px 1px 1px);clip: rect(1px, 1px, 1px, 1px);height: 1px;margin: -1px;overflow: hidden;padding: 0;position: absolute;width: 1px;}#sk-container-id-1 div.sk-estimator {font-family: monospace;background-color: #f0f8ff;border: 1px dotted black;border-radius: 0.25em;box-sizing: border-box;margin-bottom: 0.5em;}#sk-container-id-1 div.sk-estimator:hover {background-color: #d4ebff;}#sk-container-id-1 div.sk-parallel-item::after {content: \"\";width: 100%;border-bottom: 1px solid gray;flex-grow: 1;}#sk-container-id-1 div.sk-label:hover label.sk-toggleable__label {background-color: #d4ebff;}#sk-container-id-1 div.sk-serial::before {content: \"\";position: absolute;border-left: 1px solid gray;box-sizing: border-box;top: 0;bottom: 0;left: 50%;z-index: 0;}#sk-container-id-1 div.sk-serial {display: flex;flex-direction: column;align-items: center;background-color: white;padding-right: 0.2em;padding-left: 0.2em;position: relative;}#sk-container-id-1 div.sk-item {position: relative;z-index: 1;}#sk-container-id-1 div.sk-parallel {display: flex;align-items: stretch;justify-content: center;background-color: white;position: relative;}#sk-container-id-1 div.sk-item::before, #sk-container-id-1 div.sk-parallel-item::before {content: \"\";position: absolute;border-left: 1px solid gray;box-sizing: border-box;top: 0;bottom: 0;left: 50%;z-index: -1;}#sk-container-id-1 div.sk-parallel-item {display: flex;flex-direction: column;z-index: 1;position: relative;background-color: white;}#sk-container-id-1 div.sk-parallel-item:first-child::after {align-self: flex-end;width: 50%;}#sk-container-id-1 div.sk-parallel-item:last-child::after {align-self: flex-start;width: 50%;}#sk-container-id-1 div.sk-parallel-item:only-child::after {width: 0;}#sk-container-id-1 div.sk-dashed-wrapped {border: 1px dashed gray;margin: 0 0.4em 0.5em 0.4em;box-sizing: border-box;padding-bottom: 0.4em;background-color: white;}#sk-container-id-1 div.sk-label label {font-family: monospace;font-weight: bold;display: inline-block;line-height: 1.2em;}#sk-container-id-1 div.sk-label-container {text-align: center;}#sk-container-id-1 div.sk-container {/* jupyter's `normalize.less` sets `[hidden] { display: none; }` but bootstrap.min.css set `[hidden] { display: none !important; }` so we also need the `!important` here to be able to override the default hidden behavior on the sphinx rendered scikit-learn.org. See: https://github.com/scikit-learn/scikit-learn/issues/21755 */display: inline-block !important;position: relative;}#sk-container-id-1 div.sk-text-repr-fallback {display: none;}</style><div id=\"sk-container-id-1\" class=\"sk-top-container\"><div class=\"sk-text-repr-fallback\"><pre>LogisticRegression()</pre><b>In a Jupyter environment, please rerun this cell to show the HTML representation or trust the notebook. <br />On GitHub, the HTML representation is unable to render, please try loading this page with nbviewer.org.</b></div><div class=\"sk-container\" hidden><div class=\"sk-item\"><div class=\"sk-estimator sk-toggleable\"><input class=\"sk-toggleable__control sk-hidden--visually\" id=\"sk-estimator-id-1\" type=\"checkbox\" checked><label for=\"sk-estimator-id-1\" class=\"sk-toggleable__label sk-toggleable__label-arrow\">LogisticRegression</label><div class=\"sk-toggleable__content\"><pre>LogisticRegression()</pre></div></div></div></div></div>"
      ],
      "text/plain": [
       "LogisticRegression()"
      ]
     },
     "execution_count": 26,
     "metadata": {},
     "output_type": "execute_result"
    }
   ],
   "source": [
    "from sklearn.linear_model import LogisticRegression\n",
    "from sklearn.metrics import f1_score, make_scorer\n",
    "\n",
    "clf_lr = LogisticRegression()\n",
    "clf_lr.fit(X_train_matrix, y_train)"
   ]
  },
  {
   "cell_type": "code",
   "execution_count": 27,
   "id": "dce0ff9f",
   "metadata": {},
   "outputs": [
    {
     "name": "stdout",
     "output_type": "stream",
     "text": [
      "              precision    recall  f1-score   support\n",
      "\n",
      "           1     0.8066    0.8585    0.8318       311\n",
      "           3     0.7516    0.7419    0.7468       310\n",
      "           5     0.8561    0.8106    0.8328       301\n",
      "\n",
      "    accuracy                         0.8037       922\n",
      "   macro avg     0.8048    0.8037    0.8038       922\n",
      "weighted avg     0.8043    0.8037    0.8035       922\n",
      "\n",
      "Weighted F1: 0.8035117847343994\n",
      "\n"
     ]
    }
   ],
   "source": [
    "y_pred_LR = pd.Series(clf_lr.predict(X_test_matrix))\n",
    "print(classification_report(y_test, y_pred_LR, digits=4))\n",
    "print(f\"Weighted F1: {f1_score(y_test, y_pred_LR, average='weighted')}\\n\")"
   ]
  },
  {
   "cell_type": "markdown",
   "id": "727658f6",
   "metadata": {},
   "source": [
    "<a name='2.4'></a>\n",
    "### 2.4 MLP (4 points)\n",
    "\n",
    "Entrainez un modèle neuronal de type [Multi-layer Perceptron classifier](https://scikit-learn.org/stable/modules/generated/sklearn.neural_network.MLPClassifier.html) à l'aide de SKLearn en utilisant les données produites en 1.6. Affichez sa performance avec les mêmes métriques que précédemment. "
   ]
  },
  {
   "cell_type": "code",
   "execution_count": 28,
   "id": "b44f3fd5",
   "metadata": {},
   "outputs": [
    {
     "data": {
      "text/html": [
       "<style>#sk-container-id-2 {color: black;}#sk-container-id-2 pre{padding: 0;}#sk-container-id-2 div.sk-toggleable {background-color: white;}#sk-container-id-2 label.sk-toggleable__label {cursor: pointer;display: block;width: 100%;margin-bottom: 0;padding: 0.3em;box-sizing: border-box;text-align: center;}#sk-container-id-2 label.sk-toggleable__label-arrow:before {content: \"▸\";float: left;margin-right: 0.25em;color: #696969;}#sk-container-id-2 label.sk-toggleable__label-arrow:hover:before {color: black;}#sk-container-id-2 div.sk-estimator:hover label.sk-toggleable__label-arrow:before {color: black;}#sk-container-id-2 div.sk-toggleable__content {max-height: 0;max-width: 0;overflow: hidden;text-align: left;background-color: #f0f8ff;}#sk-container-id-2 div.sk-toggleable__content pre {margin: 0.2em;color: black;border-radius: 0.25em;background-color: #f0f8ff;}#sk-container-id-2 input.sk-toggleable__control:checked~div.sk-toggleable__content {max-height: 200px;max-width: 100%;overflow: auto;}#sk-container-id-2 input.sk-toggleable__control:checked~label.sk-toggleable__label-arrow:before {content: \"▾\";}#sk-container-id-2 div.sk-estimator input.sk-toggleable__control:checked~label.sk-toggleable__label {background-color: #d4ebff;}#sk-container-id-2 div.sk-label input.sk-toggleable__control:checked~label.sk-toggleable__label {background-color: #d4ebff;}#sk-container-id-2 input.sk-hidden--visually {border: 0;clip: rect(1px 1px 1px 1px);clip: rect(1px, 1px, 1px, 1px);height: 1px;margin: -1px;overflow: hidden;padding: 0;position: absolute;width: 1px;}#sk-container-id-2 div.sk-estimator {font-family: monospace;background-color: #f0f8ff;border: 1px dotted black;border-radius: 0.25em;box-sizing: border-box;margin-bottom: 0.5em;}#sk-container-id-2 div.sk-estimator:hover {background-color: #d4ebff;}#sk-container-id-2 div.sk-parallel-item::after {content: \"\";width: 100%;border-bottom: 1px solid gray;flex-grow: 1;}#sk-container-id-2 div.sk-label:hover label.sk-toggleable__label {background-color: #d4ebff;}#sk-container-id-2 div.sk-serial::before {content: \"\";position: absolute;border-left: 1px solid gray;box-sizing: border-box;top: 0;bottom: 0;left: 50%;z-index: 0;}#sk-container-id-2 div.sk-serial {display: flex;flex-direction: column;align-items: center;background-color: white;padding-right: 0.2em;padding-left: 0.2em;position: relative;}#sk-container-id-2 div.sk-item {position: relative;z-index: 1;}#sk-container-id-2 div.sk-parallel {display: flex;align-items: stretch;justify-content: center;background-color: white;position: relative;}#sk-container-id-2 div.sk-item::before, #sk-container-id-2 div.sk-parallel-item::before {content: \"\";position: absolute;border-left: 1px solid gray;box-sizing: border-box;top: 0;bottom: 0;left: 50%;z-index: -1;}#sk-container-id-2 div.sk-parallel-item {display: flex;flex-direction: column;z-index: 1;position: relative;background-color: white;}#sk-container-id-2 div.sk-parallel-item:first-child::after {align-self: flex-end;width: 50%;}#sk-container-id-2 div.sk-parallel-item:last-child::after {align-self: flex-start;width: 50%;}#sk-container-id-2 div.sk-parallel-item:only-child::after {width: 0;}#sk-container-id-2 div.sk-dashed-wrapped {border: 1px dashed gray;margin: 0 0.4em 0.5em 0.4em;box-sizing: border-box;padding-bottom: 0.4em;background-color: white;}#sk-container-id-2 div.sk-label label {font-family: monospace;font-weight: bold;display: inline-block;line-height: 1.2em;}#sk-container-id-2 div.sk-label-container {text-align: center;}#sk-container-id-2 div.sk-container {/* jupyter's `normalize.less` sets `[hidden] { display: none; }` but bootstrap.min.css set `[hidden] { display: none !important; }` so we also need the `!important` here to be able to override the default hidden behavior on the sphinx rendered scikit-learn.org. See: https://github.com/scikit-learn/scikit-learn/issues/21755 */display: inline-block !important;position: relative;}#sk-container-id-2 div.sk-text-repr-fallback {display: none;}</style><div id=\"sk-container-id-2\" class=\"sk-top-container\"><div class=\"sk-text-repr-fallback\"><pre>MLPClassifier(max_iter=1000)</pre><b>In a Jupyter environment, please rerun this cell to show the HTML representation or trust the notebook. <br />On GitHub, the HTML representation is unable to render, please try loading this page with nbviewer.org.</b></div><div class=\"sk-container\" hidden><div class=\"sk-item\"><div class=\"sk-estimator sk-toggleable\"><input class=\"sk-toggleable__control sk-hidden--visually\" id=\"sk-estimator-id-2\" type=\"checkbox\" checked><label for=\"sk-estimator-id-2\" class=\"sk-toggleable__label sk-toggleable__label-arrow\">MLPClassifier</label><div class=\"sk-toggleable__content\"><pre>MLPClassifier(max_iter=1000)</pre></div></div></div></div></div>"
      ],
      "text/plain": [
       "MLPClassifier(max_iter=1000)"
      ]
     },
     "execution_count": 28,
     "metadata": {},
     "output_type": "execute_result"
    }
   ],
   "source": [
    "from sklearn.neural_network import MLPClassifier\n",
    "\n",
    "clf_mlp = MLPClassifier(max_iter=1000)\n",
    "clf_mlp.fit(X_train_matrix, y_train)"
   ]
  },
  {
   "cell_type": "code",
   "execution_count": 29,
   "id": "4e71cb73",
   "metadata": {},
   "outputs": [
    {
     "name": "stdout",
     "output_type": "stream",
     "text": [
      "              precision    recall  f1-score   support\n",
      "\n",
      "           1     0.8291    0.8424    0.8357       311\n",
      "           3     0.7121    0.7419    0.7267       310\n",
      "           5     0.8339    0.7841    0.8082       301\n",
      "\n",
      "    accuracy                         0.7896       922\n",
      "   macro avg     0.7917    0.7895    0.7902       922\n",
      "weighted avg     0.7913    0.7896    0.7901       922\n",
      "\n",
      "Weighted F1: 0.7900879823249253\n",
      "\n"
     ]
    }
   ],
   "source": [
    "y_pred_MLP = pd.Series(clf_mlp.predict(X_test_matrix))\n",
    "print(classification_report(y_test, y_pred_MLP, digits=4))\n",
    "print(f\"Weighted F1: {f1_score(y_test, y_pred_MLP, average='weighted')}\\n\")"
   ]
  },
  {
   "cell_type": "markdown",
   "id": "21b383b9",
   "metadata": {},
   "source": [
    "<a name='3'></a>\n",
    "## 3. Amélioration de modèle (30 points)\n",
    "\n",
    "Cette dernière partie consistera à améliorer votre modèle de deux façons différentes.\n",
    "\n",
    "Tout d'abord, vous effectuerez une recherche d'hyper-paramètres avec une validation croisée en utilisant une grille de recherche (GridSearch). Ensuite, vous réaliserez de l'extraction d'attributs (feature extraction) afin d'entraîner un nouveau modèle.\n",
    "\n",
    "<a name='3.1'></a>\n",
    "###  3.1 Recherche d'hyper-paramètres et validation croisée (5 points)\n",
    "\n",
    "La classe [GridSearchCV](https://scikit-learn.org/stable/modules/generated/sklearn.model_selection.GridSearchCV.html) permet d'explorer toutes les combinaisons possibles d'hyper-paramètres que l'on spécifie afin de trouver la configuration optimale. De plus, il est tout à fait possible de fusionner les paramètres du pré-traitement et ceux du classificateur en utilisant la classe [Pipeline](https://scikit-learn.org/stable/modules/generated/sklearn.pipeline.Pipeline.html).\n",
    "Pour la rédaction de votre code, vous avez la possibilité de vous référer au tutoriel du cours.\n",
    "\n",
    "#### a) Dans cette phase, l'objectif est de découvrir une configuration optimale pour le modèle LogisticRegression en conjonction avec la technique de vectorisation TF-IDF. Cette recherche devra être guidée par la métrique du F1-score pondéré (weighted F1). Vous devrez aussi effectuer une exploration de paramètres sur au moins deux attributs liés à TF-IDF et deux paramètres de la régression logistique. Affichez ensuite la performance finale du modèle optimal ainsi que ses paramètres. (3 points)"
   ]
  },
  {
   "cell_type": "code",
   "execution_count": 30,
   "id": "5d1121d8",
   "metadata": {
    "scrolled": true
   },
   "outputs": [
    {
     "data": {
      "text/html": [
       "<style>#sk-container-id-3 {color: black;}#sk-container-id-3 pre{padding: 0;}#sk-container-id-3 div.sk-toggleable {background-color: white;}#sk-container-id-3 label.sk-toggleable__label {cursor: pointer;display: block;width: 100%;margin-bottom: 0;padding: 0.3em;box-sizing: border-box;text-align: center;}#sk-container-id-3 label.sk-toggleable__label-arrow:before {content: \"▸\";float: left;margin-right: 0.25em;color: #696969;}#sk-container-id-3 label.sk-toggleable__label-arrow:hover:before {color: black;}#sk-container-id-3 div.sk-estimator:hover label.sk-toggleable__label-arrow:before {color: black;}#sk-container-id-3 div.sk-toggleable__content {max-height: 0;max-width: 0;overflow: hidden;text-align: left;background-color: #f0f8ff;}#sk-container-id-3 div.sk-toggleable__content pre {margin: 0.2em;color: black;border-radius: 0.25em;background-color: #f0f8ff;}#sk-container-id-3 input.sk-toggleable__control:checked~div.sk-toggleable__content {max-height: 200px;max-width: 100%;overflow: auto;}#sk-container-id-3 input.sk-toggleable__control:checked~label.sk-toggleable__label-arrow:before {content: \"▾\";}#sk-container-id-3 div.sk-estimator input.sk-toggleable__control:checked~label.sk-toggleable__label {background-color: #d4ebff;}#sk-container-id-3 div.sk-label input.sk-toggleable__control:checked~label.sk-toggleable__label {background-color: #d4ebff;}#sk-container-id-3 input.sk-hidden--visually {border: 0;clip: rect(1px 1px 1px 1px);clip: rect(1px, 1px, 1px, 1px);height: 1px;margin: -1px;overflow: hidden;padding: 0;position: absolute;width: 1px;}#sk-container-id-3 div.sk-estimator {font-family: monospace;background-color: #f0f8ff;border: 1px dotted black;border-radius: 0.25em;box-sizing: border-box;margin-bottom: 0.5em;}#sk-container-id-3 div.sk-estimator:hover {background-color: #d4ebff;}#sk-container-id-3 div.sk-parallel-item::after {content: \"\";width: 100%;border-bottom: 1px solid gray;flex-grow: 1;}#sk-container-id-3 div.sk-label:hover label.sk-toggleable__label {background-color: #d4ebff;}#sk-container-id-3 div.sk-serial::before {content: \"\";position: absolute;border-left: 1px solid gray;box-sizing: border-box;top: 0;bottom: 0;left: 50%;z-index: 0;}#sk-container-id-3 div.sk-serial {display: flex;flex-direction: column;align-items: center;background-color: white;padding-right: 0.2em;padding-left: 0.2em;position: relative;}#sk-container-id-3 div.sk-item {position: relative;z-index: 1;}#sk-container-id-3 div.sk-parallel {display: flex;align-items: stretch;justify-content: center;background-color: white;position: relative;}#sk-container-id-3 div.sk-item::before, #sk-container-id-3 div.sk-parallel-item::before {content: \"\";position: absolute;border-left: 1px solid gray;box-sizing: border-box;top: 0;bottom: 0;left: 50%;z-index: -1;}#sk-container-id-3 div.sk-parallel-item {display: flex;flex-direction: column;z-index: 1;position: relative;background-color: white;}#sk-container-id-3 div.sk-parallel-item:first-child::after {align-self: flex-end;width: 50%;}#sk-container-id-3 div.sk-parallel-item:last-child::after {align-self: flex-start;width: 50%;}#sk-container-id-3 div.sk-parallel-item:only-child::after {width: 0;}#sk-container-id-3 div.sk-dashed-wrapped {border: 1px dashed gray;margin: 0 0.4em 0.5em 0.4em;box-sizing: border-box;padding-bottom: 0.4em;background-color: white;}#sk-container-id-3 div.sk-label label {font-family: monospace;font-weight: bold;display: inline-block;line-height: 1.2em;}#sk-container-id-3 div.sk-label-container {text-align: center;}#sk-container-id-3 div.sk-container {/* jupyter's `normalize.less` sets `[hidden] { display: none; }` but bootstrap.min.css set `[hidden] { display: none !important; }` so we also need the `!important` here to be able to override the default hidden behavior on the sphinx rendered scikit-learn.org. See: https://github.com/scikit-learn/scikit-learn/issues/21755 */display: inline-block !important;position: relative;}#sk-container-id-3 div.sk-text-repr-fallback {display: none;}</style><div id=\"sk-container-id-3\" class=\"sk-top-container\"><div class=\"sk-text-repr-fallback\"><pre>GridSearchCV(cv=5,\n",
       "             estimator=Pipeline(steps=[(&#x27;tfidf&#x27;,\n",
       "                                        TfidfVectorizer(vocabulary=[&#x27;three&#x27;,\n",
       "                                                                    &#x27;star&#x27;,\n",
       "                                                                    &#x27;ran&#x27;,\n",
       "                                                                    &#x27;quick&#x27;,\n",
       "                                                                    &#x27;deal&#x27;,\n",
       "                                                                    &#x27;okay&#x27;,\n",
       "                                                                    &#x27;last&#x27;,\n",
       "                                                                    &#x27;long&#x27;,\n",
       "                                                                    &#x27;doesnt&#x27;,\n",
       "                                                                    &#x27;work&#x27;,\n",
       "                                                                    &#x27;everyth&#x27;,\n",
       "                                                                    &#x27;toy&#x27;,\n",
       "                                                                    &#x27;good&#x27;,\n",
       "                                                                    &#x27;electron&#x27;,\n",
       "                                                                    &#x27;much&#x27;,\n",
       "                                                                    &#x27;five&#x27;,\n",
       "                                                                    &#x27;well&#x27;,\n",
       "                                                                    &#x27;great&#x27;,\n",
       "                                                                    &#x27;tablet&#x27;,\n",
       "                                                                    &#x27;simpl&#x27;,\n",
       "                                                                    &#x27;user&#x27;,\n",
       "                                                                    &#x27;love&#x27;,\n",
       "                                                                    &#x27;previous&#x27;,\n",
       "                                                                    &#x27;samsung&#x27;,\n",
       "                                                                    &#x27;tab&#x27;, &#x27;2&#x27;,\n",
       "                                                                    &#x27;like&#x27;,\n",
       "                                                                    &#x27;one&#x27;,\n",
       "                                                                    &#x27;better&#x27;,\n",
       "                                                                    &#x27;interfac&#x27;, ...])),\n",
       "                                       (&#x27;clf_lr&#x27;, LogisticRegression())]),\n",
       "             n_jobs=-1,\n",
       "             param_grid={&#x27;clf_lr__C&#x27;: [0.1, 1, 10],\n",
       "                         &#x27;clf_lr__max_iter&#x27;: [500, 1000],\n",
       "                         &#x27;clf_lr__solver&#x27;: [&#x27;lbfgs&#x27;, &#x27;saga&#x27;],\n",
       "                         &#x27;tfidf__max_features&#x27;: (500, 600),\n",
       "                         &#x27;tfidf__use_idf&#x27;: (True, False)},\n",
       "             scoring=make_scorer(f1_score, average=weighted))</pre><b>In a Jupyter environment, please rerun this cell to show the HTML representation or trust the notebook. <br />On GitHub, the HTML representation is unable to render, please try loading this page with nbviewer.org.</b></div><div class=\"sk-container\" hidden><div class=\"sk-item sk-dashed-wrapped\"><div class=\"sk-label-container\"><div class=\"sk-label sk-toggleable\"><input class=\"sk-toggleable__control sk-hidden--visually\" id=\"sk-estimator-id-3\" type=\"checkbox\" ><label for=\"sk-estimator-id-3\" class=\"sk-toggleable__label sk-toggleable__label-arrow\">GridSearchCV</label><div class=\"sk-toggleable__content\"><pre>GridSearchCV(cv=5,\n",
       "             estimator=Pipeline(steps=[(&#x27;tfidf&#x27;,\n",
       "                                        TfidfVectorizer(vocabulary=[&#x27;three&#x27;,\n",
       "                                                                    &#x27;star&#x27;,\n",
       "                                                                    &#x27;ran&#x27;,\n",
       "                                                                    &#x27;quick&#x27;,\n",
       "                                                                    &#x27;deal&#x27;,\n",
       "                                                                    &#x27;okay&#x27;,\n",
       "                                                                    &#x27;last&#x27;,\n",
       "                                                                    &#x27;long&#x27;,\n",
       "                                                                    &#x27;doesnt&#x27;,\n",
       "                                                                    &#x27;work&#x27;,\n",
       "                                                                    &#x27;everyth&#x27;,\n",
       "                                                                    &#x27;toy&#x27;,\n",
       "                                                                    &#x27;good&#x27;,\n",
       "                                                                    &#x27;electron&#x27;,\n",
       "                                                                    &#x27;much&#x27;,\n",
       "                                                                    &#x27;five&#x27;,\n",
       "                                                                    &#x27;well&#x27;,\n",
       "                                                                    &#x27;great&#x27;,\n",
       "                                                                    &#x27;tablet&#x27;,\n",
       "                                                                    &#x27;simpl&#x27;,\n",
       "                                                                    &#x27;user&#x27;,\n",
       "                                                                    &#x27;love&#x27;,\n",
       "                                                                    &#x27;previous&#x27;,\n",
       "                                                                    &#x27;samsung&#x27;,\n",
       "                                                                    &#x27;tab&#x27;, &#x27;2&#x27;,\n",
       "                                                                    &#x27;like&#x27;,\n",
       "                                                                    &#x27;one&#x27;,\n",
       "                                                                    &#x27;better&#x27;,\n",
       "                                                                    &#x27;interfac&#x27;, ...])),\n",
       "                                       (&#x27;clf_lr&#x27;, LogisticRegression())]),\n",
       "             n_jobs=-1,\n",
       "             param_grid={&#x27;clf_lr__C&#x27;: [0.1, 1, 10],\n",
       "                         &#x27;clf_lr__max_iter&#x27;: [500, 1000],\n",
       "                         &#x27;clf_lr__solver&#x27;: [&#x27;lbfgs&#x27;, &#x27;saga&#x27;],\n",
       "                         &#x27;tfidf__max_features&#x27;: (500, 600),\n",
       "                         &#x27;tfidf__use_idf&#x27;: (True, False)},\n",
       "             scoring=make_scorer(f1_score, average=weighted))</pre></div></div></div><div class=\"sk-parallel\"><div class=\"sk-parallel-item\"><div class=\"sk-item\"><div class=\"sk-label-container\"><div class=\"sk-label sk-toggleable\"><input class=\"sk-toggleable__control sk-hidden--visually\" id=\"sk-estimator-id-4\" type=\"checkbox\" ><label for=\"sk-estimator-id-4\" class=\"sk-toggleable__label sk-toggleable__label-arrow\">estimator: Pipeline</label><div class=\"sk-toggleable__content\"><pre>Pipeline(steps=[(&#x27;tfidf&#x27;,\n",
       "                 TfidfVectorizer(vocabulary=[&#x27;three&#x27;, &#x27;star&#x27;, &#x27;ran&#x27;, &#x27;quick&#x27;,\n",
       "                                             &#x27;deal&#x27;, &#x27;okay&#x27;, &#x27;last&#x27;, &#x27;long&#x27;,\n",
       "                                             &#x27;doesnt&#x27;, &#x27;work&#x27;, &#x27;everyth&#x27;, &#x27;toy&#x27;,\n",
       "                                             &#x27;good&#x27;, &#x27;electron&#x27;, &#x27;much&#x27;, &#x27;five&#x27;,\n",
       "                                             &#x27;well&#x27;, &#x27;great&#x27;, &#x27;tablet&#x27;, &#x27;simpl&#x27;,\n",
       "                                             &#x27;user&#x27;, &#x27;love&#x27;, &#x27;previous&#x27;,\n",
       "                                             &#x27;samsung&#x27;, &#x27;tab&#x27;, &#x27;2&#x27;, &#x27;like&#x27;,\n",
       "                                             &#x27;one&#x27;, &#x27;better&#x27;, &#x27;interfac&#x27;, ...])),\n",
       "                (&#x27;clf_lr&#x27;, LogisticRegression())])</pre></div></div></div><div class=\"sk-serial\"><div class=\"sk-item\"><div class=\"sk-serial\"><div class=\"sk-item\"><div class=\"sk-estimator sk-toggleable\"><input class=\"sk-toggleable__control sk-hidden--visually\" id=\"sk-estimator-id-5\" type=\"checkbox\" ><label for=\"sk-estimator-id-5\" class=\"sk-toggleable__label sk-toggleable__label-arrow\">TfidfVectorizer</label><div class=\"sk-toggleable__content\"><pre>TfidfVectorizer(vocabulary=[&#x27;three&#x27;, &#x27;star&#x27;, &#x27;ran&#x27;, &#x27;quick&#x27;, &#x27;deal&#x27;, &#x27;okay&#x27;,\n",
       "                            &#x27;last&#x27;, &#x27;long&#x27;, &#x27;doesnt&#x27;, &#x27;work&#x27;, &#x27;everyth&#x27;, &#x27;toy&#x27;,\n",
       "                            &#x27;good&#x27;, &#x27;electron&#x27;, &#x27;much&#x27;, &#x27;five&#x27;, &#x27;well&#x27;, &#x27;great&#x27;,\n",
       "                            &#x27;tablet&#x27;, &#x27;simpl&#x27;, &#x27;user&#x27;, &#x27;love&#x27;, &#x27;previous&#x27;,\n",
       "                            &#x27;samsung&#x27;, &#x27;tab&#x27;, &#x27;2&#x27;, &#x27;like&#x27;, &#x27;one&#x27;, &#x27;better&#x27;,\n",
       "                            &#x27;interfac&#x27;, ...])</pre></div></div></div><div class=\"sk-item\"><div class=\"sk-estimator sk-toggleable\"><input class=\"sk-toggleable__control sk-hidden--visually\" id=\"sk-estimator-id-6\" type=\"checkbox\" ><label for=\"sk-estimator-id-6\" class=\"sk-toggleable__label sk-toggleable__label-arrow\">LogisticRegression</label><div class=\"sk-toggleable__content\"><pre>LogisticRegression()</pre></div></div></div></div></div></div></div></div></div></div></div></div>"
      ],
      "text/plain": [
       "GridSearchCV(cv=5,\n",
       "             estimator=Pipeline(steps=[('tfidf',\n",
       "                                        TfidfVectorizer(vocabulary=['three',\n",
       "                                                                    'star',\n",
       "                                                                    'ran',\n",
       "                                                                    'quick',\n",
       "                                                                    'deal',\n",
       "                                                                    'okay',\n",
       "                                                                    'last',\n",
       "                                                                    'long',\n",
       "                                                                    'doesnt',\n",
       "                                                                    'work',\n",
       "                                                                    'everyth',\n",
       "                                                                    'toy',\n",
       "                                                                    'good',\n",
       "                                                                    'electron',\n",
       "                                                                    'much',\n",
       "                                                                    'five',\n",
       "                                                                    'well',\n",
       "                                                                    'great',\n",
       "                                                                    'tablet',\n",
       "                                                                    'simpl',\n",
       "                                                                    'user',\n",
       "                                                                    'love',\n",
       "                                                                    'previous',\n",
       "                                                                    'samsung',\n",
       "                                                                    'tab', '2',\n",
       "                                                                    'like',\n",
       "                                                                    'one',\n",
       "                                                                    'better',\n",
       "                                                                    'interfac', ...])),\n",
       "                                       ('clf_lr', LogisticRegression())]),\n",
       "             n_jobs=-1,\n",
       "             param_grid={'clf_lr__C': [0.1, 1, 10],\n",
       "                         'clf_lr__max_iter': [500, 1000],\n",
       "                         'clf_lr__solver': ['lbfgs', 'saga'],\n",
       "                         'tfidf__max_features': (500, 600),\n",
       "                         'tfidf__use_idf': (True, False)},\n",
       "             scoring=make_scorer(f1_score, average=weighted))"
      ]
     },
     "execution_count": 30,
     "metadata": {},
     "output_type": "execute_result"
    }
   ],
   "source": [
    "from sklearn.feature_extraction.text import TfidfVectorizer\n",
    "from sklearn.pipeline import Pipeline\n",
    "from sklearn.metrics import f1_score, make_scorer\n",
    "from sklearn.model_selection import GridSearchCV\n",
    "\n",
    "pipeline = Pipeline([\n",
    "    ('tfidf', TfidfVectorizer(vocabulary=voc)),\n",
    "    ('clf_lr', LogisticRegression()),\n",
    "])\n",
    "\n",
    "parameters = {\n",
    "    'tfidf__use_idf': (True, False),\n",
    "    'tfidf__max_features': (500, 600),\n",
    "    'clf_lr__C': [0.1, 1, 10],\n",
    "    'clf_lr__max_iter': [500, 1000],\n",
    "    'clf_lr__solver': ['lbfgs', 'saga']\n",
    "}\n",
    "\n",
    "clf_grid_search = GridSearchCV(pipeline, parameters, cv=5, n_jobs=-1, scoring=make_scorer(f1_score, average='weighted'))\n",
    "clf_grid_search.fit(X_train.apply(lambda x: ' '.join(x)), y_train)"
   ]
  },
  {
   "cell_type": "code",
   "execution_count": 31,
   "id": "051e3e5d",
   "metadata": {},
   "outputs": [
    {
     "name": "stdout",
     "output_type": "stream",
     "text": [
      "Meilleurs paramètres trouvés:\n",
      " {'clf_lr__C': 10, 'clf_lr__max_iter': 1000, 'clf_lr__solver': 'saga', 'tfidf__max_features': 500, 'tfidf__use_idf': False} \n",
      "\n",
      "Meilleur score atteint:  0.8159059745543458 \n",
      "\n",
      "Weighted F1: 0.8068889517282264\n",
      "\n",
      "              precision    recall  f1-score   support\n",
      "\n",
      "           1     0.8338    0.8714    0.8522       311\n",
      "           3     0.7429    0.7548    0.7488       310\n",
      "           5     0.8475    0.7940    0.8199       301\n",
      "\n",
      "    accuracy                         0.8069       922\n",
      "   macro avg     0.8081    0.8067    0.8070       922\n",
      "weighted avg     0.8077    0.8069    0.8069       922\n",
      "\n"
     ]
    }
   ],
   "source": [
    "y_pred_gs = clf_grid_search.predict(X_test.apply(lambda x: ' '.join(x)))\n",
    "\n",
    "print(\"Meilleurs paramètres trouvés:\\n\", clf_grid_search.best_params_, \"\\n\")\n",
    "print(\"Meilleur score atteint: \", clf_grid_search.best_score_, \"\\n\")\n",
    "print(f\"Weighted F1: {f1_score(y_test, y_pred_gs, average='weighted')}\\n\")\n",
    "print(classification_report(y_test, y_pred_gs, digits=4))"
   ]
  },
  {
   "cell_type": "markdown",
   "id": "dc91d718",
   "metadata": {},
   "source": [
    "#### b) Quels sont les attributs que vous avez choisis et quels sont leurs valeurs optimales?  (2 points)"
   ]
  },
  {
   "cell_type": "markdown",
   "id": "9b34bc1c",
   "metadata": {},
   "source": [
    "> Les attributs choisi sont :    \n",
    ">    'tfidf__use_idf': (True, False),\n",
    "    'tfidf__max_features': (500, 600),\n",
    "    'clf_lr__C': [0.1, 1, 10],\n",
    "    'clf_lr__max_iter': [500, 1000],\n",
    "    'clf_lr__solver': ['lbfgs', 'saga']\n",
    "<br>\n",
    "<br>\n",
    "Les valeurs idéales pour trouvés sont:\n",
    "<br>\n",
    "{'clf_lr__C': 10, 'clf_lr__max_iter': 1000, 'clf_lr__solver': 'saga', 'tfidf__max_features': 500, 'tfidf__use_idf': True} "
   ]
  },
  {
   "cell_type": "markdown",
   "id": "e541be45",
   "metadata": {},
   "source": [
    "<a name='3.2'></a>\n",
    "###  3.2 Extraction d'attributs (Feature extraction) avec ChatGPT (15 points)\n",
    "\n",
    "ChatGPT peut être très utile pour donner des idées ou donner du squelette de code (lorsque c'est permis! :) ). Cette partie vous fait explorer l'utilisation de ChatGPT pour générer du code permettant d'extraire des attributs (feature extraction) à partir du texte des évaluations. \n",
    "\n",
    "En utilisant ChatGPT ainsi que votre recherche personnelle, essayez de déterminer un ensemble d'attributs que vous pourriez utiliser pour représenter chaque évaluation. A vous de voir comment vous pouvez obtenir une réponse satisfaisante de ChatGPT. \n",
    "\n",
    "#### a) Indiquez dans la cellule ci-dessous les descriptions d'attributs suggérées par ChatGPT ainsi que les vôtres. Différenciez clairement vos attributs - s'il y en a - de ceux de ChatGPT. (4 points)\n"
   ]
  },
  {
   "cell_type": "markdown",
   "id": "f0d9ac3f",
   "metadata": {},
   "source": [
    "> \n",
    "# Text-based Techniques\n",
    "Bag-of-Words (BoW): A simple representation that counts the frequency of each word in each document. This approach doesn't consider the order of words but is fast and often effective.\n",
    "\n",
    "Word Embeddings: Word2Vec, GloVe, and FastText are popular methods to convert words into dense vectors which capture semantic meanings based on the context in which words appear. You can average or sum these vectors to get a single vector for each comment.\n",
    "\n",
    "Count Vectorizer: Similar to BoW but instead of term frequency, it uses the raw counts of words. It could be useful if the frequency of certain words correlates with the rating.\n",
    "\n",
    "n-grams: Instead of considering single words, you could consider sequences of words or characters. For example, in a bigram model, \"very good\" and \"not good\" would be considered as distinct two-word sequences.\n",
    "\n",
    "Sentiment Analysis Scores: You can use pre-built sentiment analysis models to give each comment a sentiment score and use it as a feature.\n",
    "\n",
    "Topic Modeling: Techniques like Latent Dirichlet Allocation (LDA) can be used to extract the topics present in the comments. Then, you can use the topic distribution as features for each comment.\n",
    "\n",
    "# Statistical and Structural Features\n",
    "Document Length: The number of words in the comment could be indicative of its rating.\n",
    "\n",
    "Punctuation Count: The number of exclamation marks or question marks may correlate with the sentiment of a review.\n",
    "\n",
    "Capitalization: Use of uppercase words could indicate strong sentiment.\n",
    "\n",
    "Readability Scores: Metrics like Flesch-Kincaid or Gunning-Fog index could potentially correlate with the complexity or quality of a comment.\n",
    "\n",
    "# Hybrid Features\n",
    "Feature Engineering: Combine existing features to create new ones, for example, the ratio of positive to negative words in a comment.\n",
    "\n",
    "Feature Selection: Use techniques like Recursive Feature Elimination, SelectKBest, or model-specific feature importances to retain only the most informative features.\n",
    "\n",
    "Ensemble Methods: Use different feature sets for different models and then ensemble the models for final prediction. For example, one model could use BoW features and another could use Word Embeddings.\n",
    "\n",
    "Remember that the usefulness of each feature can depend on your specific dataset and problem, and it's often necessary to experiment with various combinations to achieve the best performance."
   ]
  },
  {
   "cell_type": "markdown",
   "id": "39beb713",
   "metadata": {},
   "source": [
    "#### b) Indiquez ci-dessous le code généré par ChatGPT que vous avez décidé de conserver pour représenter chaque évaluation.  (2 points)"
   ]
  },
  {
   "cell_type": "code",
   "execution_count": null,
   "id": "90a73ddd",
   "metadata": {},
   "outputs": [],
   "source": [
    "import numpy as np\n",
    "from transformers import BertTokenizer, BertModel\n",
    "import torch\n",
    "from sklearn.neural_network import MLPClassifier\n",
    "from sklearn.metrics import classification_report\n",
    "\n",
    "tokenizer = BertTokenizer.from_pretrained(\"bert-base-uncased\")\n",
    "model = BertModel.from_pretrained(\"bert-base-uncased\")\n",
    "\n",
    "def extract_bert_features(texts, model, tokenizer):\n",
    "    features = []\n",
    "    for text in texts:\n",
    "        inputs = tokenizer(text, padding=True, truncation=True, max_length=512, return_tensors=\"pt\")\n",
    "        with torch.no_grad():\n",
    "            outputs = model(**inputs)\n",
    "        features.append(outputs.last_hidden_state.mean(dim=1).squeeze().numpy())\n",
    "    return np.array(features)"
   ]
  },
  {
   "cell_type": "markdown",
   "id": "9ebb4523",
   "metadata": {},
   "source": [
    "\n",
    "\n",
    "#### c) Il se peut que le code généré ait besoin d'être adapté à notre jeu de données. Si c'est le cas, corrigez le code et montrez le résultat après vos correction dans la cellule ci-dessous. Le code final devrait être une fonction qui vous retourne, pour un document, un dictionnaire d'attributs et leurs valeurs. N'oubliez pas d'indiquer votre propre code s'il y en a. (5 points)"
   ]
  },
  {
   "cell_type": "code",
   "execution_count": null,
   "id": "2843cbc8",
   "metadata": {
    "scrolled": true
   },
   "outputs": [],
   "source": [
    "from sklearn.model_selection import train_test_split\n",
    "X_train_original, X_test_original, y_train_original, y_test_original = train_test_split(data[\"text_original\"], data[\"rating\"], test_size=0.33, random_state=0)\n",
    "\n",
    "X_train_bert = extract_bert_features(X_train_original, model, tokenizer)\n",
    "X_test_bert = extract_bert_features(X_test_original, model, tokenizer)"
   ]
  },
  {
   "cell_type": "markdown",
   "id": "518c6c20",
   "metadata": {},
   "source": [
    "#### d) Utilisez le code corrigé ci-dessus pour entrainer un modèle MLP avec votre nouvelle représentation des évaluations. Affichez sa performance. (4 points)"
   ]
  },
  {
   "cell_type": "code",
   "execution_count": null,
   "id": "e18c6b02",
   "metadata": {},
   "outputs": [
    {
     "name": "stdout",
     "output_type": "stream",
     "text": [
      "0.8368453988944957\n",
      "              precision    recall  f1-score   support\n",
      "\n",
      "           1       0.87      0.92      0.89       311\n",
      "           3       0.78      0.79      0.78       310\n",
      "           5       0.87      0.80      0.83       301\n",
      "\n",
      "    accuracy                           0.84       922\n",
      "   macro avg       0.84      0.84      0.84       922\n",
      "weighted avg       0.84      0.84      0.84       922\n",
      "\n"
     ]
    }
   ],
   "source": [
    "from sklearn.metrics import f1_score, make_scorer\n",
    "mlp = MLPClassifier(max_iter=1000)\n",
    "\n",
    "mlp.fit(X_train_bert, y_train_original)\n",
    "y_pred_bert = mlp.predict(X_test_bert)\n",
    "\n",
    "print(f1_score(y_test_original, y_pred_bert, average='weighted'))\n",
    "print(classification_report(y_test_original, y_pred_bert))"
   ]
  },
  {
   "cell_type": "code",
   "execution_count": null,
   "id": "993933a4",
   "metadata": {},
   "outputs": [
    {
     "name": "stdout",
     "output_type": "stream",
     "text": [
      "0.8135479706405389\n",
      "              precision    recall  f1-score   support\n",
      "\n",
      "           1       0.84      0.90      0.87       311\n",
      "           3       0.77      0.74      0.75       310\n",
      "           5       0.84      0.81      0.82       301\n",
      "\n",
      "    accuracy                           0.81       922\n",
      "   macro avg       0.81      0.81      0.81       922\n",
      "weighted avg       0.81      0.81      0.81       922\n",
      "\n"
     ]
    }
   ],
   "source": [
    "\n",
    "from sklearn.linear_model import LogisticRegression\n",
    "\n",
    "clf_lr = LogisticRegression(max_iter=1000)\n",
    "clf_lr.fit(X_train_bert, y_train_original)\n",
    "y_pred_bert = clf_lr.predict(X_test_bert)\n",
    "print(f1_score(y_test_original, y_pred_bert, average='weighted'))\n",
    "print(classification_report(y_test_original, y_pred_bert))"
   ]
  },
  {
   "cell_type": "markdown",
   "id": "ce4bf76e",
   "metadata": {},
   "source": [
    "<a name='3.3'></a>\n",
    "### 3.3 Amélioration du modèle en 3.2 (10 points)\n",
    "\n",
    "Il est possible que les résultats obtenus au numéro précédent ne soient pas très élevés. \n",
    "\n",
    "#### a) Trouvez une manière d'utiliser ces attributs avec d'autres éléments afin **d'au moins** obtenir une meilleure performance que n'importe quel score obtenu au numéro 2.x , **sans faire de recherche d'hyper-paramètres**. Essayez d'obtenir la meilleure performance possible. Vous êtes libres d'utiliser n'importe quel algorithme de ce laboratoire. Affichez le code et les performances de votre modèle. (8 points)"
   ]
  },
  {
   "cell_type": "code",
   "execution_count": null,
   "id": "9541ae91",
   "metadata": {},
   "outputs": [
    {
     "name": "stdout",
     "output_type": "stream",
     "text": [
      "0.8589614775427304\n",
      "              precision    recall  f1-score   support\n",
      "\n",
      "           1       0.90      0.92      0.91       311\n",
      "           3       0.80      0.82      0.81       310\n",
      "           5       0.88      0.84      0.86       301\n",
      "\n",
      "    accuracy                           0.86       922\n",
      "   macro avg       0.86      0.86      0.86       922\n",
      "weighted avg       0.86      0.86      0.86       922\n",
      "\n"
     ]
    }
   ],
   "source": [
    "X_train_combined = np.hstack((X_train_bert, X_train_matrix.toarray()))\n",
    "X_test_combined = np.hstack((X_test_bert, X_test_matrix.toarray()))\n",
    "\n",
    "mlp = MLPClassifier()\n",
    "\n",
    "mlp.fit(X_train_combined, y_train_original)\n",
    "\n",
    "y_pred = mlp.predict(X_test_combined)\n",
    "\n",
    "print(f1_score(y_test_original, y_pred, average='weighted'))\n",
    "print(classification_report(y_test_original, y_pred))"
   ]
  },
  {
   "cell_type": "code",
   "execution_count": null,
   "id": "9ff68993",
   "metadata": {},
   "outputs": [
    {
     "name": "stdout",
     "output_type": "stream",
     "text": [
      "0.8342733858213167\n",
      "              precision    recall  f1-score   support\n",
      "\n",
      "           1     0.8614    0.9196    0.8896       311\n",
      "           3     0.7881    0.7677    0.7778       310\n",
      "           5     0.8542    0.8173    0.8353       301\n",
      "\n",
      "    accuracy                         0.8351       922\n",
      "   macro avg     0.8346    0.8349    0.8342       922\n",
      "weighted avg     0.8344    0.8351    0.8343       922\n",
      "\n"
     ]
    }
   ],
   "source": [
    "from sklearn.linear_model import LogisticRegression\n",
    "\n",
    "clf_lr = LogisticRegression(max_iter=1000)\n",
    "clf_lr.fit(X_train_combined, y_train_original)\n",
    "\n",
    "y_pred = pd.Series(clf_lr.predict(X_test_combined))\n",
    "\n",
    "print(f1_score(y_test_original, y_pred, average='weighted'))\n",
    "print(classification_report(y_test_original, y_pred, digits=4))"
   ]
  },
  {
   "cell_type": "markdown",
   "id": "f21566d5",
   "metadata": {},
   "source": [
    "#### b) Quelles sont vos conclusions concernant l'utilisation de ChatGPT et les représentations possibles des documents ? (2 points)"
   ]
  },
  {
   "cell_type": "markdown",
   "id": "29c8a8a9",
   "metadata": {},
   "source": [
    "> Il y a plusieurs facon de représenter des documents et plusieurs techniques d'extraction d'attribut de ceux-cii. ChatGPT est très bon pour nous donner des techniques à haut niveau telles que les différentes méthode d'extraction possible. Il peut aussi facilement et efficacement nous le code correspondant à la technique. Il faut aussi être très spécifique et descriptif afin d'obtenir un bon résultat avec ChatGPT. Ce n'est pas nécessairement très bon pour optimiser une réponse fonctionnelle. Par exemple lorsque je lui ai demandé comment faire pour optimiser le score obtenu avec Bert il a tout simplement régurgité des méthode connu d'optimisation de modèle tel que le GridSearch."
   ]
  },
  {
   "cell_type": "markdown",
   "id": "fa2b28b4",
   "metadata": {},
   "source": [
    "## LIVRABLES:\n",
    "Vous devez remettre sur Moodle, avant la date d'échéance, un zip contenant les fichiers suivants :\n",
    "\n",
    "1-\tLe code : Vous devez compléter le squelette inf8460_A23_TP1.ipynb sous le nom   GR0X_equipe_i_inf8460_A23_TP1(X: numéro du groupe de laboratoire; i = votre numéro d’équipe). Indiquez vos noms et matricules au début du notebook. Ce notebook doit contenir les fonctionnalités requises. \n",
    "\n",
    "2-\tUn fichier pdf représentant votre notebook complètement exécuté sous format pdf. \n",
    "Pour créer le fichier cliquez sur File > Download as > PDF via LaTeX (.pdf). Assurez-vous que le PDF est entièrement lisible.\n",
    "\n",
    "\n",
    "## EVALUATION \n",
    "\n",
    "Votre TP sera évalué selon les critères suivants :\n",
    "\n",
    "1. Exécution correcte du code: Tout votre code et vos résultats doivent être exécutables et reproductibles.\n",
    "2. Qualité du code (noms significatifs, structure, gestion d’exception, etc.) avec, entre autres, les recommandations suivantes:\n",
    "    - Il ne devrait pas y avoir de duplication de code. Utilisez des fonctions pour garder votre code modulaire\n",
    "    - Votre code devrait être optimisé: un code trop lent entraînera une perte de points\n",
    "3. Lisibilité du code (Commentaires clairs et informatifs): Le code doit être exécutable sans erreur et accompagné de commentaires appropriés de manière à expliquer les différentes fonctions\n",
    "4. Performance attendue des modèles\n",
    "5. Effort effectué dans la recherche d'autres types d'attributs et dans l'utilisation de ChatGPT\n",
    "6. Réponses correctes/sensées aux questions de réflexion ou d'analyse\n",
    "7. PDF entièrement lisible. Les parties illisibles ne seront pas corrigées et aucune modification passée la date de remise ne sera acceptée.\n",
    " \n"
   ]
  }
 ],
 "metadata": {
  "kernelspec": {
   "display_name": "Python 3",
   "language": "python",
   "name": "python3"
  },
  "language_info": {
   "codemirror_mode": {
    "name": "ipython",
    "version": 3
   },
   "file_extension": ".py",
   "mimetype": "text/x-python",
   "name": "python",
   "nbconvert_exporter": "python",
   "pygments_lexer": "ipython3",
   "version": "3.10.9"
  }
 },
 "nbformat": 4,
 "nbformat_minor": 5
}
