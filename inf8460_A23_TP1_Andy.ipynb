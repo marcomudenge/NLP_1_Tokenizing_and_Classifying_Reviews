{
 "cells": [
  {
   "cell_type": "markdown",
   "id": "417a4c65",
   "metadata": {},
   "source": [
    "# INF8460: Traitement automatique de la langue naturelle\n",
    "\n",
    "# TP1: Comparaison d'algorithmes pour classification de texte"
   ]
  },
  {
   "cell_type": "markdown",
   "id": "dc062396",
   "metadata": {},
   "source": [
    "## Identification de l'équipe:\n",
    "\n",
    "### Groupe de laboratoire: \n",
    "\n",
    "### Equipe numéro : \n",
    "\n",
    "### Membres: \n",
    "\n",
    "- membre 1 (% de contribution, nature de la contribution)\n",
    "- membre 2 (% de contribution, nature de la contribution)\n",
    "- membre 3 (% de contribution, nature de la contribution)\n",
    "\n",
    "* nature de la contribution: Décrivez brièvement ce qui a été fait par chaque membre de l’équipe. Tous les membres sont censés contribuer au développement. Bien que chaque membre puisse effectuer différentes tâches, vous devez vous efforcer d’obtenir une répartition égale du travail. "
   ]
  },
  {
   "cell_type": "markdown",
   "id": "b3dacaae",
   "metadata": {},
   "source": [
    "\n",
    "## Description:\n",
    "\n",
    "Dans ce premier TP, vous explorerez les bases du traitement automatique du langage naturel. Au cours de ce travail, vous appliquerez concrètement les concepts enseignés en classe pour résoudre une tâche de classification simple. De plus, le processus ressemblera à la manière dont vous aborderiez ce type de problème dans le monde réel. Tout au long de ce laboratoire, vous vous familiariserez avec des bibliothèques couramment utilisées en NLP ainsi qu'en science des données.\n",
    "\n",
    "Dans ce laboratoire, vous travaillerez avec un jeu de données comprenant des évaluations de produits provenant d'Amazon. Pour chaque évaluation, le jeu de données contient trois informations : le titre fourni par l'utilisateur, le commentaire détaillé et le nombre d'étoiles attribué par l'utilisateur au produit.\n",
    "\n",
    "L'objectif de cette tâche consistera à prédire le nombre d'étoiles attribué à une évaluation à partir du commentaire et du titre qui lui sont associés.\n",
    "\n",
    "Le travail sera divisé en 3 parties:\n",
    "\n",
    " - Chargement, prétraitement et visualisation des données: Dans cette première partie, vous allez charger et prétraiter les données afin qu'elles soient prêtes à être utilisées par les algorithmes lors de la deuxième partie.\n",
    " - Classification: Cette partie consistera à explorer les différents algorithmes pouvant être appliqués à cette tâche. Vous ferez aussi une analyse des sorties du classificateur bayésien naïf.\n",
    " - Amélioration de modèle: Cette dernière partie consistera à améliorer votre modèle de 2 façons différentes. D'abord, vous ferez une recherche d'hyper-paramètres avec de la validation croisée en utilisant un GridSearch. Ensuite, vous ferez de l'extraction d'attributs avec l'aide de ChatGPT afin de d'entrainer un nouveau modèle et de comparer ainsi une représentation de type \"Bag of words\" et une représentation avec attributs spécifiques. \n",
    "\n",
    "\n",
    "## Plan du TP\n",
    "\n",
    "1.    [Chargement, prétraitement et visualisation des données](#1)\n",
    "- 1.1   [Charger les données](#1.1)\n",
    " - 1.1.1 [Charger le jeu de données](#1.1.1)\n",
    " - 1.1.2 [Fusionner les colonnes title et text en une seule colonne](#1.1.2)\n",
    "- 1.2   [Prétraitement des données](#1.2)\n",
    "- 1.3   [Visualisation des données](#1.3)\n",
    " - 1.3.1 [Afficher dans un graphique le nombre d'exemples présents dans le jeu de données pour chaque catégorie](#1.3.1)\n",
    " - 1.3.2 [Afficher dans un graphique la quantité moyenne de jetons par exemple selon la catégorie](#1.3.2)\n",
    " - 1.3.3 [Afficher en texte les top 10 jetons les plus fréquents par catégorie](#1.3.3)\n",
    " - 1.3.4 [Afficher en texte les top 10 adjectifs les plus fréquents selon la catégorie](#1.3.4)\n",
    "- 1.4   [Diviser les données en ensembles d'entraînement et de test](#1.4)\n",
    "- 1.5   [Construction du vocabulaire](#1.5)\n",
    "- 1.6   [Vectorisation des données](#1.6)\n",
    "2.    [Classification](#2)\n",
    "- 2.1   [Modèle aléatoire (Random baseline)](#2.1)\n",
    "- 2.2   [Analyse et compréhension d'un classificateur bayésien naïf (NB)](#2.2)\n",
    " - 2.2.1 [Construction du modèle](#2.2.1)\n",
    " - 2.2.2 [Matrice de confusion](#2.2.2)\n",
    " - 2.2.3 [Visualisation des probabilités de NB](#2.2.3)\n",
    " - 2.2.4 [Visualisation des erreurs commises](#2.2.4)\n",
    " - 2.2.5 [Analyse d'erreurs commises](#2.2.5)\n",
    "- 2.3   [Régression logistique](#2.3)\n",
    "- 2.4   [MLP](#2.4)\n",
    "3.    [Amélioration de modèle](#3)\n",
    "- 3.1   [Recherche d'hyper-paramètres et validation croisée](#3.1)\n",
    "- 3.2   [Extraction d'attributs (Feature extraction) avec ChatGPT](#3.2)\n",
    "- 3.3   [Amélioration du modèle en 3.2](#3.3)\n",
    "\n",
    "\n",
    "\n"
   ]
  },
  {
   "cell_type": "markdown",
   "id": "1e96c2d5",
   "metadata": {},
   "source": [
    "<a name='1'></a>\n",
    "## 1. Chargement, prétraitement et visualisation des données (30 points)\n",
    "\n",
    "Dans cette première partie, vous allez charger et prétraiter les données afin qu'elles soient prêtes à être utilisées par les algorithmes lors de la deuxième partie.\n",
    "\n",
    "<a name='1.1'></a>\n",
    "### 1.1 Charger les données  (2 points)\n",
    "\n",
    "Ce numéro doit être résolu en utilisant la bibliothèque **pandas**.\n",
    "\n",
    "<a name='1.1.1'></a>\n",
    "#### 1.1.1 Charger le jeu de données (1 point)\n",
    "\n",
    "Chargez le jeu de données amazon_rating.csv. Affichez ensuite son contenu.\n"
   ]
  },
  {
   "cell_type": "code",
   "execution_count": 1,
   "id": "3ccc645c",
   "metadata": {},
   "outputs": [],
   "source": [
    "import pandas as pd"
   ]
  },
  {
   "cell_type": "code",
   "execution_count": 2,
   "id": "88767fe4",
   "metadata": {
    "scrolled": true
   },
   "outputs": [
    {
     "data": {
      "text/html": [
       "<div>\n",
       "<style scoped>\n",
       "    .dataframe tbody tr th:only-of-type {\n",
       "        vertical-align: middle;\n",
       "    }\n",
       "\n",
       "    .dataframe tbody tr th {\n",
       "        vertical-align: top;\n",
       "    }\n",
       "\n",
       "    .dataframe thead th {\n",
       "        text-align: right;\n",
       "    }\n",
       "</style>\n",
       "<table border=\"1\" class=\"dataframe\">\n",
       "  <thead>\n",
       "    <tr style=\"text-align: right;\">\n",
       "      <th></th>\n",
       "      <th>title</th>\n",
       "      <th>text</th>\n",
       "      <th>rating</th>\n",
       "    </tr>\n",
       "  </thead>\n",
       "  <tbody>\n",
       "    <tr>\n",
       "      <th>0</th>\n",
       "      <td>Five Stars</td>\n",
       "      <td>good as any name brand</td>\n",
       "      <td>5</td>\n",
       "    </tr>\n",
       "    <tr>\n",
       "      <th>1</th>\n",
       "      <td>Did The Job</td>\n",
       "      <td>Ordered on accident when I had searched for RE...</td>\n",
       "      <td>3</td>\n",
       "    </tr>\n",
       "    <tr>\n",
       "      <th>2</th>\n",
       "      <td>Great product</td>\n",
       "      <td>I was looking for something to read on and thi...</td>\n",
       "      <td>5</td>\n",
       "    </tr>\n",
       "    <tr>\n",
       "      <th>3</th>\n",
       "      <td>Leaking Acid EVERYEWHERE!!</td>\n",
       "      <td>After 2nd recharge and use all but 3 are leaki...</td>\n",
       "      <td>1</td>\n",
       "    </tr>\n",
       "    <tr>\n",
       "      <th>4</th>\n",
       "      <td>One Star</td>\n",
       "      <td>They fail earlier than brand names. I assumed ...</td>\n",
       "      <td>1</td>\n",
       "    </tr>\n",
       "  </tbody>\n",
       "</table>\n",
       "</div>"
      ],
      "text/plain": [
       "                        title  \\\n",
       "0                  Five Stars   \n",
       "1                 Did The Job   \n",
       "2               Great product   \n",
       "3  Leaking Acid EVERYEWHERE!!   \n",
       "4                    One Star   \n",
       "\n",
       "                                                text  rating  \n",
       "0                             good as any name brand       5  \n",
       "1  Ordered on accident when I had searched for RE...       3  \n",
       "2  I was looking for something to read on and thi...       5  \n",
       "3  After 2nd recharge and use all but 3 are leaki...       1  \n",
       "4  They fail earlier than brand names. I assumed ...       1  "
      ]
     },
     "execution_count": 2,
     "metadata": {},
     "output_type": "execute_result"
    }
   ],
   "source": [
    "path = \"./amazon_rating.csv\"\n",
    "data = pd.read_csv(path)\n",
    "data.head()"
   ]
  },
  {
   "cell_type": "markdown",
   "id": "aadd4f88",
   "metadata": {},
   "source": [
    "<a name='1.1.2'></a>\n",
    "#### 1.1.2 Fusionner les colonnes title et text en une seule colonne (1 point)\n",
    "\n",
    "Afin de faciliter la tâche pour le reste du TP, nous allons fusionner ces deux colonnes afin que nous n'ayons qu'un seul texte à considérer lors de la vectorisation.\n",
    "\n",
    "Afin de s'assurer de l'intégrité des textes, fusionnez-les à l'aide d'un espace. Par exemple, une évaluation ayant le titre \"Five Stars\" et le commentaire \"good as any name brand\" aura comme texte final \"Five Stars good as any name brand\".\n",
    "\n",
    "Stockez le résultat dans la colonne \"text\" et supprimez la colonne \"title\"."
   ]
  },
  {
   "cell_type": "code",
   "execution_count": 3,
   "id": "b5b627c4",
   "metadata": {},
   "outputs": [
    {
     "data": {
      "text/html": [
       "<div>\n",
       "<style scoped>\n",
       "    .dataframe tbody tr th:only-of-type {\n",
       "        vertical-align: middle;\n",
       "    }\n",
       "\n",
       "    .dataframe tbody tr th {\n",
       "        vertical-align: top;\n",
       "    }\n",
       "\n",
       "    .dataframe thead th {\n",
       "        text-align: right;\n",
       "    }\n",
       "</style>\n",
       "<table border=\"1\" class=\"dataframe\">\n",
       "  <thead>\n",
       "    <tr style=\"text-align: right;\">\n",
       "      <th></th>\n",
       "      <th>text</th>\n",
       "      <th>rating</th>\n",
       "    </tr>\n",
       "  </thead>\n",
       "  <tbody>\n",
       "    <tr>\n",
       "      <th>0</th>\n",
       "      <td>Five Stars good as any name brand</td>\n",
       "      <td>5</td>\n",
       "    </tr>\n",
       "    <tr>\n",
       "      <th>1</th>\n",
       "      <td>Did The Job Ordered on accident when I had sea...</td>\n",
       "      <td>3</td>\n",
       "    </tr>\n",
       "    <tr>\n",
       "      <th>2</th>\n",
       "      <td>Great product I was looking for something to r...</td>\n",
       "      <td>5</td>\n",
       "    </tr>\n",
       "    <tr>\n",
       "      <th>3</th>\n",
       "      <td>Leaking Acid EVERYEWHERE!! After 2nd recharge ...</td>\n",
       "      <td>1</td>\n",
       "    </tr>\n",
       "    <tr>\n",
       "      <th>4</th>\n",
       "      <td>One Star They fail earlier than brand names. I...</td>\n",
       "      <td>1</td>\n",
       "    </tr>\n",
       "  </tbody>\n",
       "</table>\n",
       "</div>"
      ],
      "text/plain": [
       "                                                text  rating\n",
       "0                  Five Stars good as any name brand       5\n",
       "1  Did The Job Ordered on accident when I had sea...       3\n",
       "2  Great product I was looking for something to r...       5\n",
       "3  Leaking Acid EVERYEWHERE!! After 2nd recharge ...       1\n",
       "4  One Star They fail earlier than brand names. I...       1"
      ]
     },
     "execution_count": 3,
     "metadata": {},
     "output_type": "execute_result"
    }
   ],
   "source": [
    "data[\"text\"] = data[\"title\"] + \" \" + data[\"text\"]\n",
    "data.drop([\"title\"], axis=1, inplace=True)\n",
    "data.head()"
   ]
  },
  {
   "cell_type": "markdown",
   "id": "6fbcbf38",
   "metadata": {},
   "source": [
    "<a name='1.2'></a>\n",
    "### 1.2 Prétraitement des données (4 points)\n",
    "\n",
    "En utilisant la librairie nltk, implémentez la fonction suivante qui :\n",
    "\n",
    "- Enlève les majuscules.\n",
    "- Enlève les caractères de ponctuation.\n",
    "- Segmente la séquence en entrée en une liste de jetons (tokenization).\n",
    "- Enlève les \"stopwords\"\n",
    "- Effectue la racinisation.\n",
    "- Retourne l'ensemble des jetons de la séquence\n",
    "    "
   ]
  },
  {
   "cell_type": "code",
   "execution_count": 4,
   "id": "ad6969f7",
   "metadata": {},
   "outputs": [
    {
     "name": "stderr",
     "output_type": "stream",
     "text": [
      "[nltk_data] Downloading package stopwords to\n",
      "[nltk_data]     /Users/andychen/nltk_data...\n",
      "[nltk_data]   Package stopwords is already up-to-date!\n",
      "[nltk_data] Downloading package punkt to /Users/andychen/nltk_data...\n",
      "[nltk_data]   Package punkt is already up-to-date!\n",
      "[nltk_data] Downloading package averaged_perceptron_tagger to\n",
      "[nltk_data]     /Users/andychen/nltk_data...\n",
      "[nltk_data]   Package averaged_perceptron_tagger is already up-to-\n",
      "[nltk_data]       date!\n"
     ]
    },
    {
     "data": {
      "text/plain": [
       "True"
      ]
     },
     "execution_count": 4,
     "metadata": {},
     "output_type": "execute_result"
    }
   ],
   "source": [
    "import nltk\n",
    "\n",
    "nltk.download('stopwords')\n",
    "nltk.download('punkt')\n",
    "nltk.download('averaged_perceptron_tagger')"
   ]
  },
  {
   "cell_type": "code",
   "execution_count": 5,
   "id": "d51e35a2",
   "metadata": {},
   "outputs": [],
   "source": [
    "import nltk\n",
    "from nltk.corpus import stopwords\n",
    "from nltk.tokenize import word_tokenize\n",
    "import string\n",
    "import re\n",
    "stopwords = stopwords.words('english')\n",
    "stemmer = nltk.stem.porter.PorterStemmer()\n",
    "#lemmer = nltk.stem.wordnet.WordNetLemmatizer()\n",
    "\n",
    "\n",
    "def preprocess(sentence):\n",
    "    \"\"\"\n",
    "    Fonction qui transforme une chaine de caractère en liste de jetons.\n",
    "    Les pre-traitements à implémenter sont: \n",
    "    1. Enlever les majuscules\n",
    "    2. Enlever les caractères de ponctuations\n",
    "    3. Séparer la chaine de caractères en une liste de jetons (tokenization) \n",
    "    4. Enlever les stopwords\n",
    "    5. Stemming (racinisation)\n",
    "    \n",
    "    :param sentence: une chaine de caractère\n",
    "    :return: la liste de jetons\n",
    "    \"\"\" \n",
    "    \n",
    "    # TODO\n",
    "    # Enlever les majuscules\n",
    "    sentence = sentence.lower()\n",
    "    # Enlever les caractères de ponctuations\n",
    "    sentence = re.sub(r'[^\\w\\s]', '', sentence)\n",
    "    # tokenization\n",
    "    tokenized_words = word_tokenize(sentence)\n",
    "    # Enlever les stopwords et stemming\n",
    "    tokens = [stemmer.stem(token) for token in tokenized_words if token not in stopwords]\n",
    "    # garder les jetons uniques\n",
    "    # unique_tokens = set()\n",
    "    # for token in tokens:\n",
    "    #     unique_tokens.add(token)\n",
    "    return tokens"
   ]
  },
  {
   "cell_type": "code",
   "execution_count": 6,
   "id": "ea36a64b",
   "metadata": {},
   "outputs": [],
   "source": [
    "\"\"\"\n",
    "NE PAS MODIFIER\n",
    "\n",
    "Le code suivant appliquera votre fonction sur tous les exemples. Il gardera aussi une version originale pour une analyse future.\n",
    "\"\"\"\n",
    "\n",
    "data[\"text_original\"] = data[\"text\"]\n",
    "data[\"text\"] = data[\"text\"].apply(preprocess)\n"
   ]
  },
  {
   "cell_type": "markdown",
   "id": "a1c0e19b",
   "metadata": {},
   "source": [
    "<a name='1.3'></a>\n",
    "### 1.3 Visualisation des données (15 points)\n",
    "\n",
    "**Utilisez la bibliothèque matplotlib pour les graphiques.** Vous pouvez utiliser n'importe quelle classe de base de Python, par exemple collections.Counter, qui sera utile pour l'affichage des jetons."
   ]
  },
  {
   "cell_type": "markdown",
   "id": "731d61c8",
   "metadata": {},
   "source": [
    "La colonne \"rating\" contient le nombre d'étoiles associé à l'évaluation d'un utilisateur. Le nombre d'étoiles varie entre 1 et 5.\n",
    "\n",
    "Afin de simplifier la tâche de classification, nous avons enlevé les commentaires ayant 2 et 4 étoiles du jeu de données. Cela signifie qu'il y a trois catégories de commentaires, c'est-à-dire ceux ayant 1, 3 ou 5 étoiles.\n",
    "\n",
    "Affichez dans un graphique :\n",
    "\n",
    "- Le nombre d'exemples présents dans le jeu de données par catégorie.\n",
    "- La quantité moyenne de jetons par exemple selon la catégorie.\n"
   ]
  },
  {
   "cell_type": "markdown",
   "id": "6e870b33",
   "metadata": {},
   "source": [
    "<a name='1.3.1'></a>\n",
    "#### 1.3.1  Afficher dans un graphique le nombre d'exemples présents dans le jeu de données pour chaque catégorie  (3 points)"
   ]
  },
  {
   "cell_type": "code",
   "execution_count": 7,
   "id": "239b4dfa",
   "metadata": {
    "scrolled": true
   },
   "outputs": [
    {
     "data": {
      "image/png": "[encoded data removed]",
      "text/plain": [
       "<Figure size 1000x500 with 1 Axes>"
      ]
     },
     "metadata": {},
     "output_type": "display_data"
    }
   ],
   "source": [
    "import matplotlib.pyplot as plt\n",
    "one_star_reviews = data[data[\"rating\"] == 1]\n",
    "three_stars_reviews = data[data[\"rating\"] == 3]\n",
    "five_stars_reviews = data[data[\"rating\"] == 5]\n",
    "\n",
    "# nombre de commentaires par categorie\n",
    "one_stars_count = len(one_star_reviews)\n",
    "three_stars_count = len(three_stars_reviews)\n",
    "five_stars_count = len(five_stars_reviews)\n",
    "\n",
    "# definir les axes du graphique\n",
    "x = [\"One star\", \"Three stars\", \"Five stars\"]\n",
    "y = [one_stars_count, three_stars_count, five_stars_count]\n",
    "\n",
    "fig = plt.figure(figsize=(10, 5))\n",
    "# afficher les valeurs avec un bar chart\n",
    "plt.bar(x, y)\n",
    "plt.xlabel(\"Rating\")\n",
    "plt.ylabel(\"Number of reviews\")\n",
    "plt.title(\"Number of reviews per rating category\")\n",
    "plt.show()"
   ]
  },
  {
   "cell_type": "markdown",
   "id": "c244aa72",
   "metadata": {},
   "source": [
    "<a name='1.3.2'></a>\n",
    "#### 1.3.2 Afficher dans un graphique le nombre moyen de jetons dans les exemples de chaque catégorie (4 points)"
   ]
  },
  {
   "cell_type": "code",
   "execution_count": 8,
   "id": "663f798a",
   "metadata": {
    "scrolled": true
   },
   "outputs": [
    {
     "data": {
      "image/png": "[encoded data removed]",
      "text/plain": [
       "<Figure size 1000x500 with 1 Axes>"
      ]
     },
     "metadata": {},
     "output_type": "display_data"
    }
   ],
   "source": [
    "# nombre de moyen de jetons par categorie\n",
    "one_stars_tokens_mean = one_star_reviews[\"text\"].str.len().sum() / one_stars_count\n",
    "three_stars_tokens_mean = three_stars_reviews[\"text\"].str.len().sum() / three_stars_count\n",
    "five_stars_tokens_mean = five_stars_reviews[\"text\"].str.len().sum() / five_stars_count\n",
    "\n",
    "# definir les axes du graphique\n",
    "x = [\"One star\", \"Three stars\", \"Five stars\"]\n",
    "y = [one_stars_tokens_mean, three_stars_tokens_mean, five_stars_tokens_mean]\n",
    "\n",
    "fig = plt.figure(figsize=(10, 5))\n",
    "# afficher les valeurs avec un bar chart\n",
    "plt.bar(x, y)\n",
    "plt.xlabel(\"Rating\")\n",
    "plt.ylabel(\"Mean number of tokens\")\n",
    "plt.title(\"Mean number of tokens per rating category\")\n",
    "plt.show()"
   ]
  },
  {
   "cell_type": "markdown",
   "id": "e6650c0f",
   "metadata": {},
   "source": [
    "<a name='1.3.3'></a>\n",
    "#### 1.3.3 Afficher en texte les top 10 des jetons les plus fréquents par catégorie (4 points)"
   ]
  },
  {
   "cell_type": "markdown",
   "id": "86ff8a3f",
   "metadata": {},
   "source": [
    "\n",
    "Affichez en texte les 10 jetons les plus fréquents selon la catégorie.\n"
   ]
  },
  {
   "cell_type": "code",
   "execution_count": 9,
   "id": "00e31b44",
   "metadata": {},
   "outputs": [],
   "source": [
    "from collections import Counter\n",
    "def get_most_frequent_tokens(reviews):\n",
    "    # iterer sur tous les jetons et compter leur frequence\n",
    "    tokens = []\n",
    "    for tokens_list in reviews[\"text\"]:\n",
    "        tokens += tokens_list\n",
    "    counter = Counter(tokens)\n",
    "    return counter.most_common(10)"
   ]
  },
  {
   "cell_type": "code",
   "execution_count": 10,
   "id": "0befd5a8",
   "metadata": {},
   "outputs": [
    {
     "name": "stdout",
     "output_type": "stream",
     "text": [
      "10 most frequent 1 star tokens:\n",
      "[('batteri', 1211), ('last', 403), ('one', 345), ('use', 328), ('amazon', 311), ('work', 265), ('buy', 235), ('dont', 221), ('star', 179), ('purchas', 162)]\n",
      "10 most frequent 3 stars tokens:\n",
      "[('batteri', 454), ('tablet', 380), ('good', 360), ('use', 244), ('last', 238), ('great', 228), ('price', 228), ('three', 193), ('star', 186), ('long', 183)]\n",
      "10 most frequent 5 stars tokens:\n",
      "[('great', 615), ('tablet', 386), ('batteri', 374), ('love', 306), ('good', 260), ('price', 244), ('use', 211), ('star', 182), ('five', 181), ('work', 167)]\n"
     ]
    }
   ],
   "source": [
    "print(\"10 most frequent 1 star tokens:\")\n",
    "print(get_most_frequent_tokens(one_star_reviews))\n",
    "print(\"10 most frequent 3 stars tokens:\")\n",
    "print(get_most_frequent_tokens(three_stars_reviews))\n",
    "print(\"10 most frequent 5 stars tokens:\")\n",
    "print(get_most_frequent_tokens(five_stars_reviews))"
   ]
  },
  {
   "cell_type": "markdown",
   "id": "bafb388a",
   "metadata": {},
   "source": [
    "<a name='1.3.4'></a>\n",
    "#### 1.3.4 Afficher en texte les top 10 des adjectifs les plus fréquents selon la catégorie (4 points)\n",
    "\n",
    "Pour cet exercice, vous devrez utiliser la fonction [nltk.pos_tag](https://www.nltk.org/book/ch05.html) et retenir les jetons identifiés comme JJ.\n",
    " \n",
    "Pour obtenir de bons résultats, le tagger [nltk.pos_tag](https://www.nltk.org/book/ch05.html) doit être exécuté sur le texte original, incluant les stopwords. \n",
    "Vous devrez donc partir des évaluations originales. Pour vous simplifier la tâche, utilisez \n",
    "le tokenizer *word_tokenize* provenant de nltk.\n",
    "\n",
    "**Les adjectifs sont les jetons identifiés comme JJ.**"
   ]
  },
  {
   "cell_type": "code",
   "execution_count": 11,
   "id": "834ce09b",
   "metadata": {},
   "outputs": [],
   "source": [
    "from nltk.tokenize import word_tokenize\n",
    "from nltk import pos_tag\n",
    "\n",
    "def get_most_frequent_adjectives(reviews):\n",
    "    # iterer sur tous les jetons et compter leur frequence\n",
    "    words = []\n",
    "    for tokens in reviews[\"text_original\"]:\n",
    "        words += word_tokenize(tokens)\n",
    "    tags = pos_tag(words)\n",
    "    adjectives = []\n",
    "    for word, tag in tags:\n",
    "        if tag == \"JJ\":\n",
    "            adjectives.append(word)\n",
    "    counter = Counter(adjectives)\n",
    "    return counter.most_common(10)"
   ]
  },
  {
   "cell_type": "code",
   "execution_count": 12,
   "id": "bc15ac5f",
   "metadata": {},
   "outputs": [
    {
     "name": "stdout",
     "output_type": "stream",
     "text": [
      "10 most frequent 1 star adjectives:\n",
      "[('last', 259), ('good', 102), ('dead', 96), ('other', 83), ('few', 72), ('same', 66), ('bad', 65), ('new', 62), ('first', 53), ('long', 50)]\n",
      "10 most frequent 3 stars adjectives:\n",
      "[('good', 238), ('last', 201), ('great', 132), ('other', 82), ('Good', 77), ('old', 63), ('little', 62), ('slow', 56), ('ok', 51), ('long', 44)]\n",
      "10 most frequent 5 stars adjectives:\n",
      "[('great', 260), ('good', 175), ('old', 90), ('easy', 83), ('other', 64), ('Good', 58), ('last', 58), ('long', 36), ('little', 34), ('Great', 30)]\n"
     ]
    }
   ],
   "source": [
    "print(\"10 most frequent 1 star adjectives:\")\n",
    "print(get_most_frequent_adjectives(one_star_reviews))\n",
    "print(\"10 most frequent 3 stars adjectives:\")\n",
    "print(get_most_frequent_adjectives(three_stars_reviews))\n",
    "print(\"10 most frequent 5 stars adjectives:\")\n",
    "print(get_most_frequent_adjectives(five_stars_reviews))\n"
   ]
  },
  {
   "cell_type": "markdown",
   "id": "86de4b1e",
   "metadata": {},
   "source": [
    "<a name='1.4'></a>\n",
    "### 1.4 Diviser les données en ensembles d'entraînement et de test (1 point)\n",
    "\n",
    "À l'aide de la fonction [train_test_split](https://scikit-learn.org/stable/modules/generated/sklearn.model_selection.train_test_split.html) de SKlearn, séparez les données en ensembles d'entraînement (67% des données) et de test (33% des données). Gardez les deux ensembles dans 2 variables."
   ]
  },
  {
   "cell_type": "code",
   "execution_count": 13,
   "id": "0e5a58bc",
   "metadata": {},
   "outputs": [],
   "source": [
    "from sklearn.model_selection import train_test_split\n",
    "\n",
    "X_train, X_test, y_train, y_test = train_test_split(data['text'], data['rating'], test_size=0.33, random_state=1)\n",
    "\n",
    "train_data = pd.DataFrame({'text': X_train, 'rating': y_train})\n",
    "test_data = pd.DataFrame({'text': X_test, 'rating': y_test})"
   ]
  },
  {
   "cell_type": "markdown",
   "id": "5146eabe",
   "metadata": {},
   "source": [
    "<a name='1.5'></a>\n",
    "### 1.5 Construction du vocabulaire (4 points)\n",
    "\n",
    "Dans un modèle Bag-of-Words (BoW), un vocabulaire est prédéterminé à partir de l'ensemble d'entraînement. Seuls les mots faisant partie de ce vocabulaire seront considérés pour la suite.\n",
    "\n",
    "Complétez la fonction **build_voc** qui retourne une liste de jetons qui sont présents au moins n fois (threshold passé en paramètre) dans la liste d'exemples (également passée en paramètre). Vous pouvez utiliser la classe Counter.\n",
    "\n",
    "Ensuite, appelez cette fonction pour construire votre vocabulaire."
   ]
  },
  {
   "cell_type": "code",
   "execution_count": 14,
   "id": "d0e901d6",
   "metadata": {},
   "outputs": [],
   "source": [
    "def build_voc(documents, threshold):\n",
    "    tokens = []\n",
    "    for document in documents:\n",
    "        for token in document:\n",
    "            tokens.append(token)    \n",
    "    \n",
    "    counter = Counter(tokens)\n",
    "    vocabulary = []\n",
    "    for token, count in counter.items():\n",
    "        if count >= threshold:\n",
    "            vocabulary.append(token)\n",
    "\n",
    "    return vocabulary"
   ]
  },
  {
   "cell_type": "code",
   "execution_count": 15,
   "id": "71c3211b",
   "metadata": {},
   "outputs": [],
   "source": [
    "vocabulary = build_voc(X_train, 10)"
   ]
  },
  {
   "cell_type": "code",
   "execution_count": 16,
   "id": "4436f2f7",
   "metadata": {},
   "outputs": [
    {
     "data": {
      "text/plain": [
       "612"
      ]
     },
     "execution_count": 16,
     "metadata": {},
     "output_type": "execute_result"
    }
   ],
   "source": [
    "len(vocabulary)"
   ]
  },
  {
   "cell_type": "markdown",
   "id": "e006f572",
   "metadata": {},
   "source": [
    "<a name='1.6'></a>\n",
    "### 1.6 Vectorisation des données (4 points)\n",
    "\n",
    "À l'aide de la classe [TfidfVectorizer](https://scikit-learn.org/stable/modules/generated/sklearn.feature_extraction.text.TfidfVectorizer.html) de Sklearn, transformez l'ensemble de jetons en matrice de co-occurence utilisant TF-IDF.\n",
    "\n",
    "Utilisez le vocabulaire construit au numéro précédent dans votre matrice de co-occurrence (voir le paramètre vocabulary de TfidfVectorizer). \n",
    "\n",
    "**Faites attention:** Il ne faut pas entrainer (fit) la vectorisation sur l'ensemble de test"
   ]
  },
  {
   "cell_type": "code",
   "execution_count": 17,
   "id": "54bdc303",
   "metadata": {},
   "outputs": [],
   "source": [
    "from sklearn.feature_extraction.text import TfidfVectorizer\n",
    "vectorizer = TfidfVectorizer(vocabulary=vocabulary)\n",
    "# concat list of lists into a single list where each item is a sentence\n",
    "sentences_list = [' '.join(sentence) for sentence in X_train]\n",
    "train_matrix = vectorizer.fit_transform(sentences_list)\n",
    "\n",
    "sentences_list = [' '.join(sentence) for sentence in X_test]\n",
    "test_matrix = vectorizer.fit_transform(sentences_list)\n"
   ]
  },
  {
   "cell_type": "markdown",
   "id": "f00781ca",
   "metadata": {},
   "source": [
    "<a name='2'></a>\n",
    "## 2. Classification (35 points)\n",
    "\n",
    "Maintenant que les données sont prêtes à être utilisées par nos modèles, nous allons entrainer et tester différent types de modèles sur le jeu de données afin d'en faire la comparaison. \n",
    "\n",
    "Cette section sera divisé en cinq modèle:\n",
    "   - Modèle aléatoire (Random baseline)\n",
    "   - Classificateur bayésien naïf\n",
    "   - Régression Logistique\n",
    "   - Multi-Layer Perceptron (MLP)\n",
    "\n",
    "<a name='2.1'></a>\n",
    "### 2.1 Modèle aléatoire (Random baseline) (5 points)\n",
    "\n",
    "Un seuil (baseline) est un modèle servant de référence et dont les performances représentent un seuil à dépasser.\n",
    "\n",
    "#### a) Générez ce seuil en effectuant des prédictions aléatoires parmi les valeurs 1, 3 et 5. Ensuite, affichez les mesures de performance : précision, rappel (recall) et F1. Utilisez la classe classification_report de SKlearn et affichez 4 chiffres après la virgule. (3.5 points)"
   ]
  },
  {
   "cell_type": "code",
   "execution_count": 18,
   "id": "bc582223",
   "metadata": {},
   "outputs": [],
   "source": [
    "import random\n",
    "\n",
    "def generate_random_score():\n",
    "    return random.choice([1, 3, 5])\n",
    "\n",
    "# appliquer cette fonction sur les donnees de test pour servir de baseline\n",
    "random_scores = []\n",
    "for i in range(len(test_data)):\n",
    "    random_scores.append(generate_random_score())\n",
    "test_data[\"random_score\"] = random_scores"
   ]
  },
  {
   "cell_type": "code",
   "execution_count": 19,
   "id": "f79530a0",
   "metadata": {
    "scrolled": false
   },
   "outputs": [
    {
     "name": "stdout",
     "output_type": "stream",
     "text": [
      "              precision    recall  f1-score   support\n",
      "\n",
      "           1     0.3187    0.3269    0.3228       312\n",
      "           3     0.3436    0.3096    0.3257       323\n",
      "           5     0.3023    0.3275    0.3144       287\n",
      "\n",
      "    accuracy                         0.3210       922\n",
      "   macro avg     0.3215    0.3213    0.3210       922\n",
      "weighted avg     0.3223    0.3210    0.3212       922\n",
      "\n"
     ]
    }
   ],
   "source": [
    "from sklearn.metrics import classification_report\n",
    "\n",
    "y_random = test_data[\"random_score\"]\n",
    "print(classification_report(y_test, y_random, digits=4))"
   ]
  },
  {
   "cell_type": "markdown",
   "id": "b7070590",
   "metadata": {},
   "source": [
    "#### b) Comment pouvez-vous expliquer le F1-score obtenu? (1.5 points)"
   ]
  },
  {
   "cell_type": "markdown",
   "id": "4b86cab6",
   "metadata": {},
   "source": [
    "> *Le F1-score est faible (proche de 0.33 en moyenne), ce qui signifie que le taux de précision et de rappel ne sont pas élevés. Cela est expliqué par le fait que les résultats obtenus diffèrent beaucoup trop du résultat actuel car ils sont générés aléatoirement sans tenir compte des variables explicatives. On aura donc en moyenne une précision et un rappel de 1/3, donc un F1-score de 0.33*"
   ]
  },
  {
   "cell_type": "markdown",
   "id": "8eadb0d3",
   "metadata": {},
   "source": [
    "<a name='2.2'></a>\n",
    "### 2.2 Analyse et compréhension d'un classificateur bayésien naïf (NB) (22 points)\n",
    "\n",
    "Naive Bayes (NB) est un algorithme très simple pouvant servir de bon point de départ (baseline) pour les tâches de classification. Ce numéro portera sur l'analyse de ce modèle afin de bien comprendre son comportement."
   ]
  },
  {
   "cell_type": "markdown",
   "id": "0c04861f",
   "metadata": {},
   "source": [
    "<a name='2.2.1'></a>\n",
    "#### 2.2.1 Construction du modèle (4 points)\n",
    "\n",
    "Commencez d'abord par construire le modèle à l'aide de la classe MultinomialNB de SKlearn. Utilisez les données vectorisées produites en 1.6.\n",
    "\n",
    "Affichez les performances de votre classificateur (précision, recall, F1-score)."
   ]
  },
  {
   "cell_type": "code",
   "execution_count": 20,
   "id": "c90814a4",
   "metadata": {},
   "outputs": [],
   "source": [
    "from sklearn.naive_bayes import MultinomialNB\n",
    "\n",
    "nbModel = MultinomialNB()\n",
    "# fit the model on the train data\n",
    "nbModel.fit(train_matrix, y_train)\n",
    "\n",
    "nb_predictions = nbModel.predict(test_matrix)"
   ]
  },
  {
   "cell_type": "code",
   "execution_count": 21,
   "id": "6e4fecb0",
   "metadata": {
    "scrolled": true
   },
   "outputs": [
    {
     "name": "stdout",
     "output_type": "stream",
     "text": [
      "              precision    recall  f1-score   support\n",
      "\n",
      "           1     0.8237    0.8237    0.8237       312\n",
      "           3     0.7708    0.6873    0.7267       323\n",
      "           5     0.7360    0.8258    0.7783       287\n",
      "\n",
      "    accuracy                         0.7766       922\n",
      "   macro avg     0.7769    0.7789    0.7762       922\n",
      "weighted avg     0.7779    0.7766    0.7756       922\n",
      "\n"
     ]
    }
   ],
   "source": [
    "print(classification_report(y_test, nb_predictions, digits=4))"
   ]
  },
  {
   "cell_type": "markdown",
   "id": "34a784a1",
   "metadata": {},
   "source": [
    "<a name='2.2.2'></a>\n",
    "####  2.2.2 Matrice de confusion (3 points)\n",
    "\n",
    "Visualisez la matrice de confusion de votre modèle en utilisant la fonction [heatmap](https://seaborn.pydata.org/generated/seaborn.heatmap.html) de seaborn. Celle-ci peut prendre en entrée une matrice de confusion comme celle fournie par la fonction [confusion_matrix](https://scikit-learn.org/stable/modules/generated/sklearn.metrics.confusion_matrix.html) dans SKLearn."
   ]
  },
  {
   "cell_type": "code",
   "execution_count": 22,
   "id": "a115ac85",
   "metadata": {
    "scrolled": true
   },
   "outputs": [
    {
     "data": {
      "image/png": "[encoded data removed]",
      "text/plain": [
       "<Figure size 640x480 with 2 Axes>"
      ]
     },
     "metadata": {},
     "output_type": "display_data"
    }
   ],
   "source": [
    "from sklearn.metrics import confusion_matrix\n",
    "from seaborn import heatmap\n",
    "\n",
    "conf_matrix = confusion_matrix(y_test, nb_predictions)\n",
    "ax = heatmap(conf_matrix, annot=True, fmt='d')\n",
    "ax.set_xlabel('Predicted labels')\n",
    "ax.set_ylabel('True labels')\n",
    "ax.xaxis.set_ticklabels(['1 star', '3 stars', '5 stars'])\n",
    "ax.yaxis.set_ticklabels(['1 star', '3 stars', '5 stars'])\n",
    "plt.show()"
   ]
  },
  {
   "cell_type": "markdown",
   "id": "223d6c84",
   "metadata": {},
   "source": [
    "<a name='2.2.3'></a>\n",
    "####  2.2.3 Visualisation des probabilités de NB (5 points)\n",
    "\n",
    "Naive Bayes est un classificateur suivant une approche générative. Durant son entraînement, il apprend les probabilités P(x_i|y). En utilisant le théorème de Bayes, on peut exprimer la probabilité d'une classe donnée y étant donné un ensemble de caractéristiques x_1, x_2, ..., x_n comme suit : \n",
    "\n",
    "$$ P(y|x_1, x_2, ..., x_n) = P(y) * P(x_1|y) * P(x_2|y) * ... * P(x_n|y) $$\n",
    "\n",
    "Ainsi, étant donné un exemple ayant le jeton x_i, plus la probabilité P(x_i|y) est élevée pour une classe, plus la probabilité que l'exemple provienne de cette classe augmente.\n",
    "\n",
    "Écrivez du code permettant de visualiser les jetons ayant les plus grandes probabilités selon la classe dans un graphique de type [barh](https://matplotlib.org/3.1.1/api/_as_gen/matplotlib.pyplot.barh.html). Consultez la documentation de [MultiNomialNB](https://scikit-learn.org/stable/modules/generated/sklearn.naive_bayes.MultinomialNB.html) afin de trouver les probabilités P(x_i|y). Le graphique produit devrait montrer, sur l'axe des Y, les 10 jetons associés au P(x_i|y) le plus grand selon y. L'axe des X devrait représenter la valeur des probabilités.\n",
    "\n",
    "Ce code devra être sous forme d'une fonction où on passe la classe y en paramètre.\n"
   ]
  },
  {
   "cell_type": "code",
   "execution_count": 23,
   "id": "eb219a46",
   "metadata": {
    "scrolled": false
   },
   "outputs": [
    {
     "data": {
      "image/png": "[encoded data removed]",
      "text/plain": [
       "<Figure size 640x480 with 1 Axes>"
      ]
     },
     "metadata": {},
     "output_type": "display_data"
    },
    {
     "data": {
      "image/png": "[encoded data removed]",
      "text/plain": [
       "<Figure size 640x480 with 1 Axes>"
      ]
     },
     "metadata": {},
     "output_type": "display_data"
    },
    {
     "data": {
      "image/png": "[encoded data removed]",
      "text/plain": [
       "<Figure size 640x480 with 1 Axes>"
      ]
     },
     "metadata": {},
     "output_type": "display_data"
    }
   ],
   "source": [
    "import matplotlib.pyplot as plt\n",
    "import numpy as np\n",
    "\n",
    "def display_top_10_most_probable_tokens(nbModel, vectorizer, y):\n",
    "    # our model has 3 classes: 1, 3, 5 with their respective indices: 0, 1, 2\n",
    "    indexMap = {1:0, 3:1, 5:2}\n",
    "    prob = np.exp(nbModel.feature_log_prob_[indexMap.get(y)])\n",
    "    features = vectorizer.get_feature_names_out()\n",
    "    sorted_indices = prob.argsort()\n",
    "    top_10_indices = sorted_indices[-10:]\n",
    "    top_features = []\n",
    "    top_features_prob = []\n",
    "    for i in top_10_indices:\n",
    "        top_features.append(features[i])\n",
    "        top_features_prob.append(prob[i])\n",
    "    plt.barh(top_features, top_features_prob)\n",
    "    plt.xlabel(\"Probability\")\n",
    "    plt.ylabel(\"Token\")\n",
    "    plt.title(f\"Top 10 most probable tokens for {y} stars\")\n",
    "    plt.show()\n",
    "\n",
    "display_top_10_most_probable_tokens(nbModel, vectorizer, 1)\n",
    "display_top_10_most_probable_tokens(nbModel, vectorizer, 3)\n",
    "display_top_10_most_probable_tokens(nbModel, vectorizer, 5)"
   ]
  },
  {
   "cell_type": "markdown",
   "id": "4600bf66",
   "metadata": {},
   "source": [
    "Que pouvez-vous remanquer à propos des jetons affichés dans le graphique?"
   ]
  },
  {
   "cell_type": "markdown",
   "id": "fa61bab3",
   "metadata": {},
   "source": [
    "> *Les jetons qui apparaissent dans chaque classe sont très similaires aux top 10 jetons les plus fréquents de chaque classe*"
   ]
  },
  {
   "cell_type": "markdown",
   "id": "00579fba",
   "metadata": {},
   "source": [
    "<a name='2.2.4'></a>\n",
    "#### 2.2.4 Visualisation des erreurs commises  (3 points)\n",
    "\n",
    "Trouvez toutes les phrases dont la vraie valeur est 5 mais la valeur prédite est de 1.\n",
    "\n",
    "Affichez ces exemples d'une manière lisible.\n"
   ]
  },
  {
   "cell_type": "code",
   "execution_count": 24,
   "id": "c4fef76a",
   "metadata": {},
   "outputs": [
    {
     "name": "stdout",
     "output_type": "stream",
     "text": [
      "Sentences that were rated 5 stars but were predicted as 1 star: \n",
      "\n",
      "Had one already, like it. Gave to my Grandchildren for Christmas, would like to get another for the same price for another Grandchild.\n",
      "\n",
      "\n",
      "I have had these only for a week I cannot ... I have had these only for a week I cannot tell you anymore\n",
      "\n",
      "\n",
      "Battery replenishment Battery replenishment\n",
      "\n",
      "\n",
      "Best (AAA) Batteries for your Buck! I prefer purchasing my batteries in bulk, so that I can buy them once and forget about them for the upcoming months (or year). AmazonBasics was, at the time of purchase, the most economical pack of AAA batteries.I haven't noticed any difference in time or quality of use. I don't use AAA batteries for many things, though, and for those that I do the items tend to last for quite some time on a pair of batteries, so I would not notice a change unless the batteries were really, really poor quality. Thankfully, they're not, and their price point made them a steal for me. These also store well - I have had no issues using some of these that my parents purchased years ago and they appear comparable to the pack I purchased recently.I've lately been really impressed with the quality of electronics that AmazonBasics offers. As store-brands go, this is among the first that has yet to disappoint me!\n",
      "\n",
      "\n",
      "Good to go Equal to the name brand batteries\n",
      "\n",
      "\n",
      "Amazon Batteries I always try to buy Amazon rechargeable batteries. Good price and lasts a long time between charges. Saves a bit of the environment compared to disposable ones.\n",
      "\n",
      "\n",
      "Very impressive.... I ran a test with these batteries because I was skeptical. I ran a Sennheiser wireless mic transmitter for nearly twelve hours and the receiver ran for over 16. These are great numbers. I can get through a full day of shooting with a handful of these.\n",
      "\n",
      "\n",
      "Exactly as described. Using these batteries in one of ... Exactly as described. Using these batteries in one of my remotes that seems to eat batteries on a bi-monthly basis. Definitely cheaper than buying from big box stores and work just as well.\n",
      "\n",
      "\n",
      "Do yourself a favor and save some money. Because paying 20-40 dollars at Walmart (depending on type) for the same thing makes sense right If you are like me and have 3 kids that all have annoying gizmos and electronic crap that takes batteries it is hard to beat Amazon's bulk batteries.These seem to have the same general capacity of a standard Energizer. I have not tested these with my joule thief to see how long they can last. But I'd say on par with the others.This may sound dorky-- when batteries are this cheap, you will find yourself putting them back into toys, remotes, electronics that you had previously marked as not necessary to be powered.\n",
      "\n",
      "\n",
      "Good They work just like the ones you buy at Walmart.\n",
      "\n",
      "\n",
      "Why Pay More Why ever pay retail store price for a simple battery. Shelf life is so long they will still be fresh years from now. There are only a few battery manufacturers in the world. Hey Bob, what brand we running on the line today.20 each.\n",
      "\n",
      "\n",
      "Just plainly buy these! Compared to other AA Battery types these take the cake! I just LOVE these AmazonBasics Batteries.\n",
      "\n",
      "\n",
      "These batteries are great, I used Duracell before for my remotes etc These batteries are great, I used Duracell before for my remotes etc, but i am impressed with these, I am getting much longer life from them. I am updating this review, this will be the only battery I use, they last a long time, and are a good price!\n",
      "\n",
      "\n",
      "Would buy again I like these batteries. I go through AA batteries a lot with my children's toys..\n",
      "\n",
      "\n",
      "AmazonBasics AAA Performance Alkaline Batteries are AAA Performance Alkaline Batteries. WOW! These AmazonBasics AAA Performance Alkaline Batteries are actually AmazonBasics AAA Performance Alkaline Batteries and work as such. Unbelievable.\n",
      "\n",
      "\n",
      "Thanks I think most of the batteries I have in my house are now all AmazonBasics. These batteries are in all of our toys, gadgets, remotes and I have never had an issue. They last as long as expected.\n",
      "\n",
      "\n",
      "LONG LASTING THESE BATTERIES WORK JUST AS GOOD AS THE BRANDS YOU ALREADY KNOW, BUT DO NOT COST NEARLY AS MUCH MONEY. THATS A WINNER FOR ME.\n",
      "\n",
      "\n",
      "Yay amazon! I was super excited to try these Amazon brand items and I'm sure glad they are branching out. I really just dislike Walmart and they terrible customer service. So typically I purchase batteries from BJ as I have two kids with tons of toys! Amazons prices for their batteries beats BJS by 5 to 6 depending on the size plus even at BJs you can't get a 48 pack of AA. The packaging was and simple which is fine because it does nothing for me. I must say that I like opening the package better with Amazon than normal batteries because I hate the thick plastic it's hard to cut and sometimes sharp, plus Amazons packaging is better for the environment. I just installed some batteries yesterday and I'll update as to how long they last\n",
      "\n",
      "\n",
      "A+A+A+A+A+ FAST DELIVERY JUST AS A+A+A+A+A+ FAST DELIVERY JUST AS DESCRIBE\n",
      "\n",
      "\n",
      "Cheap and Work Great I've been ordering these cheap batteries for years for my XBOX controllers. They are cheap and long lasting, and I'll never go back to picking up batteries at the store again.\n",
      "\n",
      "\n"
     ]
    }
   ],
   "source": [
    "temp_df = pd.DataFrame({'text': X_test, 'true_rating': y_test, 'predicted_rating': nb_predictions})\n",
    "sentence_indices = temp_df[\"text\"][(temp_df[\"true_rating\"] == 5) & (temp_df[\"predicted_rating\"] == 1)].index\n",
    "\n",
    "print(\"Sentences that were rated 5 stars but were predicted as 1 star: \\n\")\n",
    "for i in sentence_indices:\n",
    "    print(data[\"text_original\"][i])\n",
    "    print(\"\\n\")\n",
    "    "
   ]
  },
  {
   "cell_type": "markdown",
   "id": "cffb9d00",
   "metadata": {},
   "source": [
    "<a name='2.2.5'></a>\n",
    "#### 2.2.5 Analyse d'erreurs commises (7 points)"
   ]
  },
  {
   "cell_type": "markdown",
   "id": "204c7fff",
   "metadata": {},
   "source": [
    "Complétez la fonction plot_example qui:\n",
    "   - Prend en entrée une liste de jetons provenant d'un exemple. \n",
    "   - Produit un graphique qui pour chaque jeton, affiche la valeur P(x_i|y=5) et P(x_i|y=1)\n",
    "    \n",
    "**Pour vous faciliter le travail, utiliser barh de pandas et non de matplotlib**: https://pandas.pydata.org/docs/reference/api/pandas.DataFrame.plot.barh.html\n",
    "\n",
    "\n",
    "#### a) Exécutez votre fonction avec une phrase au choix dont la vraie valeur est 5 mais la valeur prédite est de 1. (4 points)"
   ]
  },
  {
   "cell_type": "code",
   "execution_count": 31,
   "id": "0795de9d",
   "metadata": {},
   "outputs": [],
   "source": [
    "def plot_example(tokens):\n",
    "    one_star_prob = np.exp(nbModel.feature_log_prob_[0])\n",
    "    five_stars_prob = np.exp(nbModel.feature_log_prob_[2])\n",
    "    features = vectorizer.get_feature_names_out()\n",
    "    # create a map to get the index of a token\n",
    "    tokensMap = {}\n",
    "    index, one, five = [], [], []\n",
    "    for i in range(len(features)):\n",
    "        tokensMap[features[i]] = i\n",
    "    for token in tokens:\n",
    "        if token in tokensMap:\n",
    "            index.append(token)\n",
    "            one.append(one_star_prob[tokensMap[token]])\n",
    "            five.append(five_stars_prob[tokensMap[token]])\n",
    "    chart_df = pd.DataFrame({'one_star_prob': one, 'five_star_prob': five}, index=index)\n",
    "    ax = chart_df.plot.barh()"
   ]
  },
  {
   "cell_type": "code",
   "execution_count": 41,
   "id": "f29f321f",
   "metadata": {},
   "outputs": [
    {
     "name": "stdout",
     "output_type": "stream",
     "text": [
      "['one', 'alreadi', 'like', 'gave', 'grandchildren', 'christma', 'would', 'like', 'get', 'anoth', 'price', 'anoth', 'grandchild']\n"
     ]
    },
    {
     "data": {
      "image/png": "[encoded data removed]",
      "text/plain": [
       "<Figure size 640x480 with 1 Axes>"
      ]
     },
     "metadata": {},
     "output_type": "display_data"
    }
   ],
   "source": [
    "tokens = data[\"text\"][sentence_indices[0]]\n",
    "print(tokens)\n",
    "plot_example(data[\"text\"][sentence_indices[0]])"
   ]
  },
  {
   "cell_type": "markdown",
   "id": "b2984273",
   "metadata": {},
   "source": [
    "#### b) Suite à cette analyse, pouvez-vous voir une tendance dans les exemples qui sont prédits comme faisant partie de la classe 1 mais faisant réellement partie de la classe 5 ?  (3 points)"
   ]
  },
  {
   "cell_type": "markdown",
   "id": "856cc027",
   "metadata": {},
   "source": [
    "> *Certains jetons ont tendance à avoir beaucoup plus de poids dans la prédiction que d'autres, au point où seulement leur présence dans la phrase déterminera la classe prédite. Cela signifie que notre modèle n'est pas bien entraîné pour détecter le contexte des mots autour d'une phrase (ce qui est normal puisque nous avons utilisé un bag of words)*"
   ]
  },
  {
   "cell_type": "markdown",
   "id": "40f0f9a6",
   "metadata": {},
   "source": [
    "<a name='2.3'></a>\n",
    "### 2.3 Régression logistique (4 points)\n",
    "\n",
    "Entrainez un modèle de [régression logistique](https://scikit-learn.org/stable/modules/generated/sklearn.linear_model.LogisticRegression.html) à l'aide de SKLearn en utilisant les données produites en 1.6 et affichez sa performance avec les mêmes métriques que précédemment. "
   ]
  },
  {
   "cell_type": "code",
   "execution_count": 42,
   "id": "c7c91797",
   "metadata": {},
   "outputs": [],
   "source": [
    "from sklearn.linear_model import LogisticRegression\n",
    "\n",
    "lrModel = LogisticRegression()\n",
    "lrModel.fit(train_matrix, y_train)\n",
    "lr_predictions = lrModel.predict(test_matrix)"
   ]
  },
  {
   "cell_type": "code",
   "execution_count": 43,
   "id": "dce0ff9f",
   "metadata": {},
   "outputs": [
    {
     "name": "stdout",
     "output_type": "stream",
     "text": [
      "              precision    recall  f1-score   support\n",
      "\n",
      "           1     0.8413    0.8494    0.8453       312\n",
      "           3     0.7662    0.7709    0.7685       323\n",
      "           5     0.8262    0.8118    0.8190       287\n",
      "\n",
      "    accuracy                         0.8102       922\n",
      "   macro avg     0.8112    0.8107    0.8109       922\n",
      "weighted avg     0.8103    0.8102    0.8102       922\n",
      "\n"
     ]
    }
   ],
   "source": [
    "print(classification_report(y_test, lr_predictions, digits=4))"
   ]
  },
  {
   "cell_type": "markdown",
   "id": "727658f6",
   "metadata": {},
   "source": [
    "<a name='2.4'></a>\n",
    "### 2.4 MLP (4 points)\n",
    "\n",
    "Entrainez un modèle neuronal de type [Multi-layer Perceptron classifier](https://scikit-learn.org/stable/modules/generated/sklearn.neural_network.MLPClassifier.html) à l'aide de SKLearn en utilisant les données produites en 1.6. Affichez sa performance avec les mêmes métriques que précédemment. "
   ]
  },
  {
   "cell_type": "code",
   "execution_count": 45,
   "id": "b44f3fd5",
   "metadata": {},
   "outputs": [],
   "source": [
    "from sklearn.neural_network import MLPClassifier\n",
    "\n",
    "mlpModel = MLPClassifier(max_iter=1000)\n",
    "mlpModel.fit(train_matrix, y_train)\n",
    "mlp_predictions = mlpModel.predict(test_matrix)"
   ]
  },
  {
   "cell_type": "code",
   "execution_count": 46,
   "id": "4e71cb73",
   "metadata": {},
   "outputs": [
    {
     "name": "stdout",
     "output_type": "stream",
     "text": [
      "              precision    recall  f1-score   support\n",
      "\n",
      "           1     0.8438    0.8654    0.8544       312\n",
      "           3     0.8072    0.7647    0.7854       323\n",
      "           5     0.8007    0.8258    0.8130       287\n",
      "\n",
      "    accuracy                         0.8178       922\n",
      "   macro avg     0.8172    0.8186    0.8176       922\n",
      "weighted avg     0.8175    0.8178    0.8174       922\n",
      "\n"
     ]
    }
   ],
   "source": [
    "print(classification_report(y_test, mlp_predictions, digits=4))"
   ]
  },
  {
   "cell_type": "markdown",
   "id": "21b383b9",
   "metadata": {},
   "source": [
    "<a name='3'></a>\n",
    "## 3. Amélioration de modèle (30 points)\n",
    "\n",
    "Cette dernière partie consistera à améliorer votre modèle de deux façons différentes.\n",
    "\n",
    "Tout d'abord, vous effectuerez une recherche d'hyper-paramètres avec une validation croisée en utilisant une grille de recherche (GridSearch). Ensuite, vous réaliserez de l'extraction d'attributs (feature extraction) afin d'entraîner un nouveau modèle.\n",
    "\n",
    "<a name='3.1'></a>\n",
    "###  3.1 Recherche d'hyper-paramètres et validation croisée (5 points)\n",
    "\n",
    "La classe [GridSearchCV](https://scikit-learn.org/stable/modules/generated/sklearn.model_selection.GridSearchCV.html) permet d'explorer toutes les combinaisons possibles d'hyper-paramètres que l'on spécifie afin de trouver la configuration optimale. De plus, il est tout à fait possible de fusionner les paramètres du pré-traitement et ceux du classificateur en utilisant la classe [Pipeline](https://scikit-learn.org/stable/modules/generated/sklearn.pipeline.Pipeline.html).\n",
    "Pour la rédaction de votre code, vous avez la possibilité de vous référer au tutoriel du cours.\n",
    "\n",
    "#### a) Dans cette phase, l'objectif est de découvrir une configuration optimale pour le modèle LogisticRegression en conjonction avec la technique de vectorisation TF-IDF. Cette recherche devra être guidée par la métrique du F1-score pondéré (weighted F1). Vous devrez aussi effectuer une exploration de paramètres sur au moins deux attributs liés à TF-IDF et deux paramètres de la régression logistique. Affichez ensuite la performance finale du modèle optimal ainsi que ses paramètres. (3 points)"
   ]
  },
  {
   "cell_type": "code",
   "execution_count": 54,
   "id": "5d1121d8",
   "metadata": {
    "scrolled": true
   },
   "outputs": [
    {
     "name": "stdout",
     "output_type": "stream",
     "text": [
      "Meilleurs paramètres trouvés:\n",
      " {'regression__fit_intercept': True, 'regression__max_iter': 100, 'tfidf__max_features': 1000, 'tfidf__use_idf': True} \n",
      "\n",
      "Meilleur score atteint:\n",
      " 0.8095210112967708 \n",
      "\n"
     ]
    }
   ],
   "source": [
    "from sklearn.feature_extraction.text import TfidfVectorizer\n",
    "from sklearn.pipeline import Pipeline\n",
    "from sklearn.metrics import f1_score, make_scorer\n",
    "from sklearn.model_selection import GridSearchCV\n",
    "\n",
    "pipeline = Pipeline([\n",
    "    ('tfidf', TfidfVectorizer(vocabulary=vocabulary)),\n",
    "    ('regression', LogisticRegression()),\n",
    "])\n",
    "\n",
    "parameters = {\n",
    "    'tfidf__max_features': [1000, 5000, 10000],\n",
    "    'tfidf__use_idf': [True, False],\n",
    "    'regression__max_iter': [100, 200, 500, 1000],\n",
    "    'regression__fit_intercept': [True, False],\n",
    "}\n",
    "\n",
    "scoring = make_scorer(f1_score, average='weighted')\n",
    "gs_clf = GridSearchCV(pipeline, parameters, scoring=scoring, cv=5, n_jobs=-1)\n",
    "gs_clf.fit([' '.join(sentence) for sentence in X_train], y_train)\n",
    "y_pred = gs_clf.predict([' '.join(sentence) for sentence in X_test])\n",
    "\n",
    "print(\"Meilleurs paramètres trouvés:\\n\", gs_clf.best_params_, \"\\n\")\n",
    "print(\"Meilleur score atteint:\\n\", gs_clf.best_score_, \"\\n\")"
   ]
  },
  {
   "cell_type": "markdown",
   "id": "dc91d718",
   "metadata": {},
   "source": [
    "#### b) Quels sont les attributs que vous avez choisis et quels sont leurs valeurs optimales?  (2 points)"
   ]
  },
  {
   "cell_type": "markdown",
   "id": "9b34bc1c",
   "metadata": {},
   "source": [
    "> Les attributs avec leurs valeurs optimales sont: \n",
    "{'regression__fit_intercept': True, \n",
    "'regression__max_iter': 100, \n",
    "'tfidf__max_features': 1000, \n",
    "'tfidf__use_idf': True}"
   ]
  },
  {
   "cell_type": "markdown",
   "id": "e541be45",
   "metadata": {},
   "source": [
    "<a name='3.2'></a>\n",
    "###  3.2 Extraction d'attributs (Feature extraction) avec ChatGPT (15 points)\n",
    "\n",
    "ChatGPT peut être très utile pour donner des idées ou donner du squelette de code (lorsque c'est permis! :) ). Cette partie vous fait explorer l'utilisation de ChatGPT pour générer du code permettant d'extraire des attributs (feature extraction) à partir du texte des évaluations. \n",
    "\n",
    "En utilisant ChatGPT ainsi que votre recherche personnelle, essayez de déterminer un ensemble d'attributs que vous pourriez utiliser pour représenter chaque évaluation. A vous de voir comment vous pouvez obtenir une réponse satisfaisante de ChatGPT. \n",
    "\n",
    "#### a) Indiquez dans la cellule ci-dessous les descriptions d'attributs suggérées par ChatGPT ainsi que les vôtres. Différenciez clairement vos attributs - s'il y en a - de ceux de ChatGPT. (4 points)\n"
   ]
  },
  {
   "cell_type": "markdown",
   "id": "f0d9ac3f",
   "metadata": {},
   "source": [
    "> Voici l'ensemble d'attributs suggérés par ChatGPT: tfidf__max_features, tfidf__ngram_range, regression__C, regression__penalty, regression__solver, regression__class_weight, regression__max_iter, regression__random_state"
   ]
  },
  {
   "cell_type": "markdown",
   "id": "39beb713",
   "metadata": {},
   "source": [
    "#### b) Indiquez ci-dessous le code généré par ChatGPT que vous avez décidé de conserver pour représenter chaque évaluation.  (2 points)"
   ]
  },
  {
   "cell_type": "code",
   "execution_count": null,
   "id": "90a73ddd",
   "metadata": {},
   "outputs": [],
   "source": [
    "# Create the TF-IDF Vectorizer\n",
    "tfidf_vectorizer = TfidfVectorizer()\n",
    "\n",
    "# Create the Logistic Regression model\n",
    "logistic_regression = LogisticRegression()\n",
    "\n",
    "# Define the pipeline\n",
    "pipeline = Pipeline([\n",
    "    ('tfidfvectorizer', tfidf_vectorizer),\n",
    "    ('logisticregression', logistic_regression)\n",
    "])\n",
    "\n",
    "parameters = {\n",
    "    'tfidfvectorizer__max_features': [10, 100, 1000, None],\n",
    "    'tfidfvectorizer__ngram_range': [(1, 1), (1, 2), (1, 3)],\n",
    "    'logisticregression__C': [0.1, 1, 10, 100],\n",
    "    'logisticregression__penalty': ['l1', 'l2'],\n",
    "    'logisticregression__solver': ['liblinear', 'newton-cg', 'lbfgs', 'sag', 'saga'],\n",
    "    'logisticregression__class_weight': ['balanced', None],\n",
    "    'logisticregression__max_iter': [100, 500, 1000],\n",
    "    'logisticregression__random_state': [42]  # Set your desired random seed\n",
    "}\n",
    "\n",
    "# Create the GridSearchCV object\n",
    "gs_clf = GridSearchCV(pipeline, parameters, scoring='accuracy', cv=5, n_jobs=-1)\n",
    "\n",
    "# Fit the GridSearchCV to your data\n",
    "gs_clf.fit(X_train, y_train)  # Replace X_train and y_train with your training data\n",
    "\n",
    "# Use the best model from GridSearchCV to make predictions\n",
    "best_model = gs_clf.best_estimator_\n",
    "\n",
    "# Assuming you have a test dataset X_test\n",
    "y_pred = best_model.predict(X_test)"
   ]
  },
  {
   "cell_type": "markdown",
   "id": "9ebb4523",
   "metadata": {},
   "source": [
    "\n",
    "\n",
    "#### c) Il se peut que le code généré ait besoin d'être adapté à notre jeu de données. Si c'est le cas, corrigez le code et montrez le résultat après vos correction dans la cellule ci-dessous. Le code final devrait être une fonction qui vous retourne, pour un document, un dictionnaire d'attributs et leurs valeurs. N'oubliez pas d'indiquer votre propre code s'il y en a. (5 points)"
   ]
  },
  {
   "cell_type": "code",
   "execution_count": null,
   "id": "2843cbc8",
   "metadata": {
    "scrolled": true
   },
   "outputs": [],
   "source": []
  },
  {
   "cell_type": "markdown",
   "id": "518c6c20",
   "metadata": {},
   "source": [
    "#### d) Utilisez le code corrigé ci-dessus pour entrainer un modèle MLP avec votre nouvelle représentation des évaluations. Affichez sa performance. (4 points)"
   ]
  },
  {
   "cell_type": "code",
   "execution_count": null,
   "id": "e18c6b02",
   "metadata": {},
   "outputs": [],
   "source": [
    "\n"
   ]
  },
  {
   "cell_type": "code",
   "execution_count": null,
   "id": "187ee1c5",
   "metadata": {},
   "outputs": [],
   "source": []
  },
  {
   "cell_type": "markdown",
   "id": "ce4bf76e",
   "metadata": {},
   "source": [
    "<a name='3.3'></a>\n",
    "### 3.3 Amélioration du modèle en 3.2 (10 points)\n",
    "\n",
    "Il est possible que les résultats obtenus au numéro précédent ne soient pas très élevés. \n",
    "\n",
    "#### a) Trouvez une manière d'utiliser ces attributs avec d'autres éléments afin **d'au moins** obtenir une meilleure performance que n'importe quel score obtenu au numéro 2.x , **sans faire de recherche d'hyper-paramètres**. Essayez d'obtenir la meilleure performance possible. Vous êtes libres d'utiliser n'importe quel algorithme de ce laboratoire. Affichez le code et les performances de votre modèle. (8 points)"
   ]
  },
  {
   "cell_type": "code",
   "execution_count": null,
   "id": "9541ae91",
   "metadata": {},
   "outputs": [],
   "source": []
  },
  {
   "cell_type": "code",
   "execution_count": null,
   "id": "a785791f",
   "metadata": {},
   "outputs": [],
   "source": []
  },
  {
   "cell_type": "markdown",
   "id": "f21566d5",
   "metadata": {},
   "source": [
    "#### b) Quelles sont vos conclusions concernant l'utilisation de ChatGPT et les représentations possibles des documents ? (2 points)"
   ]
  },
  {
   "cell_type": "markdown",
   "id": "29c8a8a9",
   "metadata": {},
   "source": [
    "> *Entrez votre réponse ici*"
   ]
  },
  {
   "cell_type": "markdown",
   "id": "fa2b28b4",
   "metadata": {},
   "source": [
    "## LIVRABLES:\n",
    "Vous devez remettre sur Moodle, avant la date d'échéance, un zip contenant les fichiers suivants :\n",
    "\n",
    "1-\tLe code : Vous devez compléter le squelette inf8460_A23_TP1.ipynb sous le nom   GR0X_equipe_i_inf8460_A23_TP1(X: numéro du groupe de laboratoire; i = votre numéro d’équipe). Indiquez vos noms et matricules au début du notebook. Ce notebook doit contenir les fonctionnalités requises. \n",
    "\n",
    "2-\tUn fichier pdf représentant votre notebook complètement exécuté sous format pdf. \n",
    "Pour créer le fichier cliquez sur File > Download as > PDF via LaTeX (.pdf). Assurez-vous que le PDF est entièrement lisible.\n",
    "\n",
    "\n",
    "## EVALUATION \n",
    "\n",
    "Votre TP sera évalué selon les critères suivants :\n",
    "\n",
    "1. Exécution correcte du code: Tout votre code et vos résultats doivent être exécutables et reproductibles.\n",
    "2. Qualité du code (noms significatifs, structure, gestion d’exception, etc.) avec, entre autres, les recommandations suivantes:\n",
    "    - Il ne devrait pas y avoir de duplication de code. Utilisez des fonctions pour garder votre code modulaire\n",
    "    - Votre code devrait être optimisé: un code trop lent entraînera une perte de points\n",
    "3. Lisibilité du code (Commentaires clairs et informatifs): Le code doit être exécutable sans erreur et accompagné de commentaires appropriés de manière à expliquer les différentes fonctions\n",
    "4. Performance attendue des modèles\n",
    "5. Effort effectué dans la recherche d'autres types d'attributs et dans l'utilisation de ChatGPT\n",
    "6. Réponses correctes/sensées aux questions de réflexion ou d'analyse\n",
    "7. PDF entièrement lisible. Les parties illisibles ne seront pas corrigées et aucune modification passée la date de remise ne sera acceptée.\n",
    " \n"
   ]
  }
 ],
 "metadata": {
  "kernelspec": {
   "display_name": "Python 3",
   "language": "python",
   "name": "python3"
  },
  "language_info": {
   "codemirror_mode": {
    "name": "ipython",
    "version": 3
   },
   "file_extension": ".py",
   "mimetype": "text/x-python",
   "name": "python",
   "nbconvert_exporter": "python",
   "pygments_lexer": "ipython3",
   "version": "3.11.4"
  }
 },
 "nbformat": 4,
 "nbformat_minor": 5
}
