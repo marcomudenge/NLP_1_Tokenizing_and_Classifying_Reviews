{
 "cells": [
  {
   "cell_type": "markdown",
   "id": "417a4c65",
   "metadata": {
    "collapsed": false
   },
   "source": [
    "# INF8460: Traitement automatique de la langue naturelle\n",
    "\n",
    "# TP1: Comparaison d'algorithmes pour classification de texte"
   ]
  },
  {
   "cell_type": "markdown",
   "id": "dc062396",
   "metadata": {
    "collapsed": false
   },
   "source": [
    "## Identification de l'équipe:\n",
    "\n",
    "### Groupe de laboratoire: \n",
    "\n",
    "### Equipe numéro : \n",
    "\n",
    "### Membres: \n",
    "\n",
    "- membre 1 (% de contribution, nature de la contribution)\n",
    "- membre 2 (% de contribution, nature de la contribution)\n",
    "- membre 3 (% de contribution, nature de la contribution)\n",
    "\n",
    "* nature de la contribution: Décrivez brièvement ce qui a été fait par chaque membre de l’équipe. Tous les membres sont censés contribuer au développement. Bien que chaque membre puisse effectuer différentes tâches, vous devez vous efforcer d’obtenir une répartition égale du travail. "
   ]
  },
  {
   "cell_type": "markdown",
   "id": "b3dacaae",
   "metadata": {
    "collapsed": false
   },
   "source": [
    "\n",
    "## Description:\n",
    "\n",
    "Dans ce premier TP, vous explorerez les bases du traitement automatique du langage naturel. Au cours de ce travail, vous appliquerez concrètement les concepts enseignés en classe pour résoudre une tâche de classification simple. De plus, le processus ressemblera à la manière dont vous aborderiez ce type de problème dans le monde réel. Tout au long de ce laboratoire, vous vous familiariserez avec des bibliothèques couramment utilisées en NLP ainsi qu'en science des données.\n",
    "\n",
    "Dans ce laboratoire, vous travaillerez avec un jeu de données comprenant des évaluations de produits provenant d'Amazon. Pour chaque évaluation, le jeu de données contient trois informations : le titre fourni par l'utilisateur, le commentaire détaillé et le nombre d'étoiles attribué par l'utilisateur au produit.\n",
    "\n",
    "L'objectif de cette tâche consistera à prédire le nombre d'étoiles attribué à une évaluation à partir du commentaire et du titre qui lui sont associés.\n",
    "\n",
    "Le travail sera divisé en 3 parties:\n",
    "\n",
    " - Chargement, prétraitement et visualisation des données: Dans cette première partie, vous allez charger et prétraiter les données afin qu'elles soient prêtes à être utilisées par les algorithmes lors de la deuxième partie.\n",
    " - Classification: Cette partie consistera à explorer les différents algorithmes pouvant être appliqués à cette tâche. Vous ferez aussi une analyse des sorties du classificateur bayésien naïf.\n",
    " - Amélioration de modèle: Cette dernière partie consistera à améliorer votre modèle de 2 façons différentes. D'abord, vous ferez une recherche d'hyper-paramètres avec de la validation croisée en utilisant un GridSearch. Ensuite, vous ferez de l'extraction d'attributs avec l'aide de ChatGPT afin de d'entrainer un nouveau modèle et de comparer ainsi une représentation de type \"Bag of words\" et une représentation avec attributs spécifiques. \n",
    "\n",
    "\n",
    "## Plan du TP\n",
    "\n",
    "1.    [Chargement, prétraitement et visualisation des données](#1)\n",
    "- 1.1   [Charger les données](#1.1)\n",
    " - 1.1.1 [Charger le jeu de données](#1.1.1)\n",
    " - 1.1.2 [Fusionner les colonnes title et text en une seule colonne](#1.1.2)\n",
    "- 1.2   [Prétraitement des données](#1.2)\n",
    "- 1.3   [Visualisation des données](#1.3)\n",
    " - 1.3.1 [Afficher dans un graphique le nombre d'exemples présents dans le jeu de données pour chaque catégorie](#1.3.1)\n",
    " - 1.3.2 [Afficher dans un graphique la quantité moyenne de jetons par exemple selon la catégorie](#1.3.2)\n",
    " - 1.3.3 [Afficher en texte les top 10 jetons les plus fréquents par catégorie](#1.3.3)\n",
    " - 1.3.4 [Afficher en texte les top 10 adjectifs les plus fréquents selon la catégorie](#1.3.4)\n",
    "- 1.4   [Diviser les données en ensembles d'entraînement et de test](#1.4)\n",
    "- 1.5   [Construction du vocabulaire](#1.5)\n",
    "- 1.6   [Vectorisation des données](#1.6)\n",
    "2.    [Classification](#2)\n",
    "- 2.1   [Modèle aléatoire (Random baseline)](#2.1)\n",
    "- 2.2   [Analyse et compréhension d'un classificateur bayésien naïf (NB)](#2.2)\n",
    " - 2.2.1 [Construction du modèle](#2.2.1)\n",
    " - 2.2.2 [Matrice de confusion](#2.2.2)\n",
    " - 2.2.3 [Visualisation des probabilités de NB](#2.2.3)\n",
    " - 2.2.4 [Visualisation des erreurs commises](#2.2.4)\n",
    " - 2.2.5 [Analyse d'erreurs commises](#2.2.5)\n",
    "- 2.3   [Régression logistique](#2.3)\n",
    "- 2.4   [MLP](#2.4)\n",
    "3.    [Amélioration de modèle](#3)\n",
    "- 3.1   [Recherche d'hyper-paramètres et validation croisée](#3.1)\n",
    "- 3.2   [Extraction d'attributs (Feature extraction) avec ChatGPT](#3.2)\n",
    "- 3.3   [Amélioration du modèle en 3.2](#3.3)\n",
    "\n",
    "\n",
    "\n"
   ]
  },
  {
   "cell_type": "markdown",
   "id": "1e96c2d5",
   "metadata": {
    "collapsed": false
   },
   "source": [
    "<a name='1'></a>\n",
    "## 1. Chargement, prétraitement et visualisation des données (30 points)\n",
    "\n",
    "Dans cette première partie, vous allez charger et prétraiter les données afin qu'elles soient prêtes à être utilisées par les algorithmes lors de la deuxième partie.\n",
    "\n",
    "<a name='1.1'></a>\n",
    "### 1.1 Charger les données  (2 points)\n",
    "\n",
    "Ce numéro doit être résolu en utilisant la bibliothèque **pandas**.\n",
    "\n",
    "<a name='1.1.1'></a>\n",
    "#### 1.1.1 Charger le jeu de données (1 point)\n",
    "\n",
    "Chargez le jeu de données amazon_rating.csv. Affichez ensuite son contenu.\n"
   ]
  },
  {
   "cell_type": "code",
   "execution_count": 54,
   "id": "3ccc645c",
   "metadata": {
    "collapsed": false
   },
   "outputs": [],
   "source": [
    "import pandas as pd"
   ]
  },
  {
   "cell_type": "code",
   "execution_count": 55,
   "id": "88767fe4",
   "metadata": {
    "collapsed": false,
    "scrolled": true
   },
   "outputs": [
    {
     "data": {
      "text/html": [
       "<div>\n",
       "<style scoped>\n",
       "    .dataframe tbody tr th:only-of-type {\n",
       "        vertical-align: middle;\n",
       "    }\n",
       "\n",
       "    .dataframe tbody tr th {\n",
       "        vertical-align: top;\n",
       "    }\n",
       "\n",
       "    .dataframe thead th {\n",
       "        text-align: right;\n",
       "    }\n",
       "</style>\n",
       "<table border=\"1\" class=\"dataframe\">\n",
       "  <thead>\n",
       "    <tr style=\"text-align: right;\">\n",
       "      <th></th>\n",
       "      <th>title</th>\n",
       "      <th>text</th>\n",
       "      <th>rating</th>\n",
       "    </tr>\n",
       "  </thead>\n",
       "  <tbody>\n",
       "    <tr>\n",
       "      <th>0</th>\n",
       "      <td>Five Stars</td>\n",
       "      <td>good as any name brand</td>\n",
       "      <td>5</td>\n",
       "    </tr>\n",
       "    <tr>\n",
       "      <th>1</th>\n",
       "      <td>Did The Job</td>\n",
       "      <td>Ordered on accident when I had searched for RE...</td>\n",
       "      <td>3</td>\n",
       "    </tr>\n",
       "    <tr>\n",
       "      <th>2</th>\n",
       "      <td>Great product</td>\n",
       "      <td>I was looking for something to read on and thi...</td>\n",
       "      <td>5</td>\n",
       "    </tr>\n",
       "    <tr>\n",
       "      <th>3</th>\n",
       "      <td>Leaking Acid EVERYEWHERE!!</td>\n",
       "      <td>After 2nd recharge and use all but 3 are leaki...</td>\n",
       "      <td>1</td>\n",
       "    </tr>\n",
       "    <tr>\n",
       "      <th>4</th>\n",
       "      <td>One Star</td>\n",
       "      <td>They fail earlier than brand names. I assumed ...</td>\n",
       "      <td>1</td>\n",
       "    </tr>\n",
       "    <tr>\n",
       "      <th>...</th>\n",
       "      <td>...</td>\n",
       "      <td>...</td>\n",
       "      <td>...</td>\n",
       "    </tr>\n",
       "    <tr>\n",
       "      <th>2788</th>\n",
       "      <td>Three Stars</td>\n",
       "      <td>Weird but some didn't last long as they should</td>\n",
       "      <td>3</td>\n",
       "    </tr>\n",
       "    <tr>\n",
       "      <th>2789</th>\n",
       "      <td>Good for kids but SLOW</td>\n",
       "      <td>A good starter tablet, but very very slow. Don...</td>\n",
       "      <td>3</td>\n",
       "    </tr>\n",
       "    <tr>\n",
       "      <th>2790</th>\n",
       "      <td>good tablet to star</td>\n",
       "      <td>is a God tablet but the camera could be a litt...</td>\n",
       "      <td>3</td>\n",
       "    </tr>\n",
       "    <tr>\n",
       "      <th>2791</th>\n",
       "      <td>Just decent tablet</td>\n",
       "      <td>Not many apps. The first one was already retur...</td>\n",
       "      <td>3</td>\n",
       "    </tr>\n",
       "    <tr>\n",
       "      <th>2792</th>\n",
       "      <td>One Star</td>\n",
       "      <td>don't last long. Replace batteries in my clock...</td>\n",
       "      <td>1</td>\n",
       "    </tr>\n",
       "  </tbody>\n",
       "</table>\n",
       "<p>2793 rows × 3 columns</p>\n",
       "</div>"
      ],
      "text/plain": [
       "                           title  \\\n",
       "0                     Five Stars   \n",
       "1                    Did The Job   \n",
       "2                  Great product   \n",
       "3     Leaking Acid EVERYEWHERE!!   \n",
       "4                       One Star   \n",
       "...                          ...   \n",
       "2788                 Three Stars   \n",
       "2789      Good for kids but SLOW   \n",
       "2790         good tablet to star   \n",
       "2791          Just decent tablet   \n",
       "2792                    One Star   \n",
       "\n",
       "                                                   text  rating  \n",
       "0                                good as any name brand       5  \n",
       "1     Ordered on accident when I had searched for RE...       3  \n",
       "2     I was looking for something to read on and thi...       5  \n",
       "3     After 2nd recharge and use all but 3 are leaki...       1  \n",
       "4     They fail earlier than brand names. I assumed ...       1  \n",
       "...                                                 ...     ...  \n",
       "2788     Weird but some didn't last long as they should       3  \n",
       "2789  A good starter tablet, but very very slow. Don...       3  \n",
       "2790  is a God tablet but the camera could be a litt...       3  \n",
       "2791  Not many apps. The first one was already retur...       3  \n",
       "2792  don't last long. Replace batteries in my clock...       1  \n",
       "\n",
       "[2793 rows x 3 columns]"
      ]
     },
     "execution_count": 55,
     "metadata": {},
     "output_type": "execute_result"
    }
   ],
   "source": [
    "data = pd.read_csv(\"amazon_rating.csv\")\n",
    "data"
   ]
  },
  {
   "cell_type": "markdown",
   "id": "aadd4f88",
   "metadata": {
    "collapsed": false
   },
   "source": [
    "<a name='1.1.2'></a>\n",
    "#### 1.1.2 Fusionner les colonnes title et text en une seule colonne (1 point)\n",
    "\n",
    "Afin de faciliter la tâche pour le reste du TP, nous allons fusionner ces deux colonnes afin que nous n'ayons qu'un seul texte à considérer lors de la vectorisation.\n",
    "\n",
    "Afin de s'assurer de l'intégrité des textes, fusionnez-les à l'aide d'un espace. Par exemple, une évaluation ayant le titre \"Five Stars\" et le commentaire \"good as any name brand\" aura comme texte final \"Five Stars good as any name brand\".\n",
    "\n",
    "Stockez le résultat dans la colonne \"text\" et supprimez la colonne \"title\"."
   ]
  },
  {
   "cell_type": "code",
   "execution_count": 56,
   "id": "b5b627c4",
   "metadata": {
    "collapsed": false
   },
   "outputs": [
    {
     "data": {
      "text/html": [
       "<div>\n",
       "<style scoped>\n",
       "    .dataframe tbody tr th:only-of-type {\n",
       "        vertical-align: middle;\n",
       "    }\n",
       "\n",
       "    .dataframe tbody tr th {\n",
       "        vertical-align: top;\n",
       "    }\n",
       "\n",
       "    .dataframe thead th {\n",
       "        text-align: right;\n",
       "    }\n",
       "</style>\n",
       "<table border=\"1\" class=\"dataframe\">\n",
       "  <thead>\n",
       "    <tr style=\"text-align: right;\">\n",
       "      <th></th>\n",
       "      <th>text</th>\n",
       "      <th>rating</th>\n",
       "    </tr>\n",
       "  </thead>\n",
       "  <tbody>\n",
       "    <tr>\n",
       "      <th>0</th>\n",
       "      <td>Five Stars good as any name brand</td>\n",
       "      <td>5</td>\n",
       "    </tr>\n",
       "    <tr>\n",
       "      <th>1</th>\n",
       "      <td>Did The Job Ordered on accident when I had sea...</td>\n",
       "      <td>3</td>\n",
       "    </tr>\n",
       "    <tr>\n",
       "      <th>2</th>\n",
       "      <td>Great product I was looking for something to r...</td>\n",
       "      <td>5</td>\n",
       "    </tr>\n",
       "    <tr>\n",
       "      <th>3</th>\n",
       "      <td>Leaking Acid EVERYEWHERE!! After 2nd recharge ...</td>\n",
       "      <td>1</td>\n",
       "    </tr>\n",
       "    <tr>\n",
       "      <th>4</th>\n",
       "      <td>One Star They fail earlier than brand names. I...</td>\n",
       "      <td>1</td>\n",
       "    </tr>\n",
       "    <tr>\n",
       "      <th>...</th>\n",
       "      <td>...</td>\n",
       "      <td>...</td>\n",
       "    </tr>\n",
       "    <tr>\n",
       "      <th>2788</th>\n",
       "      <td>Three Stars Weird but some didn't last long as...</td>\n",
       "      <td>3</td>\n",
       "    </tr>\n",
       "    <tr>\n",
       "      <th>2789</th>\n",
       "      <td>Good for kids but SLOW A good starter tablet, ...</td>\n",
       "      <td>3</td>\n",
       "    </tr>\n",
       "    <tr>\n",
       "      <th>2790</th>\n",
       "      <td>good tablet to star is a God tablet but the ca...</td>\n",
       "      <td>3</td>\n",
       "    </tr>\n",
       "    <tr>\n",
       "      <th>2791</th>\n",
       "      <td>Just decent tablet Not many apps. The first on...</td>\n",
       "      <td>3</td>\n",
       "    </tr>\n",
       "    <tr>\n",
       "      <th>2792</th>\n",
       "      <td>One Star don't last long. Replace batteries in...</td>\n",
       "      <td>1</td>\n",
       "    </tr>\n",
       "  </tbody>\n",
       "</table>\n",
       "<p>2793 rows × 2 columns</p>\n",
       "</div>"
      ],
      "text/plain": [
       "                                                   text  rating\n",
       "0                     Five Stars good as any name brand       5\n",
       "1     Did The Job Ordered on accident when I had sea...       3\n",
       "2     Great product I was looking for something to r...       5\n",
       "3     Leaking Acid EVERYEWHERE!! After 2nd recharge ...       1\n",
       "4     One Star They fail earlier than brand names. I...       1\n",
       "...                                                 ...     ...\n",
       "2788  Three Stars Weird but some didn't last long as...       3\n",
       "2789  Good for kids but SLOW A good starter tablet, ...       3\n",
       "2790  good tablet to star is a God tablet but the ca...       3\n",
       "2791  Just decent tablet Not many apps. The first on...       3\n",
       "2792  One Star don't last long. Replace batteries in...       1\n",
       "\n",
       "[2793 rows x 2 columns]"
      ]
     },
     "execution_count": 56,
     "metadata": {},
     "output_type": "execute_result"
    }
   ],
   "source": [
    "data[\"text\"] = data[\"title\"] + \" \" + data[\"text\"]\n",
    "data = data.drop(columns=[\"title\"])\n",
    "data"
   ]
  },
  {
   "cell_type": "markdown",
   "id": "6fbcbf38",
   "metadata": {
    "collapsed": false
   },
   "source": [
    "<a name='1.2'></a>\n",
    "### 1.2 Prétraitement des données (4 points)\n",
    "\n",
    "En utilisant la librairie nltk, implémentez la fonction suivante qui :\n",
    "\n",
    "- Enlève les majuscules.\n",
    "- Enlève les caractères de ponctuation.\n",
    "- Segmente la séquence en entrée en une liste de jetons (tokenization).\n",
    "- Enlève les \"stopwords\"\n",
    "- Effectue la racinisation.\n",
    "- Retourne l'ensemble des jetons de la séquence\n",
    "    "
   ]
  },
  {
   "cell_type": "code",
   "execution_count": 57,
   "id": "d51e35a2",
   "metadata": {
    "collapsed": false
   },
   "outputs": [],
   "source": [
    "import nltk\n",
    "from nltk.corpus import stopwords\n",
    "from nltk.tokenize import word_tokenize\n",
    "import string\n",
    "import re\n",
    "\n",
    "stopwords = stopwords.words('english')\n",
    "stemmer = nltk.stem.porter.PorterStemmer()\n",
    "#lemmer = nltk.stem.wordnet.WordNetLemmatizer()\n",
    "\n",
    "\n",
    "def preprocess(sentence):\n",
    "    \"\"\"\n",
    "    Fonction qui transforme une chaine de caractère en liste de jetons.\n",
    "    Les pre-traitements à implémenter sont: \n",
    "    1. Enlever les majuscules\n",
    "    2. Enlever les caractères de ponctuations\n",
    "    3. Séparer la chaine de caractères en une liste de jetons (tokenization) \n",
    "    4. Enlever les stopwords\n",
    "    5. Stemming (racinisation)\n",
    "    \n",
    "    :param sentence: une chaine de caractère\n",
    "    :return: la liste de jetons\n",
    "    \"\"\" \n",
    "\n",
    "    # 1. make words lowercase, because Go and go will be considered as two words\n",
    "    sentence = sentence.lower()\n",
    "\n",
    "    # 2. remove non alphabetic characters\n",
    "    sentence = re.sub('[^A-Za-z]', ' ', sentence)\n",
    "\n",
    "    # 3. tokenising\n",
    "    tokenized_sentence = word_tokenize(sentence)\n",
    "\n",
    "    sentence_processed = []\n",
    "    for word in tokenized_sentence:\n",
    "        # 4. stopwords removal\n",
    "        if word not in set(stopwords):\n",
    "            # 5. stemming\n",
    "            sentence_processed.append(stemmer.stem(word))\n",
    "\n",
    "    \n",
    "    return sentence_processed"
   ]
  },
  {
   "cell_type": "code",
   "execution_count": 58,
   "id": "ea36a64b",
   "metadata": {
    "collapsed": false
   },
   "outputs": [],
   "source": [
    "\"\"\"\n",
    "NE PAS MODIFIER\n",
    "\n",
    "Le code suivant appliquera votre fonction sur tous les exemples. Il gardera aussi une version originale pour une analyse future.\n",
    "\"\"\"\n",
    "\n",
    "data[\"text_original\"] = data[\"text\"]\n",
    "data[\"text\"] = data[\"text\"].apply(preprocess)\n"
   ]
  },
  {
   "cell_type": "markdown",
   "id": "a1c0e19b",
   "metadata": {
    "collapsed": false
   },
   "source": [
    "<a name='1.3'></a>\n",
    "### 1.3 Visualisation des données (15 points)\n",
    "\n",
    "**Utilisez la bibliothèque matplotlib pour les graphiques.** Vous pouvez utiliser n'importe quelle classe de base de Python, par exemple collections.Counter, qui sera utile pour l'affichage des jetons."
   ]
  },
  {
   "cell_type": "markdown",
   "id": "731d61c8",
   "metadata": {
    "collapsed": false
   },
   "source": [
    "La colonne \"rating\" contient le nombre d'étoiles associé à l'évaluation d'un utilisateur. Le nombre d'étoiles varie entre 1 et 5.\n",
    "\n",
    "Afin de simplifier la tâche de classification, nous avons enlevé les commentaires ayant 2 et 4 étoiles du jeu de données. Cela signifie qu'il y a trois catégories de commentaires, c'est-à-dire ceux ayant 1, 3 ou 5 étoiles.\n",
    "\n",
    "Affichez dans un graphique :\n",
    "\n",
    "- Le nombre d'exemples présents dans le jeu de données par catégorie.\n",
    "- La quantité moyenne de jetons par exemple selon la catégorie.\n"
   ]
  },
  {
   "cell_type": "markdown",
   "id": "6e870b33",
   "metadata": {
    "collapsed": false
   },
   "source": [
    "<a name='1.3.1'></a>\n",
    "#### 1.3.1  Afficher dans un graphique le nombre d'exemples présents dans le jeu de données pour chaque catégorie  (3 points)"
   ]
  },
  {
   "cell_type": "code",
   "execution_count": 59,
   "id": "239b4dfa",
   "metadata": {
    "collapsed": false,
    "scrolled": true
   },
   "outputs": [],
   "source": [
    "import matplotlib.pyplot as plt"
   ]
  },
  {
   "cell_type": "code",
   "execution_count": 60,
   "id": "70b92fc7-11c2-4a76-b1c7-9ceb79c31cf7",
   "metadata": {
    "collapsed": false
   },
   "outputs": [
    {
     "data": {
      "text/plain": [
       "<Axes: xlabel='rating'>"
      ]
     },
     "execution_count": 60,
     "metadata": {},
     "output_type": "execute_result"
    },
    {
     "data": {
      "image/png": "[encoded data removed]",
      "text/plain": [
       "<Figure size 640x480 with 1 Axes>"
      ]
     },
     "metadata": {},
     "output_type": "display_data"
    }
   ],
   "source": [
    "# group by rating and count the number of examples\n",
    "data.groupby(\"rating\").count().plot(kind=\"bar\", y=\"text\", legend=False)\n"
   ]
  },
  {
   "cell_type": "markdown",
   "id": "c244aa72",
   "metadata": {
    "collapsed": false
   },
   "source": [
    "<a name='1.3.2'></a>\n",
    "#### 1.3.2 Afficher dans un graphique le nombre moyen de jetons dans les exemples de chaque catégorie (4 points)"
   ]
  },
  {
   "cell_type": "code",
   "execution_count": 61,
   "id": "8403821b-c20c-418f-8137-e729f2e80720",
   "metadata": {
    "collapsed": false
   },
   "outputs": [
    {
     "data": {
      "text/plain": [
       "<Axes: xlabel='rating'>"
      ]
     },
     "execution_count": 61,
     "metadata": {},
     "output_type": "execute_result"
    },
    {
     "data": {
      "image/png": "[encoded data removed]",
      "text/plain": [
       "<Figure size 640x480 with 1 Axes>"
      ]
     },
     "metadata": {},
     "output_type": "display_data"
    }
   ],
   "source": [
    "# group by rating and get mean of \"number_of_tokens\"\n",
    "data[\"number_of_tokens\"] = data[\"text\"].apply(len)\n",
    "data.groupby(\"rating\").mean(\"number_of_tokens\").plot(kind=\"bar\", y=\"number_of_tokens\", legend=True, rot=0)"
   ]
  },
  {
   "cell_type": "markdown",
   "id": "e6650c0f",
   "metadata": {
    "collapsed": false
   },
   "source": [
    "<a name='1.3.3'></a>\n",
    "#### 1.3.3 Afficher en texte les top 10 des jetons les plus fréquents par catégorie (4 points)"
   ]
  },
  {
   "cell_type": "markdown",
   "id": "86ff8a3f",
   "metadata": {
    "collapsed": false
   },
   "source": [
    "\n",
    "Affichez en texte les 10 jetons les plus fréquents selon la catégorie.\n"
   ]
  },
  {
   "cell_type": "code",
   "execution_count": 62,
   "id": "0befd5a8",
   "metadata": {
    "collapsed": false
   },
   "outputs": [
    {
     "data": {
      "text/html": [
       "<div>\n",
       "<style scoped>\n",
       "    .dataframe tbody tr th:only-of-type {\n",
       "        vertical-align: middle;\n",
       "    }\n",
       "\n",
       "    .dataframe tbody tr th {\n",
       "        vertical-align: top;\n",
       "    }\n",
       "\n",
       "    .dataframe thead th {\n",
       "        text-align: right;\n",
       "    }\n",
       "</style>\n",
       "<table border=\"1\" class=\"dataframe\">\n",
       "  <thead>\n",
       "    <tr style=\"text-align: right;\">\n",
       "      <th></th>\n",
       "      <th>rating</th>\n",
       "      <th>text</th>\n",
       "      <th>top</th>\n",
       "    </tr>\n",
       "  </thead>\n",
       "  <tbody>\n",
       "    <tr>\n",
       "      <th>0</th>\n",
       "      <td>1</td>\n",
       "      <td>[leak, acid, everyewher, nd, recharg, use, lea...</td>\n",
       "      <td>[(batteri, 1224), (last, 406), (one, 347), (us...</td>\n",
       "    </tr>\n",
       "    <tr>\n",
       "      <th>1</th>\n",
       "      <td>3</td>\n",
       "      <td>[job, order, accid, search, recharg, batteri, ...</td>\n",
       "      <td>[(batteri, 459), (tablet, 380), (good, 363), (...</td>\n",
       "    </tr>\n",
       "    <tr>\n",
       "      <th>2</th>\n",
       "      <td>5</td>\n",
       "      <td>[five, star, good, name, brand, great, product...</td>\n",
       "      <td>[(great, 618), (tablet, 393), (batteri, 382), ...</td>\n",
       "    </tr>\n",
       "  </tbody>\n",
       "</table>\n",
       "</div>"
      ],
      "text/plain": [
       "   rating                                               text  \\\n",
       "0       1  [leak, acid, everyewher, nd, recharg, use, lea...   \n",
       "1       3  [job, order, accid, search, recharg, batteri, ...   \n",
       "2       5  [five, star, good, name, brand, great, product...   \n",
       "\n",
       "                                                 top  \n",
       "0  [(batteri, 1224), (last, 406), (one, 347), (us...  \n",
       "1  [(batteri, 459), (tablet, 380), (good, 363), (...  \n",
       "2  [(great, 618), (tablet, 393), (batteri, 382), ...  "
      ]
     },
     "execution_count": 62,
     "metadata": {},
     "output_type": "execute_result"
    }
   ],
   "source": [
    "from collections import Counter\n",
    "\n",
    "# groupby category and get the top 10 most frequent tokens\n",
    "\n",
    "# groupby category and merge lists\n",
    "top_words_df = data[[\"text\", \"rating\"]].groupby(\"rating\").sum().reset_index()\n",
    "\n",
    "# get the top 10 most frequent tokens as a word chart\n",
    "top_words_df[\"top\"] = top_words_df [\"text\"].apply(lambda x: Counter(x).most_common(10))\n",
    "\n",
    "top_words_df"
   ]
  },
  {
   "cell_type": "code",
   "execution_count": 63,
   "id": "5808ea99-3bb2-4079-9027-8298ad42bdf1",
   "metadata": {
    "collapsed": false
   },
   "outputs": [
    {
     "data": {
      "image/png": "[encoded data removed]",
      "text/plain": [
       "<Figure size 1200x600 with 1 Axes>"
      ]
     },
     "metadata": {},
     "output_type": "display_data"
    },
    {
     "data": {
      "image/png": "[encoded data removed]",
      "text/plain": [
       "<Figure size 1200x600 with 1 Axes>"
      ]
     },
     "metadata": {},
     "output_type": "display_data"
    },
    {
     "data": {
      "image/png": "[encoded data removed]",
      "text/plain": [
       "<Figure size 1200x600 with 1 Axes>"
      ]
     },
     "metadata": {},
     "output_type": "display_data"
    }
   ],
   "source": [
    "\n",
    "for index, row in top_words_df.iterrows():\n",
    "    words, frequencies = zip(*row['top'])  # Unpack tuple into separate lists\n",
    "    plt.figure(figsize=(12, 6))\n",
    "    plt.barh(words, frequencies)\n",
    "    plt.xlabel('Frequency')\n",
    "    plt.ylabel('Words')\n",
    "    plt.title(f\"Top 10 Most Frequent Words for Rating {row['rating']}\")\n",
    "    plt.show()\n"
   ]
  },
  {
   "cell_type": "markdown",
   "id": "bafb388a",
   "metadata": {
    "collapsed": false
   },
   "source": [
    "<a name='1.3.4'></a>\n",
    "#### 1.3.4 Afficher en texte les top 10 des adjectifs les plus fréquents selon la catégorie (4 points)\n",
    "\n",
    "Pour cet exercice, vous devrez utiliser la fonction [nltk.pos_tag](https://www.nltk.org/book/ch05.html) et retenir les jetons identifiés comme JJ.\n",
    " \n",
    "Pour obtenir de bons résultats, le tagger [nltk.pos_tag](https://www.nltk.org/book/ch05.html) doit être exécuté sur le texte original, incluant les stopwords. \n",
    "Vous devrez donc partir des évaluations originales. Pour vous simplifier la tâche, utilisez \n",
    "le tokenizer *word_tokenize* provenant de nltk.\n",
    "\n",
    "**Les adjectifs sont les jetons identifiés comme JJ.**"
   ]
  },
  {
   "cell_type": "code",
   "execution_count": 64,
   "id": "bc15ac5f",
   "metadata": {
    "collapsed": false
   },
   "outputs": [
    {
     "data": {
      "text/plain": [
       "0                                        [good]\n",
       "1                                 [happy, free]\n",
       "2       [right, screen, good, great, nice, Big]\n",
       "3                                   [corrosive]\n",
       "4                                            []\n",
       "                         ...                   \n",
       "2788                                     [last]\n",
       "2789             [Good, good, slow, true, fine]\n",
       "2790                             [good, little]\n",
       "2791        [decent, many, first, second, fine]\n",
       "2792                               [last, long]\n",
       "Name: adjectives, Length: 2793, dtype: object"
      ]
     },
     "execution_count": 64,
     "metadata": {},
     "output_type": "execute_result"
    }
   ],
   "source": [
    "from nltk.tokenize import word_tokenize\n",
    "from nltk import pos_tag\n",
    "\n",
    "# nltk.download('averaged_perceptron_tagger')\n",
    "\n",
    "data[\"tag\"] = data[\"text_original\"].apply(lambda x: pos_tag(word_tokenize(x)))\n",
    "data[\"adjectives\"] = data[\"tag\"].apply(lambda x: [word for word, tag in x if tag == \"JJ\"])\n",
    "data[\"adjectives\"]"
   ]
  },
  {
   "cell_type": "code",
   "execution_count": 65,
   "id": "75f47ce5-a41e-48e2-9f7b-640a5410302d",
   "metadata": {
    "collapsed": false
   },
   "outputs": [
    {
     "data": {
      "text/html": [
       "<div>\n",
       "<style scoped>\n",
       "    .dataframe tbody tr th:only-of-type {\n",
       "        vertical-align: middle;\n",
       "    }\n",
       "\n",
       "    .dataframe tbody tr th {\n",
       "        vertical-align: top;\n",
       "    }\n",
       "\n",
       "    .dataframe thead th {\n",
       "        text-align: right;\n",
       "    }\n",
       "</style>\n",
       "<table border=\"1\" class=\"dataframe\">\n",
       "  <thead>\n",
       "    <tr style=\"text-align: right;\">\n",
       "      <th></th>\n",
       "      <th>rating</th>\n",
       "      <th>adjectives</th>\n",
       "      <th>top</th>\n",
       "    </tr>\n",
       "  </thead>\n",
       "  <tbody>\n",
       "    <tr>\n",
       "      <th>0</th>\n",
       "      <td>1</td>\n",
       "      <td>[corrosive, regular, bad, last, 2-3, short, go...</td>\n",
       "      <td>[(last, 259), (good, 102), (dead, 95), (other,...</td>\n",
       "    </tr>\n",
       "    <tr>\n",
       "      <th>1</th>\n",
       "      <td>3</td>\n",
       "      <td>[happy, free, okay, original, easy, original, ...</td>\n",
       "      <td>[(good, 238), (last, 201), (great, 132), (Good...</td>\n",
       "    </tr>\n",
       "    <tr>\n",
       "      <th>2</th>\n",
       "      <td>5</td>\n",
       "      <td>[good, right, screen, good, great, nice, Big, ...</td>\n",
       "      <td>[(great, 260), (good, 175), (old, 90), (easy, ...</td>\n",
       "    </tr>\n",
       "  </tbody>\n",
       "</table>\n",
       "</div>"
      ],
      "text/plain": [
       "   rating                                         adjectives  \\\n",
       "0       1  [corrosive, regular, bad, last, 2-3, short, go...   \n",
       "1       3  [happy, free, okay, original, easy, original, ...   \n",
       "2       5  [good, right, screen, good, great, nice, Big, ...   \n",
       "\n",
       "                                                 top  \n",
       "0  [(last, 259), (good, 102), (dead, 95), (other,...  \n",
       "1  [(good, 238), (last, 201), (great, 132), (Good...  \n",
       "2  [(great, 260), (good, 175), (old, 90), (easy, ...  "
      ]
     },
     "execution_count": 65,
     "metadata": {},
     "output_type": "execute_result"
    }
   ],
   "source": [
    "top_adjectives_df = data[[\"adjectives\", \"rating\"]].groupby(\"rating\").sum().reset_index()\n",
    "top_adjectives_df[\"top\"] = top_adjectives_df [\"adjectives\"].apply(lambda x: Counter(x).most_common(10))\n",
    "top_adjectives_df"
   ]
  },
  {
   "cell_type": "code",
   "execution_count": 66,
   "id": "a5966894-7fa7-4a69-93d3-cead27f9d0ad",
   "metadata": {
    "collapsed": false
   },
   "outputs": [
    {
     "data": {
      "image/png": "[encoded data removed]",
      "text/plain": [
       "<Figure size 1200x600 with 1 Axes>"
      ]
     },
     "metadata": {},
     "output_type": "display_data"
    },
    {
     "data": {
      "image/png": "[encoded data removed]",
      "text/plain": [
       "<Figure size 1200x600 with 1 Axes>"
      ]
     },
     "metadata": {},
     "output_type": "display_data"
    },
    {
     "data": {
      "image/png": "[encoded data removed]",
      "text/plain": [
       "<Figure size 1200x600 with 1 Axes>"
      ]
     },
     "metadata": {},
     "output_type": "display_data"
    }
   ],
   "source": [
    "for index, row in top_adjectives_df.iterrows():\n",
    "    adjectives, frequencies = zip(*row['top'])  # Unpack tuple into separate lists\n",
    "    plt.figure(figsize=(12, 6))\n",
    "    plt.barh(adjectives, frequencies)\n",
    "    plt.xlabel('Frequency')\n",
    "    plt.ylabel('Adjectives')\n",
    "    plt.title(f\"Top 10 Most Frequent Adjectives for Rating {row['rating']}\")\n",
    "    plt.show()\n",
    "    "
   ]
  },
  {
   "cell_type": "markdown",
   "id": "86de4b1e",
   "metadata": {
    "collapsed": false
   },
   "source": [
    "<a name='1.4'></a>\n",
    "### 1.4 Diviser les données en ensembles d'entraînement et de test (1 point)\n",
    "\n",
    "À l'aide de la fonction [train_test_split](https://scikit-learn.org/stable/modules/generated/sklearn.model_selection.train_test_split.html) de SKlearn, séparez les données en ensembles d'entraînement (67% des données) et de test (33% des données). Gardez les deux ensembles dans 2 variables."
   ]
  },
  {
   "cell_type": "code",
   "execution_count": 67,
   "id": "0e5a58bc",
   "metadata": {
    "collapsed": false
   },
   "outputs": [],
   "source": [
    "from sklearn.model_selection import train_test_split\n",
    "\n",
    "X, y = data[\"text\"], data[\"rating\"]\n",
    "X_train, X_test, y_train, y_test = train_test_split(X, y, test_size=0.33, random_state=0)"
   ]
  },
  {
   "cell_type": "markdown",
   "id": "5146eabe",
   "metadata": {
    "collapsed": false
   },
   "source": [
    "<a name='1.5'></a>\n",
    "### 1.5 Construction du vocabulaire (4 points)\n",
    "\n",
    "Dans un modèle Bag-of-Words (BoW), un vocabulaire est prédéterminé à partir de l'ensemble d'entraînement. Seuls les mots faisant partie de ce vocabulaire seront considérés pour la suite.\n",
    "\n",
    "Complétez la fonction **build_voc** qui retourne une liste de jetons qui sont présents au moins n fois (threshold passé en paramètre) dans la liste d'exemples (également passée en paramètre). Vous pouvez utiliser la classe Counter.\n",
    "\n",
    "Ensuite, appelez cette fonction pour construire votre vocabulaire."
   ]
  },
  {
   "cell_type": "code",
   "execution_count": 68,
   "id": "d0e901d6",
   "metadata": {
    "collapsed": false
   },
   "outputs": [
    {
     "data": {
      "text/plain": [
       "322"
      ]
     },
     "execution_count": 68,
     "metadata": {},
     "output_type": "execute_result"
    }
   ],
   "source": [
    "\n",
    "def build_voc(documents, threshold):\n",
    "    \n",
    "    token_counts = Counter(documents) \n",
    "    vocabulary = [token for token, count in token_counts.items() if count >= threshold]\n",
    "\n",
    "    return vocabulary\n",
    "\n",
    "# concat all the tokens in the training set\n",
    "all_tokens = []\n",
    "for token_lists in X_train:\n",
    "    all_tokens += token_lists\n",
    "\n",
    "# build the vocabulary\n",
    "vocabulary = build_voc(all_tokens, 20)\n",
    "len(vocabulary)"
   ]
  },
  {
   "cell_type": "markdown",
   "id": "e006f572",
   "metadata": {
    "collapsed": false
   },
   "source": [
    "<a name='1.6'></a>\n",
    "### 1.6 Vectorisation des données (4 points)\n",
    "\n",
    "À l'aide de la classe [TfidfVectorizer](https://scikit-learn.org/stable/modules/generated/sklearn.feature_extraction.text.TfidfVectorizer.html) de Sklearn, transformez l'ensemble de jetons en matrice de co-occurence utilisant TF-IDF.\n",
    "\n",
    "Utilisez le vocabulaire construit au numéro précédent dans votre matrice de co-occurrence (voir le paramètre vocabulary de TfidfVectorizer). \n",
    "\n",
    "**Faites attention:** Il ne faut pas entrainer (fit) la vectorisation sur l'ensemble de test"
   ]
  },
  {
   "cell_type": "code",
   "execution_count": 69,
   "id": "7b22f5e6-7063-43b4-85de-ad21a846f4af",
   "metadata": {
    "collapsed": false
   },
   "outputs": [
    {
     "data": {
      "text/plain": [
       "1804              [three, star, ran, energi, quick, deal]\n",
       "684                       [three, star, okay, last, long]\n",
       "300     [work, everyth, work, everyth, babi, toy, good...\n",
       "861                              [five, star, work, well]\n",
       "128     [great, tablet, simpl, user, love, thin, previ...\n",
       "                              ...                        \n",
       "763     [decent, price, averag, grade, batteri, deliv,...\n",
       "835     [crap, ton, batteri, decent, price, mean, crap...\n",
       "1653    [need, robot, armi, never, run, power, muahaha...\n",
       "2607    [awesom, great, deal, packag, ship, time, manner]\n",
       "2732    [great, gift, pre, teen, bought, differ, year,...\n",
       "Name: text, Length: 1871, dtype: object"
      ]
     },
     "execution_count": 69,
     "metadata": {},
     "output_type": "execute_result"
    }
   ],
   "source": [
    "X_train"
   ]
  },
  {
   "cell_type": "code",
   "execution_count": 70,
   "id": "54bdc303",
   "metadata": {
    "collapsed": false
   },
   "outputs": [
    {
     "data": {
      "text/html": [
       "<div>\n",
       "<style scoped>\n",
       "    .dataframe tbody tr th:only-of-type {\n",
       "        vertical-align: middle;\n",
       "    }\n",
       "\n",
       "    .dataframe tbody tr th {\n",
       "        vertical-align: top;\n",
       "    }\n",
       "\n",
       "    .dataframe thead th {\n",
       "        text-align: right;\n",
       "    }\n",
       "</style>\n",
       "<table border=\"1\" class=\"dataframe\">\n",
       "  <thead>\n",
       "    <tr style=\"text-align: right;\">\n",
       "      <th></th>\n",
       "      <th>three</th>\n",
       "      <th>star</th>\n",
       "      <th>deal</th>\n",
       "      <th>okay</th>\n",
       "      <th>last</th>\n",
       "      <th>long</th>\n",
       "      <th>work</th>\n",
       "      <th>everyth</th>\n",
       "      <th>toy</th>\n",
       "      <th>good</th>\n",
       "      <th>...</th>\n",
       "      <th>other</th>\n",
       "      <th>night</th>\n",
       "      <th>fit</th>\n",
       "      <th>instal</th>\n",
       "      <th>reader</th>\n",
       "      <th>ad</th>\n",
       "      <th>dollar</th>\n",
       "      <th>four</th>\n",
       "      <th>pictur</th>\n",
       "      <th>faster</th>\n",
       "    </tr>\n",
       "  </thead>\n",
       "  <tbody>\n",
       "    <tr>\n",
       "      <th>0</th>\n",
       "      <td>0.551147</td>\n",
       "      <td>0.416179</td>\n",
       "      <td>0.723209</td>\n",
       "      <td>0.000000</td>\n",
       "      <td>0.000000</td>\n",
       "      <td>0.000000</td>\n",
       "      <td>0.000000</td>\n",
       "      <td>0.000000</td>\n",
       "      <td>0.000000</td>\n",
       "      <td>0.00000</td>\n",
       "      <td>...</td>\n",
       "      <td>0.0</td>\n",
       "      <td>0.0</td>\n",
       "      <td>0.0</td>\n",
       "      <td>0.0</td>\n",
       "      <td>0.0</td>\n",
       "      <td>0.0</td>\n",
       "      <td>0.0</td>\n",
       "      <td>0.0</td>\n",
       "      <td>0.0</td>\n",
       "      <td>0.0</td>\n",
       "    </tr>\n",
       "    <tr>\n",
       "      <th>1</th>\n",
       "      <td>0.434574</td>\n",
       "      <td>0.328154</td>\n",
       "      <td>0.000000</td>\n",
       "      <td>0.664119</td>\n",
       "      <td>0.335135</td>\n",
       "      <td>0.387416</td>\n",
       "      <td>0.000000</td>\n",
       "      <td>0.000000</td>\n",
       "      <td>0.000000</td>\n",
       "      <td>0.00000</td>\n",
       "      <td>...</td>\n",
       "      <td>0.0</td>\n",
       "      <td>0.0</td>\n",
       "      <td>0.0</td>\n",
       "      <td>0.0</td>\n",
       "      <td>0.0</td>\n",
       "      <td>0.0</td>\n",
       "      <td>0.0</td>\n",
       "      <td>0.0</td>\n",
       "      <td>0.0</td>\n",
       "      <td>0.0</td>\n",
       "    </tr>\n",
       "    <tr>\n",
       "      <th>2</th>\n",
       "      <td>0.000000</td>\n",
       "      <td>0.000000</td>\n",
       "      <td>0.000000</td>\n",
       "      <td>0.000000</td>\n",
       "      <td>0.000000</td>\n",
       "      <td>0.000000</td>\n",
       "      <td>0.386534</td>\n",
       "      <td>0.701351</td>\n",
       "      <td>0.323543</td>\n",
       "      <td>0.18021</td>\n",
       "      <td>...</td>\n",
       "      <td>0.0</td>\n",
       "      <td>0.0</td>\n",
       "      <td>0.0</td>\n",
       "      <td>0.0</td>\n",
       "      <td>0.0</td>\n",
       "      <td>0.0</td>\n",
       "      <td>0.0</td>\n",
       "      <td>0.0</td>\n",
       "      <td>0.0</td>\n",
       "      <td>0.0</td>\n",
       "    </tr>\n",
       "    <tr>\n",
       "      <th>3</th>\n",
       "      <td>0.000000</td>\n",
       "      <td>0.401238</td>\n",
       "      <td>0.000000</td>\n",
       "      <td>0.000000</td>\n",
       "      <td>0.000000</td>\n",
       "      <td>0.000000</td>\n",
       "      <td>0.429421</td>\n",
       "      <td>0.000000</td>\n",
       "      <td>0.000000</td>\n",
       "      <td>0.00000</td>\n",
       "      <td>...</td>\n",
       "      <td>0.0</td>\n",
       "      <td>0.0</td>\n",
       "      <td>0.0</td>\n",
       "      <td>0.0</td>\n",
       "      <td>0.0</td>\n",
       "      <td>0.0</td>\n",
       "      <td>0.0</td>\n",
       "      <td>0.0</td>\n",
       "      <td>0.0</td>\n",
       "      <td>0.0</td>\n",
       "    </tr>\n",
       "    <tr>\n",
       "      <th>4</th>\n",
       "      <td>0.000000</td>\n",
       "      <td>0.000000</td>\n",
       "      <td>0.000000</td>\n",
       "      <td>0.000000</td>\n",
       "      <td>0.000000</td>\n",
       "      <td>0.000000</td>\n",
       "      <td>0.099249</td>\n",
       "      <td>0.180084</td>\n",
       "      <td>0.000000</td>\n",
       "      <td>0.00000</td>\n",
       "      <td>...</td>\n",
       "      <td>0.0</td>\n",
       "      <td>0.0</td>\n",
       "      <td>0.0</td>\n",
       "      <td>0.0</td>\n",
       "      <td>0.0</td>\n",
       "      <td>0.0</td>\n",
       "      <td>0.0</td>\n",
       "      <td>0.0</td>\n",
       "      <td>0.0</td>\n",
       "      <td>0.0</td>\n",
       "    </tr>\n",
       "    <tr>\n",
       "      <th>...</th>\n",
       "      <td>...</td>\n",
       "      <td>...</td>\n",
       "      <td>...</td>\n",
       "      <td>...</td>\n",
       "      <td>...</td>\n",
       "      <td>...</td>\n",
       "      <td>...</td>\n",
       "      <td>...</td>\n",
       "      <td>...</td>\n",
       "      <td>...</td>\n",
       "      <td>...</td>\n",
       "      <td>...</td>\n",
       "      <td>...</td>\n",
       "      <td>...</td>\n",
       "      <td>...</td>\n",
       "      <td>...</td>\n",
       "      <td>...</td>\n",
       "      <td>...</td>\n",
       "      <td>...</td>\n",
       "      <td>...</td>\n",
       "      <td>...</td>\n",
       "    </tr>\n",
       "    <tr>\n",
       "      <th>1866</th>\n",
       "      <td>0.000000</td>\n",
       "      <td>0.000000</td>\n",
       "      <td>0.000000</td>\n",
       "      <td>0.000000</td>\n",
       "      <td>0.170950</td>\n",
       "      <td>0.197618</td>\n",
       "      <td>0.000000</td>\n",
       "      <td>0.000000</td>\n",
       "      <td>0.299905</td>\n",
       "      <td>0.00000</td>\n",
       "      <td>...</td>\n",
       "      <td>0.0</td>\n",
       "      <td>0.0</td>\n",
       "      <td>0.0</td>\n",
       "      <td>0.0</td>\n",
       "      <td>0.0</td>\n",
       "      <td>0.0</td>\n",
       "      <td>0.0</td>\n",
       "      <td>0.0</td>\n",
       "      <td>0.0</td>\n",
       "      <td>0.0</td>\n",
       "    </tr>\n",
       "    <tr>\n",
       "      <th>1867</th>\n",
       "      <td>0.000000</td>\n",
       "      <td>0.000000</td>\n",
       "      <td>0.000000</td>\n",
       "      <td>0.000000</td>\n",
       "      <td>0.000000</td>\n",
       "      <td>0.000000</td>\n",
       "      <td>0.000000</td>\n",
       "      <td>0.000000</td>\n",
       "      <td>0.000000</td>\n",
       "      <td>0.00000</td>\n",
       "      <td>...</td>\n",
       "      <td>0.0</td>\n",
       "      <td>0.0</td>\n",
       "      <td>0.0</td>\n",
       "      <td>0.0</td>\n",
       "      <td>0.0</td>\n",
       "      <td>0.0</td>\n",
       "      <td>0.0</td>\n",
       "      <td>0.0</td>\n",
       "      <td>0.0</td>\n",
       "      <td>0.0</td>\n",
       "    </tr>\n",
       "    <tr>\n",
       "      <th>1868</th>\n",
       "      <td>0.000000</td>\n",
       "      <td>0.000000</td>\n",
       "      <td>0.000000</td>\n",
       "      <td>0.000000</td>\n",
       "      <td>0.000000</td>\n",
       "      <td>0.000000</td>\n",
       "      <td>0.000000</td>\n",
       "      <td>0.000000</td>\n",
       "      <td>0.000000</td>\n",
       "      <td>0.00000</td>\n",
       "      <td>...</td>\n",
       "      <td>0.0</td>\n",
       "      <td>0.0</td>\n",
       "      <td>0.0</td>\n",
       "      <td>0.0</td>\n",
       "      <td>0.0</td>\n",
       "      <td>0.0</td>\n",
       "      <td>0.0</td>\n",
       "      <td>0.0</td>\n",
       "      <td>0.0</td>\n",
       "      <td>0.0</td>\n",
       "    </tr>\n",
       "    <tr>\n",
       "      <th>1869</th>\n",
       "      <td>0.000000</td>\n",
       "      <td>0.000000</td>\n",
       "      <td>0.496065</td>\n",
       "      <td>0.000000</td>\n",
       "      <td>0.000000</td>\n",
       "      <td>0.000000</td>\n",
       "      <td>0.000000</td>\n",
       "      <td>0.000000</td>\n",
       "      <td>0.000000</td>\n",
       "      <td>0.00000</td>\n",
       "      <td>...</td>\n",
       "      <td>0.0</td>\n",
       "      <td>0.0</td>\n",
       "      <td>0.0</td>\n",
       "      <td>0.0</td>\n",
       "      <td>0.0</td>\n",
       "      <td>0.0</td>\n",
       "      <td>0.0</td>\n",
       "      <td>0.0</td>\n",
       "      <td>0.0</td>\n",
       "      <td>0.0</td>\n",
       "    </tr>\n",
       "    <tr>\n",
       "      <th>1870</th>\n",
       "      <td>0.000000</td>\n",
       "      <td>0.000000</td>\n",
       "      <td>0.000000</td>\n",
       "      <td>0.000000</td>\n",
       "      <td>0.000000</td>\n",
       "      <td>0.000000</td>\n",
       "      <td>0.000000</td>\n",
       "      <td>0.000000</td>\n",
       "      <td>0.000000</td>\n",
       "      <td>0.00000</td>\n",
       "      <td>...</td>\n",
       "      <td>0.0</td>\n",
       "      <td>0.0</td>\n",
       "      <td>0.0</td>\n",
       "      <td>0.0</td>\n",
       "      <td>0.0</td>\n",
       "      <td>0.0</td>\n",
       "      <td>0.0</td>\n",
       "      <td>0.0</td>\n",
       "      <td>0.0</td>\n",
       "      <td>0.0</td>\n",
       "    </tr>\n",
       "  </tbody>\n",
       "</table>\n",
       "<p>1871 rows × 322 columns</p>\n",
       "</div>"
      ],
      "text/plain": [
       "         three      star      deal      okay      last      long      work  \\\n",
       "0     0.551147  0.416179  0.723209  0.000000  0.000000  0.000000  0.000000   \n",
       "1     0.434574  0.328154  0.000000  0.664119  0.335135  0.387416  0.000000   \n",
       "2     0.000000  0.000000  0.000000  0.000000  0.000000  0.000000  0.386534   \n",
       "3     0.000000  0.401238  0.000000  0.000000  0.000000  0.000000  0.429421   \n",
       "4     0.000000  0.000000  0.000000  0.000000  0.000000  0.000000  0.099249   \n",
       "...        ...       ...       ...       ...       ...       ...       ...   \n",
       "1866  0.000000  0.000000  0.000000  0.000000  0.170950  0.197618  0.000000   \n",
       "1867  0.000000  0.000000  0.000000  0.000000  0.000000  0.000000  0.000000   \n",
       "1868  0.000000  0.000000  0.000000  0.000000  0.000000  0.000000  0.000000   \n",
       "1869  0.000000  0.000000  0.496065  0.000000  0.000000  0.000000  0.000000   \n",
       "1870  0.000000  0.000000  0.000000  0.000000  0.000000  0.000000  0.000000   \n",
       "\n",
       "       everyth       toy     good  ...  other  night  fit  instal  reader  \\\n",
       "0     0.000000  0.000000  0.00000  ...    0.0    0.0  0.0     0.0     0.0   \n",
       "1     0.000000  0.000000  0.00000  ...    0.0    0.0  0.0     0.0     0.0   \n",
       "2     0.701351  0.323543  0.18021  ...    0.0    0.0  0.0     0.0     0.0   \n",
       "3     0.000000  0.000000  0.00000  ...    0.0    0.0  0.0     0.0     0.0   \n",
       "4     0.180084  0.000000  0.00000  ...    0.0    0.0  0.0     0.0     0.0   \n",
       "...        ...       ...      ...  ...    ...    ...  ...     ...     ...   \n",
       "1866  0.000000  0.299905  0.00000  ...    0.0    0.0  0.0     0.0     0.0   \n",
       "1867  0.000000  0.000000  0.00000  ...    0.0    0.0  0.0     0.0     0.0   \n",
       "1868  0.000000  0.000000  0.00000  ...    0.0    0.0  0.0     0.0     0.0   \n",
       "1869  0.000000  0.000000  0.00000  ...    0.0    0.0  0.0     0.0     0.0   \n",
       "1870  0.000000  0.000000  0.00000  ...    0.0    0.0  0.0     0.0     0.0   \n",
       "\n",
       "       ad  dollar  four  pictur  faster  \n",
       "0     0.0     0.0   0.0     0.0     0.0  \n",
       "1     0.0     0.0   0.0     0.0     0.0  \n",
       "2     0.0     0.0   0.0     0.0     0.0  \n",
       "3     0.0     0.0   0.0     0.0     0.0  \n",
       "4     0.0     0.0   0.0     0.0     0.0  \n",
       "...   ...     ...   ...     ...     ...  \n",
       "1866  0.0     0.0   0.0     0.0     0.0  \n",
       "1867  0.0     0.0   0.0     0.0     0.0  \n",
       "1868  0.0     0.0   0.0     0.0     0.0  \n",
       "1869  0.0     0.0   0.0     0.0     0.0  \n",
       "1870  0.0     0.0   0.0     0.0     0.0  \n",
       "\n",
       "[1871 rows x 322 columns]"
      ]
     },
     "execution_count": 70,
     "metadata": {},
     "output_type": "execute_result"
    }
   ],
   "source": [
    "from sklearn.feature_extraction.text import TfidfVectorizer\n",
    "\n",
    "vectorizer = TfidfVectorizer(vocabulary=vocabulary)\n",
    "\n",
    "X_train_str = [\" \".join(tokens) for tokens in X_train]\n",
    "X_train_tfidf = vectorizer.fit_transform(X_train_str)\n",
    "\n",
    "pd.DataFrame(X_train_tfidf.toarray(), columns=vectorizer.get_feature_names_out())\n"
   ]
  },
  {
   "cell_type": "markdown",
   "id": "f00781ca",
   "metadata": {
    "collapsed": false
   },
   "source": [
    "<a name='2'></a>\n",
    "## 2. Classification (35 points)\n",
    "\n",
    "Maintenant que les données sont prêtes à être utilisées par nos modèles, nous allons entrainer et tester différent types de modèles sur le jeu de données afin d'en faire la comparaison. \n",
    "\n",
    "Cette section sera divisé en cinq modèle:\n",
    "   - Modèle aléatoire (Random baseline)\n",
    "   - Classificateur bayésien naïf\n",
    "   - Régression Logistique\n",
    "   - Multi-Layer Perceptron (MLP)\n",
    "\n",
    "<a name='2.1'></a>\n",
    "### 2.1 Modèle aléatoire (Random baseline) (5 points)\n",
    "\n",
    "Un seuil (baseline) est un modèle servant de référence et dont les performances représentent un seuil à dépasser.\n",
    "\n",
    "#### a) Générez ce seuil en effectuant des prédictions aléatoires parmi les valeurs 1, 3 et 5. Ensuite, affichez les mesures de performance : précision, rappel (recall) et F1. Utilisez la classe classification_report de SKlearn et affichez 4 chiffres après la virgule. (3.5 points)"
   ]
  },
  {
   "cell_type": "code",
   "execution_count": 71,
   "id": "bc582223",
   "metadata": {
    "collapsed": false
   },
   "outputs": [],
   "source": [
    "import numpy as np\n",
    "classes = np.unique(y_train)\n",
    "y_random = np.random.choice(classes, size=len(y_test))"
   ]
  },
  {
   "cell_type": "code",
   "execution_count": 72,
   "id": "f79530a0",
   "metadata": {
    "collapsed": false,
    "scrolled": false
   },
   "outputs": [
    {
     "name": "stdout",
     "output_type": "stream",
     "text": [
      "              precision    recall  f1-score   support\n",
      "\n",
      "           1       0.35      0.34      0.35       311\n",
      "           3       0.33      0.31      0.32       310\n",
      "           5       0.31      0.34      0.32       301\n",
      "\n",
      "    accuracy                           0.33       922\n",
      "   macro avg       0.33      0.33      0.33       922\n",
      "weighted avg       0.33      0.33      0.33       922\n",
      "\n"
     ]
    }
   ],
   "source": [
    "from sklearn.metrics import classification_report\n",
    "\n",
    "print(classification_report(y_test, y_random))"
   ]
  },
  {
   "cell_type": "markdown",
   "id": "b7070590",
   "metadata": {
    "collapsed": false
   },
   "source": [
    "#### b) Comment pouvez-vous expliquer le F1-score obtenu? (1.5 points)"
   ]
  },
  {
   "cell_type": "code",
   "execution_count": 73,
   "id": "c2b674c4-0551-4122-8f04-52a15266490e",
   "metadata": {
    "collapsed": false
   },
   "outputs": [
    {
     "data": {
      "text/plain": [
       "[0.3362255965292842, 0.33731019522776573, 0.3264642082429501]"
      ]
     },
     "execution_count": 73,
     "metadata": {},
     "output_type": "execute_result"
    }
   ],
   "source": [
    "class_distribution = Counter(y_test)\n",
    "classes = list(class_distribution.keys())\n",
    "probabilities = [class_distribution[c] / len(y_test) for c in classes]\n",
    "probabilities"
   ]
  },
  {
   "cell_type": "markdown",
   "id": "4b86cab6",
   "metadata": {
    "collapsed": false
   },
   "source": [
    "> Dans de notre data set on peut voir que les données sont balancées donc en choissant hazard nous auront une 'accuracy' d'environ 33%. La précision pour chaque classe sera données par TP /(TP + FP). Pour chaque classe TP sera environ égal à 0.33²/(0.33² + 0.33 - 0.33²) = 0.33. Ceci s'explique par le fait que la classe en question est présente dans un ratio de 0.33 et lorsqu'on fait la prédiction de celle ci il y a 0.33 de probabilité d'avoir choisit la bonne classe donc TP est 0.33². FP peut se calculé avec 0.33 - 0.33² puisque on va choisir la classe en question avec 0.33 de probabilité et que 0.33² de ces fois seront des TP. Ensuite le Recall peut être calculer d'une facon similaire et nous obtenons 0.33 aussi. Le f1 score théorique sera donc 2*0.33*0.33/(0.66) = 0.33. Ce qui est similaire au résultat obtenu."
   ]
  },
  {
   "cell_type": "markdown",
   "id": "8eadb0d3",
   "metadata": {
    "collapsed": false
   },
   "source": [
    "<a name='2.2'></a>\n",
    "### 2.2 Analyse et compréhension d'un classificateur bayésien naïf (NB) (22 points)\n",
    "\n",
    "Naive Bayes (NB) est un algorithme très simple pouvant servir de bon point de départ (baseline) pour les tâches de classification. Ce numéro portera sur l'analyse de ce modèle afin de bien comprendre son comportement."
   ]
  },
  {
   "cell_type": "markdown",
   "id": "0c04861f",
   "metadata": {
    "collapsed": false
   },
   "source": [
    "<a name='2.2.1'></a>\n",
    "#### 2.2.1 Construction du modèle (4 points)\n",
    "\n",
    "Commencez d'abord par construire le modèle à l'aide de la classe MultinomialNB de SKlearn. Utilisez les données vectorisées produites en 1.6.\n",
    "\n",
    "Affichez les performances de votre classificateur (précision, recall, F1-score)."
   ]
  },
  {
   "cell_type": "code",
   "execution_count": 74,
   "id": "c90814a4",
   "metadata": {
    "collapsed": false
   },
   "outputs": [],
   "source": [
    "from sklearn.naive_bayes import MultinomialNB"
   ]
  },
  {
   "cell_type": "code",
   "execution_count": 75,
   "id": "10f52de2-f8e7-4d13-9898-04c113692ecc",
   "metadata": {
    "collapsed": false
   },
   "outputs": [
    {
     "data": {
      "text/plain": [
       "1533                                [three, star, expect]\n",
       "2392    [abysm, batteri, life, last, week, electr, too...\n",
       "502     [awesom, awesom, use, work, lot, loud, enough,...\n",
       "1515                                  [five, star, great]\n",
       "1858    [five, star, seem, fix, faulti, cabl, son, hea...\n",
       "                              ...                        \n",
       "1129    [bought, batteri, duracel, batteri, tend, leak...\n",
       "2180     [three, star, seem, good, duracel, realli, tell]\n",
       "254     [great, batteri, great, price, buy, amazon, ba...\n",
       "2218    [get, littl, annoy, week, pro, get, lot, batte...\n",
       "895     [good, price, last, long, higher, price, batte...\n",
       "Name: text, Length: 922, dtype: object"
      ]
     },
     "execution_count": 75,
     "metadata": {},
     "output_type": "execute_result"
    }
   ],
   "source": [
    "X_test"
   ]
  },
  {
   "cell_type": "code",
   "execution_count": 76,
   "id": "6e4fecb0",
   "metadata": {
    "collapsed": false,
    "scrolled": true
   },
   "outputs": [
    {
     "name": "stdout",
     "output_type": "stream",
     "text": [
      "              precision    recall  f1-score   support\n",
      "\n",
      "           1       0.76      0.83      0.79       311\n",
      "           3       0.72      0.65      0.68       310\n",
      "           5       0.82      0.82      0.82       301\n",
      "\n",
      "    accuracy                           0.76       922\n",
      "   macro avg       0.76      0.77      0.76       922\n",
      "weighted avg       0.76      0.76      0.76       922\n",
      "\n"
     ]
    }
   ],
   "source": [
    "clf_nb = MultinomialNB()\n",
    "clf_nb.fit(X_train_tfidf, y_train)\n",
    "\n",
    "X_test_tfidf = vectorizer.transform([\" \".join(tokens) for tokens in X_test])\n",
    "y_nb_pred = clf_nb.predict(X_test_tfidf)\n",
    "\n",
    "print(classification_report(y_test, y_nb_pred))"
   ]
  },
  {
   "cell_type": "markdown",
   "id": "34a784a1",
   "metadata": {
    "collapsed": false
   },
   "source": [
    "<a name='2.2.2'></a>\n",
    "####  2.2.2 Matrice de confusion (3 points)\n",
    "\n",
    "Visualisez la matrice de confusion de votre modèle en utilisant la fonction [heatmap](https://seaborn.pydata.org/generated/seaborn.heatmap.html) de seaborn. Celle-ci peut prendre en entrée une matrice de confusion comme celle fournie par la fonction [confusion_matrix](https://scikit-learn.org/stable/modules/generated/sklearn.metrics.confusion_matrix.html) dans SKLearn."
   ]
  },
  {
   "cell_type": "code",
   "execution_count": 77,
   "id": "a115ac85",
   "metadata": {
    "collapsed": false,
    "scrolled": true
   },
   "outputs": [
    {
     "data": {
      "image/png": "[encoded data removed]",
      "text/plain": [
       "<Figure size 1000x700 with 2 Axes>"
      ]
     },
     "metadata": {},
     "output_type": "display_data"
    }
   ],
   "source": [
    "from sklearn.metrics import confusion_matrix\n",
    "from seaborn import heatmap\n",
    "\n",
    "cm = confusion_matrix(y_test, y_nb_pred)\n",
    "\n",
    "plt.figure(figsize=(10,7))\n",
    "heatmap(cm, annot=True, fmt='g', cmap='Reds')\n",
    "plt.xlabel('Predicted class')\n",
    "plt.ylabel('True class')\n",
    "plt.show()"
   ]
  },
  {
   "cell_type": "markdown",
   "id": "223d6c84",
   "metadata": {
    "collapsed": false
   },
   "source": [
    "<a name='2.2.3'></a>\n",
    "####  2.2.3 Visualisation des probabilités de NB (5 points)\n",
    "\n",
    "Naive Bayes est un classificateur suivant une approche générative. Durant son entraînement, il apprend les probabilités P(x_i|y). En utilisant le théorème de Bayes, on peut exprimer la probabilité d'une classe donnée y étant donné un ensemble de caractéristiques x_1, x_2, ..., x_n comme suit : \n",
    "\n",
    "$$ P(y|x_1, x_2, ..., x_n) = P(y) * P(x_1|y) * P(x_2|y) * ... * P(x_n|y) $$\n",
    "\n",
    "Ainsi, étant donné un exemple ayant le jeton x_i, plus la probabilité P(x_i|y) est élevée pour une classe, plus la probabilité que l'exemple provienne de cette classe augmente.\n",
    "\n",
    "Écrivez du code permettant de visualiser les jetons ayant les plus grandes probabilités selon la classe dans un graphique de type [barh](https://matplotlib.org/3.1.1/api/_as_gen/matplotlib.pyplot.barh.html). Consultez la documentation de [MultiNomialNB](https://scikit-learn.org/stable/modules/generated/sklearn.naive_bayes.MultinomialNB.html) afin de trouver les probabilités P(x_i|y). Le graphique produit devrait montrer, sur l'axe des Y, les 10 jetons associés au P(x_i|y) le plus grand selon y. L'axe des X devrait représenter la valeur des probabilités.\n",
    "\n",
    "Ce code devra être sous forme d'une fonction où on passe la classe y en paramètre.\n"
   ]
  },
  {
   "cell_type": "code",
   "execution_count": 78,
   "id": "9e4168b0-e508-46ce-96d2-3122f3cd297b",
   "metadata": {
    "collapsed": false
   },
   "outputs": [
    {
     "data": {
      "text/plain": [
       "array([[0.55114719, 0.41617942, 0.72320915, ..., 0.        , 0.        ,\n",
       "        0.        ],\n",
       "       [0.43457443, 0.32815361, 0.        , ..., 0.        , 0.        ,\n",
       "        0.        ],\n",
       "       [0.        , 0.        , 0.        , ..., 0.        , 0.        ,\n",
       "        0.        ],\n",
       "       ...,\n",
       "       [0.        , 0.        , 0.        , ..., 0.        , 0.        ,\n",
       "        0.        ],\n",
       "       [0.        , 0.        , 0.49606504, ..., 0.        , 0.        ,\n",
       "        0.        ],\n",
       "       [0.        , 0.        , 0.        , ..., 0.        , 0.        ,\n",
       "        0.        ]])"
      ]
     },
     "execution_count": 78,
     "metadata": {},
     "output_type": "execute_result"
    }
   ],
   "source": [
    "X_train_tfidf.toarray()"
   ]
  },
  {
   "cell_type": "code",
   "execution_count": 79,
   "id": "257eb5a8-e583-406c-b763-dcf3304fcdd2",
   "metadata": {
    "collapsed": false
   },
   "outputs": [
    {
     "data": {
      "text/html": [
       "<div>\n",
       "<style scoped>\n",
       "    .dataframe tbody tr th:only-of-type {\n",
       "        vertical-align: middle;\n",
       "    }\n",
       "\n",
       "    .dataframe tbody tr th {\n",
       "        vertical-align: top;\n",
       "    }\n",
       "\n",
       "    .dataframe thead th {\n",
       "        text-align: right;\n",
       "    }\n",
       "</style>\n",
       "<table border=\"1\" class=\"dataframe\">\n",
       "  <thead>\n",
       "    <tr style=\"text-align: right;\">\n",
       "      <th></th>\n",
       "      <th>three</th>\n",
       "      <th>star</th>\n",
       "      <th>deal</th>\n",
       "      <th>okay</th>\n",
       "      <th>last</th>\n",
       "      <th>long</th>\n",
       "      <th>work</th>\n",
       "      <th>everyth</th>\n",
       "      <th>toy</th>\n",
       "      <th>good</th>\n",
       "      <th>...</th>\n",
       "      <th>other</th>\n",
       "      <th>night</th>\n",
       "      <th>fit</th>\n",
       "      <th>instal</th>\n",
       "      <th>reader</th>\n",
       "      <th>ad</th>\n",
       "      <th>dollar</th>\n",
       "      <th>four</th>\n",
       "      <th>pictur</th>\n",
       "      <th>faster</th>\n",
       "    </tr>\n",
       "  </thead>\n",
       "  <tbody>\n",
       "    <tr>\n",
       "      <th>0</th>\n",
       "      <td>0.551147</td>\n",
       "      <td>0.416179</td>\n",
       "      <td>0.723209</td>\n",
       "      <td>0.000000</td>\n",
       "      <td>0.000000</td>\n",
       "      <td>0.000000</td>\n",
       "      <td>0.000000</td>\n",
       "      <td>0.000000</td>\n",
       "      <td>0.000000</td>\n",
       "      <td>0.00000</td>\n",
       "      <td>...</td>\n",
       "      <td>0.0</td>\n",
       "      <td>0.0</td>\n",
       "      <td>0.0</td>\n",
       "      <td>0.0</td>\n",
       "      <td>0.0</td>\n",
       "      <td>0.0</td>\n",
       "      <td>0.0</td>\n",
       "      <td>0.0</td>\n",
       "      <td>0.0</td>\n",
       "      <td>0.0</td>\n",
       "    </tr>\n",
       "    <tr>\n",
       "      <th>1</th>\n",
       "      <td>0.434574</td>\n",
       "      <td>0.328154</td>\n",
       "      <td>0.000000</td>\n",
       "      <td>0.664119</td>\n",
       "      <td>0.335135</td>\n",
       "      <td>0.387416</td>\n",
       "      <td>0.000000</td>\n",
       "      <td>0.000000</td>\n",
       "      <td>0.000000</td>\n",
       "      <td>0.00000</td>\n",
       "      <td>...</td>\n",
       "      <td>0.0</td>\n",
       "      <td>0.0</td>\n",
       "      <td>0.0</td>\n",
       "      <td>0.0</td>\n",
       "      <td>0.0</td>\n",
       "      <td>0.0</td>\n",
       "      <td>0.0</td>\n",
       "      <td>0.0</td>\n",
       "      <td>0.0</td>\n",
       "      <td>0.0</td>\n",
       "    </tr>\n",
       "    <tr>\n",
       "      <th>2</th>\n",
       "      <td>0.000000</td>\n",
       "      <td>0.000000</td>\n",
       "      <td>0.000000</td>\n",
       "      <td>0.000000</td>\n",
       "      <td>0.000000</td>\n",
       "      <td>0.000000</td>\n",
       "      <td>0.386534</td>\n",
       "      <td>0.701351</td>\n",
       "      <td>0.323543</td>\n",
       "      <td>0.18021</td>\n",
       "      <td>...</td>\n",
       "      <td>0.0</td>\n",
       "      <td>0.0</td>\n",
       "      <td>0.0</td>\n",
       "      <td>0.0</td>\n",
       "      <td>0.0</td>\n",
       "      <td>0.0</td>\n",
       "      <td>0.0</td>\n",
       "      <td>0.0</td>\n",
       "      <td>0.0</td>\n",
       "      <td>0.0</td>\n",
       "    </tr>\n",
       "    <tr>\n",
       "      <th>3</th>\n",
       "      <td>0.000000</td>\n",
       "      <td>0.401238</td>\n",
       "      <td>0.000000</td>\n",
       "      <td>0.000000</td>\n",
       "      <td>0.000000</td>\n",
       "      <td>0.000000</td>\n",
       "      <td>0.429421</td>\n",
       "      <td>0.000000</td>\n",
       "      <td>0.000000</td>\n",
       "      <td>0.00000</td>\n",
       "      <td>...</td>\n",
       "      <td>0.0</td>\n",
       "      <td>0.0</td>\n",
       "      <td>0.0</td>\n",
       "      <td>0.0</td>\n",
       "      <td>0.0</td>\n",
       "      <td>0.0</td>\n",
       "      <td>0.0</td>\n",
       "      <td>0.0</td>\n",
       "      <td>0.0</td>\n",
       "      <td>0.0</td>\n",
       "    </tr>\n",
       "    <tr>\n",
       "      <th>4</th>\n",
       "      <td>0.000000</td>\n",
       "      <td>0.000000</td>\n",
       "      <td>0.000000</td>\n",
       "      <td>0.000000</td>\n",
       "      <td>0.000000</td>\n",
       "      <td>0.000000</td>\n",
       "      <td>0.099249</td>\n",
       "      <td>0.180084</td>\n",
       "      <td>0.000000</td>\n",
       "      <td>0.00000</td>\n",
       "      <td>...</td>\n",
       "      <td>0.0</td>\n",
       "      <td>0.0</td>\n",
       "      <td>0.0</td>\n",
       "      <td>0.0</td>\n",
       "      <td>0.0</td>\n",
       "      <td>0.0</td>\n",
       "      <td>0.0</td>\n",
       "      <td>0.0</td>\n",
       "      <td>0.0</td>\n",
       "      <td>0.0</td>\n",
       "    </tr>\n",
       "    <tr>\n",
       "      <th>...</th>\n",
       "      <td>...</td>\n",
       "      <td>...</td>\n",
       "      <td>...</td>\n",
       "      <td>...</td>\n",
       "      <td>...</td>\n",
       "      <td>...</td>\n",
       "      <td>...</td>\n",
       "      <td>...</td>\n",
       "      <td>...</td>\n",
       "      <td>...</td>\n",
       "      <td>...</td>\n",
       "      <td>...</td>\n",
       "      <td>...</td>\n",
       "      <td>...</td>\n",
       "      <td>...</td>\n",
       "      <td>...</td>\n",
       "      <td>...</td>\n",
       "      <td>...</td>\n",
       "      <td>...</td>\n",
       "      <td>...</td>\n",
       "      <td>...</td>\n",
       "    </tr>\n",
       "    <tr>\n",
       "      <th>1866</th>\n",
       "      <td>0.000000</td>\n",
       "      <td>0.000000</td>\n",
       "      <td>0.000000</td>\n",
       "      <td>0.000000</td>\n",
       "      <td>0.170950</td>\n",
       "      <td>0.197618</td>\n",
       "      <td>0.000000</td>\n",
       "      <td>0.000000</td>\n",
       "      <td>0.299905</td>\n",
       "      <td>0.00000</td>\n",
       "      <td>...</td>\n",
       "      <td>0.0</td>\n",
       "      <td>0.0</td>\n",
       "      <td>0.0</td>\n",
       "      <td>0.0</td>\n",
       "      <td>0.0</td>\n",
       "      <td>0.0</td>\n",
       "      <td>0.0</td>\n",
       "      <td>0.0</td>\n",
       "      <td>0.0</td>\n",
       "      <td>0.0</td>\n",
       "    </tr>\n",
       "    <tr>\n",
       "      <th>1867</th>\n",
       "      <td>0.000000</td>\n",
       "      <td>0.000000</td>\n",
       "      <td>0.000000</td>\n",
       "      <td>0.000000</td>\n",
       "      <td>0.000000</td>\n",
       "      <td>0.000000</td>\n",
       "      <td>0.000000</td>\n",
       "      <td>0.000000</td>\n",
       "      <td>0.000000</td>\n",
       "      <td>0.00000</td>\n",
       "      <td>...</td>\n",
       "      <td>0.0</td>\n",
       "      <td>0.0</td>\n",
       "      <td>0.0</td>\n",
       "      <td>0.0</td>\n",
       "      <td>0.0</td>\n",
       "      <td>0.0</td>\n",
       "      <td>0.0</td>\n",
       "      <td>0.0</td>\n",
       "      <td>0.0</td>\n",
       "      <td>0.0</td>\n",
       "    </tr>\n",
       "    <tr>\n",
       "      <th>1868</th>\n",
       "      <td>0.000000</td>\n",
       "      <td>0.000000</td>\n",
       "      <td>0.000000</td>\n",
       "      <td>0.000000</td>\n",
       "      <td>0.000000</td>\n",
       "      <td>0.000000</td>\n",
       "      <td>0.000000</td>\n",
       "      <td>0.000000</td>\n",
       "      <td>0.000000</td>\n",
       "      <td>0.00000</td>\n",
       "      <td>...</td>\n",
       "      <td>0.0</td>\n",
       "      <td>0.0</td>\n",
       "      <td>0.0</td>\n",
       "      <td>0.0</td>\n",
       "      <td>0.0</td>\n",
       "      <td>0.0</td>\n",
       "      <td>0.0</td>\n",
       "      <td>0.0</td>\n",
       "      <td>0.0</td>\n",
       "      <td>0.0</td>\n",
       "    </tr>\n",
       "    <tr>\n",
       "      <th>1869</th>\n",
       "      <td>0.000000</td>\n",
       "      <td>0.000000</td>\n",
       "      <td>0.496065</td>\n",
       "      <td>0.000000</td>\n",
       "      <td>0.000000</td>\n",
       "      <td>0.000000</td>\n",
       "      <td>0.000000</td>\n",
       "      <td>0.000000</td>\n",
       "      <td>0.000000</td>\n",
       "      <td>0.00000</td>\n",
       "      <td>...</td>\n",
       "      <td>0.0</td>\n",
       "      <td>0.0</td>\n",
       "      <td>0.0</td>\n",
       "      <td>0.0</td>\n",
       "      <td>0.0</td>\n",
       "      <td>0.0</td>\n",
       "      <td>0.0</td>\n",
       "      <td>0.0</td>\n",
       "      <td>0.0</td>\n",
       "      <td>0.0</td>\n",
       "    </tr>\n",
       "    <tr>\n",
       "      <th>1870</th>\n",
       "      <td>0.000000</td>\n",
       "      <td>0.000000</td>\n",
       "      <td>0.000000</td>\n",
       "      <td>0.000000</td>\n",
       "      <td>0.000000</td>\n",
       "      <td>0.000000</td>\n",
       "      <td>0.000000</td>\n",
       "      <td>0.000000</td>\n",
       "      <td>0.000000</td>\n",
       "      <td>0.00000</td>\n",
       "      <td>...</td>\n",
       "      <td>0.0</td>\n",
       "      <td>0.0</td>\n",
       "      <td>0.0</td>\n",
       "      <td>0.0</td>\n",
       "      <td>0.0</td>\n",
       "      <td>0.0</td>\n",
       "      <td>0.0</td>\n",
       "      <td>0.0</td>\n",
       "      <td>0.0</td>\n",
       "      <td>0.0</td>\n",
       "    </tr>\n",
       "  </tbody>\n",
       "</table>\n",
       "<p>1871 rows × 322 columns</p>\n",
       "</div>"
      ],
      "text/plain": [
       "         three      star      deal      okay      last      long      work  \\\n",
       "0     0.551147  0.416179  0.723209  0.000000  0.000000  0.000000  0.000000   \n",
       "1     0.434574  0.328154  0.000000  0.664119  0.335135  0.387416  0.000000   \n",
       "2     0.000000  0.000000  0.000000  0.000000  0.000000  0.000000  0.386534   \n",
       "3     0.000000  0.401238  0.000000  0.000000  0.000000  0.000000  0.429421   \n",
       "4     0.000000  0.000000  0.000000  0.000000  0.000000  0.000000  0.099249   \n",
       "...        ...       ...       ...       ...       ...       ...       ...   \n",
       "1866  0.000000  0.000000  0.000000  0.000000  0.170950  0.197618  0.000000   \n",
       "1867  0.000000  0.000000  0.000000  0.000000  0.000000  0.000000  0.000000   \n",
       "1868  0.000000  0.000000  0.000000  0.000000  0.000000  0.000000  0.000000   \n",
       "1869  0.000000  0.000000  0.496065  0.000000  0.000000  0.000000  0.000000   \n",
       "1870  0.000000  0.000000  0.000000  0.000000  0.000000  0.000000  0.000000   \n",
       "\n",
       "       everyth       toy     good  ...  other  night  fit  instal  reader  \\\n",
       "0     0.000000  0.000000  0.00000  ...    0.0    0.0  0.0     0.0     0.0   \n",
       "1     0.000000  0.000000  0.00000  ...    0.0    0.0  0.0     0.0     0.0   \n",
       "2     0.701351  0.323543  0.18021  ...    0.0    0.0  0.0     0.0     0.0   \n",
       "3     0.000000  0.000000  0.00000  ...    0.0    0.0  0.0     0.0     0.0   \n",
       "4     0.180084  0.000000  0.00000  ...    0.0    0.0  0.0     0.0     0.0   \n",
       "...        ...       ...      ...  ...    ...    ...  ...     ...     ...   \n",
       "1866  0.000000  0.299905  0.00000  ...    0.0    0.0  0.0     0.0     0.0   \n",
       "1867  0.000000  0.000000  0.00000  ...    0.0    0.0  0.0     0.0     0.0   \n",
       "1868  0.000000  0.000000  0.00000  ...    0.0    0.0  0.0     0.0     0.0   \n",
       "1869  0.000000  0.000000  0.00000  ...    0.0    0.0  0.0     0.0     0.0   \n",
       "1870  0.000000  0.000000  0.00000  ...    0.0    0.0  0.0     0.0     0.0   \n",
       "\n",
       "       ad  dollar  four  pictur  faster  \n",
       "0     0.0     0.0   0.0     0.0     0.0  \n",
       "1     0.0     0.0   0.0     0.0     0.0  \n",
       "2     0.0     0.0   0.0     0.0     0.0  \n",
       "3     0.0     0.0   0.0     0.0     0.0  \n",
       "4     0.0     0.0   0.0     0.0     0.0  \n",
       "...   ...     ...   ...     ...     ...  \n",
       "1866  0.0     0.0   0.0     0.0     0.0  \n",
       "1867  0.0     0.0   0.0     0.0     0.0  \n",
       "1868  0.0     0.0   0.0     0.0     0.0  \n",
       "1869  0.0     0.0   0.0     0.0     0.0  \n",
       "1870  0.0     0.0   0.0     0.0     0.0  \n",
       "\n",
       "[1871 rows x 322 columns]"
      ]
     },
     "execution_count": 79,
     "metadata": {},
     "output_type": "execute_result"
    }
   ],
   "source": [
    "pd.DataFrame(X_train_tfidf.toarray(), columns=vectorizer.get_feature_names_out())"
   ]
  },
  {
   "cell_type": "code",
   "execution_count": 90,
   "id": "eb219a46",
   "metadata": {
    "collapsed": false,
    "scrolled": false
   },
   "outputs": [],
   "source": [
    "import matplotlib.pyplot as plt\n",
    "\n",
    "def plot_top_features(clf, vectorizer, class_label, top_n=10, token_filter=[]):\n",
    "    \"\"\"\n",
    "    Plot the top N features for a given class based on their probabilities.\n",
    "    \n",
    "    Parameters:\n",
    "        clf (classifier): Trained Naive Bayes classifier\n",
    "        vectorizer (TfidfVectorizer): The vectorizer instance\n",
    "        class_label (int): The class label (1, 3, or 5 in your case)\n",
    "        top_n (int): Number of top features to plot. Default is 10.\n",
    "    \"\"\"\n",
    "\n",
    "    nb_probabilities = np.exp(clf.feature_log_prob_)\n",
    "    classes = clf.classes_\n",
    "\n",
    "    feature_prob_df = pd.DataFrame(nb_probabilities, columns=vectorizer.get_feature_names_out())\n",
    "    if token_filter:\n",
    "        feature_prob_df = feature_prob_df.loc[:, feature_prob_df.columns.isin(token_filter)]\n",
    "\n",
    "    feature_prob_df = feature_prob_df.T\n",
    "    feature_prob_df.columns = classes\n",
    "    \n",
    "    feature_prob_df[class_label].sort_values().tail(top_n).plot(kind='barh')\n",
    "    \n",
    "    plt.xlabel('Probability')\n",
    "    plt.ylabel('Feature')\n",
    "    plt.title(f'Top {top_n} Features for Class {class_label}')\n",
    "    \n",
    "    plt.show()\n",
    "    "
   ]
  },
  {
   "cell_type": "code",
   "execution_count": 81,
   "id": "b4b9ca72-6c35-430c-baf1-733647fe76ec",
   "metadata": {
    "collapsed": false
   },
   "outputs": [
    {
     "data": {
      "image/png": "[encoded data removed]",
      "text/plain": [
       "<Figure size 640x480 with 1 Axes>"
      ]
     },
     "metadata": {},
     "output_type": "display_data"
    }
   ],
   "source": [
    "plot_top_features(clf_nb, vectorizer, 1, 10)"
   ]
  },
  {
   "cell_type": "code",
   "execution_count": 91,
   "id": "e8160682-04a5-44a3-8b68-55ed51a26698",
   "metadata": {
    "collapsed": false
   },
   "outputs": [
    {
     "data": {
      "image/png": "[encoded data removed]",
      "text/plain": [
       "<Figure size 640x480 with 1 Axes>"
      ]
     },
     "metadata": {},
     "output_type": "display_data"
    }
   ],
   "source": [
    "plot_top_features(clf_nb, vectorizer, 3, 10)"
   ]
  },
  {
   "cell_type": "code",
   "execution_count": 83,
   "id": "6d14e023-90b1-4b68-a188-fbc7c538f9f5",
   "metadata": {
    "collapsed": false
   },
   "outputs": [
    {
     "data": {
      "image/png": "[encoded data removed]",
      "text/plain": [
       "<Figure size 640x480 with 1 Axes>"
      ]
     },
     "metadata": {},
     "output_type": "display_data"
    }
   ],
   "source": [
    "plot_top_features(clf_nb, vectorizer, 5, 10)"
   ]
  },
  {
   "cell_type": "markdown",
   "id": "4600bf66",
   "metadata": {
    "collapsed": false
   },
   "source": [
    "Que pouvez-vous remanquer à propos des jetons affichés dans le graphique?"
   ]
  },
  {
   "cell_type": "markdown",
   "id": "fa61bab3",
   "metadata": {
    "collapsed": false
   },
   "source": [
    "> Il semble que beaucoup de commentaire contiennent le nombre d'étoiles données au produits par example les chiffres 'one', 'three' et 'five' sont de bons indicateurs pour catégoriser le commentaires dans la bonne classes. De plus il semble y avoir une similarité entre les probabilités des jetons selon les ratings et le top 10 des jetons les plus courrants selon le rating."
   ]
  },
  {
   "cell_type": "markdown",
   "id": "00579fba",
   "metadata": {
    "collapsed": false
   },
   "source": [
    "<a name='2.2.4'></a>\n",
    "#### 2.2.4 Visualisation des erreurs commises  (3 points)\n",
    "\n",
    "Trouvez toutes les phrases dont la vraie valeur est 5 mais la valeur prédite est de 1.\n",
    "\n",
    "Affichez ces exemples d'une manière lisible.\n"
   ]
  },
  {
   "cell_type": "code",
   "execution_count": 84,
   "id": "4437fcfc-0f07-46fc-894d-88384bd690ba",
   "metadata": {
    "collapsed": false
   },
   "outputs": [
    {
     "data": {
      "text/html": [
       "<h3>Filtered Rows (y_test: 5, y_nb_pred: 1)</h3><ul><li>good batteri better price absolut best valu standard batteri especi use subscrib save seek recharg ever abl distinguish real differ qualiti longev top brand batteri duracel energ etc kid toy xbox control go batteri month subscrib save way go</li><li>remot work need batteri best way electron work charg batteri buy pack fix need batteri part</li><li>save bear attack one day camp wild west rocki mountain colorado carri trusti power ranger limit edit collector sword nowher bear attack grab trusti sword batteri make swoosh sound add effect swing hurriedli went trusti amazonbas aa batteri switch one power ranger sword swoosh sound amaz escap life leg okay thank amazonbas aa batteri save life</li><li>muy bueno kid teenag like toy remot control car anyth requir batteri item easi use dont think buy</li><li>never enough stock</li><li>super fab case laptop would buy anoth got laptop fine strong plenti pocket</li><li>great product second one must one time</li><li>amazon basic product rule first time bought amazon basic product last experi product well name brand product less experi love packag batteri came far tell work like charm put coupl gadget work perfectli way go batteri cost save well worth</li><li>worth money function promis</li><li>great buy high discharg batteri typic use wireless mous flashlight great</li><li>week week tell anymor</li><li>batteri great use duracel remot etc batteri great use duracel remot etc impress get much longer life updat review batteri use last long time good price</li><li>batteri perform know realli like amazon line batteri first hesit use anyth duracel tri especi price simpli go wrong</li><li>poor power terribl life poorest qualiti batteri ever purchas aa aaa</li><li>batteri day price buy buy pack store pay similar lifespan notic differ retir year probabl buy case get last year last</li><li>amazon batteri alway tri buy amazon recharg batteri good price last long time charg save bit environ compar dispos one</li></ul>"
      ],
      "text/plain": [
       "<IPython.core.display.HTML object>"
      ]
     },
     "metadata": {},
     "output_type": "display_data"
    }
   ],
   "source": [
    "result_df = pd.DataFrame({'y_test': y_test, 'y_nb_pred': y_nb_pred, 'X_test': X_test})\n",
    "\n",
    "# Filter rows where y_test is 5 and y_nb_pred is 1\n",
    "filtered_result = result_df[(result_df['y_test'] == 5) & (result_df['y_nb_pred'] == 1)]\n",
    "\n",
    "# %pip install ipython\n",
    "from IPython.display import display, HTML\n",
    "\n",
    "# Combine the words in each sentence\n",
    "filtered_result = filtered_result.copy()\n",
    "filtered_result['sentence'] = filtered_result['X_test'].apply(lambda x: ' '.join(x))\n",
    "\n",
    "# Create an HTML string\n",
    "html_str = '<h3>Filtered Rows (y_test: 5, y_nb_pred: 1)</h3><ul>'\n",
    "\n",
    "for sentence in filtered_result['sentence']:\n",
    "    html_str += f'<li>{sentence}</li>'\n",
    "\n",
    "html_str += '</ul>'\n",
    "\n",
    "display(HTML(html_str))"
   ]
  },
  {
   "cell_type": "code",
   "execution_count": 85,
   "id": "c4fef76a",
   "metadata": {
    "collapsed": false
   },
   "outputs": [
    {
     "data": {
      "text/html": [
       "<div>\n",
       "<style scoped>\n",
       "    .dataframe tbody tr th:only-of-type {\n",
       "        vertical-align: middle;\n",
       "    }\n",
       "\n",
       "    .dataframe tbody tr th {\n",
       "        vertical-align: top;\n",
       "    }\n",
       "\n",
       "    .dataframe thead th {\n",
       "        text-align: right;\n",
       "    }\n",
       "</style>\n",
       "<table border=\"1\" class=\"dataframe\">\n",
       "  <thead>\n",
       "    <tr style=\"text-align: right;\">\n",
       "      <th></th>\n",
       "      <th>y_test</th>\n",
       "      <th>y_nb_pred</th>\n",
       "      <th>X_test</th>\n",
       "      <th>sentence</th>\n",
       "    </tr>\n",
       "  </thead>\n",
       "  <tbody>\n",
       "    <tr>\n",
       "      <th>15</th>\n",
       "      <td>5</td>\n",
       "      <td>1</td>\n",
       "      <td>[good, batteri, better, price, absolut, best, ...</td>\n",
       "      <td>good batteri better price absolut best valu st...</td>\n",
       "    </tr>\n",
       "    <tr>\n",
       "      <th>33</th>\n",
       "      <td>5</td>\n",
       "      <td>1</td>\n",
       "      <td>[remot, work, need, batteri, best, way, electr...</td>\n",
       "      <td>remot work need batteri best way electron work...</td>\n",
       "    </tr>\n",
       "    <tr>\n",
       "      <th>676</th>\n",
       "      <td>5</td>\n",
       "      <td>1</td>\n",
       "      <td>[save, bear, attack, one, day, camp, wild, wes...</td>\n",
       "      <td>save bear attack one day camp wild west rocki ...</td>\n",
       "    </tr>\n",
       "    <tr>\n",
       "      <th>886</th>\n",
       "      <td>5</td>\n",
       "      <td>1</td>\n",
       "      <td>[muy, bueno, kid, teenag, like, toy, remot, co...</td>\n",
       "      <td>muy bueno kid teenag like toy remot control ca...</td>\n",
       "    </tr>\n",
       "    <tr>\n",
       "      <th>385</th>\n",
       "      <td>5</td>\n",
       "      <td>1</td>\n",
       "      <td>[never, enough, stock]</td>\n",
       "      <td>never enough stock</td>\n",
       "    </tr>\n",
       "    <tr>\n",
       "      <th>1895</th>\n",
       "      <td>5</td>\n",
       "      <td>1</td>\n",
       "      <td>[super, fab, case, laptop, would, buy, anoth, ...</td>\n",
       "      <td>super fab case laptop would buy anoth got lapt...</td>\n",
       "    </tr>\n",
       "    <tr>\n",
       "      <th>1951</th>\n",
       "      <td>5</td>\n",
       "      <td>1</td>\n",
       "      <td>[great, product, second, one, must, one, time]</td>\n",
       "      <td>great product second one must one time</td>\n",
       "    </tr>\n",
       "    <tr>\n",
       "      <th>526</th>\n",
       "      <td>5</td>\n",
       "      <td>1</td>\n",
       "      <td>[amazon, basic, product, rule, first, time, bo...</td>\n",
       "      <td>amazon basic product rule first time bought am...</td>\n",
       "    </tr>\n",
       "    <tr>\n",
       "      <th>2158</th>\n",
       "      <td>5</td>\n",
       "      <td>1</td>\n",
       "      <td>[worth, money, function, promis]</td>\n",
       "      <td>worth money function promis</td>\n",
       "    </tr>\n",
       "    <tr>\n",
       "      <th>149</th>\n",
       "      <td>5</td>\n",
       "      <td>1</td>\n",
       "      <td>[great, buy, high, discharg, batteri, typic, u...</td>\n",
       "      <td>great buy high discharg batteri typic use wire...</td>\n",
       "    </tr>\n",
       "    <tr>\n",
       "      <th>588</th>\n",
       "      <td>5</td>\n",
       "      <td>1</td>\n",
       "      <td>[week, week, tell, anymor]</td>\n",
       "      <td>week week tell anymor</td>\n",
       "    </tr>\n",
       "    <tr>\n",
       "      <th>817</th>\n",
       "      <td>5</td>\n",
       "      <td>1</td>\n",
       "      <td>[batteri, great, use, duracel, remot, etc, bat...</td>\n",
       "      <td>batteri great use duracel remot etc batteri gr...</td>\n",
       "    </tr>\n",
       "    <tr>\n",
       "      <th>2200</th>\n",
       "      <td>5</td>\n",
       "      <td>1</td>\n",
       "      <td>[batteri, perform, know, realli, like, amazon,...</td>\n",
       "      <td>batteri perform know realli like amazon line b...</td>\n",
       "    </tr>\n",
       "    <tr>\n",
       "      <th>2427</th>\n",
       "      <td>5</td>\n",
       "      <td>1</td>\n",
       "      <td>[poor, power, terribl, life, poorest, qualiti,...</td>\n",
       "      <td>poor power terribl life poorest qualiti batter...</td>\n",
       "    </tr>\n",
       "    <tr>\n",
       "      <th>587</th>\n",
       "      <td>5</td>\n",
       "      <td>1</td>\n",
       "      <td>[batteri, day, price, buy, buy, pack, store, p...</td>\n",
       "      <td>batteri day price buy buy pack store pay simil...</td>\n",
       "    </tr>\n",
       "    <tr>\n",
       "      <th>47</th>\n",
       "      <td>5</td>\n",
       "      <td>1</td>\n",
       "      <td>[amazon, batteri, alway, tri, buy, amazon, rec...</td>\n",
       "      <td>amazon batteri alway tri buy amazon recharg ba...</td>\n",
       "    </tr>\n",
       "  </tbody>\n",
       "</table>\n",
       "</div>"
      ],
      "text/plain": [
       "      y_test  y_nb_pred                                             X_test  \\\n",
       "15         5          1  [good, batteri, better, price, absolut, best, ...   \n",
       "33         5          1  [remot, work, need, batteri, best, way, electr...   \n",
       "676        5          1  [save, bear, attack, one, day, camp, wild, wes...   \n",
       "886        5          1  [muy, bueno, kid, teenag, like, toy, remot, co...   \n",
       "385        5          1                             [never, enough, stock]   \n",
       "1895       5          1  [super, fab, case, laptop, would, buy, anoth, ...   \n",
       "1951       5          1     [great, product, second, one, must, one, time]   \n",
       "526        5          1  [amazon, basic, product, rule, first, time, bo...   \n",
       "2158       5          1                   [worth, money, function, promis]   \n",
       "149        5          1  [great, buy, high, discharg, batteri, typic, u...   \n",
       "588        5          1                         [week, week, tell, anymor]   \n",
       "817        5          1  [batteri, great, use, duracel, remot, etc, bat...   \n",
       "2200       5          1  [batteri, perform, know, realli, like, amazon,...   \n",
       "2427       5          1  [poor, power, terribl, life, poorest, qualiti,...   \n",
       "587        5          1  [batteri, day, price, buy, buy, pack, store, p...   \n",
       "47         5          1  [amazon, batteri, alway, tri, buy, amazon, rec...   \n",
       "\n",
       "                                               sentence  \n",
       "15    good batteri better price absolut best valu st...  \n",
       "33    remot work need batteri best way electron work...  \n",
       "676   save bear attack one day camp wild west rocki ...  \n",
       "886   muy bueno kid teenag like toy remot control ca...  \n",
       "385                                  never enough stock  \n",
       "1895  super fab case laptop would buy anoth got lapt...  \n",
       "1951             great product second one must one time  \n",
       "526   amazon basic product rule first time bought am...  \n",
       "2158                        worth money function promis  \n",
       "149   great buy high discharg batteri typic use wire...  \n",
       "588                               week week tell anymor  \n",
       "817   batteri great use duracel remot etc batteri gr...  \n",
       "2200  batteri perform know realli like amazon line b...  \n",
       "2427  poor power terribl life poorest qualiti batter...  \n",
       "587   batteri day price buy buy pack store pay simil...  \n",
       "47    amazon batteri alway tri buy amazon recharg ba...  "
      ]
     },
     "execution_count": 85,
     "metadata": {},
     "output_type": "execute_result"
    }
   ],
   "source": [
    "filtered_result"
   ]
  },
  {
   "cell_type": "markdown",
   "id": "cffb9d00",
   "metadata": {
    "collapsed": false
   },
   "source": [
    "<a name='2.2.5'></a>\n",
    "#### 2.2.5 Analyse d'erreurs commises (7 points)"
   ]
  },
  {
   "cell_type": "markdown",
   "id": "204c7fff",
   "metadata": {
    "collapsed": false
   },
   "source": [
    "Complétez la fonction plot_example qui:\n",
    "   - Prend en entrée une liste de jetons provenant d'un exemple. \n",
    "   - Produit un graphique qui pour chaque jeton, affiche la valeur P(x_i|y=5) et P(x_i|y=1)\n",
    "    \n",
    "**Pour vous faciliter le travail, utiliser barh de pandas et non de matplotlib**: https://pandas.pydata.org/docs/reference/api/pandas.DataFrame.plot.barh.html\n",
    "\n",
    "\n",
    "#### a) Exécutez votre fonction avec une phrase au choix dont la vraie valeur est 5 mais la valeur prédite est de 1. (4 points)"
   ]
  },
  {
   "cell_type": "code",
   "execution_count": 98,
   "id": "0795de9d",
   "metadata": {
    "collapsed": false
   },
   "outputs": [
    {
     "data": {
      "image/png": "[encoded data removed]",
      "text/plain": [
       "<Figure size 640x480 with 1 Axes>"
      ]
     },
     "metadata": {},
     "output_type": "display_data"
    },
    {
     "data": {
      "image/png": "[encoded data removed]",
      "text/plain": [
       "<Figure size 640x480 with 1 Axes>"
      ]
     },
     "metadata": {},
     "output_type": "display_data"
    }
   ],
   "source": [
    "def plot_example(tokens):\n",
    "    plot_top_features(clf_nb, vectorizer, 1, len(tokens), tokens)\n",
    "    plot_top_features(clf_nb, vectorizer, 5, len(tokens), tokens)\n",
    "plot_example(filtered_result['X_test'].iloc[0])"
   ]
  },
  {
   "cell_type": "markdown",
   "id": "b2984273",
   "metadata": {
    "collapsed": false
   },
   "source": [
    "#### b) Suite à cette analyse, pouvez-vous voir une tendance dans les exemples qui sont prédits comme faisant partie de la classe 1 mais faisant réellement partie de la classe 5 ?  (3 points)"
   ]
  },
  {
   "cell_type": "code",
   "execution_count": 102,
   "id": "f7c9933f-7d50-4568-8609-5ce7df9019e8",
   "metadata": {
    "collapsed": false
   },
   "outputs": [
    {
     "name": "stdout",
     "output_type": "stream",
     "text": [
      "Proportion of rows containing 'batteri': 0.69\n"
     ]
    }
   ],
   "source": [
    "# Proportion des phrase mal identifié à 1 lorsque la vrai classe est 5 qui contienne le token batteri\n",
    "contains_batteri = filtered_result['X_test'].apply(lambda x: 'batteri' in x)\n",
    "proportion_containing_batteri = contains_batteri.mean()\n",
    "\n",
    "print(f\"Proportion of rows containing 'batteri': {proportion_containing_batteri:.2f}\")"
   ]
  },
  {
   "cell_type": "markdown",
   "id": "856cc027",
   "metadata": {
    "collapsed": false
   },
   "source": [
    "> Il semble que le jeton batteri soit principalement responsable de la confusion du model puisque ce jeton a la plus grande probabilité P(x_i|y=1). Environ 70% de ces phrases mal identifié contiennent le mot batteri."
   ]
  },
  {
   "cell_type": "markdown",
   "id": "40f0f9a6",
   "metadata": {
    "collapsed": false
   },
   "source": [
    "<a name='2.3'></a>\n",
    "### 2.3 Régression logistique (4 points)\n",
    "\n",
    "Entrainez un modèle de [régression logistique](https://scikit-learn.org/stable/modules/generated/sklearn.linear_model.LogisticRegression.html) à l'aide de SKLearn en utilisant les données produites en 1.6 et affichez sa performance avec les mêmes métriques que précédemment. "
   ]
  },
  {
   "cell_type": "code",
   "execution_count": null,
   "id": "c7c91797",
   "metadata": {
    "collapsed": false
   },
   "outputs": [],
   "source": [
    "from sklearn.linear_model import LogisticRegression\n"
   ]
  },
  {
   "cell_type": "code",
   "execution_count": null,
   "id": "dce0ff9f",
   "metadata": {
    "collapsed": false
   },
   "outputs": [],
   "source": []
  },
  {
   "cell_type": "markdown",
   "id": "727658f6",
   "metadata": {
    "collapsed": false
   },
   "source": [
    "<a name='2.4'></a>\n",
    "### 2.4 MLP (4 points)\n",
    "\n",
    "Entrainez un modèle neuronal de type [Multi-layer Perceptron classifier](https://scikit-learn.org/stable/modules/generated/sklearn.neural_network.MLPClassifier.html) à l'aide de SKLearn en utilisant les données produites en 1.6. Affichez sa performance avec les mêmes métriques que précédemment. "
   ]
  },
  {
   "cell_type": "code",
   "execution_count": null,
   "id": "b44f3fd5",
   "metadata": {
    "collapsed": false
   },
   "outputs": [],
   "source": [
    "from sklearn.neural_network import MLPClassifier\n"
   ]
  },
  {
   "cell_type": "code",
   "execution_count": null,
   "id": "4e71cb73",
   "metadata": {
    "collapsed": false
   },
   "outputs": [],
   "source": []
  },
  {
   "cell_type": "markdown",
   "id": "21b383b9",
   "metadata": {
    "collapsed": false
   },
   "source": [
    "<a name='3'></a>\n",
    "## 3. Amélioration de modèle (30 points)\n",
    "\n",
    "Cette dernière partie consistera à améliorer votre modèle de deux façons différentes.\n",
    "\n",
    "Tout d'abord, vous effectuerez une recherche d'hyper-paramètres avec une validation croisée en utilisant une grille de recherche (GridSearch). Ensuite, vous réaliserez de l'extraction d'attributs (feature extraction) afin d'entraîner un nouveau modèle.\n",
    "\n",
    "<a name='3.1'></a>\n",
    "###  3.1 Recherche d'hyper-paramètres et validation croisée (5 points)\n",
    "\n",
    "La classe [GridSearchCV](https://scikit-learn.org/stable/modules/generated/sklearn.model_selection.GridSearchCV.html) permet d'explorer toutes les combinaisons possibles d'hyper-paramètres que l'on spécifie afin de trouver la configuration optimale. De plus, il est tout à fait possible de fusionner les paramètres du pré-traitement et ceux du classificateur en utilisant la classe [Pipeline](https://scikit-learn.org/stable/modules/generated/sklearn.pipeline.Pipeline.html).\n",
    "Pour la rédaction de votre code, vous avez la possibilité de vous référer au tutoriel du cours.\n",
    "\n",
    "#### a) Dans cette phase, l'objectif est de découvrir une configuration optimale pour le modèle LogisticRegression en conjonction avec la technique de vectorisation TF-IDF. Cette recherche devra être guidée par la métrique du F1-score pondéré (weighted F1). Vous devrez aussi effectuer une exploration de paramètres sur au moins deux attributs liés à TF-IDF et deux paramètres de la régression logistique. Affichez ensuite la performance finale du modèle optimal ainsi que ses paramètres. (3 points)"
   ]
  },
  {
   "cell_type": "code",
   "execution_count": null,
   "id": "5d1121d8",
   "metadata": {
    "collapsed": false,
    "scrolled": true
   },
   "outputs": [],
   "source": [
    "from sklearn.feature_extraction.text import TfidfVectorizer\n",
    "from sklearn.pipeline import Pipeline\n",
    "from sklearn.metrics import f1_score, make_scorer\n",
    "from sklearn.model_selection import GridSearchCV\n"
   ]
  },
  {
   "cell_type": "markdown",
   "id": "dc91d718",
   "metadata": {
    "collapsed": false
   },
   "source": [
    "#### b) Quels sont les attributs que vous avez choisis et quels sont leurs valeurs optimales?  (2 points)"
   ]
  },
  {
   "cell_type": "markdown",
   "id": "9b34bc1c",
   "metadata": {
    "collapsed": false
   },
   "source": [
    "> *Entrez votre réponse ici*"
   ]
  },
  {
   "cell_type": "markdown",
   "id": "e541be45",
   "metadata": {
    "collapsed": false
   },
   "source": [
    "<a name='3.2'></a>\n",
    "###  3.2 Extraction d'attributs (Feature extraction) avec ChatGPT (15 points)\n",
    "\n",
    "ChatGPT peut être très utile pour donner des idées ou donner du squelette de code (lorsque c'est permis! :) ). Cette partie vous fait explorer l'utilisation de ChatGPT pour générer du code permettant d'extraire des attributs (feature extraction) à partir du texte des évaluations. \n",
    "\n",
    "En utilisant ChatGPT ainsi que votre recherche personnelle, essayez de déterminer un ensemble d'attributs que vous pourriez utiliser pour représenter chaque évaluation. A vous de voir comment vous pouvez obtenir une réponse satisfaisante de ChatGPT. \n",
    "\n",
    "#### a) Indiquez dans la cellule ci-dessous les descriptions d'attributs suggérées par ChatGPT ainsi que les vôtres. Différenciez clairement vos attributs - s'il y en a - de ceux de ChatGPT. (4 points)\n"
   ]
  },
  {
   "cell_type": "markdown",
   "id": "f0d9ac3f",
   "metadata": {
    "collapsed": false
   },
   "source": [
    "> *Entrez votre réponse ici*"
   ]
  },
  {
   "cell_type": "markdown",
   "id": "39beb713",
   "metadata": {
    "collapsed": false
   },
   "source": [
    "#### b) Indiquez ci-dessous le code généré par ChatGPT que vous avez décidé de conserver pour représenter chaque évaluation.  (2 points)"
   ]
  },
  {
   "cell_type": "code",
   "execution_count": null,
   "id": "90a73ddd",
   "metadata": {
    "collapsed": false
   },
   "outputs": [],
   "source": []
  },
  {
   "cell_type": "markdown",
   "id": "9ebb4523",
   "metadata": {
    "collapsed": false
   },
   "source": [
    "\n",
    "\n",
    "#### c) Il se peut que le code généré ait besoin d'être adapté à notre jeu de données. Si c'est le cas, corrigez le code et montrez le résultat après vos correction dans la cellule ci-dessous. Le code final devrait être une fonction qui vous retourne, pour un document, un dictionnaire d'attributs et leurs valeurs. N'oubliez pas d'indiquer votre propre code s'il y en a. (5 points)"
   ]
  },
  {
   "cell_type": "code",
   "execution_count": null,
   "id": "2843cbc8",
   "metadata": {
    "collapsed": false,
    "scrolled": true
   },
   "outputs": [],
   "source": []
  },
  {
   "cell_type": "markdown",
   "id": "518c6c20",
   "metadata": {
    "collapsed": false
   },
   "source": [
    "#### d) Utilisez le code corrigé ci-dessus pour entrainer un modèle MLP avec votre nouvelle représentation des évaluations. Affichez sa performance. (4 points)"
   ]
  },
  {
   "cell_type": "code",
   "execution_count": null,
   "id": "e18c6b02",
   "metadata": {
    "collapsed": false
   },
   "outputs": [],
   "source": [
    "\n"
   ]
  },
  {
   "cell_type": "code",
   "execution_count": null,
   "id": "187ee1c5",
   "metadata": {
    "collapsed": false
   },
   "outputs": [],
   "source": []
  },
  {
   "cell_type": "markdown",
   "id": "ce4bf76e",
   "metadata": {
    "collapsed": false
   },
   "source": [
    "<a name='3.3'></a>\n",
    "### 3.3 Amélioration du modèle en 3.2 (10 points)\n",
    "\n",
    "Il est possible que les résultats obtenus au numéro précédent ne soient pas très élevés. \n",
    "\n",
    "#### a) Trouvez une manière d'utiliser ces attributs avec d'autres éléments afin **d'au moins** obtenir une meilleure performance que n'importe quel score obtenu au numéro 2.x , **sans faire de recherche d'hyper-paramètres**. Essayez d'obtenir la meilleure performance possible. Vous êtes libres d'utiliser n'importe quel algorithme de ce laboratoire. Affichez le code et les performances de votre modèle. (8 points)"
   ]
  },
  {
   "cell_type": "code",
   "execution_count": null,
   "id": "9541ae91",
   "metadata": {
    "collapsed": false
   },
   "outputs": [],
   "source": []
  },
  {
   "cell_type": "code",
   "execution_count": null,
   "id": "a785791f",
   "metadata": {
    "collapsed": false
   },
   "outputs": [],
   "source": []
  },
  {
   "cell_type": "markdown",
   "id": "f21566d5",
   "metadata": {
    "collapsed": false
   },
   "source": [
    "#### b) Quelles sont vos conclusions concernant l'utilisation de ChatGPT et les représentations possibles des documents ? (2 points)"
   ]
  },
  {
   "cell_type": "markdown",
   "id": "29c8a8a9",
   "metadata": {
    "collapsed": false
   },
   "source": [
    "> *Entrez votre réponse ici*"
   ]
  },
  {
   "cell_type": "markdown",
   "id": "fa2b28b4",
   "metadata": {
    "collapsed": false
   },
   "source": [
    "## LIVRABLES:\n",
    "Vous devez remettre sur Moodle, avant la date d'échéance, un zip contenant les fichiers suivants :\n",
    "\n",
    "1-\tLe code : Vous devez compléter le squelette inf8460_A23_TP1.ipynb sous le nom   GR0X_equipe_i_inf8460_A23_TP1(X: numéro du groupe de laboratoire; i = votre numéro d’équipe). Indiquez vos noms et matricules au début du notebook. Ce notebook doit contenir les fonctionnalités requises. \n",
    "\n",
    "2-\tUn fichier pdf représentant votre notebook complètement exécuté sous format pdf. \n",
    "Pour créer le fichier cliquez sur File > Download as > PDF via LaTeX (.pdf). Assurez-vous que le PDF est entièrement lisible.\n",
    "\n",
    "\n",
    "## EVALUATION \n",
    "\n",
    "Votre TP sera évalué selon les critères suivants :\n",
    "\n",
    "1. Exécution correcte du code: Tout votre code et vos résultats doivent être exécutables et reproductibles.\n",
    "2. Qualité du code (noms significatifs, structure, gestion d’exception, etc.) avec, entre autres, les recommandations suivantes:\n",
    "    - Il ne devrait pas y avoir de duplication de code. Utilisez des fonctions pour garder votre code modulaire\n",
    "    - Votre code devrait être optimisé: un code trop lent entraînera une perte de points\n",
    "3. Lisibilité du code (Commentaires clairs et informatifs): Le code doit être exécutable sans erreur et accompagné de commentaires appropriés de manière à expliquer les différentes fonctions\n",
    "4. Performance attendue des modèles\n",
    "5. Effort effectué dans la recherche d'autres types d'attributs et dans l'utilisation de ChatGPT\n",
    "6. Réponses correctes/sensées aux questions de réflexion ou d'analyse\n",
    "7. PDF entièrement lisible. Les parties illisibles ne seront pas corrigées et aucune modification passée la date de remise ne sera acceptée.\n",
    " \n"
   ]
  }
 ],
 "metadata": {
  "kernelspec": {
   "argv": [
    "python",
    "-m",
    "ipykernel_launcher",
    "-f",
    "{connection_file}"
   ],
   "display_name": "Python 3 (ipykernel)",
   "env": null,
   "interrupt_mode": "signal",
   "language": "python",
   "metadata": {
    "debugger": true
   },
   "name": "python3"
  },
  "language_info": {
   "codemirror_mode": {
    "name": "ipython",
    "version": 3
   },
   "file_extension": ".py",
   "mimetype": "text/x-python",
   "name": "python",
   "nbconvert_exporter": "python",
   "pygments_lexer": "ipython3",
   "version": "3.8.8"
  },
  "name": "inf8460_A23_TP1_Brando.ipynb"
 },
 "nbformat": 4,
 "nbformat_minor": 5
}
