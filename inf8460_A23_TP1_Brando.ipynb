{
 "cells": [
  {
   "cell_type": "markdown",
   "id": "417a4c65",
   "metadata": {
    "collapsed": false,
    "jupyter": {
     "outputs_hidden": false
    }
   },
   "source": [
    "# INF8460: Traitement automatique de la langue naturelle\n",
    "\n",
    "# TP1: Comparaison d'algorithmes pour classification de texte"
   ]
  },
  {
   "cell_type": "markdown",
   "id": "dc062396",
   "metadata": {
    "collapsed": false,
    "jupyter": {
     "outputs_hidden": false
    }
   },
   "source": [
    "## Identification de l'équipe:\n",
    "\n",
    "### Groupe de laboratoire: \n",
    "\n",
    "### Equipe numéro : \n",
    "\n",
    "### Membres: \n",
    "\n",
    "- membre 1 (% de contribution, nature de la contribution)\n",
    "- membre 2 (% de contribution, nature de la contribution)\n",
    "- membre 3 (% de contribution, nature de la contribution)\n",
    "\n",
    "* nature de la contribution: Décrivez brièvement ce qui a été fait par chaque membre de l’équipe. Tous les membres sont censés contribuer au développement. Bien que chaque membre puisse effectuer différentes tâches, vous devez vous efforcer d’obtenir une répartition égale du travail. "
   ]
  },
  {
   "cell_type": "markdown",
   "id": "b3dacaae",
   "metadata": {
    "collapsed": false,
    "jupyter": {
     "outputs_hidden": false
    }
   },
   "source": [
    "\n",
    "## Description:\n",
    "\n",
    "Dans ce premier TP, vous explorerez les bases du traitement automatique du langage naturel. Au cours de ce travail, vous appliquerez concrètement les concepts enseignés en classe pour résoudre une tâche de classification simple. De plus, le processus ressemblera à la manière dont vous aborderiez ce type de problème dans le monde réel. Tout au long de ce laboratoire, vous vous familiariserez avec des bibliothèques couramment utilisées en NLP ainsi qu'en science des données.\n",
    "\n",
    "Dans ce laboratoire, vous travaillerez avec un jeu de données comprenant des évaluations de produits provenant d'Amazon. Pour chaque évaluation, le jeu de données contient trois informations : le titre fourni par l'utilisateur, le commentaire détaillé et le nombre d'étoiles attribué par l'utilisateur au produit.\n",
    "\n",
    "L'objectif de cette tâche consistera à prédire le nombre d'étoiles attribué à une évaluation à partir du commentaire et du titre qui lui sont associés.\n",
    "\n",
    "Le travail sera divisé en 3 parties:\n",
    "\n",
    " - Chargement, prétraitement et visualisation des données: Dans cette première partie, vous allez charger et prétraiter les données afin qu'elles soient prêtes à être utilisées par les algorithmes lors de la deuxième partie.\n",
    " - Classification: Cette partie consistera à explorer les différents algorithmes pouvant être appliqués à cette tâche. Vous ferez aussi une analyse des sorties du classificateur bayésien naïf.\n",
    " - Amélioration de modèle: Cette dernière partie consistera à améliorer votre modèle de 2 façons différentes. D'abord, vous ferez une recherche d'hyper-paramètres avec de la validation croisée en utilisant un GridSearch. Ensuite, vous ferez de l'extraction d'attributs avec l'aide de ChatGPT afin de d'entrainer un nouveau modèle et de comparer ainsi une représentation de type \"Bag of words\" et une représentation avec attributs spécifiques. \n",
    "\n",
    "\n",
    "## Plan du TP\n",
    "\n",
    "1.    [Chargement, prétraitement et visualisation des données](#1)\n",
    "- 1.1   [Charger les données](#1.1)\n",
    " - 1.1.1 [Charger le jeu de données](#1.1.1)\n",
    " - 1.1.2 [Fusionner les colonnes title et text en une seule colonne](#1.1.2)\n",
    "- 1.2   [Prétraitement des données](#1.2)\n",
    "- 1.3   [Visualisation des données](#1.3)\n",
    " - 1.3.1 [Afficher dans un graphique le nombre d'exemples présents dans le jeu de données pour chaque catégorie](#1.3.1)\n",
    " - 1.3.2 [Afficher dans un graphique la quantité moyenne de jetons par exemple selon la catégorie](#1.3.2)\n",
    " - 1.3.3 [Afficher en texte les top 10 jetons les plus fréquents par catégorie](#1.3.3)\n",
    " - 1.3.4 [Afficher en texte les top 10 adjectifs les plus fréquents selon la catégorie](#1.3.4)\n",
    "- 1.4   [Diviser les données en ensembles d'entraînement et de test](#1.4)\n",
    "- 1.5   [Construction du vocabulaire](#1.5)\n",
    "- 1.6   [Vectorisation des données](#1.6)\n",
    "2.    [Classification](#2)\n",
    "- 2.1   [Modèle aléatoire (Random baseline)](#2.1)\n",
    "- 2.2   [Analyse et compréhension d'un classificateur bayésien naïf (NB)](#2.2)\n",
    " - 2.2.1 [Construction du modèle](#2.2.1)\n",
    " - 2.2.2 [Matrice de confusion](#2.2.2)\n",
    " - 2.2.3 [Visualisation des probabilités de NB](#2.2.3)\n",
    " - 2.2.4 [Visualisation des erreurs commises](#2.2.4)\n",
    " - 2.2.5 [Analyse d'erreurs commises](#2.2.5)\n",
    "- 2.3   [Régression logistique](#2.3)\n",
    "- 2.4   [MLP](#2.4)\n",
    "3.    [Amélioration de modèle](#3)\n",
    "- 3.1   [Recherche d'hyper-paramètres et validation croisée](#3.1)\n",
    "- 3.2   [Extraction d'attributs (Feature extraction) avec ChatGPT](#3.2)\n",
    "- 3.3   [Amélioration du modèle en 3.2](#3.3)\n",
    "\n",
    "\n",
    "\n"
   ]
  },
  {
   "cell_type": "markdown",
   "id": "1e96c2d5",
   "metadata": {
    "collapsed": false,
    "jupyter": {
     "outputs_hidden": false
    }
   },
   "source": [
    "<a name='1'></a>\n",
    "## 1. Chargement, prétraitement et visualisation des données (30 points)\n",
    "\n",
    "Dans cette première partie, vous allez charger et prétraiter les données afin qu'elles soient prêtes à être utilisées par les algorithmes lors de la deuxième partie.\n",
    "\n",
    "<a name='1.1'></a>\n",
    "### 1.1 Charger les données  (2 points)\n",
    "\n",
    "Ce numéro doit être résolu en utilisant la bibliothèque **pandas**.\n",
    "\n",
    "<a name='1.1.1'></a>\n",
    "#### 1.1.1 Charger le jeu de données (1 point)\n",
    "\n",
    "Chargez le jeu de données amazon_rating.csv. Affichez ensuite son contenu.\n"
   ]
  },
  {
   "cell_type": "code",
   "execution_count": 1,
   "id": "3ccc645c",
   "metadata": {
    "collapsed": false,
    "jupyter": {
     "outputs_hidden": false
    }
   },
   "outputs": [],
   "source": [
    "import pandas as pd"
   ]
  },
  {
   "cell_type": "code",
   "execution_count": 2,
   "id": "88767fe4",
   "metadata": {
    "collapsed": false,
    "jupyter": {
     "outputs_hidden": false
    },
    "scrolled": true
   },
   "outputs": [
    {
     "data": {
      "text/html": [
       "<div>\n",
       "<style scoped>\n",
       "    .dataframe tbody tr th:only-of-type {\n",
       "        vertical-align: middle;\n",
       "    }\n",
       "\n",
       "    .dataframe tbody tr th {\n",
       "        vertical-align: top;\n",
       "    }\n",
       "\n",
       "    .dataframe thead th {\n",
       "        text-align: right;\n",
       "    }\n",
       "</style>\n",
       "<table border=\"1\" class=\"dataframe\">\n",
       "  <thead>\n",
       "    <tr style=\"text-align: right;\">\n",
       "      <th></th>\n",
       "      <th>title</th>\n",
       "      <th>text</th>\n",
       "      <th>rating</th>\n",
       "    </tr>\n",
       "  </thead>\n",
       "  <tbody>\n",
       "    <tr>\n",
       "      <th>0</th>\n",
       "      <td>Five Stars</td>\n",
       "      <td>good as any name brand</td>\n",
       "      <td>5</td>\n",
       "    </tr>\n",
       "    <tr>\n",
       "      <th>1</th>\n",
       "      <td>Did The Job</td>\n",
       "      <td>Ordered on accident when I had searched for RE...</td>\n",
       "      <td>3</td>\n",
       "    </tr>\n",
       "    <tr>\n",
       "      <th>2</th>\n",
       "      <td>Great product</td>\n",
       "      <td>I was looking for something to read on and thi...</td>\n",
       "      <td>5</td>\n",
       "    </tr>\n",
       "    <tr>\n",
       "      <th>3</th>\n",
       "      <td>Leaking Acid EVERYEWHERE!!</td>\n",
       "      <td>After 2nd recharge and use all but 3 are leaki...</td>\n",
       "      <td>1</td>\n",
       "    </tr>\n",
       "    <tr>\n",
       "      <th>4</th>\n",
       "      <td>One Star</td>\n",
       "      <td>They fail earlier than brand names. I assumed ...</td>\n",
       "      <td>1</td>\n",
       "    </tr>\n",
       "    <tr>\n",
       "      <th>...</th>\n",
       "      <td>...</td>\n",
       "      <td>...</td>\n",
       "      <td>...</td>\n",
       "    </tr>\n",
       "    <tr>\n",
       "      <th>2788</th>\n",
       "      <td>Three Stars</td>\n",
       "      <td>Weird but some didn't last long as they should</td>\n",
       "      <td>3</td>\n",
       "    </tr>\n",
       "    <tr>\n",
       "      <th>2789</th>\n",
       "      <td>Good for kids but SLOW</td>\n",
       "      <td>A good starter tablet, but very very slow. Don...</td>\n",
       "      <td>3</td>\n",
       "    </tr>\n",
       "    <tr>\n",
       "      <th>2790</th>\n",
       "      <td>good tablet to star</td>\n",
       "      <td>is a God tablet but the camera could be a litt...</td>\n",
       "      <td>3</td>\n",
       "    </tr>\n",
       "    <tr>\n",
       "      <th>2791</th>\n",
       "      <td>Just decent tablet</td>\n",
       "      <td>Not many apps. The first one was already retur...</td>\n",
       "      <td>3</td>\n",
       "    </tr>\n",
       "    <tr>\n",
       "      <th>2792</th>\n",
       "      <td>One Star</td>\n",
       "      <td>don't last long. Replace batteries in my clock...</td>\n",
       "      <td>1</td>\n",
       "    </tr>\n",
       "  </tbody>\n",
       "</table>\n",
       "<p>2793 rows × 3 columns</p>\n",
       "</div>"
      ],
      "text/plain": [
       "                           title  \\\n",
       "0                     Five Stars   \n",
       "1                    Did The Job   \n",
       "2                  Great product   \n",
       "3     Leaking Acid EVERYEWHERE!!   \n",
       "4                       One Star   \n",
       "...                          ...   \n",
       "2788                 Three Stars   \n",
       "2789      Good for kids but SLOW   \n",
       "2790         good tablet to star   \n",
       "2791          Just decent tablet   \n",
       "2792                    One Star   \n",
       "\n",
       "                                                   text  rating  \n",
       "0                                good as any name brand       5  \n",
       "1     Ordered on accident when I had searched for RE...       3  \n",
       "2     I was looking for something to read on and thi...       5  \n",
       "3     After 2nd recharge and use all but 3 are leaki...       1  \n",
       "4     They fail earlier than brand names. I assumed ...       1  \n",
       "...                                                 ...     ...  \n",
       "2788     Weird but some didn't last long as they should       3  \n",
       "2789  A good starter tablet, but very very slow. Don...       3  \n",
       "2790  is a God tablet but the camera could be a litt...       3  \n",
       "2791  Not many apps. The first one was already retur...       3  \n",
       "2792  don't last long. Replace batteries in my clock...       1  \n",
       "\n",
       "[2793 rows x 3 columns]"
      ]
     },
     "execution_count": 2,
     "metadata": {},
     "output_type": "execute_result"
    }
   ],
   "source": [
    "data = pd.read_csv(\"amazon_rating.csv\")\n",
    "data"
   ]
  },
  {
   "cell_type": "markdown",
   "id": "aadd4f88",
   "metadata": {
    "collapsed": false,
    "jupyter": {
     "outputs_hidden": false
    }
   },
   "source": [
    "<a name='1.1.2'></a>\n",
    "#### 1.1.2 Fusionner les colonnes title et text en une seule colonne (1 point)\n",
    "\n",
    "Afin de faciliter la tâche pour le reste du TP, nous allons fusionner ces deux colonnes afin que nous n'ayons qu'un seul texte à considérer lors de la vectorisation.\n",
    "\n",
    "Afin de s'assurer de l'intégrité des textes, fusionnez-les à l'aide d'un espace. Par exemple, une évaluation ayant le titre \"Five Stars\" et le commentaire \"good as any name brand\" aura comme texte final \"Five Stars good as any name brand\".\n",
    "\n",
    "Stockez le résultat dans la colonne \"text\" et supprimez la colonne \"title\"."
   ]
  },
  {
   "cell_type": "code",
   "execution_count": 3,
   "id": "b5b627c4",
   "metadata": {
    "collapsed": false,
    "jupyter": {
     "outputs_hidden": false
    }
   },
   "outputs": [
    {
     "data": {
      "text/html": [
       "<div>\n",
       "<style scoped>\n",
       "    .dataframe tbody tr th:only-of-type {\n",
       "        vertical-align: middle;\n",
       "    }\n",
       "\n",
       "    .dataframe tbody tr th {\n",
       "        vertical-align: top;\n",
       "    }\n",
       "\n",
       "    .dataframe thead th {\n",
       "        text-align: right;\n",
       "    }\n",
       "</style>\n",
       "<table border=\"1\" class=\"dataframe\">\n",
       "  <thead>\n",
       "    <tr style=\"text-align: right;\">\n",
       "      <th></th>\n",
       "      <th>text</th>\n",
       "      <th>rating</th>\n",
       "    </tr>\n",
       "  </thead>\n",
       "  <tbody>\n",
       "    <tr>\n",
       "      <th>0</th>\n",
       "      <td>Five Stars good as any name brand</td>\n",
       "      <td>5</td>\n",
       "    </tr>\n",
       "    <tr>\n",
       "      <th>1</th>\n",
       "      <td>Did The Job Ordered on accident when I had sea...</td>\n",
       "      <td>3</td>\n",
       "    </tr>\n",
       "    <tr>\n",
       "      <th>2</th>\n",
       "      <td>Great product I was looking for something to r...</td>\n",
       "      <td>5</td>\n",
       "    </tr>\n",
       "    <tr>\n",
       "      <th>3</th>\n",
       "      <td>Leaking Acid EVERYEWHERE!! After 2nd recharge ...</td>\n",
       "      <td>1</td>\n",
       "    </tr>\n",
       "    <tr>\n",
       "      <th>4</th>\n",
       "      <td>One Star They fail earlier than brand names. I...</td>\n",
       "      <td>1</td>\n",
       "    </tr>\n",
       "    <tr>\n",
       "      <th>...</th>\n",
       "      <td>...</td>\n",
       "      <td>...</td>\n",
       "    </tr>\n",
       "    <tr>\n",
       "      <th>2788</th>\n",
       "      <td>Three Stars Weird but some didn't last long as...</td>\n",
       "      <td>3</td>\n",
       "    </tr>\n",
       "    <tr>\n",
       "      <th>2789</th>\n",
       "      <td>Good for kids but SLOW A good starter tablet, ...</td>\n",
       "      <td>3</td>\n",
       "    </tr>\n",
       "    <tr>\n",
       "      <th>2790</th>\n",
       "      <td>good tablet to star is a God tablet but the ca...</td>\n",
       "      <td>3</td>\n",
       "    </tr>\n",
       "    <tr>\n",
       "      <th>2791</th>\n",
       "      <td>Just decent tablet Not many apps. The first on...</td>\n",
       "      <td>3</td>\n",
       "    </tr>\n",
       "    <tr>\n",
       "      <th>2792</th>\n",
       "      <td>One Star don't last long. Replace batteries in...</td>\n",
       "      <td>1</td>\n",
       "    </tr>\n",
       "  </tbody>\n",
       "</table>\n",
       "<p>2793 rows × 2 columns</p>\n",
       "</div>"
      ],
      "text/plain": [
       "                                                   text  rating\n",
       "0                     Five Stars good as any name brand       5\n",
       "1     Did The Job Ordered on accident when I had sea...       3\n",
       "2     Great product I was looking for something to r...       5\n",
       "3     Leaking Acid EVERYEWHERE!! After 2nd recharge ...       1\n",
       "4     One Star They fail earlier than brand names. I...       1\n",
       "...                                                 ...     ...\n",
       "2788  Three Stars Weird but some didn't last long as...       3\n",
       "2789  Good for kids but SLOW A good starter tablet, ...       3\n",
       "2790  good tablet to star is a God tablet but the ca...       3\n",
       "2791  Just decent tablet Not many apps. The first on...       3\n",
       "2792  One Star don't last long. Replace batteries in...       1\n",
       "\n",
       "[2793 rows x 2 columns]"
      ]
     },
     "execution_count": 3,
     "metadata": {},
     "output_type": "execute_result"
    }
   ],
   "source": [
    "data[\"text\"] = data[\"title\"] + \" \" + data[\"text\"]\n",
    "data = data.drop(columns=[\"title\"])\n",
    "data"
   ]
  },
  {
   "cell_type": "markdown",
   "id": "6fbcbf38",
   "metadata": {
    "collapsed": false,
    "jupyter": {
     "outputs_hidden": false
    }
   },
   "source": [
    "<a name='1.2'></a>\n",
    "### 1.2 Prétraitement des données (4 points)\n",
    "\n",
    "En utilisant la librairie nltk, implémentez la fonction suivante qui :\n",
    "\n",
    "- Enlève les majuscules.\n",
    "- Enlève les caractères de ponctuation.\n",
    "- Segmente la séquence en entrée en une liste de jetons (tokenization).\n",
    "- Enlève les \"stopwords\"\n",
    "- Effectue la racinisation.\n",
    "- Retourne l'ensemble des jetons de la séquence\n",
    "    "
   ]
  },
  {
   "cell_type": "code",
   "execution_count": 4,
   "id": "d51e35a2",
   "metadata": {
    "collapsed": false,
    "jupyter": {
     "outputs_hidden": false
    }
   },
   "outputs": [],
   "source": [
    "import nltk\n",
    "from nltk.corpus import stopwords\n",
    "from nltk.tokenize import word_tokenize\n",
    "import string\n",
    "import re\n",
    "\n",
    "stopwords = stopwords.words('english')\n",
    "stemmer = nltk.stem.porter.PorterStemmer()\n",
    "#lemmer = nltk.stem.wordnet.WordNetLemmatizer()\n",
    "\n",
    "\n",
    "def preprocess(sentence):\n",
    "    \"\"\"\n",
    "    Fonction qui transforme une chaine de caractère en liste de jetons.\n",
    "    Les pre-traitements à implémenter sont: \n",
    "    1. Enlever les majuscules\n",
    "    2. Enlever les caractères de ponctuations\n",
    "    3. Séparer la chaine de caractères en une liste de jetons (tokenization) \n",
    "    4. Enlever les stopwords\n",
    "    5. Stemming (racinisation)\n",
    "    \n",
    "    :param sentence: une chaine de caractère\n",
    "    :return: la liste de jetons\n",
    "    \"\"\" \n",
    "    \n",
    "    # Enlever les majuscules\n",
    "    sentence = sentence.lower()\n",
    "\n",
    "    # Enlever les caractères de ponctuations\n",
    "    sentence = re.sub(r'[^\\w\\s]', '', sentence)\n",
    "\n",
    "    # Séparer la chaine de caractères en une liste de jetons (tokenization)\n",
    "    tokens = word_tokenize(sentence)\n",
    "\n",
    "    # Enlever les stopwords\n",
    "    tokens = {token for token in tokens if token not in stopwords}\n",
    "\n",
    "    # Stemming (racinisation)\n",
    "    tokens = [stemmer.stem(token) for token in tokens]\n",
    "    \n",
    "    return tokens"
   ]
  },
  {
   "cell_type": "code",
   "execution_count": 5,
   "id": "ea36a64b",
   "metadata": {
    "collapsed": false,
    "jupyter": {
     "outputs_hidden": false
    }
   },
   "outputs": [],
   "source": [
    "\"\"\"\n",
    "NE PAS MODIFIER\n",
    "\n",
    "Le code suivant appliquera votre fonction sur tous les exemples. Il gardera aussi une version originale pour une analyse future.\n",
    "\"\"\"\n",
    "\n",
    "data[\"text_original\"] = data[\"text\"]\n",
    "data[\"text\"] = data[\"text\"].apply(preprocess)\n"
   ]
  },
  {
   "cell_type": "markdown",
   "id": "a1c0e19b",
   "metadata": {
    "collapsed": false,
    "jupyter": {
     "outputs_hidden": false
    }
   },
   "source": [
    "<a name='1.3'></a>\n",
    "### 1.3 Visualisation des données (15 points)\n",
    "\n",
    "**Utilisez la bibliothèque matplotlib pour les graphiques.** Vous pouvez utiliser n'importe quelle classe de base de Python, par exemple collections.Counter, qui sera utile pour l'affichage des jetons."
   ]
  },
  {
   "cell_type": "markdown",
   "id": "731d61c8",
   "metadata": {
    "collapsed": false,
    "jupyter": {
     "outputs_hidden": false
    }
   },
   "source": [
    "La colonne \"rating\" contient le nombre d'étoiles associé à l'évaluation d'un utilisateur. Le nombre d'étoiles varie entre 1 et 5.\n",
    "\n",
    "Afin de simplifier la tâche de classification, nous avons enlevé les commentaires ayant 2 et 4 étoiles du jeu de données. Cela signifie qu'il y a trois catégories de commentaires, c'est-à-dire ceux ayant 1, 3 ou 5 étoiles.\n",
    "\n",
    "Affichez dans un graphique :\n",
    "\n",
    "- Le nombre d'exemples présents dans le jeu de données par catégorie.\n",
    "- La quantité moyenne de jetons par exemple selon la catégorie.\n"
   ]
  },
  {
   "cell_type": "markdown",
   "id": "6e870b33",
   "metadata": {
    "collapsed": false,
    "jupyter": {
     "outputs_hidden": false
    }
   },
   "source": [
    "<a name='1.3.1'></a>\n",
    "#### 1.3.1  Afficher dans un graphique le nombre d'exemples présents dans le jeu de données pour chaque catégorie  (3 points)"
   ]
  },
  {
   "cell_type": "code",
   "execution_count": 6,
   "id": "239b4dfa",
   "metadata": {
    "collapsed": false,
    "jupyter": {
     "outputs_hidden": false
    },
    "scrolled": true
   },
   "outputs": [],
   "source": [
    "import matplotlib.pyplot as plt"
   ]
  },
  {
   "cell_type": "code",
   "execution_count": 7,
   "id": "70b92fc7-11c2-4a76-b1c7-9ceb79c31cf7",
   "metadata": {
    "collapsed": false,
    "jupyter": {
     "outputs_hidden": false
    }
   },
   "outputs": [
    {
     "data": {
      "text/plain": [
       "<Axes: xlabel='rating'>"
      ]
     },
     "execution_count": 7,
     "metadata": {},
     "output_type": "execute_result"
    },
    {
     "data": {
      "image/png": "[encoded data removed]",
      "text/plain": [
       "<Figure size 640x480 with 1 Axes>"
      ]
     },
     "metadata": {},
     "output_type": "display_data"
    }
   ],
   "source": [
    "# group by rating and count the number of examples\n",
    "data.groupby(\"rating\").count().plot(kind=\"bar\", y=\"text\", legend=False)\n"
   ]
  },
  {
   "cell_type": "markdown",
   "id": "c244aa72",
   "metadata": {
    "collapsed": false,
    "jupyter": {
     "outputs_hidden": false
    }
   },
   "source": [
    "<a name='1.3.2'></a>\n",
    "#### 1.3.2 Afficher dans un graphique le nombre moyen de jetons dans les exemples de chaque catégorie (4 points)"
   ]
  },
  {
   "cell_type": "code",
   "execution_count": 8,
   "id": "8403821b-c20c-418f-8137-e729f2e80720",
   "metadata": {
    "collapsed": false,
    "jupyter": {
     "outputs_hidden": false
    }
   },
   "outputs": [
    {
     "data": {
      "text/plain": [
       "<Axes: xlabel='rating'>"
      ]
     },
     "execution_count": 8,
     "metadata": {},
     "output_type": "execute_result"
    },
    {
     "data": {
      "image/png": "[encoded data removed]",
      "text/plain": [
       "<Figure size 640x480 with 1 Axes>"
      ]
     },
     "metadata": {},
     "output_type": "display_data"
    }
   ],
   "source": [
    "# group by rating and get mean of \"number_of_tokens\"\n",
    "data[\"number_of_tokens\"] = data[\"text\"].apply(len)\n",
    "data.groupby(\"rating\").mean(\"number_of_tokens\").plot(kind=\"bar\", y=\"number_of_tokens\", legend=True, rot=0)"
   ]
  },
  {
   "cell_type": "markdown",
   "id": "e6650c0f",
   "metadata": {
    "collapsed": false,
    "jupyter": {
     "outputs_hidden": false
    }
   },
   "source": [
    "<a name='1.3.3'></a>\n",
    "#### 1.3.3 Afficher en texte les top 10 des jetons les plus fréquents par catégorie (4 points)"
   ]
  },
  {
   "cell_type": "markdown",
   "id": "86ff8a3f",
   "metadata": {
    "collapsed": false,
    "jupyter": {
     "outputs_hidden": false
    }
   },
   "source": [
    "\n",
    "Affichez en texte les 10 jetons les plus fréquents selon la catégorie.\n"
   ]
  },
  {
   "cell_type": "code",
   "execution_count": 9,
   "id": "0befd5a8",
   "metadata": {
    "collapsed": false,
    "jupyter": {
     "outputs_hidden": false
    }
   },
   "outputs": [
    {
     "data": {
      "text/html": [
       "<div>\n",
       "<style scoped>\n",
       "    .dataframe tbody tr th:only-of-type {\n",
       "        vertical-align: middle;\n",
       "    }\n",
       "\n",
       "    .dataframe tbody tr th {\n",
       "        vertical-align: top;\n",
       "    }\n",
       "\n",
       "    .dataframe thead th {\n",
       "        text-align: right;\n",
       "    }\n",
       "</style>\n",
       "<table border=\"1\" class=\"dataframe\">\n",
       "  <thead>\n",
       "    <tr style=\"text-align: right;\">\n",
       "      <th></th>\n",
       "      <th>rating</th>\n",
       "      <th>text</th>\n",
       "      <th>top</th>\n",
       "    </tr>\n",
       "  </thead>\n",
       "  <tbody>\n",
       "    <tr>\n",
       "      <th>0</th>\n",
       "      <td>1</td>\n",
       "      <td>[3, leak, ruin, 2nd, fluid, acid, everyewher, ...</td>\n",
       "      <td>[(batteri, 597), (last, 310), (one, 295), (use...</td>\n",
       "    </tr>\n",
       "    <tr>\n",
       "      <th>1</th>\n",
       "      <td>3</td>\n",
       "      <td>[fault, made, less, put, amazon, guard, free, ...</td>\n",
       "      <td>[(batteri, 278), (good, 262), (tablet, 249), (...</td>\n",
       "    </tr>\n",
       "    <tr>\n",
       "      <th>2</th>\n",
       "      <td>5</td>\n",
       "      <td>[brand, five, star, good, name, life, work, fi...</td>\n",
       "      <td>[(great, 458), (love, 262), (batteri, 254), (t...</td>\n",
       "    </tr>\n",
       "  </tbody>\n",
       "</table>\n",
       "</div>"
      ],
      "text/plain": [
       "   rating                                               text  \\\n",
       "0       1  [3, leak, ruin, 2nd, fluid, acid, everyewher, ...   \n",
       "1       3  [fault, made, less, put, amazon, guard, free, ...   \n",
       "2       5  [brand, five, star, good, name, life, work, fi...   \n",
       "\n",
       "                                                 top  \n",
       "0  [(batteri, 597), (last, 310), (one, 295), (use...  \n",
       "1  [(batteri, 278), (good, 262), (tablet, 249), (...  \n",
       "2  [(great, 458), (love, 262), (batteri, 254), (t...  "
      ]
     },
     "execution_count": 9,
     "metadata": {},
     "output_type": "execute_result"
    }
   ],
   "source": [
    "from collections import Counter\n",
    "\n",
    "# groupby category and get the top 10 most frequent tokens\n",
    "\n",
    "# groupby category and merge lists\n",
    "top_words_df = data[[\"text\", \"rating\"]].groupby(\"rating\").sum().reset_index()\n",
    "\n",
    "# get the top 10 most frequent tokens as a word chart\n",
    "top_words_df[\"top\"] = top_words_df [\"text\"].apply(lambda x: Counter(x).most_common(10))\n",
    "\n",
    "top_words_df"
   ]
  },
  {
   "cell_type": "code",
   "execution_count": 10,
   "id": "5808ea99-3bb2-4079-9027-8298ad42bdf1",
   "metadata": {
    "collapsed": false,
    "jupyter": {
     "outputs_hidden": false
    }
   },
   "outputs": [
    {
     "data": {
      "image/png": "[encoded data removed]",
      "text/plain": [
       "<Figure size 1200x600 with 1 Axes>"
      ]
     },
     "metadata": {},
     "output_type": "display_data"
    },
    {
     "data": {
      "image/png": "[encoded data removed]",
      "text/plain": [
       "<Figure size 1200x600 with 1 Axes>"
      ]
     },
     "metadata": {},
     "output_type": "display_data"
    },
    {
     "data": {
      "image/png": "[encoded data removed]",
      "text/plain": [
       "<Figure size 1200x600 with 1 Axes>"
      ]
     },
     "metadata": {},
     "output_type": "display_data"
    }
   ],
   "source": [
    "\n",
    "for index, row in top_words_df.iterrows():\n",
    "    words, frequencies = zip(*row['top'])  # Unpack tuple into separate lists\n",
    "    plt.figure(figsize=(12, 6))\n",
    "    plt.barh(words, frequencies)\n",
    "    plt.xlabel('Frequency')\n",
    "    plt.ylabel('Words')\n",
    "    plt.title(f\"Top 10 Most Frequent Words for Rating {row['rating']}\")\n",
    "    plt.show()\n"
   ]
  },
  {
   "cell_type": "markdown",
   "id": "bafb388a",
   "metadata": {
    "collapsed": false,
    "jupyter": {
     "outputs_hidden": false
    }
   },
   "source": [
    "<a name='1.3.4'></a>\n",
    "#### 1.3.4 Afficher en texte les top 10 des adjectifs les plus fréquents selon la catégorie (4 points)\n",
    "\n",
    "Pour cet exercice, vous devrez utiliser la fonction [nltk.pos_tag](https://www.nltk.org/book/ch05.html) et retenir les jetons identifiés comme JJ.\n",
    " \n",
    "Pour obtenir de bons résultats, le tagger [nltk.pos_tag](https://www.nltk.org/book/ch05.html) doit être exécuté sur le texte original, incluant les stopwords. \n",
    "Vous devrez donc partir des évaluations originales. Pour vous simplifier la tâche, utilisez \n",
    "le tokenizer *word_tokenize* provenant de nltk.\n",
    "\n",
    "**Les adjectifs sont les jetons identifiés comme JJ.**"
   ]
  },
  {
   "cell_type": "code",
   "execution_count": 46,
   "id": "bc15ac5f",
   "metadata": {
    "collapsed": false,
    "jupyter": {
     "outputs_hidden": false
    }
   },
   "outputs": [
    {
     "data": {
      "text/plain": [
       "0                                        [good]\n",
       "1                                 [happy, free]\n",
       "2       [right, screen, good, great, nice, Big]\n",
       "3                                   [corrosive]\n",
       "4                                     [earlier]\n",
       "                         ...                   \n",
       "2788                                     [last]\n",
       "2789             [Good, good, slow, true, fine]\n",
       "2790                     [good, little, better]\n",
       "2791        [decent, many, first, second, fine]\n",
       "2792                               [last, long]\n",
       "Name: adjectives, Length: 2793, dtype: object"
      ]
     },
     "execution_count": 46,
     "metadata": {},
     "output_type": "execute_result"
    }
   ],
   "source": [
    "from nltk.tokenize import word_tokenize\n",
    "from nltk import pos_tag\n",
    "\n",
    "# nltk.download('averaged_perceptron_tagger')\n",
    "\n",
    "data[\"tag\"] = data[\"text_original\"].apply(lambda x: pos_tag(word_tokenize(x)))\n",
    "data[\"adjectives\"] = data[\"tag\"].apply(lambda x: [word for word, tag in x if tag.startswith('JJ')])\n",
    "data[\"adjectives\"]"
   ]
  },
  {
   "cell_type": "code",
   "execution_count": 47,
   "id": "75f47ce5-a41e-48e2-9f7b-640a5410302d",
   "metadata": {
    "collapsed": false,
    "jupyter": {
     "outputs_hidden": false
    }
   },
   "outputs": [
    {
     "data": {
      "text/html": [
       "<div>\n",
       "<style scoped>\n",
       "    .dataframe tbody tr th:only-of-type {\n",
       "        vertical-align: middle;\n",
       "    }\n",
       "\n",
       "    .dataframe tbody tr th {\n",
       "        vertical-align: top;\n",
       "    }\n",
       "\n",
       "    .dataframe thead th {\n",
       "        text-align: right;\n",
       "    }\n",
       "</style>\n",
       "<table border=\"1\" class=\"dataframe\">\n",
       "  <thead>\n",
       "    <tr style=\"text-align: right;\">\n",
       "      <th></th>\n",
       "      <th>rating</th>\n",
       "      <th>adjectives</th>\n",
       "      <th>top</th>\n",
       "    </tr>\n",
       "  </thead>\n",
       "  <tbody>\n",
       "    <tr>\n",
       "      <th>0</th>\n",
       "      <td>1</td>\n",
       "      <td>[corrosive, earlier, regular, bad, less, last,...</td>\n",
       "      <td>[(last, 259), (good, 102), (dead, 95), (other,...</td>\n",
       "    </tr>\n",
       "    <tr>\n",
       "      <th>1</th>\n",
       "      <td>3</td>\n",
       "      <td>[happy, free, okay, smaller, lighter, original...</td>\n",
       "      <td>[(good, 238), (last, 201), (great, 132), (Good...</td>\n",
       "    </tr>\n",
       "    <tr>\n",
       "      <th>2</th>\n",
       "      <td>5</td>\n",
       "      <td>[good, right, screen, good, great, nice, Big, ...</td>\n",
       "      <td>[(great, 260), (good, 175), (old, 90), (easy, ...</td>\n",
       "    </tr>\n",
       "  </tbody>\n",
       "</table>\n",
       "</div>"
      ],
      "text/plain": [
       "   rating                                         adjectives  \\\n",
       "0       1  [corrosive, earlier, regular, bad, less, last,...   \n",
       "1       3  [happy, free, okay, smaller, lighter, original...   \n",
       "2       5  [good, right, screen, good, great, nice, Big, ...   \n",
       "\n",
       "                                                 top  \n",
       "0  [(last, 259), (good, 102), (dead, 95), (other,...  \n",
       "1  [(good, 238), (last, 201), (great, 132), (Good...  \n",
       "2  [(great, 260), (good, 175), (old, 90), (easy, ...  "
      ]
     },
     "execution_count": 47,
     "metadata": {},
     "output_type": "execute_result"
    }
   ],
   "source": [
    "top_adjectives_df = data[[\"adjectives\", \"rating\"]].groupby(\"rating\").sum().reset_index()\n",
    "top_adjectives_df[\"top\"] = top_adjectives_df [\"adjectives\"].apply(lambda x: Counter(x).most_common(10))\n",
    "top_adjectives_df"
   ]
  },
  {
   "cell_type": "code",
   "execution_count": 48,
   "id": "a5966894-7fa7-4a69-93d3-cead27f9d0ad",
   "metadata": {
    "collapsed": false,
    "jupyter": {
     "outputs_hidden": false
    }
   },
   "outputs": [
    {
     "data": {
      "image/png": "[encoded data removed]",
      "text/plain": [
       "<Figure size 1200x600 with 1 Axes>"
      ]
     },
     "metadata": {},
     "output_type": "display_data"
    },
    {
     "data": {
      "image/png": "[encoded data removed]",
      "text/plain": [
       "<Figure size 1200x600 with 1 Axes>"
      ]
     },
     "metadata": {},
     "output_type": "display_data"
    },
    {
     "data": {
      "image/png": "[encoded data removed]",
      "text/plain": [
       "<Figure size 1200x600 with 1 Axes>"
      ]
     },
     "metadata": {},
     "output_type": "display_data"
    }
   ],
   "source": [
    "for index, row in top_adjectives_df.iterrows():\n",
    "    adjectives, frequencies = zip(*row['top'])  # Unpack tuple into separate lists\n",
    "    plt.figure(figsize=(12, 6))\n",
    "    plt.barh(adjectives, frequencies)\n",
    "    plt.xlabel('Frequency')\n",
    "    plt.ylabel('Adjectives')\n",
    "    plt.title(f\"Top 10 Most Frequent Adjectives for Rating {row['rating']}\")\n",
    "    plt.show()\n",
    "    "
   ]
  },
  {
   "cell_type": "markdown",
   "id": "86de4b1e",
   "metadata": {
    "collapsed": false,
    "jupyter": {
     "outputs_hidden": false
    }
   },
   "source": [
    "<a name='1.4'></a>\n",
    "### 1.4 Diviser les données en ensembles d'entraînement et de test (1 point)\n",
    "\n",
    "À l'aide de la fonction [train_test_split](https://scikit-learn.org/stable/modules/generated/sklearn.model_selection.train_test_split.html) de SKlearn, séparez les données en ensembles d'entraînement (67% des données) et de test (33% des données). Gardez les deux ensembles dans 2 variables."
   ]
  },
  {
   "cell_type": "code",
   "execution_count": 14,
   "id": "0e5a58bc",
   "metadata": {
    "collapsed": false,
    "jupyter": {
     "outputs_hidden": false
    }
   },
   "outputs": [],
   "source": [
    "from sklearn.model_selection import train_test_split\n",
    "\n",
    "X, y = data[\"text\"], data[\"rating\"]\n",
    "X_original, y_original = data[\"text_original\"], data[\"rating\"]\n",
    "X_train, X_test, y_train, y_test = train_test_split(X, y, test_size=0.33, random_state=0)\n",
    "X_train_original, X_test_original, y_train_original, y_test_original = train_test_split(X_original, y_original, test_size=0.33, random_state=0)\n"
   ]
  },
  {
   "cell_type": "markdown",
   "id": "5146eabe",
   "metadata": {
    "collapsed": false,
    "jupyter": {
     "outputs_hidden": false
    }
   },
   "source": [
    "<a name='1.5'></a>\n",
    "### 1.5 Construction du vocabulaire (4 points)\n",
    "\n",
    "Dans un modèle Bag-of-Words (BoW), un vocabulaire est prédéterminé à partir de l'ensemble d'entraînement. Seuls les mots faisant partie de ce vocabulaire seront considérés pour la suite.\n",
    "\n",
    "Complétez la fonction **build_voc** qui retourne une liste de jetons qui sont présents au moins n fois (threshold passé en paramètre) dans la liste d'exemples (également passée en paramètre). Vous pouvez utiliser la classe Counter.\n",
    "\n",
    "Ensuite, appelez cette fonction pour construire votre vocabulaire."
   ]
  },
  {
   "cell_type": "code",
   "execution_count": 15,
   "id": "d0e901d6",
   "metadata": {
    "collapsed": false,
    "jupyter": {
     "outputs_hidden": false
    }
   },
   "outputs": [
    {
     "data": {
      "text/plain": [
       "555"
      ]
     },
     "execution_count": 15,
     "metadata": {},
     "output_type": "execute_result"
    }
   ],
   "source": [
    "\n",
    "def build_voc(documents, threshold):\n",
    "    \n",
    "    token_counts = Counter(documents) \n",
    "    vocabulary = [token for token, count in token_counts.items() if count >= threshold]\n",
    "\n",
    "    return vocabulary\n",
    "\n",
    "# concat all the tokens in the training set\n",
    "all_tokens = []\n",
    "for token_lists in X_train:\n",
    "    all_tokens += token_lists\n",
    "\n",
    "# build the vocabulary\n",
    "vocabulary = build_voc(all_tokens, 10)\n",
    "len(vocabulary)"
   ]
  },
  {
   "cell_type": "markdown",
   "id": "e006f572",
   "metadata": {
    "collapsed": false,
    "jupyter": {
     "outputs_hidden": false
    }
   },
   "source": [
    "<a name='1.6'></a>\n",
    "### 1.6 Vectorisation des données (4 points)\n",
    "\n",
    "À l'aide de la classe [TfidfVectorizer](https://scikit-learn.org/stable/modules/generated/sklearn.feature_extraction.text.TfidfVectorizer.html) de Sklearn, transformez l'ensemble de jetons en matrice de co-occurence utilisant TF-IDF.\n",
    "\n",
    "Utilisez le vocabulaire construit au numéro précédent dans votre matrice de co-occurrence (voir le paramètre vocabulary de TfidfVectorizer). \n",
    "\n",
    "**Faites attention:** Il ne faut pas entrainer (fit) la vectorisation sur l'ensemble de test"
   ]
  },
  {
   "cell_type": "code",
   "execution_count": 16,
   "id": "7b22f5e6-7063-43b4-85de-ad21a846f4af",
   "metadata": {
    "collapsed": false,
    "jupyter": {
     "outputs_hidden": false
    }
   },
   "outputs": [
    {
     "data": {
      "text/plain": [
       "1804              [energi, deal, three, star, quick, ran]\n",
       "684                       [okay, three, long, star, last]\n",
       "300     [work, much, doesnt, everyth, toy, electron, b...\n",
       "861                              [work, star, five, well]\n",
       "128     [much, differ, like, love, life, galaxi, one, ...\n",
       "                              ...                        \n",
       "763     [brand, like, couch, certain, beg, critic, aa,...\n",
       "835     [decent, quickli, ton, crap, price, batteri, d...\n",
       "1653    [run, robot, power, muahahahahaha, need, armi,...\n",
       "2607    [deal, time, packag, manner, great, ship, awesom]\n",
       "2732    [get, mine, gift, 3, differ, year, kerplot, ne...\n",
       "Name: text, Length: 1871, dtype: object"
      ]
     },
     "execution_count": 16,
     "metadata": {},
     "output_type": "execute_result"
    }
   ],
   "source": [
    "X_train"
   ]
  },
  {
   "cell_type": "code",
   "execution_count": 17,
   "id": "54bdc303",
   "metadata": {
    "collapsed": false,
    "jupyter": {
     "outputs_hidden": false
    }
   },
   "outputs": [
    {
     "data": {
      "text/html": [
       "<div>\n",
       "<style scoped>\n",
       "    .dataframe tbody tr th:only-of-type {\n",
       "        vertical-align: middle;\n",
       "    }\n",
       "\n",
       "    .dataframe tbody tr th {\n",
       "        vertical-align: top;\n",
       "    }\n",
       "\n",
       "    .dataframe thead th {\n",
       "        text-align: right;\n",
       "    }\n",
       "</style>\n",
       "<table border=\"1\" class=\"dataframe\">\n",
       "  <thead>\n",
       "    <tr style=\"text-align: right;\">\n",
       "      <th></th>\n",
       "      <th>deal</th>\n",
       "      <th>three</th>\n",
       "      <th>star</th>\n",
       "      <th>quick</th>\n",
       "      <th>ran</th>\n",
       "      <th>okay</th>\n",
       "      <th>long</th>\n",
       "      <th>last</th>\n",
       "      <th>work</th>\n",
       "      <th>much</th>\n",
       "      <th>...</th>\n",
       "      <th>handi</th>\n",
       "      <th>email</th>\n",
       "      <th>overal</th>\n",
       "      <th>faster</th>\n",
       "      <th>brows</th>\n",
       "      <th>fact</th>\n",
       "      <th>gave</th>\n",
       "      <th>birthday</th>\n",
       "      <th>shop</th>\n",
       "      <th>husband</th>\n",
       "    </tr>\n",
       "  </thead>\n",
       "  <tbody>\n",
       "    <tr>\n",
       "      <th>0</th>\n",
       "      <td>0.432079</td>\n",
       "      <td>0.326529</td>\n",
       "      <td>0.246567</td>\n",
       "      <td>0.560388</td>\n",
       "      <td>0.57607</td>\n",
       "      <td>0.000000</td>\n",
       "      <td>0.000000</td>\n",
       "      <td>0.000000</td>\n",
       "      <td>0.000000</td>\n",
       "      <td>0.000000</td>\n",
       "      <td>...</td>\n",
       "      <td>0.0</td>\n",
       "      <td>0.0</td>\n",
       "      <td>0.0</td>\n",
       "      <td>0.0</td>\n",
       "      <td>0.0</td>\n",
       "      <td>0.0</td>\n",
       "      <td>0.0</td>\n",
       "      <td>0.0</td>\n",
       "      <td>0.0</td>\n",
       "      <td>0.0</td>\n",
       "    </tr>\n",
       "    <tr>\n",
       "      <th>1</th>\n",
       "      <td>0.000000</td>\n",
       "      <td>0.434325</td>\n",
       "      <td>0.327965</td>\n",
       "      <td>0.000000</td>\n",
       "      <td>0.00000</td>\n",
       "      <td>0.663737</td>\n",
       "      <td>0.387740</td>\n",
       "      <td>0.336023</td>\n",
       "      <td>0.000000</td>\n",
       "      <td>0.000000</td>\n",
       "      <td>...</td>\n",
       "      <td>0.0</td>\n",
       "      <td>0.0</td>\n",
       "      <td>0.0</td>\n",
       "      <td>0.0</td>\n",
       "      <td>0.0</td>\n",
       "      <td>0.0</td>\n",
       "      <td>0.0</td>\n",
       "      <td>0.0</td>\n",
       "      <td>0.0</td>\n",
       "      <td>0.0</td>\n",
       "    </tr>\n",
       "    <tr>\n",
       "      <th>2</th>\n",
       "      <td>0.000000</td>\n",
       "      <td>0.000000</td>\n",
       "      <td>0.000000</td>\n",
       "      <td>0.000000</td>\n",
       "      <td>0.00000</td>\n",
       "      <td>0.000000</td>\n",
       "      <td>0.000000</td>\n",
       "      <td>0.000000</td>\n",
       "      <td>0.246252</td>\n",
       "      <td>0.353452</td>\n",
       "      <td>...</td>\n",
       "      <td>0.0</td>\n",
       "      <td>0.0</td>\n",
       "      <td>0.0</td>\n",
       "      <td>0.0</td>\n",
       "      <td>0.0</td>\n",
       "      <td>0.0</td>\n",
       "      <td>0.0</td>\n",
       "      <td>0.0</td>\n",
       "      <td>0.0</td>\n",
       "      <td>0.0</td>\n",
       "    </tr>\n",
       "    <tr>\n",
       "      <th>3</th>\n",
       "      <td>0.000000</td>\n",
       "      <td>0.000000</td>\n",
       "      <td>0.402216</td>\n",
       "      <td>0.000000</td>\n",
       "      <td>0.00000</td>\n",
       "      <td>0.000000</td>\n",
       "      <td>0.000000</td>\n",
       "      <td>0.000000</td>\n",
       "      <td>0.430467</td>\n",
       "      <td>0.000000</td>\n",
       "      <td>...</td>\n",
       "      <td>0.0</td>\n",
       "      <td>0.0</td>\n",
       "      <td>0.0</td>\n",
       "      <td>0.0</td>\n",
       "      <td>0.0</td>\n",
       "      <td>0.0</td>\n",
       "      <td>0.0</td>\n",
       "      <td>0.0</td>\n",
       "      <td>0.0</td>\n",
       "      <td>0.0</td>\n",
       "    </tr>\n",
       "    <tr>\n",
       "      <th>4</th>\n",
       "      <td>0.000000</td>\n",
       "      <td>0.000000</td>\n",
       "      <td>0.000000</td>\n",
       "      <td>0.000000</td>\n",
       "      <td>0.00000</td>\n",
       "      <td>0.000000</td>\n",
       "      <td>0.000000</td>\n",
       "      <td>0.000000</td>\n",
       "      <td>0.095631</td>\n",
       "      <td>0.137262</td>\n",
       "      <td>...</td>\n",
       "      <td>0.0</td>\n",
       "      <td>0.0</td>\n",
       "      <td>0.0</td>\n",
       "      <td>0.0</td>\n",
       "      <td>0.0</td>\n",
       "      <td>0.0</td>\n",
       "      <td>0.0</td>\n",
       "      <td>0.0</td>\n",
       "      <td>0.0</td>\n",
       "      <td>0.0</td>\n",
       "    </tr>\n",
       "    <tr>\n",
       "      <th>...</th>\n",
       "      <td>...</td>\n",
       "      <td>...</td>\n",
       "      <td>...</td>\n",
       "      <td>...</td>\n",
       "      <td>...</td>\n",
       "      <td>...</td>\n",
       "      <td>...</td>\n",
       "      <td>...</td>\n",
       "      <td>...</td>\n",
       "      <td>...</td>\n",
       "      <td>...</td>\n",
       "      <td>...</td>\n",
       "      <td>...</td>\n",
       "      <td>...</td>\n",
       "      <td>...</td>\n",
       "      <td>...</td>\n",
       "      <td>...</td>\n",
       "      <td>...</td>\n",
       "      <td>...</td>\n",
       "      <td>...</td>\n",
       "      <td>...</td>\n",
       "    </tr>\n",
       "    <tr>\n",
       "      <th>1866</th>\n",
       "      <td>0.000000</td>\n",
       "      <td>0.000000</td>\n",
       "      <td>0.000000</td>\n",
       "      <td>0.000000</td>\n",
       "      <td>0.00000</td>\n",
       "      <td>0.000000</td>\n",
       "      <td>0.186866</td>\n",
       "      <td>0.161942</td>\n",
       "      <td>0.000000</td>\n",
       "      <td>0.000000</td>\n",
       "      <td>...</td>\n",
       "      <td>0.0</td>\n",
       "      <td>0.0</td>\n",
       "      <td>0.0</td>\n",
       "      <td>0.0</td>\n",
       "      <td>0.0</td>\n",
       "      <td>0.0</td>\n",
       "      <td>0.0</td>\n",
       "      <td>0.0</td>\n",
       "      <td>0.0</td>\n",
       "      <td>0.0</td>\n",
       "    </tr>\n",
       "    <tr>\n",
       "      <th>1867</th>\n",
       "      <td>0.000000</td>\n",
       "      <td>0.000000</td>\n",
       "      <td>0.000000</td>\n",
       "      <td>0.000000</td>\n",
       "      <td>0.00000</td>\n",
       "      <td>0.000000</td>\n",
       "      <td>0.000000</td>\n",
       "      <td>0.000000</td>\n",
       "      <td>0.000000</td>\n",
       "      <td>0.000000</td>\n",
       "      <td>...</td>\n",
       "      <td>0.0</td>\n",
       "      <td>0.0</td>\n",
       "      <td>0.0</td>\n",
       "      <td>0.0</td>\n",
       "      <td>0.0</td>\n",
       "      <td>0.0</td>\n",
       "      <td>0.0</td>\n",
       "      <td>0.0</td>\n",
       "      <td>0.0</td>\n",
       "      <td>0.0</td>\n",
       "    </tr>\n",
       "    <tr>\n",
       "      <th>1868</th>\n",
       "      <td>0.000000</td>\n",
       "      <td>0.000000</td>\n",
       "      <td>0.000000</td>\n",
       "      <td>0.000000</td>\n",
       "      <td>0.00000</td>\n",
       "      <td>0.000000</td>\n",
       "      <td>0.000000</td>\n",
       "      <td>0.000000</td>\n",
       "      <td>0.000000</td>\n",
       "      <td>0.000000</td>\n",
       "      <td>...</td>\n",
       "      <td>0.0</td>\n",
       "      <td>0.0</td>\n",
       "      <td>0.0</td>\n",
       "      <td>0.0</td>\n",
       "      <td>0.0</td>\n",
       "      <td>0.0</td>\n",
       "      <td>0.0</td>\n",
       "      <td>0.0</td>\n",
       "      <td>0.0</td>\n",
       "      <td>0.0</td>\n",
       "    </tr>\n",
       "    <tr>\n",
       "      <th>1869</th>\n",
       "      <td>0.417223</td>\n",
       "      <td>0.000000</td>\n",
       "      <td>0.000000</td>\n",
       "      <td>0.000000</td>\n",
       "      <td>0.00000</td>\n",
       "      <td>0.000000</td>\n",
       "      <td>0.000000</td>\n",
       "      <td>0.000000</td>\n",
       "      <td>0.000000</td>\n",
       "      <td>0.000000</td>\n",
       "      <td>...</td>\n",
       "      <td>0.0</td>\n",
       "      <td>0.0</td>\n",
       "      <td>0.0</td>\n",
       "      <td>0.0</td>\n",
       "      <td>0.0</td>\n",
       "      <td>0.0</td>\n",
       "      <td>0.0</td>\n",
       "      <td>0.0</td>\n",
       "      <td>0.0</td>\n",
       "      <td>0.0</td>\n",
       "    </tr>\n",
       "    <tr>\n",
       "      <th>1870</th>\n",
       "      <td>0.000000</td>\n",
       "      <td>0.000000</td>\n",
       "      <td>0.000000</td>\n",
       "      <td>0.000000</td>\n",
       "      <td>0.00000</td>\n",
       "      <td>0.000000</td>\n",
       "      <td>0.000000</td>\n",
       "      <td>0.000000</td>\n",
       "      <td>0.000000</td>\n",
       "      <td>0.000000</td>\n",
       "      <td>...</td>\n",
       "      <td>0.0</td>\n",
       "      <td>0.0</td>\n",
       "      <td>0.0</td>\n",
       "      <td>0.0</td>\n",
       "      <td>0.0</td>\n",
       "      <td>0.0</td>\n",
       "      <td>0.0</td>\n",
       "      <td>0.0</td>\n",
       "      <td>0.0</td>\n",
       "      <td>0.0</td>\n",
       "    </tr>\n",
       "  </tbody>\n",
       "</table>\n",
       "<p>1871 rows × 555 columns</p>\n",
       "</div>"
      ],
      "text/plain": [
       "          deal     three      star     quick      ran      okay      long  \\\n",
       "0     0.432079  0.326529  0.246567  0.560388  0.57607  0.000000  0.000000   \n",
       "1     0.000000  0.434325  0.327965  0.000000  0.00000  0.663737  0.387740   \n",
       "2     0.000000  0.000000  0.000000  0.000000  0.00000  0.000000  0.000000   \n",
       "3     0.000000  0.000000  0.402216  0.000000  0.00000  0.000000  0.000000   \n",
       "4     0.000000  0.000000  0.000000  0.000000  0.00000  0.000000  0.000000   \n",
       "...        ...       ...       ...       ...      ...       ...       ...   \n",
       "1866  0.000000  0.000000  0.000000  0.000000  0.00000  0.000000  0.186866   \n",
       "1867  0.000000  0.000000  0.000000  0.000000  0.00000  0.000000  0.000000   \n",
       "1868  0.000000  0.000000  0.000000  0.000000  0.00000  0.000000  0.000000   \n",
       "1869  0.417223  0.000000  0.000000  0.000000  0.00000  0.000000  0.000000   \n",
       "1870  0.000000  0.000000  0.000000  0.000000  0.00000  0.000000  0.000000   \n",
       "\n",
       "          last      work      much  ...  handi  email  overal  faster  brows  \\\n",
       "0     0.000000  0.000000  0.000000  ...    0.0    0.0     0.0     0.0    0.0   \n",
       "1     0.336023  0.000000  0.000000  ...    0.0    0.0     0.0     0.0    0.0   \n",
       "2     0.000000  0.246252  0.353452  ...    0.0    0.0     0.0     0.0    0.0   \n",
       "3     0.000000  0.430467  0.000000  ...    0.0    0.0     0.0     0.0    0.0   \n",
       "4     0.000000  0.095631  0.137262  ...    0.0    0.0     0.0     0.0    0.0   \n",
       "...        ...       ...       ...  ...    ...    ...     ...     ...    ...   \n",
       "1866  0.161942  0.000000  0.000000  ...    0.0    0.0     0.0     0.0    0.0   \n",
       "1867  0.000000  0.000000  0.000000  ...    0.0    0.0     0.0     0.0    0.0   \n",
       "1868  0.000000  0.000000  0.000000  ...    0.0    0.0     0.0     0.0    0.0   \n",
       "1869  0.000000  0.000000  0.000000  ...    0.0    0.0     0.0     0.0    0.0   \n",
       "1870  0.000000  0.000000  0.000000  ...    0.0    0.0     0.0     0.0    0.0   \n",
       "\n",
       "      fact  gave  birthday  shop  husband  \n",
       "0      0.0   0.0       0.0   0.0      0.0  \n",
       "1      0.0   0.0       0.0   0.0      0.0  \n",
       "2      0.0   0.0       0.0   0.0      0.0  \n",
       "3      0.0   0.0       0.0   0.0      0.0  \n",
       "4      0.0   0.0       0.0   0.0      0.0  \n",
       "...    ...   ...       ...   ...      ...  \n",
       "1866   0.0   0.0       0.0   0.0      0.0  \n",
       "1867   0.0   0.0       0.0   0.0      0.0  \n",
       "1868   0.0   0.0       0.0   0.0      0.0  \n",
       "1869   0.0   0.0       0.0   0.0      0.0  \n",
       "1870   0.0   0.0       0.0   0.0      0.0  \n",
       "\n",
       "[1871 rows x 555 columns]"
      ]
     },
     "execution_count": 17,
     "metadata": {},
     "output_type": "execute_result"
    }
   ],
   "source": [
    "from sklearn.feature_extraction.text import TfidfVectorizer\n",
    "\n",
    "vectorizer = TfidfVectorizer(vocabulary=vocabulary)\n",
    "\n",
    "X_train_str = [\" \".join(tokens) for tokens in X_train]\n",
    "X_train_tfidf = vectorizer.fit_transform(X_train_str)\n",
    "\n",
    "pd.DataFrame(X_train_tfidf.toarray(), columns=vectorizer.get_feature_names_out())\n"
   ]
  },
  {
   "cell_type": "markdown",
   "id": "f00781ca",
   "metadata": {
    "collapsed": false,
    "jupyter": {
     "outputs_hidden": false
    }
   },
   "source": [
    "<a name='2'></a>\n",
    "## 2. Classification (35 points)\n",
    "\n",
    "Maintenant que les données sont prêtes à être utilisées par nos modèles, nous allons entrainer et tester différent types de modèles sur le jeu de données afin d'en faire la comparaison. \n",
    "\n",
    "Cette section sera divisé en cinq modèle:\n",
    "   - Modèle aléatoire (Random baseline)\n",
    "   - Classificateur bayésien naïf\n",
    "   - Régression Logistique\n",
    "   - Multi-Layer Perceptron (MLP)\n",
    "\n",
    "<a name='2.1'></a>\n",
    "### 2.1 Modèle aléatoire (Random baseline) (5 points)\n",
    "\n",
    "Un seuil (baseline) est un modèle servant de référence et dont les performances représentent un seuil à dépasser.\n",
    "\n",
    "#### a) Générez ce seuil en effectuant des prédictions aléatoires parmi les valeurs 1, 3 et 5. Ensuite, affichez les mesures de performance : précision, rappel (recall) et F1. Utilisez la classe classification_report de SKlearn et affichez 4 chiffres après la virgule. (3.5 points)"
   ]
  },
  {
   "cell_type": "code",
   "execution_count": 18,
   "id": "bc582223",
   "metadata": {
    "collapsed": false,
    "jupyter": {
     "outputs_hidden": false
    }
   },
   "outputs": [],
   "source": [
    "import numpy as np\n",
    "classes = np.unique(y_train)\n",
    "y_random = np.random.choice(classes, size=len(y_test))"
   ]
  },
  {
   "cell_type": "code",
   "execution_count": 19,
   "id": "f79530a0",
   "metadata": {
    "collapsed": false,
    "jupyter": {
     "outputs_hidden": false
    }
   },
   "outputs": [
    {
     "name": "stdout",
     "output_type": "stream",
     "text": [
      "              precision    recall  f1-score   support\n",
      "\n",
      "           1       0.32      0.31      0.31       311\n",
      "           3       0.32      0.30      0.31       310\n",
      "           5       0.34      0.38      0.36       301\n",
      "\n",
      "    accuracy                           0.33       922\n",
      "   macro avg       0.33      0.33      0.33       922\n",
      "weighted avg       0.33      0.33      0.33       922\n",
      "\n"
     ]
    }
   ],
   "source": [
    "from sklearn.metrics import classification_report\n",
    "\n",
    "print(classification_report(y_test, y_random))"
   ]
  },
  {
   "cell_type": "markdown",
   "id": "b7070590",
   "metadata": {
    "collapsed": false,
    "jupyter": {
     "outputs_hidden": false
    }
   },
   "source": [
    "#### b) Comment pouvez-vous expliquer le F1-score obtenu? (1.5 points)"
   ]
  },
  {
   "cell_type": "code",
   "execution_count": 20,
   "id": "c2b674c4-0551-4122-8f04-52a15266490e",
   "metadata": {
    "collapsed": false,
    "jupyter": {
     "outputs_hidden": false
    }
   },
   "outputs": [
    {
     "data": {
      "text/plain": [
       "[0.3362255965292842, 0.33731019522776573, 0.3264642082429501]"
      ]
     },
     "execution_count": 20,
     "metadata": {},
     "output_type": "execute_result"
    }
   ],
   "source": [
    "class_distribution = Counter(y_test)\n",
    "classes = list(class_distribution.keys())\n",
    "probabilities = [class_distribution[c] / len(y_test) for c in classes]\n",
    "probabilities"
   ]
  },
  {
   "cell_type": "markdown",
   "id": "4b86cab6",
   "metadata": {
    "collapsed": false,
    "jupyter": {
     "outputs_hidden": false
    }
   },
   "source": [
    "> Dans de notre data set on peut voir que les données sont balancées donc en choissant hazard nous auront une 'accuracy' d'environ 33%. La précision pour chaque classe sera données par TP /(TP + FP). Pour chaque classe TP sera environ égal à 0.33²/(0.33² + 0.33 - 0.33²) = 0.33. Ceci s'explique par le fait que la classe en question est présente dans un ratio de 0.33 et lorsqu'on fait la prédiction de celle ci il y a 0.33 de probabilité d'avoir choisit la bonne classe donc TP est 0.33². FP peut se calculé avec 0.33 - 0.33² puisque on va choisir la classe en question avec 0.33 de probabilité et que 0.33² de ces fois seront des TP. Ensuite le Recall peut être calculer d'une facon similaire et nous obtenons 0.33 aussi. Le f1 score théorique sera donc 2*0.33*0.33/(0.66) = 0.33. Ce qui est similaire au résultat obtenu."
   ]
  },
  {
   "cell_type": "markdown",
   "id": "8eadb0d3",
   "metadata": {
    "collapsed": false,
    "jupyter": {
     "outputs_hidden": false
    }
   },
   "source": [
    "<a name='2.2'></a>\n",
    "### 2.2 Analyse et compréhension d'un classificateur bayésien naïf (NB) (22 points)\n",
    "\n",
    "Naive Bayes (NB) est un algorithme très simple pouvant servir de bon point de départ (baseline) pour les tâches de classification. Ce numéro portera sur l'analyse de ce modèle afin de bien comprendre son comportement."
   ]
  },
  {
   "cell_type": "markdown",
   "id": "0c04861f",
   "metadata": {
    "collapsed": false,
    "jupyter": {
     "outputs_hidden": false
    }
   },
   "source": [
    "<a name='2.2.1'></a>\n",
    "#### 2.2.1 Construction du modèle (4 points)\n",
    "\n",
    "Commencez d'abord par construire le modèle à l'aide de la classe MultinomialNB de SKlearn. Utilisez les données vectorisées produites en 1.6.\n",
    "\n",
    "Affichez les performances de votre classificateur (précision, recall, F1-score)."
   ]
  },
  {
   "cell_type": "code",
   "execution_count": 21,
   "id": "c90814a4",
   "metadata": {
    "collapsed": false,
    "jupyter": {
     "outputs_hidden": false
    }
   },
   "outputs": [],
   "source": [
    "from sklearn.naive_bayes import MultinomialNB"
   ]
  },
  {
   "cell_type": "code",
   "execution_count": 22,
   "id": "10f52de2-f8e7-4d13-9898-04c113692ecc",
   "metadata": {
    "collapsed": false,
    "jupyter": {
     "outputs_hidden": false
    }
   },
   "outputs": [
    {
     "data": {
      "text/plain": [
       "1533                                [star, three, expect]\n",
       "2392    [electr, abysm, differ, result, brand, life, e...\n",
       "502         [work, enjoy, lot, loud, enough, use, awesom]\n",
       "1515                                  [star, five, great]\n",
       "1858    [son, faulti, headset, five, well, cabl, star,...\n",
       "                              ...                        \n",
       "1129    [leak, light, duracellslast, fixtur, tend, fiv...\n",
       "2180    [tell, three, cant, star, good, duracel, reall...\n",
       "254     [brand, amazon, price, afford, batteri, good, ...\n",
       "2218    [pro, annoy, one, cheap, someth, bought, littl...\n",
       "895     [get, batterei, after2, higher, brand, remot, ...\n",
       "Name: text, Length: 922, dtype: object"
      ]
     },
     "execution_count": 22,
     "metadata": {},
     "output_type": "execute_result"
    }
   ],
   "source": [
    "X_test"
   ]
  },
  {
   "cell_type": "code",
   "execution_count": 23,
   "id": "6e4fecb0",
   "metadata": {
    "collapsed": false,
    "jupyter": {
     "outputs_hidden": false
    },
    "scrolled": true
   },
   "outputs": [
    {
     "name": "stdout",
     "output_type": "stream",
     "text": [
      "              precision    recall  f1-score   support\n",
      "\n",
      "           1       0.77      0.81      0.79       311\n",
      "           3       0.71      0.66      0.68       310\n",
      "           5       0.81      0.83      0.82       301\n",
      "\n",
      "    accuracy                           0.77       922\n",
      "   macro avg       0.76      0.77      0.76       922\n",
      "weighted avg       0.76      0.77      0.76       922\n",
      "\n"
     ]
    }
   ],
   "source": [
    "clf_nb = MultinomialNB()\n",
    "clf_nb.fit(X_train_tfidf, y_train)\n",
    "\n",
    "X_test_tfidf = vectorizer.transform([\" \".join(tokens) for tokens in X_test])\n",
    "y_nb_pred = clf_nb.predict(X_test_tfidf)\n",
    "\n",
    "print(classification_report(y_test, y_nb_pred))"
   ]
  },
  {
   "cell_type": "markdown",
   "id": "34a784a1",
   "metadata": {
    "collapsed": false,
    "jupyter": {
     "outputs_hidden": false
    }
   },
   "source": [
    "<a name='2.2.2'></a>\n",
    "####  2.2.2 Matrice de confusion (3 points)\n",
    "\n",
    "Visualisez la matrice de confusion de votre modèle en utilisant la fonction [heatmap](https://seaborn.pydata.org/generated/seaborn.heatmap.html) de seaborn. Celle-ci peut prendre en entrée une matrice de confusion comme celle fournie par la fonction [confusion_matrix](https://scikit-learn.org/stable/modules/generated/sklearn.metrics.confusion_matrix.html) dans SKLearn."
   ]
  },
  {
   "cell_type": "code",
   "execution_count": 24,
   "id": "a115ac85",
   "metadata": {
    "collapsed": false,
    "jupyter": {
     "outputs_hidden": false
    },
    "scrolled": true
   },
   "outputs": [
    {
     "data": {
      "image/png": "[encoded data removed]",
      "text/plain": [
       "<Figure size 1000x700 with 2 Axes>"
      ]
     },
     "metadata": {},
     "output_type": "display_data"
    }
   ],
   "source": [
    "from sklearn.metrics import confusion_matrix\n",
    "from seaborn import heatmap\n",
    "\n",
    "cm = confusion_matrix(y_test, y_nb_pred)\n",
    "\n",
    "plt.figure(figsize=(10,7))\n",
    "heatmap(cm, annot=True, fmt='g', cmap='Reds')\n",
    "plt.xlabel('Predicted class')\n",
    "plt.ylabel('True class')\n",
    "plt.show()"
   ]
  },
  {
   "cell_type": "markdown",
   "id": "223d6c84",
   "metadata": {
    "collapsed": false,
    "jupyter": {
     "outputs_hidden": false
    }
   },
   "source": [
    "<a name='2.2.3'></a>\n",
    "####  2.2.3 Visualisation des probabilités de NB (5 points)\n",
    "\n",
    "Naive Bayes est un classificateur suivant une approche générative. Durant son entraînement, il apprend les probabilités P(x_i|y). En utilisant le théorème de Bayes, on peut exprimer la probabilité d'une classe donnée y étant donné un ensemble de caractéristiques x_1, x_2, ..., x_n comme suit : \n",
    "\n",
    "$$ P(y|x_1, x_2, ..., x_n) = P(y) * P(x_1|y) * P(x_2|y) * ... * P(x_n|y) $$\n",
    "\n",
    "Ainsi, étant donné un exemple ayant le jeton x_i, plus la probabilité P(x_i|y) est élevée pour une classe, plus la probabilité que l'exemple provienne de cette classe augmente.\n",
    "\n",
    "Écrivez du code permettant de visualiser les jetons ayant les plus grandes probabilités selon la classe dans un graphique de type [barh](https://matplotlib.org/3.1.1/api/_as_gen/matplotlib.pyplot.barh.html). Consultez la documentation de [MultiNomialNB](https://scikit-learn.org/stable/modules/generated/sklearn.naive_bayes.MultinomialNB.html) afin de trouver les probabilités P(x_i|y). Le graphique produit devrait montrer, sur l'axe des Y, les 10 jetons associés au P(x_i|y) le plus grand selon y. L'axe des X devrait représenter la valeur des probabilités.\n",
    "\n",
    "Ce code devra être sous forme d'une fonction où on passe la classe y en paramètre.\n"
   ]
  },
  {
   "cell_type": "code",
   "execution_count": 25,
   "id": "9e4168b0-e508-46ce-96d2-3122f3cd297b",
   "metadata": {
    "collapsed": false,
    "jupyter": {
     "outputs_hidden": false
    }
   },
   "outputs": [
    {
     "data": {
      "text/plain": [
       "array([[0.43207903, 0.32652938, 0.24656718, ..., 0.        , 0.        ,\n",
       "        0.        ],\n",
       "       [0.        , 0.43432474, 0.32796506, ..., 0.        , 0.        ,\n",
       "        0.        ],\n",
       "       [0.        , 0.        , 0.        , ..., 0.        , 0.        ,\n",
       "        0.        ],\n",
       "       ...,\n",
       "       [0.        , 0.        , 0.        , ..., 0.        , 0.        ,\n",
       "        0.        ],\n",
       "       [0.41722261, 0.        , 0.        , ..., 0.        , 0.        ,\n",
       "        0.        ],\n",
       "       [0.        , 0.        , 0.        , ..., 0.        , 0.        ,\n",
       "        0.        ]])"
      ]
     },
     "execution_count": 25,
     "metadata": {},
     "output_type": "execute_result"
    }
   ],
   "source": [
    "X_train_tfidf.toarray()"
   ]
  },
  {
   "cell_type": "code",
   "execution_count": 26,
   "id": "257eb5a8-e583-406c-b763-dcf3304fcdd2",
   "metadata": {
    "collapsed": false,
    "jupyter": {
     "outputs_hidden": false
    }
   },
   "outputs": [
    {
     "data": {
      "text/html": [
       "<div>\n",
       "<style scoped>\n",
       "    .dataframe tbody tr th:only-of-type {\n",
       "        vertical-align: middle;\n",
       "    }\n",
       "\n",
       "    .dataframe tbody tr th {\n",
       "        vertical-align: top;\n",
       "    }\n",
       "\n",
       "    .dataframe thead th {\n",
       "        text-align: right;\n",
       "    }\n",
       "</style>\n",
       "<table border=\"1\" class=\"dataframe\">\n",
       "  <thead>\n",
       "    <tr style=\"text-align: right;\">\n",
       "      <th></th>\n",
       "      <th>deal</th>\n",
       "      <th>three</th>\n",
       "      <th>star</th>\n",
       "      <th>quick</th>\n",
       "      <th>ran</th>\n",
       "      <th>okay</th>\n",
       "      <th>long</th>\n",
       "      <th>last</th>\n",
       "      <th>work</th>\n",
       "      <th>much</th>\n",
       "      <th>...</th>\n",
       "      <th>handi</th>\n",
       "      <th>email</th>\n",
       "      <th>overal</th>\n",
       "      <th>faster</th>\n",
       "      <th>brows</th>\n",
       "      <th>fact</th>\n",
       "      <th>gave</th>\n",
       "      <th>birthday</th>\n",
       "      <th>shop</th>\n",
       "      <th>husband</th>\n",
       "    </tr>\n",
       "  </thead>\n",
       "  <tbody>\n",
       "    <tr>\n",
       "      <th>0</th>\n",
       "      <td>0.432079</td>\n",
       "      <td>0.326529</td>\n",
       "      <td>0.246567</td>\n",
       "      <td>0.560388</td>\n",
       "      <td>0.57607</td>\n",
       "      <td>0.000000</td>\n",
       "      <td>0.000000</td>\n",
       "      <td>0.000000</td>\n",
       "      <td>0.000000</td>\n",
       "      <td>0.000000</td>\n",
       "      <td>...</td>\n",
       "      <td>0.0</td>\n",
       "      <td>0.0</td>\n",
       "      <td>0.0</td>\n",
       "      <td>0.0</td>\n",
       "      <td>0.0</td>\n",
       "      <td>0.0</td>\n",
       "      <td>0.0</td>\n",
       "      <td>0.0</td>\n",
       "      <td>0.0</td>\n",
       "      <td>0.0</td>\n",
       "    </tr>\n",
       "    <tr>\n",
       "      <th>1</th>\n",
       "      <td>0.000000</td>\n",
       "      <td>0.434325</td>\n",
       "      <td>0.327965</td>\n",
       "      <td>0.000000</td>\n",
       "      <td>0.00000</td>\n",
       "      <td>0.663737</td>\n",
       "      <td>0.387740</td>\n",
       "      <td>0.336023</td>\n",
       "      <td>0.000000</td>\n",
       "      <td>0.000000</td>\n",
       "      <td>...</td>\n",
       "      <td>0.0</td>\n",
       "      <td>0.0</td>\n",
       "      <td>0.0</td>\n",
       "      <td>0.0</td>\n",
       "      <td>0.0</td>\n",
       "      <td>0.0</td>\n",
       "      <td>0.0</td>\n",
       "      <td>0.0</td>\n",
       "      <td>0.0</td>\n",
       "      <td>0.0</td>\n",
       "    </tr>\n",
       "    <tr>\n",
       "      <th>2</th>\n",
       "      <td>0.000000</td>\n",
       "      <td>0.000000</td>\n",
       "      <td>0.000000</td>\n",
       "      <td>0.000000</td>\n",
       "      <td>0.00000</td>\n",
       "      <td>0.000000</td>\n",
       "      <td>0.000000</td>\n",
       "      <td>0.000000</td>\n",
       "      <td>0.246252</td>\n",
       "      <td>0.353452</td>\n",
       "      <td>...</td>\n",
       "      <td>0.0</td>\n",
       "      <td>0.0</td>\n",
       "      <td>0.0</td>\n",
       "      <td>0.0</td>\n",
       "      <td>0.0</td>\n",
       "      <td>0.0</td>\n",
       "      <td>0.0</td>\n",
       "      <td>0.0</td>\n",
       "      <td>0.0</td>\n",
       "      <td>0.0</td>\n",
       "    </tr>\n",
       "    <tr>\n",
       "      <th>3</th>\n",
       "      <td>0.000000</td>\n",
       "      <td>0.000000</td>\n",
       "      <td>0.402216</td>\n",
       "      <td>0.000000</td>\n",
       "      <td>0.00000</td>\n",
       "      <td>0.000000</td>\n",
       "      <td>0.000000</td>\n",
       "      <td>0.000000</td>\n",
       "      <td>0.430467</td>\n",
       "      <td>0.000000</td>\n",
       "      <td>...</td>\n",
       "      <td>0.0</td>\n",
       "      <td>0.0</td>\n",
       "      <td>0.0</td>\n",
       "      <td>0.0</td>\n",
       "      <td>0.0</td>\n",
       "      <td>0.0</td>\n",
       "      <td>0.0</td>\n",
       "      <td>0.0</td>\n",
       "      <td>0.0</td>\n",
       "      <td>0.0</td>\n",
       "    </tr>\n",
       "    <tr>\n",
       "      <th>4</th>\n",
       "      <td>0.000000</td>\n",
       "      <td>0.000000</td>\n",
       "      <td>0.000000</td>\n",
       "      <td>0.000000</td>\n",
       "      <td>0.00000</td>\n",
       "      <td>0.000000</td>\n",
       "      <td>0.000000</td>\n",
       "      <td>0.000000</td>\n",
       "      <td>0.095631</td>\n",
       "      <td>0.137262</td>\n",
       "      <td>...</td>\n",
       "      <td>0.0</td>\n",
       "      <td>0.0</td>\n",
       "      <td>0.0</td>\n",
       "      <td>0.0</td>\n",
       "      <td>0.0</td>\n",
       "      <td>0.0</td>\n",
       "      <td>0.0</td>\n",
       "      <td>0.0</td>\n",
       "      <td>0.0</td>\n",
       "      <td>0.0</td>\n",
       "    </tr>\n",
       "    <tr>\n",
       "      <th>...</th>\n",
       "      <td>...</td>\n",
       "      <td>...</td>\n",
       "      <td>...</td>\n",
       "      <td>...</td>\n",
       "      <td>...</td>\n",
       "      <td>...</td>\n",
       "      <td>...</td>\n",
       "      <td>...</td>\n",
       "      <td>...</td>\n",
       "      <td>...</td>\n",
       "      <td>...</td>\n",
       "      <td>...</td>\n",
       "      <td>...</td>\n",
       "      <td>...</td>\n",
       "      <td>...</td>\n",
       "      <td>...</td>\n",
       "      <td>...</td>\n",
       "      <td>...</td>\n",
       "      <td>...</td>\n",
       "      <td>...</td>\n",
       "      <td>...</td>\n",
       "    </tr>\n",
       "    <tr>\n",
       "      <th>1866</th>\n",
       "      <td>0.000000</td>\n",
       "      <td>0.000000</td>\n",
       "      <td>0.000000</td>\n",
       "      <td>0.000000</td>\n",
       "      <td>0.00000</td>\n",
       "      <td>0.000000</td>\n",
       "      <td>0.186866</td>\n",
       "      <td>0.161942</td>\n",
       "      <td>0.000000</td>\n",
       "      <td>0.000000</td>\n",
       "      <td>...</td>\n",
       "      <td>0.0</td>\n",
       "      <td>0.0</td>\n",
       "      <td>0.0</td>\n",
       "      <td>0.0</td>\n",
       "      <td>0.0</td>\n",
       "      <td>0.0</td>\n",
       "      <td>0.0</td>\n",
       "      <td>0.0</td>\n",
       "      <td>0.0</td>\n",
       "      <td>0.0</td>\n",
       "    </tr>\n",
       "    <tr>\n",
       "      <th>1867</th>\n",
       "      <td>0.000000</td>\n",
       "      <td>0.000000</td>\n",
       "      <td>0.000000</td>\n",
       "      <td>0.000000</td>\n",
       "      <td>0.00000</td>\n",
       "      <td>0.000000</td>\n",
       "      <td>0.000000</td>\n",
       "      <td>0.000000</td>\n",
       "      <td>0.000000</td>\n",
       "      <td>0.000000</td>\n",
       "      <td>...</td>\n",
       "      <td>0.0</td>\n",
       "      <td>0.0</td>\n",
       "      <td>0.0</td>\n",
       "      <td>0.0</td>\n",
       "      <td>0.0</td>\n",
       "      <td>0.0</td>\n",
       "      <td>0.0</td>\n",
       "      <td>0.0</td>\n",
       "      <td>0.0</td>\n",
       "      <td>0.0</td>\n",
       "    </tr>\n",
       "    <tr>\n",
       "      <th>1868</th>\n",
       "      <td>0.000000</td>\n",
       "      <td>0.000000</td>\n",
       "      <td>0.000000</td>\n",
       "      <td>0.000000</td>\n",
       "      <td>0.00000</td>\n",
       "      <td>0.000000</td>\n",
       "      <td>0.000000</td>\n",
       "      <td>0.000000</td>\n",
       "      <td>0.000000</td>\n",
       "      <td>0.000000</td>\n",
       "      <td>...</td>\n",
       "      <td>0.0</td>\n",
       "      <td>0.0</td>\n",
       "      <td>0.0</td>\n",
       "      <td>0.0</td>\n",
       "      <td>0.0</td>\n",
       "      <td>0.0</td>\n",
       "      <td>0.0</td>\n",
       "      <td>0.0</td>\n",
       "      <td>0.0</td>\n",
       "      <td>0.0</td>\n",
       "    </tr>\n",
       "    <tr>\n",
       "      <th>1869</th>\n",
       "      <td>0.417223</td>\n",
       "      <td>0.000000</td>\n",
       "      <td>0.000000</td>\n",
       "      <td>0.000000</td>\n",
       "      <td>0.00000</td>\n",
       "      <td>0.000000</td>\n",
       "      <td>0.000000</td>\n",
       "      <td>0.000000</td>\n",
       "      <td>0.000000</td>\n",
       "      <td>0.000000</td>\n",
       "      <td>...</td>\n",
       "      <td>0.0</td>\n",
       "      <td>0.0</td>\n",
       "      <td>0.0</td>\n",
       "      <td>0.0</td>\n",
       "      <td>0.0</td>\n",
       "      <td>0.0</td>\n",
       "      <td>0.0</td>\n",
       "      <td>0.0</td>\n",
       "      <td>0.0</td>\n",
       "      <td>0.0</td>\n",
       "    </tr>\n",
       "    <tr>\n",
       "      <th>1870</th>\n",
       "      <td>0.000000</td>\n",
       "      <td>0.000000</td>\n",
       "      <td>0.000000</td>\n",
       "      <td>0.000000</td>\n",
       "      <td>0.00000</td>\n",
       "      <td>0.000000</td>\n",
       "      <td>0.000000</td>\n",
       "      <td>0.000000</td>\n",
       "      <td>0.000000</td>\n",
       "      <td>0.000000</td>\n",
       "      <td>...</td>\n",
       "      <td>0.0</td>\n",
       "      <td>0.0</td>\n",
       "      <td>0.0</td>\n",
       "      <td>0.0</td>\n",
       "      <td>0.0</td>\n",
       "      <td>0.0</td>\n",
       "      <td>0.0</td>\n",
       "      <td>0.0</td>\n",
       "      <td>0.0</td>\n",
       "      <td>0.0</td>\n",
       "    </tr>\n",
       "  </tbody>\n",
       "</table>\n",
       "<p>1871 rows × 555 columns</p>\n",
       "</div>"
      ],
      "text/plain": [
       "          deal     three      star     quick      ran      okay      long  \\\n",
       "0     0.432079  0.326529  0.246567  0.560388  0.57607  0.000000  0.000000   \n",
       "1     0.000000  0.434325  0.327965  0.000000  0.00000  0.663737  0.387740   \n",
       "2     0.000000  0.000000  0.000000  0.000000  0.00000  0.000000  0.000000   \n",
       "3     0.000000  0.000000  0.402216  0.000000  0.00000  0.000000  0.000000   \n",
       "4     0.000000  0.000000  0.000000  0.000000  0.00000  0.000000  0.000000   \n",
       "...        ...       ...       ...       ...      ...       ...       ...   \n",
       "1866  0.000000  0.000000  0.000000  0.000000  0.00000  0.000000  0.186866   \n",
       "1867  0.000000  0.000000  0.000000  0.000000  0.00000  0.000000  0.000000   \n",
       "1868  0.000000  0.000000  0.000000  0.000000  0.00000  0.000000  0.000000   \n",
       "1869  0.417223  0.000000  0.000000  0.000000  0.00000  0.000000  0.000000   \n",
       "1870  0.000000  0.000000  0.000000  0.000000  0.00000  0.000000  0.000000   \n",
       "\n",
       "          last      work      much  ...  handi  email  overal  faster  brows  \\\n",
       "0     0.000000  0.000000  0.000000  ...    0.0    0.0     0.0     0.0    0.0   \n",
       "1     0.336023  0.000000  0.000000  ...    0.0    0.0     0.0     0.0    0.0   \n",
       "2     0.000000  0.246252  0.353452  ...    0.0    0.0     0.0     0.0    0.0   \n",
       "3     0.000000  0.430467  0.000000  ...    0.0    0.0     0.0     0.0    0.0   \n",
       "4     0.000000  0.095631  0.137262  ...    0.0    0.0     0.0     0.0    0.0   \n",
       "...        ...       ...       ...  ...    ...    ...     ...     ...    ...   \n",
       "1866  0.161942  0.000000  0.000000  ...    0.0    0.0     0.0     0.0    0.0   \n",
       "1867  0.000000  0.000000  0.000000  ...    0.0    0.0     0.0     0.0    0.0   \n",
       "1868  0.000000  0.000000  0.000000  ...    0.0    0.0     0.0     0.0    0.0   \n",
       "1869  0.000000  0.000000  0.000000  ...    0.0    0.0     0.0     0.0    0.0   \n",
       "1870  0.000000  0.000000  0.000000  ...    0.0    0.0     0.0     0.0    0.0   \n",
       "\n",
       "      fact  gave  birthday  shop  husband  \n",
       "0      0.0   0.0       0.0   0.0      0.0  \n",
       "1      0.0   0.0       0.0   0.0      0.0  \n",
       "2      0.0   0.0       0.0   0.0      0.0  \n",
       "3      0.0   0.0       0.0   0.0      0.0  \n",
       "4      0.0   0.0       0.0   0.0      0.0  \n",
       "...    ...   ...       ...   ...      ...  \n",
       "1866   0.0   0.0       0.0   0.0      0.0  \n",
       "1867   0.0   0.0       0.0   0.0      0.0  \n",
       "1868   0.0   0.0       0.0   0.0      0.0  \n",
       "1869   0.0   0.0       0.0   0.0      0.0  \n",
       "1870   0.0   0.0       0.0   0.0      0.0  \n",
       "\n",
       "[1871 rows x 555 columns]"
      ]
     },
     "execution_count": 26,
     "metadata": {},
     "output_type": "execute_result"
    }
   ],
   "source": [
    "pd.DataFrame(X_train_tfidf.toarray(), columns=vectorizer.get_feature_names_out())"
   ]
  },
  {
   "cell_type": "code",
   "execution_count": 27,
   "id": "eb219a46",
   "metadata": {
    "collapsed": false,
    "jupyter": {
     "outputs_hidden": false
    }
   },
   "outputs": [],
   "source": [
    "import matplotlib.pyplot as plt\n",
    "\n",
    "def plot_top_features(clf, vectorizer, class_label, top_n=10, token_filter=[]):\n",
    "    \"\"\"\n",
    "    Plot the top N features for a given class based on their probabilities.\n",
    "    \n",
    "    Parameters:\n",
    "        clf (classifier): Trained Naive Bayes classifier\n",
    "        vectorizer (TfidfVectorizer): The vectorizer instance\n",
    "        class_label (int): The class label (1, 3, or 5 in your case)\n",
    "        top_n (int): Number of top features to plot. Default is 10.\n",
    "    \"\"\"\n",
    "\n",
    "    nb_probabilities = np.exp(clf.feature_log_prob_)\n",
    "    classes = clf.classes_\n",
    "\n",
    "    feature_prob_df = pd.DataFrame(nb_probabilities, columns=vectorizer.get_feature_names_out())\n",
    "    if token_filter:\n",
    "        feature_prob_df = feature_prob_df.loc[:, feature_prob_df.columns.isin(token_filter)]\n",
    "\n",
    "    feature_prob_df = feature_prob_df.T\n",
    "    feature_prob_df.columns = classes\n",
    "    \n",
    "    feature_prob_df[class_label].sort_values().tail(top_n).plot(kind='barh')\n",
    "    \n",
    "    plt.xlabel('Probability')\n",
    "    plt.ylabel('Feature')\n",
    "    plt.title(f'Top {top_n} Features for Class {class_label}')\n",
    "    \n",
    "    plt.show()\n",
    "    "
   ]
  },
  {
   "cell_type": "code",
   "execution_count": 28,
   "id": "b4b9ca72-6c35-430c-baf1-733647fe76ec",
   "metadata": {
    "collapsed": false,
    "jupyter": {
     "outputs_hidden": false
    }
   },
   "outputs": [
    {
     "data": {
      "image/png": "[encoded data removed]",
      "text/plain": [
       "<Figure size 640x480 with 1 Axes>"
      ]
     },
     "metadata": {},
     "output_type": "display_data"
    }
   ],
   "source": [
    "plot_top_features(clf_nb, vectorizer, 1, 10)"
   ]
  },
  {
   "cell_type": "code",
   "execution_count": 29,
   "id": "e8160682-04a5-44a3-8b68-55ed51a26698",
   "metadata": {
    "collapsed": false,
    "jupyter": {
     "outputs_hidden": false
    }
   },
   "outputs": [
    {
     "data": {
      "image/png": "[encoded data removed]",
      "text/plain": [
       "<Figure size 640x480 with 1 Axes>"
      ]
     },
     "metadata": {},
     "output_type": "display_data"
    }
   ],
   "source": [
    "plot_top_features(clf_nb, vectorizer, 3, 10)"
   ]
  },
  {
   "cell_type": "code",
   "execution_count": 30,
   "id": "6d14e023-90b1-4b68-a188-fbc7c538f9f5",
   "metadata": {
    "collapsed": false,
    "jupyter": {
     "outputs_hidden": false
    }
   },
   "outputs": [
    {
     "data": {
      "image/png": "[encoded data removed]",
      "text/plain": [
       "<Figure size 640x480 with 1 Axes>"
      ]
     },
     "metadata": {},
     "output_type": "display_data"
    }
   ],
   "source": [
    "plot_top_features(clf_nb, vectorizer, 5, 10)"
   ]
  },
  {
   "cell_type": "markdown",
   "id": "4600bf66",
   "metadata": {
    "collapsed": false,
    "jupyter": {
     "outputs_hidden": false
    }
   },
   "source": [
    "Que pouvez-vous remanquer à propos des jetons affichés dans le graphique?"
   ]
  },
  {
   "cell_type": "markdown",
   "id": "fa61bab3",
   "metadata": {
    "collapsed": false,
    "jupyter": {
     "outputs_hidden": false
    }
   },
   "source": [
    "> Il semble que beaucoup de commentaire contiennent le nombre d'étoiles données au produits par example les chiffres 'one', 'three' et 'five' sont de bons indicateurs pour catégoriser le commentaires dans la bonne classes. De plus il semble y avoir une similarité entre les probabilités des jetons selon les ratings et le top 10 des jetons les plus courrants selon le rating."
   ]
  },
  {
   "cell_type": "markdown",
   "id": "00579fba",
   "metadata": {
    "collapsed": false,
    "jupyter": {
     "outputs_hidden": false
    }
   },
   "source": [
    "<a name='2.2.4'></a>\n",
    "#### 2.2.4 Visualisation des erreurs commises  (3 points)\n",
    "\n",
    "Trouvez toutes les phrases dont la vraie valeur est 5 mais la valeur prédite est de 1.\n",
    "\n",
    "Affichez ces exemples d'une manière lisible.\n"
   ]
  },
  {
   "cell_type": "code",
   "execution_count": 31,
   "id": "4437fcfc-0f07-46fc-894d-88384bd690ba",
   "metadata": {
    "collapsed": false,
    "jupyter": {
     "outputs_hidden": false
    }
   },
   "outputs": [
    {
     "data": {
      "text/html": [
       "<h3>Filtered Rows (y_test: 5, y_nb_pred: 1)</h3><ul><li>need work remot best part charg electron pack work batteri need way fix buy</li><li>sword attack life ranger one carri add attack amazonbas limit hurriedli thank make one swoosh rocki escap wild sound bear trusti grab save swoosh batteri amaz went west nowher effect leg collector aa camp swing switch okay day that save edit power mountain colorado</li><li>enough never stock</li><li>super strong plenti fine case pocket fab anoth would buy laptop got</li><li>work amazonbas aaa alkalin unbeliev perform batteri wow actual</li><li>problem sale one stylu cheap tablet littl card especi microsd case around good could buy 100 use best look find everi sinc day ive spent decemb fire got</li><li>work like product time love work rule charm bought wont go product cost came put basic far packag coupl name save perfectli brand gadget worth first batteri experi less tell amazon well way last</li><li>wireless mous high typic flashlight batteri use buy discharg great</li><li>tell week anymor</li><li>like know hesit especi anyth go perform price use line first wrong batteri batteri simpli duracel amazon tri realli</li><li>ever purchas aa aaa life qualiti terribl poorest batteri power poor</li><li>time alway amazon price charg last long bit environ dispos batteri good compar one buy save recharg tri</li></ul>"
      ],
      "text/plain": [
       "<IPython.core.display.HTML object>"
      ]
     },
     "metadata": {},
     "output_type": "display_data"
    }
   ],
   "source": [
    "result_df = pd.DataFrame({'y_test': y_test, 'y_nb_pred': y_nb_pred, 'X_test': X_test})\n",
    "\n",
    "# Filter rows where y_test is 5 and y_nb_pred is 1\n",
    "filtered_result = result_df[(result_df['y_test'] == 5) & (result_df['y_nb_pred'] == 1)]\n",
    "\n",
    "# %pip install ipython\n",
    "from IPython.display import display, HTML\n",
    "\n",
    "# Combine the words in each sentence\n",
    "filtered_result = filtered_result.copy()\n",
    "filtered_result['sentence'] = filtered_result['X_test'].apply(lambda x: ' '.join(x))\n",
    "\n",
    "# Create an HTML string\n",
    "html_str = '<h3>Filtered Rows (y_test: 5, y_nb_pred: 1)</h3><ul>'\n",
    "\n",
    "for sentence in filtered_result['sentence']:\n",
    "    html_str += f'<li>{sentence}</li>'\n",
    "\n",
    "html_str += '</ul>'\n",
    "\n",
    "display(HTML(html_str))"
   ]
  },
  {
   "cell_type": "code",
   "execution_count": 32,
   "id": "c4fef76a",
   "metadata": {
    "collapsed": false,
    "jupyter": {
     "outputs_hidden": false
    }
   },
   "outputs": [
    {
     "data": {
      "text/html": [
       "<div>\n",
       "<style scoped>\n",
       "    .dataframe tbody tr th:only-of-type {\n",
       "        vertical-align: middle;\n",
       "    }\n",
       "\n",
       "    .dataframe tbody tr th {\n",
       "        vertical-align: top;\n",
       "    }\n",
       "\n",
       "    .dataframe thead th {\n",
       "        text-align: right;\n",
       "    }\n",
       "</style>\n",
       "<table border=\"1\" class=\"dataframe\">\n",
       "  <thead>\n",
       "    <tr style=\"text-align: right;\">\n",
       "      <th></th>\n",
       "      <th>y_test</th>\n",
       "      <th>y_nb_pred</th>\n",
       "      <th>X_test</th>\n",
       "      <th>sentence</th>\n",
       "    </tr>\n",
       "  </thead>\n",
       "  <tbody>\n",
       "    <tr>\n",
       "      <th>33</th>\n",
       "      <td>5</td>\n",
       "      <td>1</td>\n",
       "      <td>[need, work, remot, best, part, charg, electro...</td>\n",
       "      <td>need work remot best part charg electron pack ...</td>\n",
       "    </tr>\n",
       "    <tr>\n",
       "      <th>676</th>\n",
       "      <td>5</td>\n",
       "      <td>1</td>\n",
       "      <td>[sword, attack, life, ranger, one, carri, add,...</td>\n",
       "      <td>sword attack life ranger one carri add attack ...</td>\n",
       "    </tr>\n",
       "    <tr>\n",
       "      <th>385</th>\n",
       "      <td>5</td>\n",
       "      <td>1</td>\n",
       "      <td>[enough, never, stock]</td>\n",
       "      <td>enough never stock</td>\n",
       "    </tr>\n",
       "    <tr>\n",
       "      <th>1895</th>\n",
       "      <td>5</td>\n",
       "      <td>1</td>\n",
       "      <td>[super, strong, plenti, fine, case, pocket, fa...</td>\n",
       "      <td>super strong plenti fine case pocket fab anoth...</td>\n",
       "    </tr>\n",
       "    <tr>\n",
       "      <th>1161</th>\n",
       "      <td>5</td>\n",
       "      <td>1</td>\n",
       "      <td>[work, amazonbas, aaa, alkalin, unbeliev, perf...</td>\n",
       "      <td>work amazonbas aaa alkalin unbeliev perform ba...</td>\n",
       "    </tr>\n",
       "    <tr>\n",
       "      <th>1230</th>\n",
       "      <td>5</td>\n",
       "      <td>1</td>\n",
       "      <td>[problem, sale, one, stylu, cheap, tablet, lit...</td>\n",
       "      <td>problem sale one stylu cheap tablet littl card...</td>\n",
       "    </tr>\n",
       "    <tr>\n",
       "      <th>526</th>\n",
       "      <td>5</td>\n",
       "      <td>1</td>\n",
       "      <td>[work, like, product, time, love, work, rule, ...</td>\n",
       "      <td>work like product time love work rule charm bo...</td>\n",
       "    </tr>\n",
       "    <tr>\n",
       "      <th>149</th>\n",
       "      <td>5</td>\n",
       "      <td>1</td>\n",
       "      <td>[wireless, mous, high, typic, flashlight, batt...</td>\n",
       "      <td>wireless mous high typic flashlight batteri us...</td>\n",
       "    </tr>\n",
       "    <tr>\n",
       "      <th>588</th>\n",
       "      <td>5</td>\n",
       "      <td>1</td>\n",
       "      <td>[tell, week, anymor]</td>\n",
       "      <td>tell week anymor</td>\n",
       "    </tr>\n",
       "    <tr>\n",
       "      <th>2200</th>\n",
       "      <td>5</td>\n",
       "      <td>1</td>\n",
       "      <td>[like, know, hesit, especi, anyth, go, perform...</td>\n",
       "      <td>like know hesit especi anyth go perform price ...</td>\n",
       "    </tr>\n",
       "    <tr>\n",
       "      <th>2427</th>\n",
       "      <td>5</td>\n",
       "      <td>1</td>\n",
       "      <td>[ever, purchas, aa, aaa, life, qualiti, terrib...</td>\n",
       "      <td>ever purchas aa aaa life qualiti terribl poore...</td>\n",
       "    </tr>\n",
       "    <tr>\n",
       "      <th>47</th>\n",
       "      <td>5</td>\n",
       "      <td>1</td>\n",
       "      <td>[time, alway, amazon, price, charg, last, long...</td>\n",
       "      <td>time alway amazon price charg last long bit en...</td>\n",
       "    </tr>\n",
       "  </tbody>\n",
       "</table>\n",
       "</div>"
      ],
      "text/plain": [
       "      y_test  y_nb_pred                                             X_test  \\\n",
       "33         5          1  [need, work, remot, best, part, charg, electro...   \n",
       "676        5          1  [sword, attack, life, ranger, one, carri, add,...   \n",
       "385        5          1                             [enough, never, stock]   \n",
       "1895       5          1  [super, strong, plenti, fine, case, pocket, fa...   \n",
       "1161       5          1  [work, amazonbas, aaa, alkalin, unbeliev, perf...   \n",
       "1230       5          1  [problem, sale, one, stylu, cheap, tablet, lit...   \n",
       "526        5          1  [work, like, product, time, love, work, rule, ...   \n",
       "149        5          1  [wireless, mous, high, typic, flashlight, batt...   \n",
       "588        5          1                               [tell, week, anymor]   \n",
       "2200       5          1  [like, know, hesit, especi, anyth, go, perform...   \n",
       "2427       5          1  [ever, purchas, aa, aaa, life, qualiti, terrib...   \n",
       "47         5          1  [time, alway, amazon, price, charg, last, long...   \n",
       "\n",
       "                                               sentence  \n",
       "33    need work remot best part charg electron pack ...  \n",
       "676   sword attack life ranger one carri add attack ...  \n",
       "385                                  enough never stock  \n",
       "1895  super strong plenti fine case pocket fab anoth...  \n",
       "1161  work amazonbas aaa alkalin unbeliev perform ba...  \n",
       "1230  problem sale one stylu cheap tablet littl card...  \n",
       "526   work like product time love work rule charm bo...  \n",
       "149   wireless mous high typic flashlight batteri us...  \n",
       "588                                    tell week anymor  \n",
       "2200  like know hesit especi anyth go perform price ...  \n",
       "2427  ever purchas aa aaa life qualiti terribl poore...  \n",
       "47    time alway amazon price charg last long bit en...  "
      ]
     },
     "execution_count": 32,
     "metadata": {},
     "output_type": "execute_result"
    }
   ],
   "source": [
    "filtered_result"
   ]
  },
  {
   "cell_type": "markdown",
   "id": "cffb9d00",
   "metadata": {
    "collapsed": false,
    "jupyter": {
     "outputs_hidden": false
    }
   },
   "source": [
    "<a name='2.2.5'></a>\n",
    "#### 2.2.5 Analyse d'erreurs commises (7 points)"
   ]
  },
  {
   "cell_type": "markdown",
   "id": "204c7fff",
   "metadata": {
    "collapsed": false,
    "jupyter": {
     "outputs_hidden": false
    }
   },
   "source": [
    "Complétez la fonction plot_example qui:\n",
    "   - Prend en entrée une liste de jetons provenant d'un exemple. \n",
    "   - Produit un graphique qui pour chaque jeton, affiche la valeur P(x_i|y=5) et P(x_i|y=1)\n",
    "    \n",
    "**Pour vous faciliter le travail, utiliser barh de pandas et non de matplotlib**: https://pandas.pydata.org/docs/reference/api/pandas.DataFrame.plot.barh.html\n",
    "\n",
    "\n",
    "#### a) Exécutez votre fonction avec une phrase au choix dont la vraie valeur est 5 mais la valeur prédite est de 1. (4 points)"
   ]
  },
  {
   "cell_type": "code",
   "execution_count": 33,
   "id": "0795de9d",
   "metadata": {
    "collapsed": false,
    "jupyter": {
     "outputs_hidden": false
    }
   },
   "outputs": [
    {
     "data": {
      "image/png": "[encoded data removed]",
      "text/plain": [
       "<Figure size 640x480 with 1 Axes>"
      ]
     },
     "metadata": {},
     "output_type": "display_data"
    },
    {
     "data": {
      "image/png": "[encoded data removed]",
      "text/plain": [
       "<Figure size 640x480 with 1 Axes>"
      ]
     },
     "metadata": {},
     "output_type": "display_data"
    }
   ],
   "source": [
    "def plot_example(tokens):\n",
    "    plot_top_features(clf_nb, vectorizer, 1, len(tokens), tokens)\n",
    "    plot_top_features(clf_nb, vectorizer, 5, len(tokens), tokens)\n",
    "plot_example(filtered_result['X_test'].iloc[0])"
   ]
  },
  {
   "cell_type": "markdown",
   "id": "b2984273",
   "metadata": {
    "collapsed": false,
    "jupyter": {
     "outputs_hidden": false
    }
   },
   "source": [
    "#### b) Suite à cette analyse, pouvez-vous voir une tendance dans les exemples qui sont prédits comme faisant partie de la classe 1 mais faisant réellement partie de la classe 5 ?  (3 points)"
   ]
  },
  {
   "cell_type": "code",
   "execution_count": 34,
   "id": "f7c9933f-7d50-4568-8609-5ce7df9019e8",
   "metadata": {
    "collapsed": false,
    "jupyter": {
     "outputs_hidden": false
    }
   },
   "outputs": [
    {
     "name": "stdout",
     "output_type": "stream",
     "text": [
      "Proportion of rows containing 'batteri': 0.67\n"
     ]
    }
   ],
   "source": [
    "# Proportion des phrase mal identifié à 1 lorsque la vrai classe est 5 qui contienne le token batteri\n",
    "contains_batteri = filtered_result['X_test'].apply(lambda x: 'batteri' in x)\n",
    "proportion_containing_batteri = contains_batteri.mean()\n",
    "\n",
    "print(f\"Proportion of rows containing 'batteri': {proportion_containing_batteri:.2f}\")"
   ]
  },
  {
   "cell_type": "markdown",
   "id": "856cc027",
   "metadata": {
    "collapsed": false,
    "jupyter": {
     "outputs_hidden": false
    }
   },
   "source": [
    "> Il semble que le jeton batteri soit principalement responsable de la confusion du model puisque ce jeton a la plus grande probabilité P(x_i|y=1). Environ 70% de ces phrases mal identifié contiennent le mot batteri."
   ]
  },
  {
   "cell_type": "markdown",
   "id": "40f0f9a6",
   "metadata": {
    "collapsed": false,
    "jupyter": {
     "outputs_hidden": false
    }
   },
   "source": [
    "<a name='2.3'></a>\n",
    "### 2.3 Régression logistique (4 points)\n",
    "\n",
    "Entrainez un modèle de [régression logistique](https://scikit-learn.org/stable/modules/generated/sklearn.linear_model.LogisticRegression.html) à l'aide de SKLearn en utilisant les données produites en 1.6 et affichez sa performance avec les mêmes métriques que précédemment. "
   ]
  },
  {
   "cell_type": "code",
   "execution_count": 35,
   "id": "c7c91797",
   "metadata": {
    "collapsed": false,
    "jupyter": {
     "outputs_hidden": false
    }
   },
   "outputs": [],
   "source": [
    "from sklearn.linear_model import LogisticRegression\n",
    "\n",
    "clf_lr = LogisticRegression()\n",
    "clf_lr.fit(X_train_tfidf, y_train)\n",
    "\n",
    "y_lr_pred = clf_lr.predict(X_test_tfidf)\n"
   ]
  },
  {
   "cell_type": "code",
   "execution_count": 36,
   "id": "dce0ff9f",
   "metadata": {
    "collapsed": false,
    "jupyter": {
     "outputs_hidden": false
    }
   },
   "outputs": [
    {
     "name": "stdout",
     "output_type": "stream",
     "text": [
      "              precision    recall  f1-score   support\n",
      "\n",
      "           1       0.82      0.86      0.84       311\n",
      "           3       0.74      0.74      0.74       310\n",
      "           5       0.84      0.79      0.82       301\n",
      "\n",
      "    accuracy                           0.80       922\n",
      "   macro avg       0.80      0.80      0.80       922\n",
      "weighted avg       0.80      0.80      0.80       922\n",
      "\n"
     ]
    }
   ],
   "source": [
    "print(classification_report(y_test, y_lr_pred))"
   ]
  },
  {
   "cell_type": "markdown",
   "id": "727658f6",
   "metadata": {
    "collapsed": false,
    "jupyter": {
     "outputs_hidden": false
    }
   },
   "source": [
    "<a name='2.4'></a>\n",
    "### 2.4 MLP (4 points)\n",
    "\n",
    "Entrainez un modèle neuronal de type [Multi-layer Perceptron classifier](https://scikit-learn.org/stable/modules/generated/sklearn.neural_network.MLPClassifier.html) à l'aide de SKLearn en utilisant les données produites en 1.6. Affichez sa performance avec les mêmes métriques que précédemment. "
   ]
  },
  {
   "cell_type": "code",
   "execution_count": 37,
   "id": "b44f3fd5",
   "metadata": {
    "collapsed": false,
    "jupyter": {
     "outputs_hidden": false
    }
   },
   "outputs": [],
   "source": [
    "from sklearn.neural_network import MLPClassifier\n",
    "\n",
    "clf_nn = MLPClassifier(max_iter=1000)\n",
    "clf_nn.fit(X_train_tfidf, y_train)\n",
    "\n",
    "y_nn_pred = clf_nn.predict(X_test_tfidf)"
   ]
  },
  {
   "cell_type": "code",
   "execution_count": 38,
   "id": "4e71cb73",
   "metadata": {
    "collapsed": false,
    "jupyter": {
     "outputs_hidden": false
    }
   },
   "outputs": [
    {
     "name": "stdout",
     "output_type": "stream",
     "text": [
      "              precision    recall  f1-score   support\n",
      "\n",
      "           1       0.83      0.86      0.85       311\n",
      "           3       0.71      0.76      0.73       310\n",
      "           5       0.85      0.75      0.80       301\n",
      "\n",
      "    accuracy                           0.79       922\n",
      "   macro avg       0.80      0.79      0.79       922\n",
      "weighted avg       0.80      0.79      0.79       922\n",
      "\n"
     ]
    }
   ],
   "source": [
    "print(classification_report(y_test, y_nn_pred))"
   ]
  },
  {
   "cell_type": "markdown",
   "id": "21b383b9",
   "metadata": {
    "collapsed": false,
    "jupyter": {
     "outputs_hidden": false
    }
   },
   "source": [
    "<a name='3'></a>\n",
    "## 3. Amélioration de modèle (30 points)\n",
    "\n",
    "Cette dernière partie consistera à améliorer votre modèle de deux façons différentes.\n",
    "\n",
    "Tout d'abord, vous effectuerez une recherche d'hyper-paramètres avec une validation croisée en utilisant une grille de recherche (GridSearch). Ensuite, vous réaliserez de l'extraction d'attributs (feature extraction) afin d'entraîner un nouveau modèle.\n",
    "\n",
    "<a name='3.1'></a>\n",
    "###  3.1 Recherche d'hyper-paramètres et validation croisée (5 points)\n",
    "\n",
    "La classe [GridSearchCV](https://scikit-learn.org/stable/modules/generated/sklearn.model_selection.GridSearchCV.html) permet d'explorer toutes les combinaisons possibles d'hyper-paramètres que l'on spécifie afin de trouver la configuration optimale. De plus, il est tout à fait possible de fusionner les paramètres du pré-traitement et ceux du classificateur en utilisant la classe [Pipeline](https://scikit-learn.org/stable/modules/generated/sklearn.pipeline.Pipeline.html).\n",
    "Pour la rédaction de votre code, vous avez la possibilité de vous référer au tutoriel du cours.\n",
    "\n",
    "#### a) Dans cette phase, l'objectif est de découvrir une configuration optimale pour le modèle LogisticRegression en conjonction avec la technique de vectorisation TF-IDF. Cette recherche devra être guidée par la métrique du F1-score pondéré (weighted F1). Vous devrez aussi effectuer une exploration de paramètres sur au moins deux attributs liés à TF-IDF et deux paramètres de la régression logistique. Affichez ensuite la performance finale du modèle optimal ainsi que ses paramètres. (3 points)"
   ]
  },
  {
   "cell_type": "code",
   "execution_count": 39,
   "id": "5d1121d8",
   "metadata": {
    "collapsed": false,
    "jupyter": {
     "outputs_hidden": false
    },
    "scrolled": true
   },
   "outputs": [
    {
     "name": "stdout",
     "output_type": "stream",
     "text": [
      "Best params: {'clf_lr__C': 10, 'clf_lr__max_iter': 500, 'clf_lr__solver': 'saga', 'tfidf__max_df': 0.9, 'tfidf__max_features': 500, 'tfidf__min_df': 4, 'tfidf__use_idf': False}\n",
      "Best score: 0.8152092991523722\n",
      "Weighted F1: 0.8125050189141398\n",
      "Classification Report:               precision    recall  f1-score   support\n",
      "\n",
      "           1       0.84      0.87      0.86       311\n",
      "           3       0.74      0.76      0.75       310\n",
      "           5       0.85      0.80      0.82       301\n",
      "\n",
      "    accuracy                           0.81       922\n",
      "   macro avg       0.81      0.81      0.81       922\n",
      "weighted avg       0.81      0.81      0.81       922\n",
      "\n"
     ]
    }
   ],
   "source": [
    "from sklearn.feature_extraction.text import TfidfVectorizer\n",
    "from sklearn.pipeline import Pipeline\n",
    "from sklearn.metrics import f1_score, make_scorer\n",
    "from sklearn.model_selection import GridSearchCV\n",
    "\n",
    "pipe = Pipeline ([\n",
    "    ('tfidf', TfidfVectorizer(vocabulary=vocabulary)),\n",
    "    ('clf_lr', LogisticRegression())\n",
    "])\n",
    "\n",
    "param_grid = {\n",
    "    'tfidf__use_idf': (True, False),\n",
    "    'tfidf__max_df': [0.85, 0.9, 0.95],\n",
    "    'tfidf__max_features': (500, 600, 1500),\n",
    "    'tfidf__min_df': [1, 2, 3, 4],\n",
    "    'clf_lr__C': [0.1, 1, 10, 100],\n",
    "    'clf_lr__max_iter': [500, 1000],\n",
    "    'clf_lr__solver': ['lbfgs', 'newton-cg', 'sag', 'saga'],\n",
    "}\n",
    "\n",
    "f1_scorer = make_scorer(f1_score, average='weighted')\n",
    "\n",
    "grid_search = GridSearchCV(pipe, param_grid, scoring=f1_scorer, cv=5, n_jobs=-1)\n",
    "\n",
    "X_train_str = [\" \".join(tokens) for tokens in X_train]\n",
    "X_test_str = [\" \".join(tokens) for tokens in X_test]\n",
    "\n",
    "grid_search.fit(X_train_str, y_train)\n",
    "\n",
    "y_pred_gs = grid_search.predict(X_test_str)\n",
    "\n",
    "weighted_f1 = f1_score(y_test, y_pred_gs, average='weighted')\n",
    "\n",
    "print(f\"Best params: {grid_search.best_params_}\")\n",
    "print(f\"Best score: {grid_search.best_score_}\")\n",
    "print(f\"Weighted F1: {weighted_f1}\")\n",
    "print(f\"Classification Report: {classification_report(y_test, y_pred_gs)}\")\n"
   ]
  },
  {
   "cell_type": "markdown",
   "id": "dc91d718",
   "metadata": {
    "collapsed": false,
    "jupyter": {
     "outputs_hidden": false
    }
   },
   "source": [
    "#### b) Quels sont les attributs que vous avez choisis et quels sont leurs valeurs optimales?  (2 points)"
   ]
  },
  {
   "cell_type": "markdown",
   "id": "9b34bc1c",
   "metadata": {
    "collapsed": false,
    "jupyter": {
     "outputs_hidden": false
    }
   },
   "source": [
    "> Les paramètres attributs choisis sont:\n",
    "param_grid = {\n",
    "    'tfidf__use_idf': (True, False),\n",
    "    'tfidf__max_df': [0.85, 0.9, 0.95],\n",
    "    'tfidf__max_features': (500, 600, 1500),\n",
    "    'tfidf__min_df': [1, 2, 3, 4],\n",
    "    'clf_lr__C': [0.1, 1, 10, 100],\n",
    "    'clf_lr__max_iter': [500, 1000],\n",
    "    'clf_lr__solver': ['lbfgs', 'newton-cg', 'sag', 'saga'],\n",
    "}\n",
    "\n",
    "et les valeurs optimales sont:\n",
    "{'clf_lr__C': 10, 'clf_lr__max_iter': 1000, 'clf_lr__solver': 'saga', 'tfidf__max_df': 0.95, 'tfidf__max_features': 1500, 'tfidf__min_df': 4, 'tfidf__use_idf': False}"
   ]
  },
  {
   "cell_type": "markdown",
   "id": "e541be45",
   "metadata": {
    "collapsed": false,
    "jupyter": {
     "outputs_hidden": false
    }
   },
   "source": [
    "<a name='3.2'></a>\n",
    "###  3.2 Extraction d'attributs (Feature extraction) avec ChatGPT (15 points)\n",
    "\n",
    "ChatGPT peut être très utile pour donner des idées ou donner du squelette de code (lorsque c'est permis! :) ). Cette partie vous fait explorer l'utilisation de ChatGPT pour générer du code permettant d'extraire des attributs (feature extraction) à partir du texte des évaluations. \n",
    "\n",
    "En utilisant ChatGPT ainsi que votre recherche personnelle, essayez de déterminer un ensemble d'attributs que vous pourriez utiliser pour représenter chaque évaluation. A vous de voir comment vous pouvez obtenir une réponse satisfaisante de ChatGPT. \n",
    "\n",
    "#### a) Indiquez dans la cellule ci-dessous les descriptions d'attributs suggérées par ChatGPT ainsi que les vôtres. Différenciez clairement vos attributs - s'il y en a - de ceux de ChatGPT. (4 points)\n"
   ]
  },
  {
   "cell_type": "markdown",
   "id": "f0d9ac3f",
   "metadata": {
    "collapsed": false,
    "jupyter": {
     "outputs_hidden": false
    }
   },
   "source": [
    "> \n",
    "# Text-based Techniques\n",
    "Bag-of-Words (BoW): A simple representation that counts the frequency of each word in each document. This approach doesn't consider the order of words but is fast and often effective.\n",
    "\n",
    "Word Embeddings: Word2Vec, GloVe, and FastText are popular methods to convert words into dense vectors which capture semantic meanings based on the context in which words appear. You can average or sum these vectors to get a single vector for each comment.\n",
    "\n",
    "Count Vectorizer: Similar to BoW but instead of term frequency, it uses the raw counts of words. It could be useful if the frequency of certain words correlates with the rating.\n",
    "\n",
    "n-grams: Instead of considering single words, you could consider sequences of words or characters. For example, in a bigram model, \"very good\" and \"not good\" would be considered as distinct two-word sequences.\n",
    "\n",
    "Sentiment Analysis Scores: You can use pre-built sentiment analysis models to give each comment a sentiment score and use it as a feature.\n",
    "\n",
    "Topic Modeling: Techniques like Latent Dirichlet Allocation (LDA) can be used to extract the topics present in the comments. Then, you can use the topic distribution as features for each comment.\n",
    "\n",
    "# Statistical and Structural Features\n",
    "Document Length: The number of words in the comment could be indicative of its rating.\n",
    "\n",
    "Punctuation Count: The number of exclamation marks or question marks may correlate with the sentiment of a review.\n",
    "\n",
    "Capitalization: Use of uppercase words could indicate strong sentiment.\n",
    "\n",
    "Readability Scores: Metrics like Flesch-Kincaid or Gunning-Fog index could potentially correlate with the complexity or quality of a comment.\n",
    "\n",
    "# Hybrid Features\n",
    "Feature Engineering: Combine existing features to create new ones, for example, the ratio of positive to negative words in a comment.\n",
    "\n",
    "Feature Selection: Use techniques like Recursive Feature Elimination, SelectKBest, or model-specific feature importances to retain only the most informative features.\n",
    "\n",
    "Ensemble Methods: Use different feature sets for different models and then ensemble the models for final prediction. For example, one model could use BoW features and another could use Word Embeddings.\n",
    "\n",
    "Remember that the usefulness of each feature can depend on your specific dataset and problem, and it's often necessary to experiment with various combinations to achieve the best performance."
   ]
  },
  {
   "cell_type": "markdown",
   "id": "39beb713",
   "metadata": {
    "collapsed": false,
    "jupyter": {
     "outputs_hidden": false
    }
   },
   "source": [
    "#### b) Indiquez ci-dessous le code généré par ChatGPT que vous avez décidé de conserver pour représenter chaque évaluation.  (2 points)"
   ]
  },
  {
   "cell_type": "code",
   "execution_count": 40,
   "id": "90a73ddd",
   "metadata": {
    "collapsed": false,
    "jupyter": {
     "outputs_hidden": false
    }
   },
   "outputs": [
    {
     "name": "stderr",
     "output_type": "stream",
     "text": [
      "2023-09-19 19:02:08.057280: I tensorflow/core/platform/cpu_feature_guard.cc:182] This TensorFlow binary is optimized to use available CPU instructions in performance-critical operations.\n",
      "To enable the following instructions: AVX2 FMA, in other operations, rebuild TensorFlow with the appropriate compiler flags.\n",
      "2023-09-19 19:02:08.783983: W tensorflow/compiler/tf2tensorrt/utils/py_utils.cc:38] TF-TRT Warning: Could not find TensorRT\n"
     ]
    }
   ],
   "source": [
    "import numpy as np\n",
    "from transformers import BertTokenizer, BertModel\n",
    "import torch\n",
    "from sklearn.neural_network import MLPClassifier\n",
    "from sklearn.metrics import classification_report\n",
    "\n",
    "tokenizer = BertTokenizer.from_pretrained(\"bert-base-uncased\")\n",
    "model = BertModel.from_pretrained(\"bert-base-uncased\")\n",
    "\n",
    "def extract_bert_features(texts, model, tokenizer):\n",
    "    features = []\n",
    "    for text in texts:\n",
    "        inputs = tokenizer(text, padding=True, truncation=True, max_length=512, return_tensors=\"pt\")\n",
    "        with torch.no_grad():\n",
    "            outputs = model(**inputs)\n",
    "        features.append(outputs.last_hidden_state.mean(dim=1).squeeze().numpy())\n",
    "    return np.array(features)\n"
   ]
  },
  {
   "cell_type": "markdown",
   "id": "9ebb4523",
   "metadata": {
    "collapsed": false,
    "jupyter": {
     "outputs_hidden": false
    }
   },
   "source": [
    "\n",
    "\n",
    "#### c) Il se peut que le code généré ait besoin d'être adapté à notre jeu de données. Si c'est le cas, corrigez le code et montrez le résultat après vos correction dans la cellule ci-dessous. Le code final devrait être une fonction qui vous retourne, pour un document, un dictionnaire d'attributs et leurs valeurs. N'oubliez pas d'indiquer votre propre code s'il y en a. (5 points)"
   ]
  },
  {
   "cell_type": "code",
   "execution_count": null,
   "id": "2843cbc8",
   "metadata": {
    "collapsed": false,
    "jupyter": {
     "outputs_hidden": false
    },
    "scrolled": true
   },
   "outputs": [],
   "source": [
    "\n"
   ]
  },
  {
   "cell_type": "markdown",
   "id": "518c6c20",
   "metadata": {
    "collapsed": false,
    "jupyter": {
     "outputs_hidden": false
    }
   },
   "source": [
    "#### d) Utilisez le code corrigé ci-dessus pour entrainer un modèle MLP avec votre nouvelle représentation des évaluations. Affichez sa performance. (4 points)"
   ]
  },
  {
   "cell_type": "code",
   "execution_count": 41,
   "id": "e18c6b02",
   "metadata": {
    "collapsed": false,
    "jupyter": {
     "outputs_hidden": false
    }
   },
   "outputs": [],
   "source": [
    "X_train_bert = extract_bert_features(X_train_original, model, tokenizer)\n",
    "X_test_bert = extract_bert_features(X_test_original, model, tokenizer)"
   ]
  },
  {
   "cell_type": "code",
   "execution_count": 42,
   "id": "53e87b0c-ae90-4d47-9258-b98b26a916e9",
   "metadata": {
    "collapsed": false,
    "jupyter": {
     "outputs_hidden": false
    }
   },
   "outputs": [
    {
     "name": "stdout",
     "output_type": "stream",
     "text": [
      "0.8202655259906672\n",
      "              precision    recall  f1-score   support\n",
      "\n",
      "           1       0.84      0.92      0.88       311\n",
      "           3       0.81      0.69      0.75       310\n",
      "           5       0.82      0.86      0.84       301\n",
      "\n",
      "    accuracy                           0.82       922\n",
      "   macro avg       0.82      0.82      0.82       922\n",
      "weighted avg       0.82      0.82      0.82       922\n",
      "\n"
     ]
    }
   ],
   "source": [
    "mlp = MLPClassifier(hidden_layer_sizes=(50,), max_iter=1000, alpha=0.01,\n",
    "                    solver='sgd', random_state=1,\n",
    "                    learning_rate_init=.1)\n",
    "\n",
    "mlp.fit(X_train_bert, y_train_original)\n",
    "y_pred = mlp.predict(X_test_bert)\n",
    "\n",
    "print(f1_score(y_test, y_pred, average='weighted'))\n",
    "print(classification_report(y_test, y_pred))"
   ]
  },
  {
   "cell_type": "markdown",
   "id": "ce4bf76e",
   "metadata": {
    "collapsed": false,
    "jupyter": {
     "outputs_hidden": false
    }
   },
   "source": [
    "<a name='3.3'></a>\n",
    "### 3.3 Amélioration du modèle en 3.2 (10 points)\n",
    "\n",
    "Il est possible que les résultats obtenus au numéro précédent ne soient pas très élevés. \n",
    "\n",
    "#### a) Trouvez une manière d'utiliser ces attributs avec d'autres éléments afin **d'au moins** obtenir une meilleure performance que n'importe quel score obtenu au numéro 2.x , **sans faire de recherche d'hyper-paramètres**. Essayez d'obtenir la meilleure performance possible. Vous êtes libres d'utiliser n'importe quel algorithme de ce laboratoire. Affichez le code et les performances de votre modèle. (8 points)"
   ]
  },
  {
   "cell_type": "code",
   "execution_count": 43,
   "id": "9541ae91",
   "metadata": {
    "collapsed": false,
    "jupyter": {
     "outputs_hidden": false
    }
   },
   "outputs": [
    {
     "name": "stdout",
     "output_type": "stream",
     "text": [
      "0.7793486278386559\n",
      "              precision    recall  f1-score   support\n",
      "\n",
      "           1       0.82      0.92      0.87       311\n",
      "           3       0.82      0.55      0.65       310\n",
      "           5       0.75      0.90      0.82       301\n",
      "\n",
      "    accuracy                           0.79       922\n",
      "   macro avg       0.79      0.79      0.78       922\n",
      "weighted avg       0.79      0.79      0.78       922\n",
      "\n"
     ]
    }
   ],
   "source": [
    "X_train_combined = np.hstack((X_train_bert, X_train_tfidf.toarray()))\n",
    "X_test_combined = np.hstack((X_test_bert, X_test_tfidf.toarray()))\n",
    "\n",
    "mlp = MLPClassifier(hidden_layer_sizes=(50,), max_iter=1000, alpha=0.01,\n",
    "                    solver='sgd', random_state=1, learning_rate_init=.1)\n",
    "\n",
    "mlp.fit(X_train_combined, y_train_original)\n",
    "\n",
    "y_pred = mlp.predict(X_test_combined)\n",
    "\n",
    "print(f1_score(y_test_original, y_pred, average='weighted'))\n",
    "print(classification_report(y_test_original, y_pred))"
   ]
  },
  {
   "cell_type": "code",
   "execution_count": null,
   "id": "a785791f",
   "metadata": {
    "collapsed": false,
    "jupyter": {
     "outputs_hidden": false
    }
   },
   "outputs": [],
   "source": []
  },
  {
   "cell_type": "markdown",
   "id": "f21566d5",
   "metadata": {
    "collapsed": false,
    "jupyter": {
     "outputs_hidden": false
    }
   },
   "source": [
    "#### b) Quelles sont vos conclusions concernant l'utilisation de ChatGPT et les représentations possibles des documents ? (2 points)"
   ]
  },
  {
   "cell_type": "markdown",
   "id": "29c8a8a9",
   "metadata": {
    "collapsed": false,
    "jupyter": {
     "outputs_hidden": false
    }
   },
   "source": [
    "> Il y a plusieurs facon de représenter des documents et plusieurs techniques d'extraction d'attribut de ceux-cii. ChatGPT est très bon pour nous donner des techniques à haut niveau telles que les différentes méthode d'extraction possible. Il peut aussi facilement et efficacement nous le code correspondant à la technique. Il faut aussi être très spécifique et descriptif afin d'obtenir un bon résultat avec ChatGPT. Ce n'est pas nécessairement très bon pour optimiser une réponse fonctionnelle. Par exemple lorsque je lui ai demandé comment faire pour optimiser le score obtenu avec Bert il a tout simplement régurgité des méthode connu d'optimisation de modèle tel que le GridSearch."
   ]
  },
  {
   "cell_type": "markdown",
   "id": "fa2b28b4",
   "metadata": {
    "collapsed": false,
    "jupyter": {
     "outputs_hidden": false
    }
   },
   "source": [
    "## LIVRABLES:\n",
    "Vous devez remettre sur Moodle, avant la date d'échéance, un zip contenant les fichiers suivants :\n",
    "\n",
    "1-\tLe code : Vous devez compléter le squelette inf8460_A23_TP1.ipynb sous le nom   GR0X_equipe_i_inf8460_A23_TP1(X: numéro du groupe de laboratoire; i = votre numéro d’équipe). Indiquez vos noms et matricules au début du notebook. Ce notebook doit contenir les fonctionnalités requises. \n",
    "\n",
    "2-\tUn fichier pdf représentant votre notebook complètement exécuté sous format pdf. \n",
    "Pour créer le fichier cliquez sur File > Download as > PDF via LaTeX (.pdf). Assurez-vous que le PDF est entièrement lisible.\n",
    "\n",
    "\n",
    "## EVALUATION \n",
    "\n",
    "Votre TP sera évalué selon les critères suivants :\n",
    "\n",
    "1. Exécution correcte du code: Tout votre code et vos résultats doivent être exécutables et reproductibles.\n",
    "2. Qualité du code (noms significatifs, structure, gestion d’exception, etc.) avec, entre autres, les recommandations suivantes:\n",
    "    - Il ne devrait pas y avoir de duplication de code. Utilisez des fonctions pour garder votre code modulaire\n",
    "    - Votre code devrait être optimisé: un code trop lent entraînera une perte de points\n",
    "3. Lisibilité du code (Commentaires clairs et informatifs): Le code doit être exécutable sans erreur et accompagné de commentaires appropriés de manière à expliquer les différentes fonctions\n",
    "4. Performance attendue des modèles\n",
    "5. Effort effectué dans la recherche d'autres types d'attributs et dans l'utilisation de ChatGPT\n",
    "6. Réponses correctes/sensées aux questions de réflexion ou d'analyse\n",
    "7. PDF entièrement lisible. Les parties illisibles ne seront pas corrigées et aucune modification passée la date de remise ne sera acceptée.\n",
    " \n"
   ]
  }
 ],
 "metadata": {
  "kernelspec": {
   "display_name": "Python 3 (ipykernel)",
   "language": "python",
   "name": "python3"
  },
  "language_info": {
   "codemirror_mode": {
    "name": "ipython",
    "version": 3
   },
   "file_extension": ".py",
   "mimetype": "text/x-python",
   "name": "python",
   "nbconvert_exporter": "python",
   "pygments_lexer": "ipython3",
   "version": "3.10.12"
  },
  "name": "inf8460_A23_TP1_Brando.ipynb"
 },
 "nbformat": 4,
 "nbformat_minor": 5
}
